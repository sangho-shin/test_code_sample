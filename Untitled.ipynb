{
 "cells": [
  {
   "cell_type": "code",
   "execution_count": 6,
   "id": "520155f7",
   "metadata": {},
   "outputs": [
    {
     "name": "stdout",
     "output_type": "stream",
     "text": [
      "{'DB_POOL_RECYCLE': 900, 'DB_ECGO': True, 'PROJ_RELOAD': True}\n",
      "<class 'dict'>\n",
      "{'DB_POOL_RECYCLE': 900, 'DB_ECGO': True, 'PROJ_RELOAD': True}\n"
     ]
    }
   ],
   "source": [
    "from dataclasses import dataclass, asdict\n",
    "from os import path, environ\n",
    "\n",
    "base_dir = \"11\"\n",
    "\n",
    "@dataclass\n",
    "class Config:\n",
    "    BASE_DIR = base_dir\n",
    "    \n",
    "    DB_POOL_RECYCLE:int = 900\n",
    "    DB_ECGO: bool = True\n",
    "        \n",
    "        \n",
    "@dataclass\n",
    "class LocalConfig(Config):\n",
    "    PROJ_RELOAD: bool = True\n",
    "        \n",
    "        \n",
    "def conf():    \n",
    "    config = dict(local=LocalConfig())\n",
    "    return config.get(environ.get(\"API_ENV\", \"local\"))\n",
    "    \n",
    "print(asdict(LocalConfig()))\n",
    "print(type(asdict(LocalConfig())))\n",
    "print(asdict(conf()))"
   ]
  },
  {
   "cell_type": "code",
   "execution_count": null,
   "id": "637b3e90",
   "metadata": {},
   "outputs": [],
   "source": []
  },
  {
   "cell_type": "code",
   "execution_count": null,
   "id": "7071b52a",
   "metadata": {},
   "outputs": [],
   "source": []
  }
 ],
 "metadata": {
  "kernelspec": {
   "display_name": "Python [conda env:data_analyzer] *",
   "language": "python",
   "name": "conda-env-data_analyzer-py"
  },
  "language_info": {
   "codemirror_mode": {
    "name": "ipython",
    "version": 3
   },
   "file_extension": ".py",
   "mimetype": "text/x-python",
   "name": "python",
   "nbconvert_exporter": "python",
   "pygments_lexer": "ipython3",
   "version": "3.10.8"
  }
 },
 "nbformat": 4,
 "nbformat_minor": 5
}
