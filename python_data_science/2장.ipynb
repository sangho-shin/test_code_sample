{
 "cells": [
  {
   "cell_type": "code",
   "execution_count": 3,
   "id": "03ad7bbc",
   "metadata": {},
   "outputs": [],
   "source": [
    "import numpy as np\n"
   ]
  },
  {
   "cell_type": "code",
   "execution_count": 2,
   "id": "cb6c66c2",
   "metadata": {},
   "outputs": [
    {
     "data": {
      "text/plain": [
       "'C:\\\\Users\\\\shshin\\\\Documents\\\\jupyter\\\\data_test'"
      ]
     },
     "execution_count": 2,
     "metadata": {},
     "output_type": "execute_result"
    }
   ],
   "source": [
    "%pwd"
   ]
  },
  {
   "cell_type": "code",
   "execution_count": 1,
   "id": "64cf5d40",
   "metadata": {},
   "outputs": [
    {
     "name": "stdout",
     "output_type": "stream",
     "text": [
      "Note: you may need to restart the kernel to use updated packages.Collecting jupyter_contrib_nbextensions\n",
      "  Using cached jupyter_contrib_nbextensions-0.7.0.tar.gz (23.5 MB)\n",
      "  Preparing metadata (setup.py): started\n",
      "  Preparing metadata (setup.py): finished with status 'done'\n",
      "Requirement already satisfied: ipython_genutils in c:\\users\\shshin\\anaconda3\\envs\\tf2\\lib\\site-packages (from jupyter_contrib_nbextensions) (0.2.0)\n",
      "Collecting jupyter_contrib_core>=0.3.3\n",
      "  Using cached jupyter_contrib_core-0.4.2.tar.gz (17 kB)\n",
      "  Preparing metadata (setup.py): started\n",
      "  Preparing metadata (setup.py): finished with status 'done'\n",
      "Requirement already satisfied: jupyter_core in c:\\users\\shshin\\anaconda3\\envs\\tf2\\lib\\site-packages (from jupyter_contrib_nbextensions) (4.10.0)\n",
      "Collecting jupyter_highlight_selected_word>=0.1.1\n",
      "  Using cached jupyter_highlight_selected_word-0.2.0-py2.py3-none-any.whl (11 kB)\n",
      "Collecting jupyter_nbextensions_configurator>=0.4.0\n",
      "  Using cached jupyter_nbextensions_configurator-0.6.1.tar.gz (481 kB)\n",
      "  Preparing metadata (setup.py): started\n",
      "  Preparing metadata (setup.py): finished with status 'done'\n",
      "Requirement already satisfied: nbconvert>=6.0 in c:\\users\\shshin\\anaconda3\\envs\\tf2\\lib\\site-packages (from jupyter_contrib_nbextensions) (6.5.0)\n",
      "Requirement already satisfied: notebook>=6.0 in c:\\users\\shshin\\anaconda3\\envs\\tf2\\lib\\site-packages (from jupyter_contrib_nbextensions) (6.4.12)\n",
      "Requirement already satisfied: tornado in c:\\users\\shshin\\anaconda3\\envs\\tf2\\lib\\site-packages (from jupyter_contrib_nbextensions) (6.1)\n",
      "Requirement already satisfied: traitlets>=4.1 in c:\\users\\shshin\\anaconda3\\envs\\tf2\\lib\\site-packages (from jupyter_contrib_nbextensions) (5.2.2.post1)\n",
      "Collecting lxml\n",
      "  Downloading lxml-4.9.2-cp38-cp38-win_amd64.whl (3.9 MB)\n",
      "     ---------------------------------------- 3.9/3.9 MB 31.1 MB/s eta 0:00:00\n",
      "Requirement already satisfied: setuptools in c:\\users\\shshin\\anaconda3\\envs\\tf2\\lib\\site-packages (from jupyter_contrib_core>=0.3.3->jupyter_contrib_nbextensions) (59.8.0)\n",
      "Collecting pyyaml\n",
      "  Downloading PyYAML-6.0-cp38-cp38-win_amd64.whl (155 kB)\n",
      "     -------------------------------------- 155.4/155.4 kB 9.1 MB/s eta 0:00:00\n",
      "Requirement already satisfied: entrypoints>=0.2.2 in c:\\users\\shshin\\anaconda3\\envs\\tf2\\lib\\site-packages (from nbconvert>=6.0->jupyter_contrib_nbextensions) (0.4)\n",
      "Requirement already satisfied: tinycss2 in c:\\users\\shshin\\anaconda3\\envs\\tf2\\lib\\site-packages (from nbconvert>=6.0->jupyter_contrib_nbextensions) (1.1.1)\n",
      "Requirement already satisfied: nbformat>=5.1 in c:\\users\\shshin\\anaconda3\\envs\\tf2\\lib\\site-packages (from nbconvert>=6.0->jupyter_contrib_nbextensions) (5.4.0)\n",
      "Requirement already satisfied: beautifulsoup4 in c:\\users\\shshin\\anaconda3\\envs\\tf2\\lib\\site-packages (from nbconvert>=6.0->jupyter_contrib_nbextensions) (4.11.1)\n",
      "Requirement already satisfied: MarkupSafe>=2.0 in c:\\users\\shshin\\anaconda3\\envs\\tf2\\lib\\site-packages (from nbconvert>=6.0->jupyter_contrib_nbextensions) (2.1.1)\n",
      "Requirement already satisfied: nbclient>=0.5.0 in c:\\users\\shshin\\anaconda3\\envs\\tf2\\lib\\site-packages (from nbconvert>=6.0->jupyter_contrib_nbextensions) (0.6.4)\n",
      "Requirement already satisfied: packaging in c:\\users\\shshin\\anaconda3\\envs\\tf2\\lib\\site-packages (from nbconvert>=6.0->jupyter_contrib_nbextensions) (20.9)\n",
      "Requirement already satisfied: pandocfilters>=1.4.1 in c:\\users\\shshin\\anaconda3\\envs\\tf2\\lib\\site-packages (from nbconvert>=6.0->jupyter_contrib_nbextensions) (1.5.0)\n",
      "Requirement already satisfied: mistune<2,>=0.8.1 in c:\\users\\shshin\\anaconda3\\envs\\tf2\\lib\\site-packages (from nbconvert>=6.0->jupyter_contrib_nbextensions) (0.8.4)\n",
      "Requirement already satisfied: pygments>=2.4.1 in c:\\users\\shshin\\anaconda3\\envs\\tf2\\lib\\site-packages (from nbconvert>=6.0->jupyter_contrib_nbextensions) (2.12.0)\n",
      "Requirement already satisfied: jupyterlab-pygments in c:\\users\\shshin\\anaconda3\\envs\\tf2\\lib\\site-packages (from nbconvert>=6.0->jupyter_contrib_nbextensions) (0.2.2)\n",
      "Requirement already satisfied: bleach in c:\\users\\shshin\\anaconda3\\envs\\tf2\\lib\\site-packages (from nbconvert>=6.0->jupyter_contrib_nbextensions) (5.0.0)\n",
      "Requirement already satisfied: jinja2>=3.0 in c:\\users\\shshin\\anaconda3\\envs\\tf2\\lib\\site-packages (from nbconvert>=6.0->jupyter_contrib_nbextensions) (3.1.2)\n",
      "Requirement already satisfied: defusedxml in c:\\users\\shshin\\anaconda3\\envs\\tf2\\lib\\site-packages (from nbconvert>=6.0->jupyter_contrib_nbextensions) (0.7.1)\n",
      "Requirement already satisfied: pywin32>=1.0 in c:\\users\\shshin\\anaconda3\\envs\\tf2\\lib\\site-packages (from jupyter_core->jupyter_contrib_nbextensions) (303)\n",
      "Requirement already satisfied: prometheus-client in c:\\users\\shshin\\anaconda3\\envs\\tf2\\lib\\site-packages (from notebook>=6.0->jupyter_contrib_nbextensions) (0.14.1)\n",
      "Requirement already satisfied: nest-asyncio>=1.5 in c:\\users\\shshin\\anaconda3\\envs\\tf2\\lib\\site-packages (from notebook>=6.0->jupyter_contrib_nbextensions) (1.5.5)\n",
      "Requirement already satisfied: ipykernel in c:\\users\\shshin\\anaconda3\\envs\\tf2\\lib\\site-packages (from notebook>=6.0->jupyter_contrib_nbextensions) (6.14.0)\n",
      "Requirement already satisfied: terminado>=0.8.3 in c:\\users\\shshin\\anaconda3\\envs\\tf2\\lib\\site-packages (from notebook>=6.0->jupyter_contrib_nbextensions) (0.15.0)\n",
      "Requirement already satisfied: argon2-cffi in c:\\users\\shshin\\anaconda3\\envs\\tf2\\lib\\site-packages (from notebook>=6.0->jupyter_contrib_nbextensions) (21.3.0)\n",
      "Requirement already satisfied: Send2Trash>=1.8.0 in c:\\users\\shshin\\anaconda3\\envs\\tf2\\lib\\site-packages (from notebook>=6.0->jupyter_contrib_nbextensions) (1.8.0)\n",
      "Requirement already satisfied: pyzmq>=17 in c:\\users\\shshin\\anaconda3\\envs\\tf2\\lib\\site-packages (from notebook>=6.0->jupyter_contrib_nbextensions) (23.1.0)\n",
      "Requirement already satisfied: jupyter-client>=5.3.4 in c:\\users\\shshin\\anaconda3\\envs\\tf2\\lib\\site-packages (from notebook>=6.0->jupyter_contrib_nbextensions) (7.3.4)\n",
      "Requirement already satisfied: python-dateutil>=2.8.2 in c:\\users\\shshin\\anaconda3\\envs\\tf2\\lib\\site-packages (from jupyter-client>=5.3.4->notebook>=6.0->jupyter_contrib_nbextensions) (2.8.2)\n",
      "Requirement already satisfied: fastjsonschema in c:\\users\\shshin\\anaconda3\\envs\\tf2\\lib\\site-packages (from nbformat>=5.1->nbconvert>=6.0->jupyter_contrib_nbextensions) (2.15.3)\n",
      "Requirement already satisfied: jsonschema>=2.6 in c:\\users\\shshin\\anaconda3\\envs\\tf2\\lib\\site-packages (from nbformat>=5.1->nbconvert>=6.0->jupyter_contrib_nbextensions) (4.6.0)\n",
      "Requirement already satisfied: pywinpty>=1.1.0 in c:\\users\\shshin\\anaconda3\\envs\\tf2\\lib\\site-packages (from terminado>=0.8.3->notebook>=6.0->jupyter_contrib_nbextensions) (2.0.5)\n",
      "Requirement already satisfied: argon2-cffi-bindings in c:\\users\\shshin\\anaconda3\\envs\\tf2\\lib\\site-packages (from argon2-cffi->notebook>=6.0->jupyter_contrib_nbextensions) (21.2.0)\n",
      "Requirement already satisfied: soupsieve>1.2 in c:\\users\\shshin\\anaconda3\\envs\\tf2\\lib\\site-packages (from beautifulsoup4->nbconvert>=6.0->jupyter_contrib_nbextensions) (2.3.1)\n",
      "Requirement already satisfied: six>=1.9.0 in c:\\users\\shshin\\anaconda3\\envs\\tf2\\lib\\site-packages (from bleach->nbconvert>=6.0->jupyter_contrib_nbextensions) (1.15.0)\n",
      "Requirement already satisfied: webencodings in c:\\users\\shshin\\anaconda3\\envs\\tf2\\lib\\site-packages (from bleach->nbconvert>=6.0->jupyter_contrib_nbextensions) (0.5.1)\n",
      "Requirement already satisfied: matplotlib-inline>=0.1 in c:\\users\\shshin\\anaconda3\\envs\\tf2\\lib\\site-packages (from ipykernel->notebook>=6.0->jupyter_contrib_nbextensions) (0.1.3)\n",
      "Requirement already satisfied: debugpy>=1.0 in c:\\users\\shshin\\anaconda3\\envs\\tf2\\lib\\site-packages (from ipykernel->notebook>=6.0->jupyter_contrib_nbextensions) (1.6.0)\n",
      "Requirement already satisfied: ipython>=7.23.1 in c:\\users\\shshin\\anaconda3\\envs\\tf2\\lib\\site-packages (from ipykernel->notebook>=6.0->jupyter_contrib_nbextensions) (7.28.0)\n",
      "Requirement already satisfied: psutil in c:\\users\\shshin\\anaconda3\\envs\\tf2\\lib\\site-packages (from ipykernel->notebook>=6.0->jupyter_contrib_nbextensions) (5.9.1)\n",
      "Requirement already satisfied: pyparsing>=2.0.2 in c:\\users\\shshin\\anaconda3\\envs\\tf2\\lib\\site-packages (from packaging->nbconvert>=6.0->jupyter_contrib_nbextensions) (3.0.9)\n",
      "Requirement already satisfied: prompt-toolkit!=3.0.0,!=3.0.1,<3.1.0,>=2.0.0 in c:\\users\\shshin\\anaconda3\\envs\\tf2\\lib\\site-packages (from ipython>=7.23.1->ipykernel->notebook>=6.0->jupyter_contrib_nbextensions) (3.0.29)\n",
      "Requirement already satisfied: pickleshare in c:\\users\\shshin\\anaconda3\\envs\\tf2\\lib\\site-packages (from ipython>=7.23.1->ipykernel->notebook>=6.0->jupyter_contrib_nbextensions) (0.7.5)\n",
      "Requirement already satisfied: jedi>=0.16 in c:\\users\\shshin\\anaconda3\\envs\\tf2\\lib\\site-packages (from ipython>=7.23.1->ipykernel->notebook>=6.0->jupyter_contrib_nbextensions) (0.18.1)\n",
      "Requirement already satisfied: backcall in c:\\users\\shshin\\anaconda3\\envs\\tf2\\lib\\site-packages (from ipython>=7.23.1->ipykernel->notebook>=6.0->jupyter_contrib_nbextensions) (0.2.0)\n",
      "Requirement already satisfied: colorama in c:\\users\\shshin\\anaconda3\\envs\\tf2\\lib\\site-packages (from ipython>=7.23.1->ipykernel->notebook>=6.0->jupyter_contrib_nbextensions) (0.4.4)\n",
      "Requirement already satisfied: decorator in c:\\users\\shshin\\anaconda3\\envs\\tf2\\lib\\site-packages (from ipython>=7.23.1->ipykernel->notebook>=6.0->jupyter_contrib_nbextensions) (5.1.1)\n",
      "Requirement already satisfied: pyrsistent!=0.17.0,!=0.17.1,!=0.17.2,>=0.14.0 in c:\\users\\shshin\\anaconda3\\envs\\tf2\\lib\\site-packages (from jsonschema>=2.6->nbformat>=5.1->nbconvert>=6.0->jupyter_contrib_nbextensions) (0.18.1)\n",
      "Requirement already satisfied: attrs>=17.4.0 in c:\\users\\shshin\\anaconda3\\envs\\tf2\\lib\\site-packages (from jsonschema>=2.6->nbformat>=5.1->nbconvert>=6.0->jupyter_contrib_nbextensions) (20.3.0)\n",
      "Requirement already satisfied: importlib-resources>=1.4.0 in c:\\users\\shshin\\anaconda3\\envs\\tf2\\lib\\site-packages (from jsonschema>=2.6->nbformat>=5.1->nbconvert>=6.0->jupyter_contrib_nbextensions) (5.8.0)\n",
      "Requirement already satisfied: cffi>=1.0.1 in c:\\users\\shshin\\anaconda3\\envs\\tf2\\lib\\site-packages (from argon2-cffi-bindings->argon2-cffi->notebook>=6.0->jupyter_contrib_nbextensions) (1.15.0)\n",
      "Requirement already satisfied: pycparser in c:\\users\\shshin\\anaconda3\\envs\\tf2\\lib\\site-packages (from cffi>=1.0.1->argon2-cffi-bindings->argon2-cffi->notebook>=6.0->jupyter_contrib_nbextensions) (2.21)\n",
      "Requirement already satisfied: zipp>=3.1.0 in c:\\users\\shshin\\anaconda3\\envs\\tf2\\lib\\site-packages (from importlib-resources>=1.4.0->jsonschema>=2.6->nbformat>=5.1->nbconvert>=6.0->jupyter_contrib_nbextensions) (3.8.0)\n",
      "Requirement already satisfied: parso<0.9.0,>=0.8.0 in c:\\users\\shshin\\anaconda3\\envs\\tf2\\lib\\site-packages (from jedi>=0.16->ipython>=7.23.1->ipykernel->notebook>=6.0->jupyter_contrib_nbextensions) (0.8.3)\n",
      "Requirement already satisfied: wcwidth in c:\\users\\shshin\\anaconda3\\envs\\tf2\\lib\\site-packages (from prompt-toolkit!=3.0.0,!=3.0.1,<3.1.0,>=2.0.0->ipython>=7.23.1->ipykernel->notebook>=6.0->jupyter_contrib_nbextensions) (0.2.5)\n",
      "Building wheels for collected packages: jupyter_contrib_nbextensions, jupyter_contrib_core, jupyter_nbextensions_configurator\n",
      "  Building wheel for jupyter_contrib_nbextensions (setup.py): started\n",
      "  Building wheel for jupyter_contrib_nbextensions (setup.py): finished with status 'done'\n",
      "  Created wheel for jupyter_contrib_nbextensions: filename=jupyter_contrib_nbextensions-0.7.0-py2.py3-none-any.whl size=23428787 sha256=26f095148f714a80843e2c4a272227cd8efc1637247e055dc6e0587d868c1af4\n",
      "  Stored in directory: c:\\users\\shshin\\appdata\\local\\pip\\cache\\wheels\\1a\\60\\9f\\043697d3cd00df43b23bbf4e722366a2abfa68700b6d8411f4\n",
      "  Building wheel for jupyter_contrib_core (setup.py): started\n",
      "  Building wheel for jupyter_contrib_core (setup.py): finished with status 'done'\n",
      "  Created wheel for jupyter_contrib_core: filename=jupyter_contrib_core-0.4.2-py2.py3-none-any.whl size=17490 sha256=5ae34d7a0f880a7d8bed8f96f648211f153805bc88c8fec734520c15401ec8ca\n",
      "  Stored in directory: c:\\users\\shshin\\appdata\\local\\pip\\cache\\wheels\\c5\\75\\d2\\b881eea79157be355b125d974ec85f88d6e6742acd14387872\n",
      "  Building wheel for jupyter_nbextensions_configurator (setup.py): started\n",
      "  Building wheel for jupyter_nbextensions_configurator (setup.py): finished with status 'error'\n",
      "  Running setup.py clean for jupyter_nbextensions_configurator\n",
      "Successfully built jupyter_contrib_nbextensions jupyter_contrib_core\n",
      "Failed to build jupyter_nbextensions_configurator\n",
      "Installing collected packages: jupyter_highlight_selected_word, pyyaml, lxml, jupyter_contrib_core, jupyter_nbextensions_configurator, jupyter_contrib_nbextensions\n",
      "  Running setup.py install for jupyter_nbextensions_configurator: started\n",
      "  Running setup.py install for jupyter_nbextensions_configurator: finished with status 'done'\n",
      "Successfully installed jupyter_contrib_core-0.4.2 jupyter_contrib_nbextensions-0.7.0 jupyter_highlight_selected_word-0.2.0 jupyter_nbextensions_configurator-0.6.1 lxml-4.9.2 pyyaml-6.0\n",
      "\n"
     ]
    },
    {
     "name": "stderr",
     "output_type": "stream",
     "text": [
      "WARNING: Ignoring invalid distribution -rotobuf (c:\\users\\shshin\\anaconda3\\envs\\tf2\\lib\\site-packages)\n",
      "WARNING: Ignoring invalid distribution -rotobuf (c:\\users\\shshin\\anaconda3\\envs\\tf2\\lib\\site-packages)\n",
      "  error: subprocess-exited-with-error\n",
      "  \n",
      "  python setup.py bdist_wheel did not run successfully.\n",
      "  exit code: 1\n",
      "  \n",
      "  [95 lines of output]\n",
      "  running bdist_wheel\n",
      "  running build\n",
      "  running build_py\n",
      "  creating build\n",
      "  creating build\\lib\n",
      "  creating build\\lib\\jupyter_nbextensions_configurator\n",
      "  copying src\\jupyter_nbextensions_configurator\\application.py -> build\\lib\\jupyter_nbextensions_configurator\n",
      "  copying src\\jupyter_nbextensions_configurator\\__init__.py -> build\\lib\\jupyter_nbextensions_configurator\n",
      "  running egg_info\n",
      "  writing src\\jupyter_nbextensions_configurator.egg-info\\PKG-INFO\n",
      "  writing dependency_links to src\\jupyter_nbextensions_configurator.egg-info\\dependency_links.txt\n",
      "  writing entry points to src\\jupyter_nbextensions_configurator.egg-info\\entry_points.txt\n",
      "  writing requirements to src\\jupyter_nbextensions_configurator.egg-info\\requires.txt\n",
      "  writing top-level names to src\\jupyter_nbextensions_configurator.egg-info\\top_level.txt\n",
      "  reading manifest file 'src\\jupyter_nbextensions_configurator.egg-info\\SOURCES.txt'\n",
      "  reading manifest template 'MANIFEST.in'\n",
      "  warning: no previously-included files found matching '.bumpversion.cfg'\n",
      "  warning: no previously-included files found matching '.travis.yml'\n",
      "  warning: no previously-included files found matching 'appveyor.yml'\n",
      "  warning: no previously-included files found matching 'codecov.yml'\n",
      "  no previously-included directories found matching 'conda.recipe'\n",
      "  warning: no previously-included files matching '*~' found anywhere in distribution\n",
      "  warning: no previously-included files matching '__pycache__' found anywhere in distribution\n",
      "  warning: no previously-included files matching '*.py[cod]' found anywhere in distribution\n",
      "  warning: no previously-included files matching '.git' found anywhere in distribution\n",
      "  warning: no previously-included files matching '.ipynb_checkpoints' found anywhere in distribution\n",
      "  adding license file 'LICENSE.txt'\n",
      "  writing manifest file 'src\\jupyter_nbextensions_configurator.egg-info\\SOURCES.txt'\n",
      "  creating build\\lib\\jupyter_nbextensions_configurator\\static\n",
      "  creating build\\lib\\jupyter_nbextensions_configurator\\static\\nbextensions_configurator\n",
      "  copying src\\jupyter_nbextensions_configurator\\static\\nbextensions_configurator\\icon.png -> build\\lib\\jupyter_nbextensions_configurator\\static\\nbextensions_configurator\n",
      "  copying src\\jupyter_nbextensions_configurator\\static\\nbextensions_configurator\\kse_components.js -> build\\lib\\jupyter_nbextensions_configurator\\static\\nbextensions_configurator\n",
      "  copying src\\jupyter_nbextensions_configurator\\static\\nbextensions_configurator\\main.css -> build\\lib\\jupyter_nbextensions_configurator\\static\\nbextensions_configurator\n",
      "  copying src\\jupyter_nbextensions_configurator\\static\\nbextensions_configurator\\main.js -> build\\lib\\jupyter_nbextensions_configurator\\static\\nbextensions_configurator\n",
      "  copying src\\jupyter_nbextensions_configurator\\static\\nbextensions_configurator\\quickhelp_shim.js -> build\\lib\\jupyter_nbextensions_configurator\\static\\nbextensions_configurator\n",
      "  copying src\\jupyter_nbextensions_configurator\\static\\nbextensions_configurator\\readme.md -> build\\lib\\jupyter_nbextensions_configurator\\static\\nbextensions_configurator\n",
      "  creating build\\lib\\jupyter_nbextensions_configurator\\static\\nbextensions_configurator\\config_menu\n",
      "  copying src\\jupyter_nbextensions_configurator\\static\\nbextensions_configurator\\config_menu\\config_menu.yaml -> build\\lib\\jupyter_nbextensions_configurator\\static\\nbextensions_configurator\\config_menu\n",
      "  copying src\\jupyter_nbextensions_configurator\\static\\nbextensions_configurator\\config_menu\\icon.png -> build\\lib\\jupyter_nbextensions_configurator\\static\\nbextensions_configurator\\config_menu\n",
      "  copying src\\jupyter_nbextensions_configurator\\static\\nbextensions_configurator\\config_menu\\main.js -> build\\lib\\jupyter_nbextensions_configurator\\static\\nbextensions_configurator\\config_menu\n",
      "  creating build\\lib\\jupyter_nbextensions_configurator\\static\\nbextensions_configurator\\render\n",
      "  copying src\\jupyter_nbextensions_configurator\\static\\nbextensions_configurator\\render\\render.js -> build\\lib\\jupyter_nbextensions_configurator\\static\\nbextensions_configurator\\render\n",
      "  copying src\\jupyter_nbextensions_configurator\\static\\nbextensions_configurator\\render\\rendermd.css -> build\\lib\\jupyter_nbextensions_configurator\\static\\nbextensions_configurator\\render\n",
      "  copying src\\jupyter_nbextensions_configurator\\static\\nbextensions_configurator\\render\\video_play.svg -> build\\lib\\jupyter_nbextensions_configurator\\static\\nbextensions_configurator\\render\n",
      "  creating build\\lib\\jupyter_nbextensions_configurator\\static\\nbextensions_configurator\\tree_tab\n",
      "  copying src\\jupyter_nbextensions_configurator\\static\\nbextensions_configurator\\tree_tab\\icon.png -> build\\lib\\jupyter_nbextensions_configurator\\static\\nbextensions_configurator\\tree_tab\n",
      "  copying src\\jupyter_nbextensions_configurator\\static\\nbextensions_configurator\\tree_tab\\main.js -> build\\lib\\jupyter_nbextensions_configurator\\static\\nbextensions_configurator\\tree_tab\n",
      "  copying src\\jupyter_nbextensions_configurator\\static\\nbextensions_configurator\\tree_tab\\readme.md -> build\\lib\\jupyter_nbextensions_configurator\\static\\nbextensions_configurator\\tree_tab\n",
      "  copying src\\jupyter_nbextensions_configurator\\static\\nbextensions_configurator\\tree_tab\\tree_tab.yaml -> build\\lib\\jupyter_nbextensions_configurator\\static\\nbextensions_configurator\\tree_tab\n",
      "  creating build\\lib\\jupyter_nbextensions_configurator\\templates\n",
      "  copying src\\jupyter_nbextensions_configurator\\templates\\nbextensions_configurator.html -> build\\lib\\jupyter_nbextensions_configurator\\templates\n",
      "  copying src\\jupyter_nbextensions_configurator\\templates\\rendermd.html -> build\\lib\\jupyter_nbextensions_configurator\\templates\n",
      "  C:\\Users\\shshin\\anaconda3\\envs\\tf2\\lib\\site-packages\\setuptools\\command\\install.py:34: SetuptoolsDeprecationWarning: setup.py install is deprecated. Use build and pip and other standards-based tools.\n",
      "    warnings.warn(\n",
      "  installing to build\\bdist.win-amd64\\wheel\n",
      "  running install\n",
      "  running install_lib\n",
      "  creating build\\bdist.win-amd64\n",
      "  creating build\\bdist.win-amd64\\wheel\n",
      "  creating build\\bdist.win-amd64\\wheel\\jupyter_nbextensions_configurator\n",
      "  copying build\\lib\\jupyter_nbextensions_configurator\\application.py -> build\\bdist.win-amd64\\wheel\\.\\jupyter_nbextensions_configurator\n",
      "  creating build\\bdist.win-amd64\\wheel\\jupyter_nbextensions_configurator\\static\n",
      "  creating build\\bdist.win-amd64\\wheel\\jupyter_nbextensions_configurator\\static\\nbextensions_configurator\n",
      "  creating build\\bdist.win-amd64\\wheel\\jupyter_nbextensions_configurator\\static\\nbextensions_configurator\\config_menu\n",
      "  copying build\\lib\\jupyter_nbextensions_configurator\\static\\nbextensions_configurator\\config_menu\\config_menu.yaml -> build\\bdist.win-amd64\\wheel\\.\\jupyter_nbextensions_configurator\\static\\nbextensions_configurator\\config_menu\n",
      "  copying build\\lib\\jupyter_nbextensions_configurator\\static\\nbextensions_configurator\\config_menu\\icon.png -> build\\bdist.win-amd64\\wheel\\.\\jupyter_nbextensions_configurator\\static\\nbextensions_configurator\\config_menu\n",
      "  copying build\\lib\\jupyter_nbextensions_configurator\\static\\nbextensions_configurator\\config_menu\\main.js -> build\\bdist.win-amd64\\wheel\\.\\jupyter_nbextensions_configurator\\static\\nbextensions_configurator\\config_menu\n",
      "  copying build\\lib\\jupyter_nbextensions_configurator\\static\\nbextensions_configurator\\icon.png -> build\\bdist.win-amd64\\wheel\\.\\jupyter_nbextensions_configurator\\static\\nbextensions_configurator\n",
      "  copying build\\lib\\jupyter_nbextensions_configurator\\static\\nbextensions_configurator\\kse_components.js -> build\\bdist.win-amd64\\wheel\\.\\jupyter_nbextensions_configurator\\static\\nbextensions_configurator\n",
      "  copying build\\lib\\jupyter_nbextensions_configurator\\static\\nbextensions_configurator\\main.css -> build\\bdist.win-amd64\\wheel\\.\\jupyter_nbextensions_configurator\\static\\nbextensions_configurator\n",
      "  copying build\\lib\\jupyter_nbextensions_configurator\\static\\nbextensions_configurator\\main.js -> build\\bdist.win-amd64\\wheel\\.\\jupyter_nbextensions_configurator\\static\\nbextensions_configurator\n",
      "  copying build\\lib\\jupyter_nbextensions_configurator\\static\\nbextensions_configurator\\quickhelp_shim.js -> build\\bdist.win-amd64\\wheel\\.\\jupyter_nbextensions_configurator\\static\\nbextensions_configurator\n",
      "  copying build\\lib\\jupyter_nbextensions_configurator\\static\\nbextensions_configurator\\readme.md -> build\\bdist.win-amd64\\wheel\\.\\jupyter_nbextensions_configurator\\static\\nbextensions_configurator\n",
      "  creating build\\bdist.win-amd64\\wheel\\jupyter_nbextensions_configurator\\static\\nbextensions_configurator\\render\n",
      "  copying build\\lib\\jupyter_nbextensions_configurator\\static\\nbextensions_configurator\\render\\render.js -> build\\bdist.win-amd64\\wheel\\.\\jupyter_nbextensions_configurator\\static\\nbextensions_configurator\\render\n",
      "  copying build\\lib\\jupyter_nbextensions_configurator\\static\\nbextensions_configurator\\render\\rendermd.css -> build\\bdist.win-amd64\\wheel\\.\\jupyter_nbextensions_configurator\\static\\nbextensions_configurator\\render\n",
      "  copying build\\lib\\jupyter_nbextensions_configurator\\static\\nbextensions_configurator\\render\\video_play.svg -> build\\bdist.win-amd64\\wheel\\.\\jupyter_nbextensions_configurator\\static\\nbextensions_configurator\\render\n",
      "  creating build\\bdist.win-amd64\\wheel\\jupyter_nbextensions_configurator\\static\\nbextensions_configurator\\tree_tab\n",
      "  copying build\\lib\\jupyter_nbextensions_configurator\\static\\nbextensions_configurator\\tree_tab\\icon.png -> build\\bdist.win-amd64\\wheel\\.\\jupyter_nbextensions_configurator\\static\\nbextensions_configurator\\tree_tab\n",
      "  copying build\\lib\\jupyter_nbextensions_configurator\\static\\nbextensions_configurator\\tree_tab\\main.js -> build\\bdist.win-amd64\\wheel\\.\\jupyter_nbextensions_configurator\\static\\nbextensions_configurator\\tree_tab\n",
      "  copying build\\lib\\jupyter_nbextensions_configurator\\static\\nbextensions_configurator\\tree_tab\\readme.md -> build\\bdist.win-amd64\\wheel\\.\\jupyter_nbextensions_configurator\\static\\nbextensions_configurator\\tree_tab\n",
      "  copying build\\lib\\jupyter_nbextensions_configurator\\static\\nbextensions_configurator\\tree_tab\\tree_tab.yaml -> build\\bdist.win-amd64\\wheel\\.\\jupyter_nbextensions_configurator\\static\\nbextensions_configurator\\tree_tab\n",
      "  creating build\\bdist.win-amd64\\wheel\\jupyter_nbextensions_configurator\\templates\n",
      "  copying build\\lib\\jupyter_nbextensions_configurator\\templates\\nbextensions_configurator.html -> build\\bdist.win-amd64\\wheel\\.\\jupyter_nbextensions_configurator\\templates\n",
      "  copying build\\lib\\jupyter_nbextensions_configurator\\templates\\rendermd.html -> build\\bdist.win-amd64\\wheel\\.\\jupyter_nbextensions_configurator\\templates\n",
      "  copying build\\lib\\jupyter_nbextensions_configurator\\__init__.py -> build\\bdist.win-amd64\\wheel\\.\\jupyter_nbextensions_configurator\n",
      "  running install_data\n",
      "  creating build\\bdist.win-amd64\\wheel\\jupyter_nbextensions_configurator-0.6.1.data\n",
      "  creating build\\bdist.win-amd64\\wheel\\jupyter_nbextensions_configurator-0.6.1.data\\data\n",
      "  creating build\\bdist.win-amd64\\wheel\\jupyter_nbextensions_configurator-0.6.1.data\\data\\etc\n",
      "  creating build\\bdist.win-amd64\\wheel\\jupyter_nbextensions_configurator-0.6.1.data\\data\\etc\\jupyter\n",
      "  creating build\\bdist.win-amd64\\wheel\\jupyter_nbextensions_configurator-0.6.1.data\\data\\etc\\jupyter\\nbconfig\n",
      "  creating build\\bdist.win-amd64\\wheel\\jupyter_nbextensions_configurator-0.6.1.data\\data\\etc\\jupyter\\nbconfig\\notebook.d\n",
      "  copying jupyter-config\\nbconfig\\notebook.d\\jupyter_nbextensions_configurator.json -> build\\bdist.win-amd64\\wheel\\jupyter_nbextensions_configurator-0.6.1.data\\data\\etc\\jupyter\\nbconfig\\notebook.d\n",
      "  error: could not create 'build\\bdist.win-amd64\\wheel\\jupyter_nbextensions_configurator-0.6.1.data\\data\\etc\\jupyter\\nbconfig\\notebook.d\\jupyter_nbextensions_configurator.json': No such file or directory\n",
      "  [end of output]\n",
      "  \n",
      "  note: This error originates from a subprocess, and is likely not a problem with pip.\n",
      "  ERROR: Failed building wheel for jupyter_nbextensions_configurator\n",
      "WARNING: Ignoring invalid distribution -rotobuf (c:\\users\\shshin\\anaconda3\\envs\\tf2\\lib\\site-packages)\n",
      "  WARNING: The script jupyter-contrib.exe is installed in 'C:\\Users\\shshin\\anaconda3\\envs\\tf2\\Scripts' which is not on PATH.\n",
      "  Consider adding this directory to PATH or, if you prefer to suppress this warning, use --no-warn-script-location.\n",
      "  DEPRECATION: jupyter_nbextensions_configurator was installed using the legacy 'setup.py install' method, because a wheel could not be built for it. A possible replacement is to fix the wheel build issue reported above. Discussion can be found at https://github.com/pypa/pip/issues/8368\n",
      "  WARNING: The script jupyter-contrib-nbextension.exe is installed in 'C:\\Users\\shshin\\anaconda3\\envs\\tf2\\Scripts' which is not on PATH.\n",
      "  Consider adding this directory to PATH or, if you prefer to suppress this warning, use --no-warn-script-location.\n",
      "WARNING: Ignoring invalid distribution -rotobuf (c:\\users\\shshin\\anaconda3\\envs\\tf2\\lib\\site-packages)\n",
      "WARNING: Ignoring invalid distribution -rotobuf (c:\\users\\shshin\\anaconda3\\envs\\tf2\\lib\\site-packages)\n",
      "WARNING: Ignoring invalid distribution -rotobuf (c:\\users\\shshin\\anaconda3\\envs\\tf2\\lib\\site-packages)\n",
      "WARNING: Ignoring invalid distribution -rotobuf (c:\\users\\shshin\\anaconda3\\envs\\tf2\\lib\\site-packages)\n",
      "WARNING: Ignoring invalid distribution -rotobuf (c:\\users\\shshin\\anaconda3\\envs\\tf2\\lib\\site-packages)\n",
      "WARNING: Ignoring invalid distribution -rotobuf (c:\\users\\shshin\\anaconda3\\envs\\tf2\\lib\\site-packages)\n",
      "WARNING: Ignoring invalid distribution -rotobuf (c:\\users\\shshin\\anaconda3\\envs\\tf2\\lib\\site-packages)\n",
      "WARNING: Ignoring invalid distribution -rotobuf (c:\\users\\shshin\\anaconda3\\envs\\tf2\\lib\\site-packages)\n",
      "WARNING: Ignoring invalid distribution -rotobuf (c:\\users\\shshin\\anaconda3\\envs\\tf2\\lib\\site-packages)\n",
      "[I 11:52:07 InstallContribNbextensionsApp] jupyter contrib nbextension install \n",
      "[I 11:52:07 InstallContribNbextensionsApp] Installing jupyter_contrib_nbextensions nbextension files to jupyter data directory\n",
      "[I 11:52:07 InstallContribNbextensionsApp] Installing C:\\Users\\shshin\\anaconda3\\envs\\data\\lib\\site-packages\\jupyter_contrib_nbextensions\\nbextensions\\addbefore -> addbefore\n",
      "[I 11:52:07 InstallContribNbextensionsApp] Making directory: C:\\ProgramData\\jupyter\\nbextensions\\addbefore\\\n",
      "[I 11:52:07 InstallContribNbextensionsApp] Copying: C:\\Users\\shshin\\anaconda3\\envs\\data\\lib\\site-packages\\jupyter_contrib_nbextensions\\nbextensions\\addbefore\\addbefore.yaml -> C:\\ProgramData\\jupyter\\nbextensions\\addbefore\\addbefore.yaml\n",
      "[I 11:52:07 InstallContribNbextensionsApp] Copying: C:\\Users\\shshin\\anaconda3\\envs\\data\\lib\\site-packages\\jupyter_contrib_nbextensions\\nbextensions\\addbefore\\icon.png -> C:\\ProgramData\\jupyter\\nbextensions\\addbefore\\icon.png\n",
      "[I 11:52:07 InstallContribNbextensionsApp] Copying: C:\\Users\\shshin\\anaconda3\\envs\\data\\lib\\site-packages\\jupyter_contrib_nbextensions\\nbextensions\\addbefore\\main.js -> C:\\ProgramData\\jupyter\\nbextensions\\addbefore\\main.js\n",
      "[I 11:52:07 InstallContribNbextensionsApp] Copying: C:\\Users\\shshin\\anaconda3\\envs\\data\\lib\\site-packages\\jupyter_contrib_nbextensions\\nbextensions\\addbefore\\readme.md -> C:\\ProgramData\\jupyter\\nbextensions\\addbefore\\readme.md\n",
      "[I 11:52:07 InstallContribNbextensionsApp] - Validating: ok\n",
      "[I 11:52:07 InstallContribNbextensionsApp] Installing C:\\Users\\shshin\\anaconda3\\envs\\data\\lib\\site-packages\\jupyter_contrib_nbextensions\\nbextensions\\autosavetime -> autosavetime\n",
      "[I 11:52:07 InstallContribNbextensionsApp] Making directory: C:\\ProgramData\\jupyter\\nbextensions\\autosavetime\\\n",
      "[I 11:52:07 InstallContribNbextensionsApp] Copying: C:\\Users\\shshin\\anaconda3\\envs\\data\\lib\\site-packages\\jupyter_contrib_nbextensions\\nbextensions\\autosavetime\\autosavetime.yaml -> C:\\ProgramData\\jupyter\\nbextensions\\autosavetime\\autosavetime.yaml\n",
      "[I 11:52:07 InstallContribNbextensionsApp] Copying: C:\\Users\\shshin\\anaconda3\\envs\\data\\lib\\site-packages\\jupyter_contrib_nbextensions\\nbextensions\\autosavetime\\icon.png -> C:\\ProgramData\\jupyter\\nbextensions\\autosavetime\\icon.png\n",
      "[I 11:52:07 InstallContribNbextensionsApp] Copying: C:\\Users\\shshin\\anaconda3\\envs\\data\\lib\\site-packages\\jupyter_contrib_nbextensions\\nbextensions\\autosavetime\\main.js -> C:\\ProgramData\\jupyter\\nbextensions\\autosavetime\\main.js\n",
      "[I 11:52:07 InstallContribNbextensionsApp] Copying: C:\\Users\\shshin\\anaconda3\\envs\\data\\lib\\site-packages\\jupyter_contrib_nbextensions\\nbextensions\\autosavetime\\README.md -> C:\\ProgramData\\jupyter\\nbextensions\\autosavetime\\README.md\n",
      "[I 11:52:07 InstallContribNbextensionsApp] - Validating: ok\n",
      "[I 11:52:07 InstallContribNbextensionsApp] Installing C:\\Users\\shshin\\anaconda3\\envs\\data\\lib\\site-packages\\jupyter_contrib_nbextensions\\nbextensions\\autoscroll -> autoscroll\n",
      "[I 11:52:07 InstallContribNbextensionsApp] Making directory: C:\\ProgramData\\jupyter\\nbextensions\\autoscroll\\\n",
      "[I 11:52:07 InstallContribNbextensionsApp] Copying: C:\\Users\\shshin\\anaconda3\\envs\\data\\lib\\site-packages\\jupyter_contrib_nbextensions\\nbextensions\\autoscroll\\autoscroll.yaml -> C:\\ProgramData\\jupyter\\nbextensions\\autoscroll\\autoscroll.yaml\n",
      "[I 11:52:07 InstallContribNbextensionsApp] Copying: C:\\Users\\shshin\\anaconda3\\envs\\data\\lib\\site-packages\\jupyter_contrib_nbextensions\\nbextensions\\autoscroll\\icon.png -> C:\\ProgramData\\jupyter\\nbextensions\\autoscroll\\icon.png\n",
      "[I 11:52:07 InstallContribNbextensionsApp] Copying: C:\\Users\\shshin\\anaconda3\\envs\\data\\lib\\site-packages\\jupyter_contrib_nbextensions\\nbextensions\\autoscroll\\main.js -> C:\\ProgramData\\jupyter\\nbextensions\\autoscroll\\main.js\n",
      "[I 11:52:07 InstallContribNbextensionsApp] Copying: C:\\Users\\shshin\\anaconda3\\envs\\data\\lib\\site-packages\\jupyter_contrib_nbextensions\\nbextensions\\autoscroll\\README.md -> C:\\ProgramData\\jupyter\\nbextensions\\autoscroll\\README.md\n",
      "[I 11:52:07 InstallContribNbextensionsApp] - Validating: ok\n",
      "[I 11:52:07 InstallContribNbextensionsApp] Installing C:\\Users\\shshin\\anaconda3\\envs\\data\\lib\\site-packages\\jupyter_contrib_nbextensions\\nbextensions\\cell_filter -> cell_filter\n",
      "[I 11:52:07 InstallContribNbextensionsApp] Making directory: C:\\ProgramData\\jupyter\\nbextensions\\cell_filter\\\n",
      "[I 11:52:07 InstallContribNbextensionsApp] Copying: C:\\Users\\shshin\\anaconda3\\envs\\data\\lib\\site-packages\\jupyter_contrib_nbextensions\\nbextensions\\cell_filter\\cell_filter.js -> C:\\ProgramData\\jupyter\\nbextensions\\cell_filter\\cell_filter.js\n",
      "[I 11:52:07 InstallContribNbextensionsApp] Copying: C:\\Users\\shshin\\anaconda3\\envs\\data\\lib\\site-packages\\jupyter_contrib_nbextensions\\nbextensions\\cell_filter\\cell_filter.yml -> C:\\ProgramData\\jupyter\\nbextensions\\cell_filter\\cell_filter.yml\n",
      "[I 11:52:07 InstallContribNbextensionsApp] Copying: C:\\Users\\shshin\\anaconda3\\envs\\data\\lib\\site-packages\\jupyter_contrib_nbextensions\\nbextensions\\cell_filter\\README.md -> C:\\ProgramData\\jupyter\\nbextensions\\cell_filter\\README.md\n",
      "[I 11:52:07 InstallContribNbextensionsApp] - Validating: ok\n",
      "[I 11:52:07 InstallContribNbextensionsApp] Installing C:\\Users\\shshin\\anaconda3\\envs\\data\\lib\\site-packages\\jupyter_contrib_nbextensions\\nbextensions\\codefolding -> codefolding\n",
      "[I 11:52:07 InstallContribNbextensionsApp] Making directory: C:\\ProgramData\\jupyter\\nbextensions\\codefolding\\\n",
      "[I 11:52:07 InstallContribNbextensionsApp] Copying: C:\\Users\\shshin\\anaconda3\\envs\\data\\lib\\site-packages\\jupyter_contrib_nbextensions\\nbextensions\\codefolding\\blockcomment-fold.js -> C:\\ProgramData\\jupyter\\nbextensions\\codefolding\\blockcomment-fold.js\n",
      "[I 11:52:07 InstallContribNbextensionsApp] Copying: C:\\Users\\shshin\\anaconda3\\envs\\data\\lib\\site-packages\\jupyter_contrib_nbextensions\\nbextensions\\codefolding\\codefolding.yaml -> C:\\ProgramData\\jupyter\\nbextensions\\codefolding\\codefolding.yaml\n",
      "[I 11:52:07 InstallContribNbextensionsApp] Copying: C:\\Users\\shshin\\anaconda3\\envs\\data\\lib\\site-packages\\jupyter_contrib_nbextensions\\nbextensions\\codefolding\\codefolding_editor.png -> C:\\ProgramData\\jupyter\\nbextensions\\codefolding\\codefolding_editor.png\n",
      "[I 11:52:07 InstallContribNbextensionsApp] Copying: C:\\Users\\shshin\\anaconda3\\envs\\data\\lib\\site-packages\\jupyter_contrib_nbextensions\\nbextensions\\codefolding\\codefolding_editor.yaml -> C:\\ProgramData\\jupyter\\nbextensions\\codefolding\\codefolding_editor.yaml\n",
      "[I 11:52:07 InstallContribNbextensionsApp] Copying: C:\\Users\\shshin\\anaconda3\\envs\\data\\lib\\site-packages\\jupyter_contrib_nbextensions\\nbextensions\\codefolding\\codefolding_firstline_folded.png -> C:\\ProgramData\\jupyter\\nbextensions\\codefolding\\codefolding_firstline_folded.png\n",
      "[I 11:52:07 InstallContribNbextensionsApp] Copying: C:\\Users\\shshin\\anaconda3\\envs\\data\\lib\\site-packages\\jupyter_contrib_nbextensions\\nbextensions\\codefolding\\codefolding_firstline_unfolded.png -> C:\\ProgramData\\jupyter\\nbextensions\\codefolding\\codefolding_firstline_unfolded.png\n",
      "[I 11:52:07 InstallContribNbextensionsApp] Copying: C:\\Users\\shshin\\anaconda3\\envs\\data\\lib\\site-packages\\jupyter_contrib_nbextensions\\nbextensions\\codefolding\\codefolding_indent_folded_1.png -> C:\\ProgramData\\jupyter\\nbextensions\\codefolding\\codefolding_indent_folded_1.png\n",
      "[I 11:52:07 InstallContribNbextensionsApp] Copying: C:\\Users\\shshin\\anaconda3\\envs\\data\\lib\\site-packages\\jupyter_contrib_nbextensions\\nbextensions\\codefolding\\codefolding_indent_folded_2.png -> C:\\ProgramData\\jupyter\\nbextensions\\codefolding\\codefolding_indent_folded_2.png\n",
      "[I 11:52:07 InstallContribNbextensionsApp] Copying: C:\\Users\\shshin\\anaconda3\\envs\\data\\lib\\site-packages\\jupyter_contrib_nbextensions\\nbextensions\\codefolding\\codefolding_indent_unfolded.png -> C:\\ProgramData\\jupyter\\nbextensions\\codefolding\\codefolding_indent_unfolded.png\n",
      "[I 11:52:07 InstallContribNbextensionsApp] Copying: C:\\Users\\shshin\\anaconda3\\envs\\data\\lib\\site-packages\\jupyter_contrib_nbextensions\\nbextensions\\codefolding\\edit.js -> C:\\ProgramData\\jupyter\\nbextensions\\codefolding\\edit.js\n",
      "[I 11:52:07 InstallContribNbextensionsApp] Copying: C:\\Users\\shshin\\anaconda3\\envs\\data\\lib\\site-packages\\jupyter_contrib_nbextensions\\nbextensions\\codefolding\\firstline-fold.js -> C:\\ProgramData\\jupyter\\nbextensions\\codefolding\\firstline-fold.js\n",
      "[I 11:52:07 InstallContribNbextensionsApp] Copying: C:\\Users\\shshin\\anaconda3\\envs\\data\\lib\\site-packages\\jupyter_contrib_nbextensions\\nbextensions\\codefolding\\foldgutter.css -> C:\\ProgramData\\jupyter\\nbextensions\\codefolding\\foldgutter.css\n",
      "[I 11:52:07 InstallContribNbextensionsApp] Copying: C:\\Users\\shshin\\anaconda3\\envs\\data\\lib\\site-packages\\jupyter_contrib_nbextensions\\nbextensions\\codefolding\\icon.png -> C:\\ProgramData\\jupyter\\nbextensions\\codefolding\\icon.png\n",
      "[I 11:52:07 InstallContribNbextensionsApp] Copying: C:\\Users\\shshin\\anaconda3\\envs\\data\\lib\\site-packages\\jupyter_contrib_nbextensions\\nbextensions\\codefolding\\magic-fold.js -> C:\\ProgramData\\jupyter\\nbextensions\\codefolding\\magic-fold.js\n",
      "[I 11:52:07 InstallContribNbextensionsApp] Copying: C:\\Users\\shshin\\anaconda3\\envs\\data\\lib\\site-packages\\jupyter_contrib_nbextensions\\nbextensions\\codefolding\\magic-folded.png -> C:\\ProgramData\\jupyter\\nbextensions\\codefolding\\magic-folded.png\n",
      "[I 11:52:07 InstallContribNbextensionsApp] Copying: C:\\Users\\shshin\\anaconda3\\envs\\data\\lib\\site-packages\\jupyter_contrib_nbextensions\\nbextensions\\codefolding\\magic-unfolded.png -> C:\\ProgramData\\jupyter\\nbextensions\\codefolding\\magic-unfolded.png\n",
      "[I 11:52:07 InstallContribNbextensionsApp] Copying: C:\\Users\\shshin\\anaconda3\\envs\\data\\lib\\site-packages\\jupyter_contrib_nbextensions\\nbextensions\\codefolding\\main.js -> C:\\ProgramData\\jupyter\\nbextensions\\codefolding\\main.js\n",
      "[I 11:52:07 InstallContribNbextensionsApp] Copying: C:\\Users\\shshin\\anaconda3\\envs\\data\\lib\\site-packages\\jupyter_contrib_nbextensions\\nbextensions\\codefolding\\readme.md -> C:\\ProgramData\\jupyter\\nbextensions\\codefolding\\readme.md\n",
      "[I 11:52:07 InstallContribNbextensionsApp] - Validating: ok\n",
      "[I 11:52:07 InstallContribNbextensionsApp] Installing C:\\Users\\shshin\\anaconda3\\envs\\data\\lib\\site-packages\\jupyter_contrib_nbextensions\\nbextensions\\codefolding -> codefolding\n",
      "[I 11:52:07 InstallContribNbextensionsApp] Up to date: C:\\ProgramData\\jupyter\\nbextensions\\codefolding\\blockcomment-fold.js\n",
      "[I 11:52:07 InstallContribNbextensionsApp] Up to date: C:\\ProgramData\\jupyter\\nbextensions\\codefolding\\codefolding.yaml\n",
      "[I 11:52:07 InstallContribNbextensionsApp] Up to date: C:\\ProgramData\\jupyter\\nbextensions\\codefolding\\codefolding_editor.png\n",
      "[I 11:52:07 InstallContribNbextensionsApp] Up to date: C:\\ProgramData\\jupyter\\nbextensions\\codefolding\\codefolding_editor.yaml\n",
      "[I 11:52:07 InstallContribNbextensionsApp] Up to date: C:\\ProgramData\\jupyter\\nbextensions\\codefolding\\codefolding_firstline_folded.png\n",
      "[I 11:52:07 InstallContribNbextensionsApp] Up to date: C:\\ProgramData\\jupyter\\nbextensions\\codefolding\\codefolding_firstline_unfolded.png\n",
      "[I 11:52:07 InstallContribNbextensionsApp] Up to date: C:\\ProgramData\\jupyter\\nbextensions\\codefolding\\codefolding_indent_folded_1.png\n",
      "[I 11:52:07 InstallContribNbextensionsApp] Up to date: C:\\ProgramData\\jupyter\\nbextensions\\codefolding\\codefolding_indent_folded_2.png\n",
      "[I 11:52:07 InstallContribNbextensionsApp] Up to date: C:\\ProgramData\\jupyter\\nbextensions\\codefolding\\codefolding_indent_unfolded.png\n",
      "[I 11:52:07 InstallContribNbextensionsApp] Up to date: C:\\ProgramData\\jupyter\\nbextensions\\codefolding\\edit.js\n",
      "[I 11:52:07 InstallContribNbextensionsApp] Up to date: C:\\ProgramData\\jupyter\\nbextensions\\codefolding\\firstline-fold.js\n",
      "[I 11:52:07 InstallContribNbextensionsApp] Up to date: C:\\ProgramData\\jupyter\\nbextensions\\codefolding\\foldgutter.css\n",
      "[I 11:52:07 InstallContribNbextensionsApp] Up to date: C:\\ProgramData\\jupyter\\nbextensions\\codefolding\\icon.png\n",
      "[I 11:52:07 InstallContribNbextensionsApp] Up to date: C:\\ProgramData\\jupyter\\nbextensions\\codefolding\\magic-fold.js\n",
      "[I 11:52:07 InstallContribNbextensionsApp] Up to date: C:\\ProgramData\\jupyter\\nbextensions\\codefolding\\magic-folded.png\n",
      "[I 11:52:07 InstallContribNbextensionsApp] Up to date: C:\\ProgramData\\jupyter\\nbextensions\\codefolding\\magic-unfolded.png\n",
      "[I 11:52:07 InstallContribNbextensionsApp] Up to date: C:\\ProgramData\\jupyter\\nbextensions\\codefolding\\main.js\n",
      "[I 11:52:07 InstallContribNbextensionsApp] Up to date: C:\\ProgramData\\jupyter\\nbextensions\\codefolding\\readme.md\n",
      "[I 11:52:07 InstallContribNbextensionsApp] - Validating: ok\n",
      "[I 11:52:07 InstallContribNbextensionsApp] Installing C:\\Users\\shshin\\anaconda3\\envs\\data\\lib\\site-packages\\jupyter_contrib_nbextensions\\nbextensions\\codemirror_mode_extensions -> codemirror_mode_extensions\n",
      "[I 11:52:07 InstallContribNbextensionsApp] Making directory: C:\\ProgramData\\jupyter\\nbextensions\\codemirror_mode_extensions\\\n",
      "[I 11:52:07 InstallContribNbextensionsApp] Copying: C:\\Users\\shshin\\anaconda3\\envs\\data\\lib\\site-packages\\jupyter_contrib_nbextensions\\nbextensions\\codemirror_mode_extensions\\codemirror_mode_extensions.yaml -> C:\\ProgramData\\jupyter\\nbextensions\\codemirror_mode_extensions\\codemirror_mode_extensions.yaml\n",
      "[I 11:52:07 InstallContribNbextensionsApp] Copying: C:\\Users\\shshin\\anaconda3\\envs\\data\\lib\\site-packages\\jupyter_contrib_nbextensions\\nbextensions\\codemirror_mode_extensions\\main.js -> C:\\ProgramData\\jupyter\\nbextensions\\codemirror_mode_extensions\\main.js\n",
      "[I 11:52:07 InstallContribNbextensionsApp] - Validating: ok\n",
      "[I 11:52:07 InstallContribNbextensionsApp] Installing C:\\Users\\shshin\\anaconda3\\envs\\data\\lib\\site-packages\\jupyter_contrib_nbextensions\\nbextensions\\code_font_size -> code_font_size\n",
      "[I 11:52:07 InstallContribNbextensionsApp] Making directory: C:\\ProgramData\\jupyter\\nbextensions\\code_font_size\\\n",
      "[I 11:52:07 InstallContribNbextensionsApp] Copying: C:\\Users\\shshin\\anaconda3\\envs\\data\\lib\\site-packages\\jupyter_contrib_nbextensions\\nbextensions\\code_font_size\\code_font_size.js -> C:\\ProgramData\\jupyter\\nbextensions\\code_font_size\\code_font_size.js\n",
      "[I 11:52:07 InstallContribNbextensionsApp] Copying: C:\\Users\\shshin\\anaconda3\\envs\\data\\lib\\site-packages\\jupyter_contrib_nbextensions\\nbextensions\\code_font_size\\code_font_size.yaml -> C:\\ProgramData\\jupyter\\nbextensions\\code_font_size\\code_font_size.yaml\n",
      "[I 11:52:07 InstallContribNbextensionsApp] Copying: C:\\Users\\shshin\\anaconda3\\envs\\data\\lib\\site-packages\\jupyter_contrib_nbextensions\\nbextensions\\code_font_size\\README.md -> C:\\ProgramData\\jupyter\\nbextensions\\code_font_size\\README.md\n",
      "[I 11:52:07 InstallContribNbextensionsApp] - Validating: ok\n",
      "[I 11:52:07 InstallContribNbextensionsApp] Installing C:\\Users\\shshin\\anaconda3\\envs\\data\\lib\\site-packages\\jupyter_contrib_nbextensions\\nbextensions\\code_prettify -> code_prettify\n",
      "[I 11:52:07 InstallContribNbextensionsApp] Making directory: C:\\ProgramData\\jupyter\\nbextensions\\code_prettify\\\n",
      "[I 11:52:07 InstallContribNbextensionsApp] Copying: C:\\Users\\shshin\\anaconda3\\envs\\data\\lib\\site-packages\\jupyter_contrib_nbextensions\\nbextensions\\code_prettify\\2to3.js -> C:\\ProgramData\\jupyter\\nbextensions\\code_prettify\\2to3.js\n",
      "[I 11:52:07 InstallContribNbextensionsApp] Copying: C:\\Users\\shshin\\anaconda3\\envs\\data\\lib\\site-packages\\jupyter_contrib_nbextensions\\nbextensions\\code_prettify\\2to3.yaml -> C:\\ProgramData\\jupyter\\nbextensions\\code_prettify\\2to3.yaml\n",
      "[I 11:52:07 InstallContribNbextensionsApp] Copying: C:\\Users\\shshin\\anaconda3\\envs\\data\\lib\\site-packages\\jupyter_contrib_nbextensions\\nbextensions\\code_prettify\\autopep8.js -> C:\\ProgramData\\jupyter\\nbextensions\\code_prettify\\autopep8.js\n",
      "[I 11:52:07 InstallContribNbextensionsApp] Copying: C:\\Users\\shshin\\anaconda3\\envs\\data\\lib\\site-packages\\jupyter_contrib_nbextensions\\nbextensions\\code_prettify\\autopep8.yaml -> C:\\ProgramData\\jupyter\\nbextensions\\code_prettify\\autopep8.yaml\n",
      "[I 11:52:07 InstallContribNbextensionsApp] Copying: C:\\Users\\shshin\\anaconda3\\envs\\data\\lib\\site-packages\\jupyter_contrib_nbextensions\\nbextensions\\code_prettify\\code_prettify.js -> C:\\ProgramData\\jupyter\\nbextensions\\code_prettify\\code_prettify.js\n",
      "[I 11:52:07 InstallContribNbextensionsApp] Copying: C:\\Users\\shshin\\anaconda3\\envs\\data\\lib\\site-packages\\jupyter_contrib_nbextensions\\nbextensions\\code_prettify\\code_prettify.yaml -> C:\\ProgramData\\jupyter\\nbextensions\\code_prettify\\code_prettify.yaml\n",
      "[I 11:52:07 InstallContribNbextensionsApp] Copying: C:\\Users\\shshin\\anaconda3\\envs\\data\\lib\\site-packages\\jupyter_contrib_nbextensions\\nbextensions\\code_prettify\\demo-jv.gif -> C:\\ProgramData\\jupyter\\nbextensions\\code_prettify\\demo-jv.gif\n",
      "[I 11:52:07 InstallContribNbextensionsApp] Copying: C:\\Users\\shshin\\anaconda3\\envs\\data\\lib\\site-packages\\jupyter_contrib_nbextensions\\nbextensions\\code_prettify\\demo-py.gif -> C:\\ProgramData\\jupyter\\nbextensions\\code_prettify\\demo-py.gif\n",
      "[I 11:52:07 InstallContribNbextensionsApp] Copying: C:\\Users\\shshin\\anaconda3\\envs\\data\\lib\\site-packages\\jupyter_contrib_nbextensions\\nbextensions\\code_prettify\\demo-R.gif -> C:\\ProgramData\\jupyter\\nbextensions\\code_prettify\\demo-R.gif\n",
      "[I 11:52:07 InstallContribNbextensionsApp] Copying: C:\\Users\\shshin\\anaconda3\\envs\\data\\lib\\site-packages\\jupyter_contrib_nbextensions\\nbextensions\\code_prettify\\demo_2to3.gif -> C:\\ProgramData\\jupyter\\nbextensions\\code_prettify\\demo_2to3.gif\n",
      "[I 11:52:07 InstallContribNbextensionsApp] Copying: C:\\Users\\shshin\\anaconda3\\envs\\data\\lib\\site-packages\\jupyter_contrib_nbextensions\\nbextensions\\code_prettify\\isort.js -> C:\\ProgramData\\jupyter\\nbextensions\\code_prettify\\isort.js\n",
      "[I 11:52:07 InstallContribNbextensionsApp] Copying: C:\\Users\\shshin\\anaconda3\\envs\\data\\lib\\site-packages\\jupyter_contrib_nbextensions\\nbextensions\\code_prettify\\isort.yaml -> C:\\ProgramData\\jupyter\\nbextensions\\code_prettify\\isort.yaml\n",
      "[I 11:52:07 InstallContribNbextensionsApp] Copying: C:\\Users\\shshin\\anaconda3\\envs\\data\\lib\\site-packages\\jupyter_contrib_nbextensions\\nbextensions\\code_prettify\\kernel_exec_on_cell.js -> C:\\ProgramData\\jupyter\\nbextensions\\code_prettify\\kernel_exec_on_cell.js\n",
      "[I 11:52:07 InstallContribNbextensionsApp] Copying: C:\\Users\\shshin\\anaconda3\\envs\\data\\lib\\site-packages\\jupyter_contrib_nbextensions\\nbextensions\\code_prettify\\README.md -> C:\\ProgramData\\jupyter\\nbextensions\\code_prettify\\README.md\n",
      "[I 11:52:07 InstallContribNbextensionsApp] Copying: C:\\Users\\shshin\\anaconda3\\envs\\data\\lib\\site-packages\\jupyter_contrib_nbextensions\\nbextensions\\code_prettify\\README_2to3.md -> C:\\ProgramData\\jupyter\\nbextensions\\code_prettify\\README_2to3.md\n",
      "[I 11:52:07 InstallContribNbextensionsApp] Copying: C:\\Users\\shshin\\anaconda3\\envs\\data\\lib\\site-packages\\jupyter_contrib_nbextensions\\nbextensions\\code_prettify\\README_autopep8.md -> C:\\ProgramData\\jupyter\\nbextensions\\code_prettify\\README_autopep8.md\n",
      "[I 11:52:07 InstallContribNbextensionsApp] Copying: C:\\Users\\shshin\\anaconda3\\envs\\data\\lib\\site-packages\\jupyter_contrib_nbextensions\\nbextensions\\code_prettify\\README_code_prettify.md -> C:\\ProgramData\\jupyter\\nbextensions\\code_prettify\\README_code_prettify.md\n",
      "[I 11:52:07 InstallContribNbextensionsApp] Copying: C:\\Users\\shshin\\anaconda3\\envs\\data\\lib\\site-packages\\jupyter_contrib_nbextensions\\nbextensions\\code_prettify\\README_isort.md -> C:\\ProgramData\\jupyter\\nbextensions\\code_prettify\\README_isort.md\n",
      "[I 11:52:07 InstallContribNbextensionsApp] - Validating: ok\n",
      "[I 11:52:07 InstallContribNbextensionsApp] Installing C:\\Users\\shshin\\anaconda3\\envs\\data\\lib\\site-packages\\jupyter_contrib_nbextensions\\nbextensions\\code_prettify -> code_prettify\n",
      "[I 11:52:07 InstallContribNbextensionsApp] Up to date: C:\\ProgramData\\jupyter\\nbextensions\\code_prettify\\2to3.js\n",
      "[I 11:52:07 InstallContribNbextensionsApp] Up to date: C:\\ProgramData\\jupyter\\nbextensions\\code_prettify\\2to3.yaml\n",
      "[I 11:52:07 InstallContribNbextensionsApp] Up to date: C:\\ProgramData\\jupyter\\nbextensions\\code_prettify\\autopep8.js\n",
      "[I 11:52:07 InstallContribNbextensionsApp] Up to date: C:\\ProgramData\\jupyter\\nbextensions\\code_prettify\\autopep8.yaml\n",
      "[I 11:52:07 InstallContribNbextensionsApp] Up to date: C:\\ProgramData\\jupyter\\nbextensions\\code_prettify\\code_prettify.js\n",
      "[I 11:52:07 InstallContribNbextensionsApp] Up to date: C:\\ProgramData\\jupyter\\nbextensions\\code_prettify\\code_prettify.yaml\n",
      "[I 11:52:07 InstallContribNbextensionsApp] Up to date: C:\\ProgramData\\jupyter\\nbextensions\\code_prettify\\demo-jv.gif\n",
      "[I 11:52:07 InstallContribNbextensionsApp] Up to date: C:\\ProgramData\\jupyter\\nbextensions\\code_prettify\\demo-py.gif\n",
      "[I 11:52:07 InstallContribNbextensionsApp] Up to date: C:\\ProgramData\\jupyter\\nbextensions\\code_prettify\\demo-R.gif\n",
      "[I 11:52:07 InstallContribNbextensionsApp] Up to date: C:\\ProgramData\\jupyter\\nbextensions\\code_prettify\\demo_2to3.gif\n",
      "[I 11:52:07 InstallContribNbextensionsApp] Up to date: C:\\ProgramData\\jupyter\\nbextensions\\code_prettify\\isort.js\n",
      "[I 11:52:07 InstallContribNbextensionsApp] Up to date: C:\\ProgramData\\jupyter\\nbextensions\\code_prettify\\isort.yaml\n",
      "[I 11:52:07 InstallContribNbextensionsApp] Up to date: C:\\ProgramData\\jupyter\\nbextensions\\code_prettify\\kernel_exec_on_cell.js\n",
      "[I 11:52:07 InstallContribNbextensionsApp] Up to date: C:\\ProgramData\\jupyter\\nbextensions\\code_prettify\\README.md\n",
      "[I 11:52:07 InstallContribNbextensionsApp] Up to date: C:\\ProgramData\\jupyter\\nbextensions\\code_prettify\\README_2to3.md\n",
      "[I 11:52:07 InstallContribNbextensionsApp] Up to date: C:\\ProgramData\\jupyter\\nbextensions\\code_prettify\\README_autopep8.md\n",
      "[I 11:52:07 InstallContribNbextensionsApp] Up to date: C:\\ProgramData\\jupyter\\nbextensions\\code_prettify\\README_code_prettify.md\n",
      "[I 11:52:07 InstallContribNbextensionsApp] Up to date: C:\\ProgramData\\jupyter\\nbextensions\\code_prettify\\README_isort.md\n",
      "[I 11:52:07 InstallContribNbextensionsApp] - Validating: ok\n",
      "[I 11:52:07 InstallContribNbextensionsApp] Installing C:\\Users\\shshin\\anaconda3\\envs\\data\\lib\\site-packages\\jupyter_contrib_nbextensions\\nbextensions\\code_prettify -> code_prettify\n",
      "[I 11:52:07 InstallContribNbextensionsApp] Up to date: C:\\ProgramData\\jupyter\\nbextensions\\code_prettify\\2to3.js\n",
      "[I 11:52:07 InstallContribNbextensionsApp] Up to date: C:\\ProgramData\\jupyter\\nbextensions\\code_prettify\\2to3.yaml\n",
      "[I 11:52:07 InstallContribNbextensionsApp] Up to date: C:\\ProgramData\\jupyter\\nbextensions\\code_prettify\\autopep8.js\n",
      "[I 11:52:07 InstallContribNbextensionsApp] Up to date: C:\\ProgramData\\jupyter\\nbextensions\\code_prettify\\autopep8.yaml\n",
      "[I 11:52:07 InstallContribNbextensionsApp] Up to date: C:\\ProgramData\\jupyter\\nbextensions\\code_prettify\\code_prettify.js\n",
      "[I 11:52:07 InstallContribNbextensionsApp] Up to date: C:\\ProgramData\\jupyter\\nbextensions\\code_prettify\\code_prettify.yaml\n",
      "[I 11:52:07 InstallContribNbextensionsApp] Up to date: C:\\ProgramData\\jupyter\\nbextensions\\code_prettify\\demo-jv.gif\n",
      "[I 11:52:07 InstallContribNbextensionsApp] Up to date: C:\\ProgramData\\jupyter\\nbextensions\\code_prettify\\demo-py.gif\n",
      "[I 11:52:07 InstallContribNbextensionsApp] Up to date: C:\\ProgramData\\jupyter\\nbextensions\\code_prettify\\demo-R.gif\n",
      "[I 11:52:07 InstallContribNbextensionsApp] Up to date: C:\\ProgramData\\jupyter\\nbextensions\\code_prettify\\demo_2to3.gif\n",
      "[I 11:52:07 InstallContribNbextensionsApp] Up to date: C:\\ProgramData\\jupyter\\nbextensions\\code_prettify\\isort.js\n",
      "[I 11:52:07 InstallContribNbextensionsApp] Up to date: C:\\ProgramData\\jupyter\\nbextensions\\code_prettify\\isort.yaml\n",
      "[I 11:52:07 InstallContribNbextensionsApp] Up to date: C:\\ProgramData\\jupyter\\nbextensions\\code_prettify\\kernel_exec_on_cell.js\n",
      "[I 11:52:07 InstallContribNbextensionsApp] Up to date: C:\\ProgramData\\jupyter\\nbextensions\\code_prettify\\README.md\n",
      "[I 11:52:07 InstallContribNbextensionsApp] Up to date: C:\\ProgramData\\jupyter\\nbextensions\\code_prettify\\README_2to3.md\n",
      "[I 11:52:07 InstallContribNbextensionsApp] Up to date: C:\\ProgramData\\jupyter\\nbextensions\\code_prettify\\README_autopep8.md\n",
      "[I 11:52:07 InstallContribNbextensionsApp] Up to date: C:\\ProgramData\\jupyter\\nbextensions\\code_prettify\\README_code_prettify.md\n",
      "[I 11:52:07 InstallContribNbextensionsApp] Up to date: C:\\ProgramData\\jupyter\\nbextensions\\code_prettify\\README_isort.md\n",
      "[I 11:52:07 InstallContribNbextensionsApp] - Validating: ok\n",
      "[I 11:52:07 InstallContribNbextensionsApp] Installing C:\\Users\\shshin\\anaconda3\\envs\\data\\lib\\site-packages\\jupyter_contrib_nbextensions\\nbextensions\\code_prettify -> code_prettify\n",
      "[I 11:52:07 InstallContribNbextensionsApp] Up to date: C:\\ProgramData\\jupyter\\nbextensions\\code_prettify\\2to3.js\n",
      "[I 11:52:07 InstallContribNbextensionsApp] Up to date: C:\\ProgramData\\jupyter\\nbextensions\\code_prettify\\2to3.yaml\n",
      "[I 11:52:07 InstallContribNbextensionsApp] Up to date: C:\\ProgramData\\jupyter\\nbextensions\\code_prettify\\autopep8.js\n",
      "[I 11:52:07 InstallContribNbextensionsApp] Up to date: C:\\ProgramData\\jupyter\\nbextensions\\code_prettify\\autopep8.yaml\n",
      "[I 11:52:07 InstallContribNbextensionsApp] Up to date: C:\\ProgramData\\jupyter\\nbextensions\\code_prettify\\code_prettify.js\n",
      "[I 11:52:07 InstallContribNbextensionsApp] Up to date: C:\\ProgramData\\jupyter\\nbextensions\\code_prettify\\code_prettify.yaml\n",
      "[I 11:52:07 InstallContribNbextensionsApp] Up to date: C:\\ProgramData\\jupyter\\nbextensions\\code_prettify\\demo-jv.gif\n",
      "[I 11:52:07 InstallContribNbextensionsApp] Up to date: C:\\ProgramData\\jupyter\\nbextensions\\code_prettify\\demo-py.gif\n",
      "[I 11:52:07 InstallContribNbextensionsApp] Up to date: C:\\ProgramData\\jupyter\\nbextensions\\code_prettify\\demo-R.gif\n",
      "[I 11:52:07 InstallContribNbextensionsApp] Up to date: C:\\ProgramData\\jupyter\\nbextensions\\code_prettify\\demo_2to3.gif\n",
      "[I 11:52:07 InstallContribNbextensionsApp] Up to date: C:\\ProgramData\\jupyter\\nbextensions\\code_prettify\\isort.js\n",
      "[I 11:52:07 InstallContribNbextensionsApp] Up to date: C:\\ProgramData\\jupyter\\nbextensions\\code_prettify\\isort.yaml\n",
      "[I 11:52:07 InstallContribNbextensionsApp] Up to date: C:\\ProgramData\\jupyter\\nbextensions\\code_prettify\\kernel_exec_on_cell.js\n",
      "[I 11:52:07 InstallContribNbextensionsApp] Up to date: C:\\ProgramData\\jupyter\\nbextensions\\code_prettify\\README.md\n",
      "[I 11:52:07 InstallContribNbextensionsApp] Up to date: C:\\ProgramData\\jupyter\\nbextensions\\code_prettify\\README_2to3.md\n",
      "[I 11:52:07 InstallContribNbextensionsApp] Up to date: C:\\ProgramData\\jupyter\\nbextensions\\code_prettify\\README_autopep8.md\n",
      "[I 11:52:07 InstallContribNbextensionsApp] Up to date: C:\\ProgramData\\jupyter\\nbextensions\\code_prettify\\README_code_prettify.md\n",
      "[I 11:52:07 InstallContribNbextensionsApp] Up to date: C:\\ProgramData\\jupyter\\nbextensions\\code_prettify\\README_isort.md\n",
      "[I 11:52:07 InstallContribNbextensionsApp] - Validating: ok\n",
      "[I 11:52:07 InstallContribNbextensionsApp] Installing C:\\Users\\shshin\\anaconda3\\envs\\data\\lib\\site-packages\\jupyter_contrib_nbextensions\\nbextensions\\collapsible_headings -> collapsible_headings\n",
      "[I 11:52:07 InstallContribNbextensionsApp] Making directory: C:\\ProgramData\\jupyter\\nbextensions\\collapsible_headings\\\n",
      "[I 11:52:07 InstallContribNbextensionsApp] Copying: C:\\Users\\shshin\\anaconda3\\envs\\data\\lib\\site-packages\\jupyter_contrib_nbextensions\\nbextensions\\collapsible_headings\\collapsible_headings.yaml -> C:\\ProgramData\\jupyter\\nbextensions\\collapsible_headings\\collapsible_headings.yaml\n",
      "[I 11:52:07 InstallContribNbextensionsApp] Copying: C:\\Users\\shshin\\anaconda3\\envs\\data\\lib\\site-packages\\jupyter_contrib_nbextensions\\nbextensions\\collapsible_headings\\icon.png -> C:\\ProgramData\\jupyter\\nbextensions\\collapsible_headings\\icon.png\n",
      "[I 11:52:07 InstallContribNbextensionsApp] Copying: C:\\Users\\shshin\\anaconda3\\envs\\data\\lib\\site-packages\\jupyter_contrib_nbextensions\\nbextensions\\collapsible_headings\\main.css -> C:\\ProgramData\\jupyter\\nbextensions\\collapsible_headings\\main.css\n",
      "[I 11:52:07 InstallContribNbextensionsApp] Copying: C:\\Users\\shshin\\anaconda3\\envs\\data\\lib\\site-packages\\jupyter_contrib_nbextensions\\nbextensions\\collapsible_headings\\main.js -> C:\\ProgramData\\jupyter\\nbextensions\\collapsible_headings\\main.js\n",
      "[I 11:52:07 InstallContribNbextensionsApp] Copying: C:\\Users\\shshin\\anaconda3\\envs\\data\\lib\\site-packages\\jupyter_contrib_nbextensions\\nbextensions\\collapsible_headings\\readme.md -> C:\\ProgramData\\jupyter\\nbextensions\\collapsible_headings\\readme.md\n",
      "[I 11:52:07 InstallContribNbextensionsApp] Copying: C:\\Users\\shshin\\anaconda3\\envs\\data\\lib\\site-packages\\jupyter_contrib_nbextensions\\nbextensions\\collapsible_headings\\screenshot.png -> C:\\ProgramData\\jupyter\\nbextensions\\collapsible_headings\\screenshot.png\n",
      "[I 11:52:07 InstallContribNbextensionsApp] - Validating: ok\n",
      "[I 11:52:07 InstallContribNbextensionsApp] Installing C:\\Users\\shshin\\anaconda3\\envs\\data\\lib\\site-packages\\jupyter_contrib_nbextensions\\nbextensions\\comment-uncomment -> comment-uncomment\n",
      "[I 11:52:07 InstallContribNbextensionsApp] Making directory: C:\\ProgramData\\jupyter\\nbextensions\\comment-uncomment\\\n",
      "[I 11:52:07 InstallContribNbextensionsApp] Copying: C:\\Users\\shshin\\anaconda3\\envs\\data\\lib\\site-packages\\jupyter_contrib_nbextensions\\nbextensions\\comment-uncomment\\comment-uncomment.yaml -> C:\\ProgramData\\jupyter\\nbextensions\\comment-uncomment\\comment-uncomment.yaml\n",
      "[I 11:52:07 InstallContribNbextensionsApp] Copying: C:\\Users\\shshin\\anaconda3\\envs\\data\\lib\\site-packages\\jupyter_contrib_nbextensions\\nbextensions\\comment-uncomment\\icon.png -> C:\\ProgramData\\jupyter\\nbextensions\\comment-uncomment\\icon.png\n",
      "[I 11:52:07 InstallContribNbextensionsApp] Copying: C:\\Users\\shshin\\anaconda3\\envs\\data\\lib\\site-packages\\jupyter_contrib_nbextensions\\nbextensions\\comment-uncomment\\main.js -> C:\\ProgramData\\jupyter\\nbextensions\\comment-uncomment\\main.js\n",
      "[I 11:52:07 InstallContribNbextensionsApp] Copying: C:\\Users\\shshin\\anaconda3\\envs\\data\\lib\\site-packages\\jupyter_contrib_nbextensions\\nbextensions\\comment-uncomment\\readme.md -> C:\\ProgramData\\jupyter\\nbextensions\\comment-uncomment\\readme.md\n",
      "[I 11:52:07 InstallContribNbextensionsApp] - Validating: ok\n",
      "[I 11:52:07 InstallContribNbextensionsApp] Installing C:\\Users\\shshin\\anaconda3\\envs\\data\\lib\\site-packages\\jupyter_contrib_nbextensions\\nbextensions\\contrib_nbextensions_help_item -> contrib_nbextensions_help_item\n",
      "[I 11:52:07 InstallContribNbextensionsApp] Making directory: C:\\ProgramData\\jupyter\\nbextensions\\contrib_nbextensions_help_item\\\n",
      "[I 11:52:07 InstallContribNbextensionsApp] Copying: C:\\Users\\shshin\\anaconda3\\envs\\data\\lib\\site-packages\\jupyter_contrib_nbextensions\\nbextensions\\contrib_nbextensions_help_item\\contrib_nbextensions_help_item.yaml -> C:\\ProgramData\\jupyter\\nbextensions\\contrib_nbextensions_help_item\\contrib_nbextensions_help_item.yaml\n",
      "[I 11:52:07 InstallContribNbextensionsApp] Copying: C:\\Users\\shshin\\anaconda3\\envs\\data\\lib\\site-packages\\jupyter_contrib_nbextensions\\nbextensions\\contrib_nbextensions_help_item\\main.js -> C:\\ProgramData\\jupyter\\nbextensions\\contrib_nbextensions_help_item\\main.js\n",
      "[I 11:52:07 InstallContribNbextensionsApp] Copying: C:\\Users\\shshin\\anaconda3\\envs\\data\\lib\\site-packages\\jupyter_contrib_nbextensions\\nbextensions\\contrib_nbextensions_help_item\\README.md -> C:\\ProgramData\\jupyter\\nbextensions\\contrib_nbextensions_help_item\\README.md\n",
      "[I 11:52:07 InstallContribNbextensionsApp] - Validating: ok\n",
      "[I 11:52:07 InstallContribNbextensionsApp] Installing C:\\Users\\shshin\\anaconda3\\envs\\data\\lib\\site-packages\\jupyter_contrib_nbextensions\\nbextensions\\datestamper -> datestamper\n",
      "[I 11:52:07 InstallContribNbextensionsApp] Making directory: C:\\ProgramData\\jupyter\\nbextensions\\datestamper\\\n",
      "[I 11:52:07 InstallContribNbextensionsApp] Copying: C:\\Users\\shshin\\anaconda3\\envs\\data\\lib\\site-packages\\jupyter_contrib_nbextensions\\nbextensions\\datestamper\\icon.png -> C:\\ProgramData\\jupyter\\nbextensions\\datestamper\\icon.png\n",
      "[I 11:52:07 InstallContribNbextensionsApp] Copying: C:\\Users\\shshin\\anaconda3\\envs\\data\\lib\\site-packages\\jupyter_contrib_nbextensions\\nbextensions\\datestamper\\main.js -> C:\\ProgramData\\jupyter\\nbextensions\\datestamper\\main.js\n",
      "[I 11:52:07 InstallContribNbextensionsApp] Copying: C:\\Users\\shshin\\anaconda3\\envs\\data\\lib\\site-packages\\jupyter_contrib_nbextensions\\nbextensions\\datestamper\\main.yaml -> C:\\ProgramData\\jupyter\\nbextensions\\datestamper\\main.yaml\n",
      "[I 11:52:07 InstallContribNbextensionsApp] Copying: C:\\Users\\shshin\\anaconda3\\envs\\data\\lib\\site-packages\\jupyter_contrib_nbextensions\\nbextensions\\datestamper\\readme.md -> C:\\ProgramData\\jupyter\\nbextensions\\datestamper\\readme.md\n",
      "[I 11:52:07 InstallContribNbextensionsApp] - Validating: ok\n",
      "[I 11:52:07 InstallContribNbextensionsApp] Installing C:\\Users\\shshin\\anaconda3\\envs\\data\\lib\\site-packages\\jupyter_contrib_nbextensions\\nbextensions\\equation-numbering -> equation-numbering\n",
      "[I 11:52:07 InstallContribNbextensionsApp] Making directory: C:\\ProgramData\\jupyter\\nbextensions\\equation-numbering\\\n",
      "[I 11:52:07 InstallContribNbextensionsApp] Copying: C:\\Users\\shshin\\anaconda3\\envs\\data\\lib\\site-packages\\jupyter_contrib_nbextensions\\nbextensions\\equation-numbering\\button.png -> C:\\ProgramData\\jupyter\\nbextensions\\equation-numbering\\button.png\n",
      "[I 11:52:07 InstallContribNbextensionsApp] Copying: C:\\Users\\shshin\\anaconda3\\envs\\data\\lib\\site-packages\\jupyter_contrib_nbextensions\\nbextensions\\equation-numbering\\icon.png -> C:\\ProgramData\\jupyter\\nbextensions\\equation-numbering\\icon.png\n",
      "[I 11:52:07 InstallContribNbextensionsApp] Copying: C:\\Users\\shshin\\anaconda3\\envs\\data\\lib\\site-packages\\jupyter_contrib_nbextensions\\nbextensions\\equation-numbering\\info.yaml -> C:\\ProgramData\\jupyter\\nbextensions\\equation-numbering\\info.yaml\n",
      "[I 11:52:07 InstallContribNbextensionsApp] Copying: C:\\Users\\shshin\\anaconda3\\envs\\data\\lib\\site-packages\\jupyter_contrib_nbextensions\\nbextensions\\equation-numbering\\main.js -> C:\\ProgramData\\jupyter\\nbextensions\\equation-numbering\\main.js\n",
      "[I 11:52:07 InstallContribNbextensionsApp] Copying: C:\\Users\\shshin\\anaconda3\\envs\\data\\lib\\site-packages\\jupyter_contrib_nbextensions\\nbextensions\\equation-numbering\\readme.md -> C:\\ProgramData\\jupyter\\nbextensions\\equation-numbering\\readme.md\n",
      "[I 11:52:07 InstallContribNbextensionsApp] - Validating: ok\n",
      "[I 11:52:07 InstallContribNbextensionsApp] Installing C:\\Users\\shshin\\anaconda3\\envs\\data\\lib\\site-packages\\jupyter_contrib_nbextensions\\nbextensions\\execute_time -> execute_time\n",
      "[I 11:52:07 InstallContribNbextensionsApp] Making directory: C:\\ProgramData\\jupyter\\nbextensions\\execute_time\\\n",
      "[I 11:52:07 InstallContribNbextensionsApp] Copying: C:\\Users\\shshin\\anaconda3\\envs\\data\\lib\\site-packages\\jupyter_contrib_nbextensions\\nbextensions\\execute_time\\ExecuteTime.css -> C:\\ProgramData\\jupyter\\nbextensions\\execute_time\\ExecuteTime.css\n",
      "[I 11:52:07 InstallContribNbextensionsApp] Copying: C:\\Users\\shshin\\anaconda3\\envs\\data\\lib\\site-packages\\jupyter_contrib_nbextensions\\nbextensions\\execute_time\\ExecuteTime.js -> C:\\ProgramData\\jupyter\\nbextensions\\execute_time\\ExecuteTime.js\n",
      "[I 11:52:07 InstallContribNbextensionsApp] Copying: C:\\Users\\shshin\\anaconda3\\envs\\data\\lib\\site-packages\\jupyter_contrib_nbextensions\\nbextensions\\execute_time\\ExecuteTime.yaml -> C:\\ProgramData\\jupyter\\nbextensions\\execute_time\\ExecuteTime.yaml\n",
      "[I 11:52:07 InstallContribNbextensionsApp] Copying: C:\\Users\\shshin\\anaconda3\\envs\\data\\lib\\site-packages\\jupyter_contrib_nbextensions\\nbextensions\\execute_time\\execution-timings-box.png -> C:\\ProgramData\\jupyter\\nbextensions\\execute_time\\execution-timings-box.png\n",
      "[I 11:52:07 InstallContribNbextensionsApp] Copying: C:\\Users\\shshin\\anaconda3\\envs\\data\\lib\\site-packages\\jupyter_contrib_nbextensions\\nbextensions\\execute_time\\execution-timings-menu.png -> C:\\ProgramData\\jupyter\\nbextensions\\execute_time\\execution-timings-menu.png\n",
      "[I 11:52:07 InstallContribNbextensionsApp] Copying: C:\\Users\\shshin\\anaconda3\\envs\\data\\lib\\site-packages\\jupyter_contrib_nbextensions\\nbextensions\\execute_time\\icon.png -> C:\\ProgramData\\jupyter\\nbextensions\\execute_time\\icon.png\n",
      "[I 11:52:07 InstallContribNbextensionsApp] Copying: C:\\Users\\shshin\\anaconda3\\envs\\data\\lib\\site-packages\\jupyter_contrib_nbextensions\\nbextensions\\execute_time\\readme.md -> C:\\ProgramData\\jupyter\\nbextensions\\execute_time\\readme.md\n",
      "[I 11:52:07 InstallContribNbextensionsApp] - Validating: ok\n",
      "[I 11:52:07 InstallContribNbextensionsApp] Installing C:\\Users\\shshin\\anaconda3\\envs\\data\\lib\\site-packages\\jupyter_contrib_nbextensions\\nbextensions\\execution_dependencies -> execution_dependencies\n",
      "[I 11:52:07 InstallContribNbextensionsApp] Making directory: C:\\ProgramData\\jupyter\\nbextensions\\execution_dependencies\\\n",
      "[I 11:52:07 InstallContribNbextensionsApp] Copying: C:\\Users\\shshin\\anaconda3\\envs\\data\\lib\\site-packages\\jupyter_contrib_nbextensions\\nbextensions\\execution_dependencies\\execution_dependencies.js -> C:\\ProgramData\\jupyter\\nbextensions\\execution_dependencies\\execution_dependencies.js\n",
      "[I 11:52:07 InstallContribNbextensionsApp] Copying: C:\\Users\\shshin\\anaconda3\\envs\\data\\lib\\site-packages\\jupyter_contrib_nbextensions\\nbextensions\\execution_dependencies\\execution_dependencies.yml -> C:\\ProgramData\\jupyter\\nbextensions\\execution_dependencies\\execution_dependencies.yml\n",
      "[I 11:52:07 InstallContribNbextensionsApp] Copying: C:\\Users\\shshin\\anaconda3\\envs\\data\\lib\\site-packages\\jupyter_contrib_nbextensions\\nbextensions\\execution_dependencies\\README.md -> C:\\ProgramData\\jupyter\\nbextensions\\execution_dependencies\\README.md\n",
      "[I 11:52:07 InstallContribNbextensionsApp] - Validating: ok\n",
      "[I 11:52:07 InstallContribNbextensionsApp] Installing C:\\Users\\shshin\\anaconda3\\envs\\data\\lib\\site-packages\\jupyter_contrib_nbextensions\\nbextensions\\exercise -> exercise\n",
      "[I 11:52:07 InstallContribNbextensionsApp] Making directory: C:\\ProgramData\\jupyter\\nbextensions\\exercise\\\n",
      "[I 11:52:07 InstallContribNbextensionsApp] Copying: C:\\Users\\shshin\\anaconda3\\envs\\data\\lib\\site-packages\\jupyter_contrib_nbextensions\\nbextensions\\exercise\\exercise.yaml -> C:\\ProgramData\\jupyter\\nbextensions\\exercise\\exercise.yaml\n",
      "[I 11:52:07 InstallContribNbextensionsApp] Copying: C:\\Users\\shshin\\anaconda3\\envs\\data\\lib\\site-packages\\jupyter_contrib_nbextensions\\nbextensions\\exercise\\history.md -> C:\\ProgramData\\jupyter\\nbextensions\\exercise\\history.md\n",
      "[I 11:52:07 InstallContribNbextensionsApp] Copying: C:\\Users\\shshin\\anaconda3\\envs\\data\\lib\\site-packages\\jupyter_contrib_nbextensions\\nbextensions\\exercise\\icon.png -> C:\\ProgramData\\jupyter\\nbextensions\\exercise\\icon.png\n",
      "[I 11:52:07 InstallContribNbextensionsApp] Copying: C:\\Users\\shshin\\anaconda3\\envs\\data\\lib\\site-packages\\jupyter_contrib_nbextensions\\nbextensions\\exercise\\image.gif -> C:\\ProgramData\\jupyter\\nbextensions\\exercise\\image.gif\n",
      "[I 11:52:07 InstallContribNbextensionsApp] Copying: C:\\Users\\shshin\\anaconda3\\envs\\data\\lib\\site-packages\\jupyter_contrib_nbextensions\\nbextensions\\exercise\\main.css -> C:\\ProgramData\\jupyter\\nbextensions\\exercise\\main.css\n",
      "[I 11:52:07 InstallContribNbextensionsApp] Copying: C:\\Users\\shshin\\anaconda3\\envs\\data\\lib\\site-packages\\jupyter_contrib_nbextensions\\nbextensions\\exercise\\main.js -> C:\\ProgramData\\jupyter\\nbextensions\\exercise\\main.js\n",
      "[I 11:52:07 InstallContribNbextensionsApp] Copying: C:\\Users\\shshin\\anaconda3\\envs\\data\\lib\\site-packages\\jupyter_contrib_nbextensions\\nbextensions\\exercise\\readme.md -> C:\\ProgramData\\jupyter\\nbextensions\\exercise\\readme.md\n",
      "[I 11:52:07 InstallContribNbextensionsApp] - Validating: ok\n",
      "[I 11:52:07 InstallContribNbextensionsApp] Installing C:\\Users\\shshin\\anaconda3\\envs\\data\\lib\\site-packages\\jupyter_contrib_nbextensions\\nbextensions\\exercise2 -> exercise2\n",
      "[I 11:52:07 InstallContribNbextensionsApp] Making directory: C:\\ProgramData\\jupyter\\nbextensions\\exercise2\\\n",
      "[I 11:52:07 InstallContribNbextensionsApp] Copying: C:\\Users\\shshin\\anaconda3\\envs\\data\\lib\\site-packages\\jupyter_contrib_nbextensions\\nbextensions\\exercise2\\exercise2.yaml -> C:\\ProgramData\\jupyter\\nbextensions\\exercise2\\exercise2.yaml\n",
      "[I 11:52:07 InstallContribNbextensionsApp] Copying: C:\\Users\\shshin\\anaconda3\\envs\\data\\lib\\site-packages\\jupyter_contrib_nbextensions\\nbextensions\\exercise2\\icon.png -> C:\\ProgramData\\jupyter\\nbextensions\\exercise2\\icon.png\n",
      "[I 11:52:07 InstallContribNbextensionsApp] Copying: C:\\Users\\shshin\\anaconda3\\envs\\data\\lib\\site-packages\\jupyter_contrib_nbextensions\\nbextensions\\exercise2\\image.gif -> C:\\ProgramData\\jupyter\\nbextensions\\exercise2\\image.gif\n",
      "[I 11:52:07 InstallContribNbextensionsApp] Copying: C:\\Users\\shshin\\anaconda3\\envs\\data\\lib\\site-packages\\jupyter_contrib_nbextensions\\nbextensions\\exercise2\\main.css -> C:\\ProgramData\\jupyter\\nbextensions\\exercise2\\main.css\n",
      "[I 11:52:07 InstallContribNbextensionsApp] Copying: C:\\Users\\shshin\\anaconda3\\envs\\data\\lib\\site-packages\\jupyter_contrib_nbextensions\\nbextensions\\exercise2\\main.js -> C:\\ProgramData\\jupyter\\nbextensions\\exercise2\\main.js\n",
      "[I 11:52:07 InstallContribNbextensionsApp] Copying: C:\\Users\\shshin\\anaconda3\\envs\\data\\lib\\site-packages\\jupyter_contrib_nbextensions\\nbextensions\\exercise2\\readme.md -> C:\\ProgramData\\jupyter\\nbextensions\\exercise2\\readme.md\n",
      "[I 11:52:07 InstallContribNbextensionsApp] - Validating: ok\n",
      "[I 11:52:07 InstallContribNbextensionsApp] Installing C:\\Users\\shshin\\anaconda3\\envs\\data\\lib\\site-packages\\jupyter_contrib_nbextensions\\nbextensions\\export_embedded -> export_embedded\n",
      "[I 11:52:07 InstallContribNbextensionsApp] Making directory: C:\\ProgramData\\jupyter\\nbextensions\\export_embedded\\\n",
      "[I 11:52:07 InstallContribNbextensionsApp] Copying: C:\\Users\\shshin\\anaconda3\\envs\\data\\lib\\site-packages\\jupyter_contrib_nbextensions\\nbextensions\\export_embedded\\export_embedded.yaml -> C:\\ProgramData\\jupyter\\nbextensions\\export_embedded\\export_embedded.yaml\n",
      "[I 11:52:07 InstallContribNbextensionsApp] Copying: C:\\Users\\shshin\\anaconda3\\envs\\data\\lib\\site-packages\\jupyter_contrib_nbextensions\\nbextensions\\export_embedded\\icon.png -> C:\\ProgramData\\jupyter\\nbextensions\\export_embedded\\icon.png\n",
      "[I 11:52:07 InstallContribNbextensionsApp] Copying: C:\\Users\\shshin\\anaconda3\\envs\\data\\lib\\site-packages\\jupyter_contrib_nbextensions\\nbextensions\\export_embedded\\main.js -> C:\\ProgramData\\jupyter\\nbextensions\\export_embedded\\main.js\n",
      "[I 11:52:07 InstallContribNbextensionsApp] Copying: C:\\Users\\shshin\\anaconda3\\envs\\data\\lib\\site-packages\\jupyter_contrib_nbextensions\\nbextensions\\export_embedded\\readme.md -> C:\\ProgramData\\jupyter\\nbextensions\\export_embedded\\readme.md\n",
      "[I 11:52:07 InstallContribNbextensionsApp] - Validating: ok\n",
      "[I 11:52:07 InstallContribNbextensionsApp] Installing C:\\Users\\shshin\\anaconda3\\envs\\data\\lib\\site-packages\\jupyter_contrib_nbextensions\\nbextensions\\freeze -> freeze\n",
      "[I 11:52:07 InstallContribNbextensionsApp] Making directory: C:\\ProgramData\\jupyter\\nbextensions\\freeze\\\n",
      "[I 11:52:07 InstallContribNbextensionsApp] Copying: C:\\Users\\shshin\\anaconda3\\envs\\data\\lib\\site-packages\\jupyter_contrib_nbextensions\\nbextensions\\freeze\\config.yaml -> C:\\ProgramData\\jupyter\\nbextensions\\freeze\\config.yaml\n",
      "[I 11:52:07 InstallContribNbextensionsApp] Copying: C:\\Users\\shshin\\anaconda3\\envs\\data\\lib\\site-packages\\jupyter_contrib_nbextensions\\nbextensions\\freeze\\icon.png -> C:\\ProgramData\\jupyter\\nbextensions\\freeze\\icon.png\n",
      "[I 11:52:07 InstallContribNbextensionsApp] Copying: C:\\Users\\shshin\\anaconda3\\envs\\data\\lib\\site-packages\\jupyter_contrib_nbextensions\\nbextensions\\freeze\\main.js -> C:\\ProgramData\\jupyter\\nbextensions\\freeze\\main.js\n",
      "[I 11:52:07 InstallContribNbextensionsApp] Copying: C:\\Users\\shshin\\anaconda3\\envs\\data\\lib\\site-packages\\jupyter_contrib_nbextensions\\nbextensions\\freeze\\readme.md -> C:\\ProgramData\\jupyter\\nbextensions\\freeze\\readme.md\n",
      "[I 11:52:07 InstallContribNbextensionsApp] - Validating: ok\n",
      "[I 11:52:07 InstallContribNbextensionsApp] Installing C:\\Users\\shshin\\anaconda3\\envs\\data\\lib\\site-packages\\jupyter_contrib_nbextensions\\nbextensions\\gist_it -> gist_it\n",
      "[I 11:52:07 InstallContribNbextensionsApp] Making directory: C:\\ProgramData\\jupyter\\nbextensions\\gist_it\\\n",
      "[I 11:52:07 InstallContribNbextensionsApp] Copying: C:\\Users\\shshin\\anaconda3\\envs\\data\\lib\\site-packages\\jupyter_contrib_nbextensions\\nbextensions\\gist_it\\gist_it.yaml -> C:\\ProgramData\\jupyter\\nbextensions\\gist_it\\gist_it.yaml\n",
      "[I 11:52:07 InstallContribNbextensionsApp] Copying: C:\\Users\\shshin\\anaconda3\\envs\\data\\lib\\site-packages\\jupyter_contrib_nbextensions\\nbextensions\\gist_it\\icon.png -> C:\\ProgramData\\jupyter\\nbextensions\\gist_it\\icon.png\n",
      "[I 11:52:07 InstallContribNbextensionsApp] Copying: C:\\Users\\shshin\\anaconda3\\envs\\data\\lib\\site-packages\\jupyter_contrib_nbextensions\\nbextensions\\gist_it\\main.js -> C:\\ProgramData\\jupyter\\nbextensions\\gist_it\\main.js\n",
      "[I 11:52:07 InstallContribNbextensionsApp] Copying: C:\\Users\\shshin\\anaconda3\\envs\\data\\lib\\site-packages\\jupyter_contrib_nbextensions\\nbextensions\\gist_it\\readme.md -> C:\\ProgramData\\jupyter\\nbextensions\\gist_it\\readme.md\n",
      "[I 11:52:07 InstallContribNbextensionsApp] - Validating: ok\n",
      "[I 11:52:07 InstallContribNbextensionsApp] Installing C:\\Users\\shshin\\anaconda3\\envs\\data\\lib\\site-packages\\jupyter_contrib_nbextensions\\nbextensions\\go_to_current_running_cell -> go_to_current_running_cell\n",
      "[I 11:52:07 InstallContribNbextensionsApp] Making directory: C:\\ProgramData\\jupyter\\nbextensions\\go_to_current_running_cell\\\n",
      "[I 11:52:07 InstallContribNbextensionsApp] Copying: C:\\Users\\shshin\\anaconda3\\envs\\data\\lib\\site-packages\\jupyter_contrib_nbextensions\\nbextensions\\go_to_current_running_cell\\anchor.png -> C:\\ProgramData\\jupyter\\nbextensions\\go_to_current_running_cell\\anchor.png\n",
      "[I 11:52:07 InstallContribNbextensionsApp] Copying: C:\\Users\\shshin\\anaconda3\\envs\\data\\lib\\site-packages\\jupyter_contrib_nbextensions\\nbextensions\\go_to_current_running_cell\\auto_focus.gif -> C:\\ProgramData\\jupyter\\nbextensions\\go_to_current_running_cell\\auto_focus.gif\n",
      "[I 11:52:07 InstallContribNbextensionsApp] Copying: C:\\Users\\shshin\\anaconda3\\envs\\data\\lib\\site-packages\\jupyter_contrib_nbextensions\\nbextensions\\go_to_current_running_cell\\eye.png -> C:\\ProgramData\\jupyter\\nbextensions\\go_to_current_running_cell\\eye.png\n",
      "[I 11:52:07 InstallContribNbextensionsApp] Copying: C:\\Users\\shshin\\anaconda3\\envs\\data\\lib\\site-packages\\jupyter_contrib_nbextensions\\nbextensions\\go_to_current_running_cell\\go_to_current_running_cell.yaml -> C:\\ProgramData\\jupyter\\nbextensions\\go_to_current_running_cell\\go_to_current_running_cell.yaml\n",
      "[I 11:52:07 InstallContribNbextensionsApp] Copying: C:\\Users\\shshin\\anaconda3\\envs\\data\\lib\\site-packages\\jupyter_contrib_nbextensions\\nbextensions\\go_to_current_running_cell\\jump_to_cell.gif -> C:\\ProgramData\\jupyter\\nbextensions\\go_to_current_running_cell\\jump_to_cell.gif\n",
      "[I 11:52:07 InstallContribNbextensionsApp] Copying: C:\\Users\\shshin\\anaconda3\\envs\\data\\lib\\site-packages\\jupyter_contrib_nbextensions\\nbextensions\\go_to_current_running_cell\\main.js -> C:\\ProgramData\\jupyter\\nbextensions\\go_to_current_running_cell\\main.js\n",
      "[I 11:52:07 InstallContribNbextensionsApp] Copying: C:\\Users\\shshin\\anaconda3\\envs\\data\\lib\\site-packages\\jupyter_contrib_nbextensions\\nbextensions\\go_to_current_running_cell\\README.md -> C:\\ProgramData\\jupyter\\nbextensions\\go_to_current_running_cell\\README.md\n",
      "[I 11:52:07 InstallContribNbextensionsApp] - Validating: ok\n",
      "[I 11:52:07 InstallContribNbextensionsApp] Installing C:\\Users\\shshin\\anaconda3\\envs\\data\\lib\\site-packages\\jupyter_contrib_nbextensions\\nbextensions\\help_panel -> help_panel\n",
      "[I 11:52:07 InstallContribNbextensionsApp] Making directory: C:\\ProgramData\\jupyter\\nbextensions\\help_panel\\\n",
      "[I 11:52:07 InstallContribNbextensionsApp] Copying: C:\\Users\\shshin\\anaconda3\\envs\\data\\lib\\site-packages\\jupyter_contrib_nbextensions\\nbextensions\\help_panel\\help_panel.css -> C:\\ProgramData\\jupyter\\nbextensions\\help_panel\\help_panel.css\n",
      "[I 11:52:07 InstallContribNbextensionsApp] Copying: C:\\Users\\shshin\\anaconda3\\envs\\data\\lib\\site-packages\\jupyter_contrib_nbextensions\\nbextensions\\help_panel\\help_panel.js -> C:\\ProgramData\\jupyter\\nbextensions\\help_panel\\help_panel.js\n",
      "[I 11:52:07 InstallContribNbextensionsApp] Copying: C:\\Users\\shshin\\anaconda3\\envs\\data\\lib\\site-packages\\jupyter_contrib_nbextensions\\nbextensions\\help_panel\\help_panel.yaml -> C:\\ProgramData\\jupyter\\nbextensions\\help_panel\\help_panel.yaml\n",
      "[I 11:52:07 InstallContribNbextensionsApp] Copying: C:\\Users\\shshin\\anaconda3\\envs\\data\\lib\\site-packages\\jupyter_contrib_nbextensions\\nbextensions\\help_panel\\help_panel_ext.png -> C:\\ProgramData\\jupyter\\nbextensions\\help_panel\\help_panel_ext.png\n",
      "[I 11:52:07 InstallContribNbextensionsApp] Copying: C:\\Users\\shshin\\anaconda3\\envs\\data\\lib\\site-packages\\jupyter_contrib_nbextensions\\nbextensions\\help_panel\\help_panel_ext_fullscreen.png -> C:\\ProgramData\\jupyter\\nbextensions\\help_panel\\help_panel_ext_fullscreen.png\n",
      "[I 11:52:07 InstallContribNbextensionsApp] Copying: C:\\Users\\shshin\\anaconda3\\envs\\data\\lib\\site-packages\\jupyter_contrib_nbextensions\\nbextensions\\help_panel\\icon.png -> C:\\ProgramData\\jupyter\\nbextensions\\help_panel\\icon.png\n",
      "[I 11:52:07 InstallContribNbextensionsApp] Copying: C:\\Users\\shshin\\anaconda3\\envs\\data\\lib\\site-packages\\jupyter_contrib_nbextensions\\nbextensions\\help_panel\\readme.md -> C:\\ProgramData\\jupyter\\nbextensions\\help_panel\\readme.md\n",
      "[I 11:52:07 InstallContribNbextensionsApp] Making directory: C:\\ProgramData\\jupyter\\nbextensions\\help_panel\\img\n",
      "[I 11:52:07 InstallContribNbextensionsApp] Copying: C:\\Users\\shshin\\anaconda3\\envs\\data\\lib\\site-packages\\jupyter_contrib_nbextensions\\nbextensions\\help_panel\\img\\handle-v.png -> C:\\ProgramData\\jupyter\\nbextensions\\help_panel\\img\\handle-v.png\n",
      "[I 11:52:07 InstallContribNbextensionsApp] - Validating: ok\n",
      "[I 11:52:07 InstallContribNbextensionsApp] Installing C:\\Users\\shshin\\anaconda3\\envs\\data\\lib\\site-packages\\jupyter_contrib_nbextensions\\nbextensions\\hide_header -> hide_header\n",
      "[I 11:52:07 InstallContribNbextensionsApp] Making directory: C:\\ProgramData\\jupyter\\nbextensions\\hide_header\\\n",
      "[I 11:52:07 InstallContribNbextensionsApp] Copying: C:\\Users\\shshin\\anaconda3\\envs\\data\\lib\\site-packages\\jupyter_contrib_nbextensions\\nbextensions\\hide_header\\hide_header.yaml -> C:\\ProgramData\\jupyter\\nbextensions\\hide_header\\hide_header.yaml\n",
      "[I 11:52:07 InstallContribNbextensionsApp] Copying: C:\\Users\\shshin\\anaconda3\\envs\\data\\lib\\site-packages\\jupyter_contrib_nbextensions\\nbextensions\\hide_header\\main.js -> C:\\ProgramData\\jupyter\\nbextensions\\hide_header\\main.js\n",
      "[I 11:52:07 InstallContribNbextensionsApp] Copying: C:\\Users\\shshin\\anaconda3\\envs\\data\\lib\\site-packages\\jupyter_contrib_nbextensions\\nbextensions\\hide_header\\README.md -> C:\\ProgramData\\jupyter\\nbextensions\\hide_header\\README.md\n",
      "[I 11:52:07 InstallContribNbextensionsApp] - Validating: ok\n",
      "[I 11:52:07 InstallContribNbextensionsApp] Installing C:\\Users\\shshin\\anaconda3\\envs\\data\\lib\\site-packages\\jupyter_contrib_nbextensions\\nbextensions\\hide_input -> hide_input\n",
      "[I 11:52:07 InstallContribNbextensionsApp] Making directory: C:\\ProgramData\\jupyter\\nbextensions\\hide_input\\\n",
      "[I 11:52:07 InstallContribNbextensionsApp] Copying: C:\\Users\\shshin\\anaconda3\\envs\\data\\lib\\site-packages\\jupyter_contrib_nbextensions\\nbextensions\\hide_input\\hide-input.yaml -> C:\\ProgramData\\jupyter\\nbextensions\\hide_input\\hide-input.yaml\n",
      "[I 11:52:07 InstallContribNbextensionsApp] Copying: C:\\Users\\shshin\\anaconda3\\envs\\data\\lib\\site-packages\\jupyter_contrib_nbextensions\\nbextensions\\hide_input\\icon.png -> C:\\ProgramData\\jupyter\\nbextensions\\hide_input\\icon.png\n",
      "[I 11:52:07 InstallContribNbextensionsApp] Copying: C:\\Users\\shshin\\anaconda3\\envs\\data\\lib\\site-packages\\jupyter_contrib_nbextensions\\nbextensions\\hide_input\\main.js -> C:\\ProgramData\\jupyter\\nbextensions\\hide_input\\main.js\n",
      "[I 11:52:07 InstallContribNbextensionsApp] Copying: C:\\Users\\shshin\\anaconda3\\envs\\data\\lib\\site-packages\\jupyter_contrib_nbextensions\\nbextensions\\hide_input\\readme.md -> C:\\ProgramData\\jupyter\\nbextensions\\hide_input\\readme.md\n",
      "[I 11:52:07 InstallContribNbextensionsApp] - Validating: ok\n",
      "[I 11:52:07 InstallContribNbextensionsApp] Installing C:\\Users\\shshin\\anaconda3\\envs\\data\\lib\\site-packages\\jupyter_contrib_nbextensions\\nbextensions\\hide_input_all -> hide_input_all\n",
      "[I 11:52:07 InstallContribNbextensionsApp] Making directory: C:\\ProgramData\\jupyter\\nbextensions\\hide_input_all\\\n",
      "[I 11:52:07 InstallContribNbextensionsApp] Copying: C:\\Users\\shshin\\anaconda3\\envs\\data\\lib\\site-packages\\jupyter_contrib_nbextensions\\nbextensions\\hide_input_all\\hide_input_all.yaml -> C:\\ProgramData\\jupyter\\nbextensions\\hide_input_all\\hide_input_all.yaml\n",
      "[I 11:52:07 InstallContribNbextensionsApp] Copying: C:\\Users\\shshin\\anaconda3\\envs\\data\\lib\\site-packages\\jupyter_contrib_nbextensions\\nbextensions\\hide_input_all\\hide_input_all_hide.png -> C:\\ProgramData\\jupyter\\nbextensions\\hide_input_all\\hide_input_all_hide.png\n",
      "[I 11:52:07 InstallContribNbextensionsApp] Copying: C:\\Users\\shshin\\anaconda3\\envs\\data\\lib\\site-packages\\jupyter_contrib_nbextensions\\nbextensions\\hide_input_all\\hide_input_all_show.png -> C:\\ProgramData\\jupyter\\nbextensions\\hide_input_all\\hide_input_all_show.png\n",
      "[I 11:52:07 InstallContribNbextensionsApp] Copying: C:\\Users\\shshin\\anaconda3\\envs\\data\\lib\\site-packages\\jupyter_contrib_nbextensions\\nbextensions\\hide_input_all\\icon.png -> C:\\ProgramData\\jupyter\\nbextensions\\hide_input_all\\icon.png\n",
      "[I 11:52:07 InstallContribNbextensionsApp] Copying: C:\\Users\\shshin\\anaconda3\\envs\\data\\lib\\site-packages\\jupyter_contrib_nbextensions\\nbextensions\\hide_input_all\\main.js -> C:\\ProgramData\\jupyter\\nbextensions\\hide_input_all\\main.js\n",
      "[I 11:52:07 InstallContribNbextensionsApp] Copying: C:\\Users\\shshin\\anaconda3\\envs\\data\\lib\\site-packages\\jupyter_contrib_nbextensions\\nbextensions\\hide_input_all\\readme.md -> C:\\ProgramData\\jupyter\\nbextensions\\hide_input_all\\readme.md\n",
      "[I 11:52:07 InstallContribNbextensionsApp] - Validating: ok\n",
      "[I 11:52:07 InstallContribNbextensionsApp] Installing C:\\Users\\shshin\\anaconda3\\envs\\data\\lib\\site-packages\\jupyter_contrib_nbextensions\\nbextensions\\highlighter -> highlighter\n",
      "[I 11:52:07 InstallContribNbextensionsApp] Making directory: C:\\ProgramData\\jupyter\\nbextensions\\highlighter\\\n",
      "[I 11:52:07 InstallContribNbextensionsApp] Copying: C:\\Users\\shshin\\anaconda3\\envs\\data\\lib\\site-packages\\jupyter_contrib_nbextensions\\nbextensions\\highlighter\\demo_highlighter.html -> C:\\ProgramData\\jupyter\\nbextensions\\highlighter\\demo_highlighter.html\n",
      "[I 11:52:07 InstallContribNbextensionsApp] Copying: C:\\Users\\shshin\\anaconda3\\envs\\data\\lib\\site-packages\\jupyter_contrib_nbextensions\\nbextensions\\highlighter\\demo_highlighter.ipynb -> C:\\ProgramData\\jupyter\\nbextensions\\highlighter\\demo_highlighter.ipynb\n",
      "[I 11:52:07 InstallContribNbextensionsApp] Copying: C:\\Users\\shshin\\anaconda3\\envs\\data\\lib\\site-packages\\jupyter_contrib_nbextensions\\nbextensions\\highlighter\\export_highlights.html -> C:\\ProgramData\\jupyter\\nbextensions\\highlighter\\export_highlights.html\n",
      "[I 11:52:07 InstallContribNbextensionsApp] Copying: C:\\Users\\shshin\\anaconda3\\envs\\data\\lib\\site-packages\\jupyter_contrib_nbextensions\\nbextensions\\highlighter\\export_highlights.ipynb -> C:\\ProgramData\\jupyter\\nbextensions\\highlighter\\export_highlights.ipynb\n",
      "[I 11:52:07 InstallContribNbextensionsApp] Copying: C:\\Users\\shshin\\anaconda3\\envs\\data\\lib\\site-packages\\jupyter_contrib_nbextensions\\nbextensions\\highlighter\\export_highlights.pdf -> C:\\ProgramData\\jupyter\\nbextensions\\highlighter\\export_highlights.pdf\n",
      "[I 11:52:07 InstallContribNbextensionsApp] Copying: C:\\Users\\shshin\\anaconda3\\envs\\data\\lib\\site-packages\\jupyter_contrib_nbextensions\\nbextensions\\highlighter\\export_highlights.tex -> C:\\ProgramData\\jupyter\\nbextensions\\highlighter\\export_highlights.tex\n",
      "[I 11:52:07 InstallContribNbextensionsApp] Copying: C:\\Users\\shshin\\anaconda3\\envs\\data\\lib\\site-packages\\jupyter_contrib_nbextensions\\nbextensions\\highlighter\\highlighter.css -> C:\\ProgramData\\jupyter\\nbextensions\\highlighter\\highlighter.css\n",
      "[I 11:52:07 InstallContribNbextensionsApp] Copying: C:\\Users\\shshin\\anaconda3\\envs\\data\\lib\\site-packages\\jupyter_contrib_nbextensions\\nbextensions\\highlighter\\highlighter.js -> C:\\ProgramData\\jupyter\\nbextensions\\highlighter\\highlighter.js\n",
      "[I 11:52:07 InstallContribNbextensionsApp] Copying: C:\\Users\\shshin\\anaconda3\\envs\\data\\lib\\site-packages\\jupyter_contrib_nbextensions\\nbextensions\\highlighter\\highlighter.yaml -> C:\\ProgramData\\jupyter\\nbextensions\\highlighter\\highlighter.yaml\n",
      "[I 11:52:07 InstallContribNbextensionsApp] Copying: C:\\Users\\shshin\\anaconda3\\envs\\data\\lib\\site-packages\\jupyter_contrib_nbextensions\\nbextensions\\highlighter\\icon.png -> C:\\ProgramData\\jupyter\\nbextensions\\highlighter\\icon.png\n",
      "[I 11:52:07 InstallContribNbextensionsApp] Copying: C:\\Users\\shshin\\anaconda3\\envs\\data\\lib\\site-packages\\jupyter_contrib_nbextensions\\nbextensions\\highlighter\\image.gif -> C:\\ProgramData\\jupyter\\nbextensions\\highlighter\\image.gif\n",
      "[I 11:52:07 InstallContribNbextensionsApp] Copying: C:\\Users\\shshin\\anaconda3\\envs\\data\\lib\\site-packages\\jupyter_contrib_nbextensions\\nbextensions\\highlighter\\readme.md -> C:\\ProgramData\\jupyter\\nbextensions\\highlighter\\readme.md\n",
      "[I 11:52:07 InstallContribNbextensionsApp] Copying: C:\\Users\\shshin\\anaconda3\\envs\\data\\lib\\site-packages\\jupyter_contrib_nbextensions\\nbextensions\\highlighter\\tst_highlights.html -> C:\\ProgramData\\jupyter\\nbextensions\\highlighter\\tst_highlights.html\n",
      "[I 11:52:07 InstallContribNbextensionsApp] Copying: C:\\Users\\shshin\\anaconda3\\envs\\data\\lib\\site-packages\\jupyter_contrib_nbextensions\\nbextensions\\highlighter\\tst_highlights.ipynb -> C:\\ProgramData\\jupyter\\nbextensions\\highlighter\\tst_highlights.ipynb\n",
      "[I 11:52:07 InstallContribNbextensionsApp] Copying: C:\\Users\\shshin\\anaconda3\\envs\\data\\lib\\site-packages\\jupyter_contrib_nbextensions\\nbextensions\\highlighter\\tst_highlights.pdf -> C:\\ProgramData\\jupyter\\nbextensions\\highlighter\\tst_highlights.pdf\n",
      "[I 11:52:07 InstallContribNbextensionsApp] Copying: C:\\Users\\shshin\\anaconda3\\envs\\data\\lib\\site-packages\\jupyter_contrib_nbextensions\\nbextensions\\highlighter\\tst_highlights.tex -> C:\\ProgramData\\jupyter\\nbextensions\\highlighter\\tst_highlights.tex\n",
      "[I 11:52:07 InstallContribNbextensionsApp] - Validating: ok\n",
      "[I 11:52:07 InstallContribNbextensionsApp] Installing C:\\Users\\shshin\\anaconda3\\envs\\data\\lib\\site-packages\\jupyter_contrib_nbextensions\\nbextensions\\hinterland -> hinterland\n",
      "[I 11:52:07 InstallContribNbextensionsApp] Making directory: C:\\ProgramData\\jupyter\\nbextensions\\hinterland\\\n",
      "[I 11:52:07 InstallContribNbextensionsApp] Copying: C:\\Users\\shshin\\anaconda3\\envs\\data\\lib\\site-packages\\jupyter_contrib_nbextensions\\nbextensions\\hinterland\\hinterland.js -> C:\\ProgramData\\jupyter\\nbextensions\\hinterland\\hinterland.js\n",
      "[I 11:52:07 InstallContribNbextensionsApp] Copying: C:\\Users\\shshin\\anaconda3\\envs\\data\\lib\\site-packages\\jupyter_contrib_nbextensions\\nbextensions\\hinterland\\hinterland.yaml -> C:\\ProgramData\\jupyter\\nbextensions\\hinterland\\hinterland.yaml\n",
      "[I 11:52:07 InstallContribNbextensionsApp] Copying: C:\\Users\\shshin\\anaconda3\\envs\\data\\lib\\site-packages\\jupyter_contrib_nbextensions\\nbextensions\\hinterland\\README.md -> C:\\ProgramData\\jupyter\\nbextensions\\hinterland\\README.md\n",
      "[I 11:52:07 InstallContribNbextensionsApp] - Validating: ok\n",
      "[I 11:52:07 InstallContribNbextensionsApp] Installing C:\\Users\\shshin\\anaconda3\\envs\\data\\lib\\site-packages\\jupyter_contrib_nbextensions\\nbextensions\\init_cell -> init_cell\n",
      "[I 11:52:07 InstallContribNbextensionsApp] Making directory: C:\\ProgramData\\jupyter\\nbextensions\\init_cell\\\n",
      "[I 11:52:07 InstallContribNbextensionsApp] Copying: C:\\Users\\shshin\\anaconda3\\envs\\data\\lib\\site-packages\\jupyter_contrib_nbextensions\\nbextensions\\init_cell\\cell_toolbar_menu.png -> C:\\ProgramData\\jupyter\\nbextensions\\init_cell\\cell_toolbar_menu.png\n",
      "[I 11:52:07 InstallContribNbextensionsApp] Copying: C:\\Users\\shshin\\anaconda3\\envs\\data\\lib\\site-packages\\jupyter_contrib_nbextensions\\nbextensions\\init_cell\\icon.png -> C:\\ProgramData\\jupyter\\nbextensions\\init_cell\\icon.png\n",
      "[I 11:52:07 InstallContribNbextensionsApp] Copying: C:\\Users\\shshin\\anaconda3\\envs\\data\\lib\\site-packages\\jupyter_contrib_nbextensions\\nbextensions\\init_cell\\init_cell.yaml -> C:\\ProgramData\\jupyter\\nbextensions\\init_cell\\init_cell.yaml\n",
      "[I 11:52:07 InstallContribNbextensionsApp] Copying: C:\\Users\\shshin\\anaconda3\\envs\\data\\lib\\site-packages\\jupyter_contrib_nbextensions\\nbextensions\\init_cell\\main.js -> C:\\ProgramData\\jupyter\\nbextensions\\init_cell\\main.js\n",
      "[I 11:52:07 InstallContribNbextensionsApp] Copying: C:\\Users\\shshin\\anaconda3\\envs\\data\\lib\\site-packages\\jupyter_contrib_nbextensions\\nbextensions\\init_cell\\README.md -> C:\\ProgramData\\jupyter\\nbextensions\\init_cell\\README.md\n",
      "[I 11:52:07 InstallContribNbextensionsApp] - Validating: ok\n",
      "[I 11:52:07 InstallContribNbextensionsApp] Installing C:\\Users\\shshin\\anaconda3\\envs\\data\\lib\\site-packages\\jupyter_contrib_nbextensions\\nbextensions\\keyboard_shortcut_editor -> keyboard_shortcut_editor\n",
      "[I 11:52:07 InstallContribNbextensionsApp] Making directory: C:\\ProgramData\\jupyter\\nbextensions\\keyboard_shortcut_editor\\\n",
      "[I 11:52:07 InstallContribNbextensionsApp] Copying: C:\\Users\\shshin\\anaconda3\\envs\\data\\lib\\site-packages\\jupyter_contrib_nbextensions\\nbextensions\\keyboard_shortcut_editor\\icon.png -> C:\\ProgramData\\jupyter\\nbextensions\\keyboard_shortcut_editor\\icon.png\n",
      "[I 11:52:07 InstallContribNbextensionsApp] Copying: C:\\Users\\shshin\\anaconda3\\envs\\data\\lib\\site-packages\\jupyter_contrib_nbextensions\\nbextensions\\keyboard_shortcut_editor\\keyboard_shortcut_editor.yaml -> C:\\ProgramData\\jupyter\\nbextensions\\keyboard_shortcut_editor\\keyboard_shortcut_editor.yaml\n",
      "[I 11:52:07 InstallContribNbextensionsApp] Copying: C:\\Users\\shshin\\anaconda3\\envs\\data\\lib\\site-packages\\jupyter_contrib_nbextensions\\nbextensions\\keyboard_shortcut_editor\\kse_components.js -> C:\\ProgramData\\jupyter\\nbextensions\\keyboard_shortcut_editor\\kse_components.js\n",
      "[I 11:52:07 InstallContribNbextensionsApp] Copying: C:\\Users\\shshin\\anaconda3\\envs\\data\\lib\\site-packages\\jupyter_contrib_nbextensions\\nbextensions\\keyboard_shortcut_editor\\main.css -> C:\\ProgramData\\jupyter\\nbextensions\\keyboard_shortcut_editor\\main.css\n",
      "[I 11:52:07 InstallContribNbextensionsApp] Copying: C:\\Users\\shshin\\anaconda3\\envs\\data\\lib\\site-packages\\jupyter_contrib_nbextensions\\nbextensions\\keyboard_shortcut_editor\\main.js -> C:\\ProgramData\\jupyter\\nbextensions\\keyboard_shortcut_editor\\main.js\n",
      "[I 11:52:07 InstallContribNbextensionsApp] Copying: C:\\Users\\shshin\\anaconda3\\envs\\data\\lib\\site-packages\\jupyter_contrib_nbextensions\\nbextensions\\keyboard_shortcut_editor\\quickhelp_shim.js -> C:\\ProgramData\\jupyter\\nbextensions\\keyboard_shortcut_editor\\quickhelp_shim.js\n",
      "[I 11:52:07 InstallContribNbextensionsApp] Copying: C:\\Users\\shshin\\anaconda3\\envs\\data\\lib\\site-packages\\jupyter_contrib_nbextensions\\nbextensions\\keyboard_shortcut_editor\\README.md -> C:\\ProgramData\\jupyter\\nbextensions\\keyboard_shortcut_editor\\README.md\n",
      "[I 11:52:07 InstallContribNbextensionsApp] Copying: C:\\Users\\shshin\\anaconda3\\envs\\data\\lib\\site-packages\\jupyter_contrib_nbextensions\\nbextensions\\keyboard_shortcut_editor\\readme_add_new_link.png -> C:\\ProgramData\\jupyter\\nbextensions\\keyboard_shortcut_editor\\readme_add_new_link.png\n",
      "[I 11:52:07 InstallContribNbextensionsApp] Copying: C:\\Users\\shshin\\anaconda3\\envs\\data\\lib\\site-packages\\jupyter_contrib_nbextensions\\nbextensions\\keyboard_shortcut_editor\\readme_add_new_select_action.png -> C:\\ProgramData\\jupyter\\nbextensions\\keyboard_shortcut_editor\\readme_add_new_select_action.png\n",
      "[I 11:52:07 InstallContribNbextensionsApp] Copying: C:\\Users\\shshin\\anaconda3\\envs\\data\\lib\\site-packages\\jupyter_contrib_nbextensions\\nbextensions\\keyboard_shortcut_editor\\readme_comma.png -> C:\\ProgramData\\jupyter\\nbextensions\\keyboard_shortcut_editor\\readme_comma.png\n",
      "[I 11:52:07 InstallContribNbextensionsApp] Copying: C:\\Users\\shshin\\anaconda3\\envs\\data\\lib\\site-packages\\jupyter_contrib_nbextensions\\nbextensions\\keyboard_shortcut_editor\\readme_conflict.png -> C:\\ProgramData\\jupyter\\nbextensions\\keyboard_shortcut_editor\\readme_conflict.png\n",
      "[I 11:52:07 InstallContribNbextensionsApp] Copying: C:\\Users\\shshin\\anaconda3\\envs\\data\\lib\\site-packages\\jupyter_contrib_nbextensions\\nbextensions\\keyboard_shortcut_editor\\readme_dropdown.png -> C:\\ProgramData\\jupyter\\nbextensions\\keyboard_shortcut_editor\\readme_dropdown.png\n",
      "[I 11:52:07 InstallContribNbextensionsApp] Copying: C:\\Users\\shshin\\anaconda3\\envs\\data\\lib\\site-packages\\jupyter_contrib_nbextensions\\nbextensions\\keyboard_shortcut_editor\\readme_menu_item.png -> C:\\ProgramData\\jupyter\\nbextensions\\keyboard_shortcut_editor\\readme_menu_item.png\n",
      "[I 11:52:07 InstallContribNbextensionsApp] Copying: C:\\Users\\shshin\\anaconda3\\envs\\data\\lib\\site-packages\\jupyter_contrib_nbextensions\\nbextensions\\keyboard_shortcut_editor\\readme_reset_disabled.png -> C:\\ProgramData\\jupyter\\nbextensions\\keyboard_shortcut_editor\\readme_reset_disabled.png\n",
      "[I 11:52:07 InstallContribNbextensionsApp] Copying: C:\\Users\\shshin\\anaconda3\\envs\\data\\lib\\site-packages\\jupyter_contrib_nbextensions\\nbextensions\\keyboard_shortcut_editor\\readme_shortcut_editor_blank.png -> C:\\ProgramData\\jupyter\\nbextensions\\keyboard_shortcut_editor\\readme_shortcut_editor_blank.png\n",
      "[I 11:52:07 InstallContribNbextensionsApp] Copying: C:\\Users\\shshin\\anaconda3\\envs\\data\\lib\\site-packages\\jupyter_contrib_nbextensions\\nbextensions\\keyboard_shortcut_editor\\readme_shortcut_editor_success.png -> C:\\ProgramData\\jupyter\\nbextensions\\keyboard_shortcut_editor\\readme_shortcut_editor_success.png\n",
      "[I 11:52:07 InstallContribNbextensionsApp] Copying: C:\\Users\\shshin\\anaconda3\\envs\\data\\lib\\site-packages\\jupyter_contrib_nbextensions\\nbextensions\\keyboard_shortcut_editor\\readme_undefined_key.png -> C:\\ProgramData\\jupyter\\nbextensions\\keyboard_shortcut_editor\\readme_undefined_key.png\n",
      "[I 11:52:07 InstallContribNbextensionsApp] - Validating: ok\n",
      "[I 11:52:07 InstallContribNbextensionsApp] Installing C:\\Users\\shshin\\anaconda3\\envs\\data\\lib\\site-packages\\jupyter_contrib_nbextensions\\nbextensions\\limit_output -> limit_output\n",
      "[I 11:52:07 InstallContribNbextensionsApp] Making directory: C:\\ProgramData\\jupyter\\nbextensions\\limit_output\\\n",
      "[I 11:52:07 InstallContribNbextensionsApp] Copying: C:\\Users\\shshin\\anaconda3\\envs\\data\\lib\\site-packages\\jupyter_contrib_nbextensions\\nbextensions\\limit_output\\icon.png -> C:\\ProgramData\\jupyter\\nbextensions\\limit_output\\icon.png\n",
      "[I 11:52:07 InstallContribNbextensionsApp] Copying: C:\\Users\\shshin\\anaconda3\\envs\\data\\lib\\site-packages\\jupyter_contrib_nbextensions\\nbextensions\\limit_output\\limit-output.yaml -> C:\\ProgramData\\jupyter\\nbextensions\\limit_output\\limit-output.yaml\n",
      "[I 11:52:07 InstallContribNbextensionsApp] Copying: C:\\Users\\shshin\\anaconda3\\envs\\data\\lib\\site-packages\\jupyter_contrib_nbextensions\\nbextensions\\limit_output\\main.js -> C:\\ProgramData\\jupyter\\nbextensions\\limit_output\\main.js\n",
      "[I 11:52:07 InstallContribNbextensionsApp] Copying: C:\\Users\\shshin\\anaconda3\\envs\\data\\lib\\site-packages\\jupyter_contrib_nbextensions\\nbextensions\\limit_output\\readme.md -> C:\\ProgramData\\jupyter\\nbextensions\\limit_output\\readme.md\n",
      "[I 11:52:07 InstallContribNbextensionsApp] - Validating: ok\n",
      "[I 11:52:07 InstallContribNbextensionsApp] Installing C:\\Users\\shshin\\anaconda3\\envs\\data\\lib\\site-packages\\jupyter_contrib_nbextensions\\nbextensions\\livemdpreview -> livemdpreview\n",
      "[I 11:52:07 InstallContribNbextensionsApp] Making directory: C:\\ProgramData\\jupyter\\nbextensions\\livemdpreview\\\n",
      "[I 11:52:07 InstallContribNbextensionsApp] Copying: C:\\Users\\shshin\\anaconda3\\envs\\data\\lib\\site-packages\\jupyter_contrib_nbextensions\\nbextensions\\livemdpreview\\livemdpreview.js -> C:\\ProgramData\\jupyter\\nbextensions\\livemdpreview\\livemdpreview.js\n",
      "[I 11:52:07 InstallContribNbextensionsApp] Copying: C:\\Users\\shshin\\anaconda3\\envs\\data\\lib\\site-packages\\jupyter_contrib_nbextensions\\nbextensions\\livemdpreview\\livemdpreview.yml -> C:\\ProgramData\\jupyter\\nbextensions\\livemdpreview\\livemdpreview.yml\n",
      "[I 11:52:07 InstallContribNbextensionsApp] - Validating: ok\n",
      "[I 11:52:07 InstallContribNbextensionsApp] Installing C:\\Users\\shshin\\anaconda3\\envs\\data\\lib\\site-packages\\jupyter_contrib_nbextensions\\nbextensions\\load_tex_macros -> load_tex_macros\n",
      "[I 11:52:07 InstallContribNbextensionsApp] Making directory: C:\\ProgramData\\jupyter\\nbextensions\\load_tex_macros\\\n",
      "[I 11:52:07 InstallContribNbextensionsApp] Copying: C:\\Users\\shshin\\anaconda3\\envs\\data\\lib\\site-packages\\jupyter_contrib_nbextensions\\nbextensions\\load_tex_macros\\icon.png -> C:\\ProgramData\\jupyter\\nbextensions\\load_tex_macros\\icon.png\n",
      "[I 11:52:07 InstallContribNbextensionsApp] Copying: C:\\Users\\shshin\\anaconda3\\envs\\data\\lib\\site-packages\\jupyter_contrib_nbextensions\\nbextensions\\load_tex_macros\\load_tex_macros.yaml -> C:\\ProgramData\\jupyter\\nbextensions\\load_tex_macros\\load_tex_macros.yaml\n",
      "[I 11:52:07 InstallContribNbextensionsApp] Copying: C:\\Users\\shshin\\anaconda3\\envs\\data\\lib\\site-packages\\jupyter_contrib_nbextensions\\nbextensions\\load_tex_macros\\main.js -> C:\\ProgramData\\jupyter\\nbextensions\\load_tex_macros\\main.js\n",
      "[I 11:52:07 InstallContribNbextensionsApp] Copying: C:\\Users\\shshin\\anaconda3\\envs\\data\\lib\\site-packages\\jupyter_contrib_nbextensions\\nbextensions\\load_tex_macros\\readme.md -> C:\\ProgramData\\jupyter\\nbextensions\\load_tex_macros\\readme.md\n",
      "[I 11:52:07 InstallContribNbextensionsApp] - Validating: ok\n",
      "[I 11:52:07 InstallContribNbextensionsApp] Installing C:\\Users\\shshin\\anaconda3\\envs\\data\\lib\\site-packages\\jupyter_contrib_nbextensions\\nbextensions\\move_selected_cells -> move_selected_cells\n",
      "[I 11:52:07 InstallContribNbextensionsApp] Making directory: C:\\ProgramData\\jupyter\\nbextensions\\move_selected_cells\\\n",
      "[I 11:52:07 InstallContribNbextensionsApp] Copying: C:\\Users\\shshin\\anaconda3\\envs\\data\\lib\\site-packages\\jupyter_contrib_nbextensions\\nbextensions\\move_selected_cells\\main.js -> C:\\ProgramData\\jupyter\\nbextensions\\move_selected_cells\\main.js\n",
      "[I 11:52:07 InstallContribNbextensionsApp] Copying: C:\\Users\\shshin\\anaconda3\\envs\\data\\lib\\site-packages\\jupyter_contrib_nbextensions\\nbextensions\\move_selected_cells\\move_selected_cells.yaml -> C:\\ProgramData\\jupyter\\nbextensions\\move_selected_cells\\move_selected_cells.yaml\n",
      "[I 11:52:07 InstallContribNbextensionsApp] Copying: C:\\Users\\shshin\\anaconda3\\envs\\data\\lib\\site-packages\\jupyter_contrib_nbextensions\\nbextensions\\move_selected_cells\\README.md -> C:\\ProgramData\\jupyter\\nbextensions\\move_selected_cells\\README.md\n",
      "[I 11:52:07 InstallContribNbextensionsApp] - Validating: ok\n",
      "[I 11:52:07 InstallContribNbextensionsApp] Installing C:\\Users\\shshin\\anaconda3\\envs\\data\\lib\\site-packages\\jupyter_contrib_nbextensions\\nbextensions\\navigation-hotkeys -> navigation-hotkeys\n",
      "[I 11:52:07 InstallContribNbextensionsApp] Making directory: C:\\ProgramData\\jupyter\\nbextensions\\navigation-hotkeys\\\n",
      "[I 11:52:07 InstallContribNbextensionsApp] Copying: C:\\Users\\shshin\\anaconda3\\envs\\data\\lib\\site-packages\\jupyter_contrib_nbextensions\\nbextensions\\navigation-hotkeys\\hotkeys.yaml -> C:\\ProgramData\\jupyter\\nbextensions\\navigation-hotkeys\\hotkeys.yaml\n",
      "[I 11:52:07 InstallContribNbextensionsApp] Copying: C:\\Users\\shshin\\anaconda3\\envs\\data\\lib\\site-packages\\jupyter_contrib_nbextensions\\nbextensions\\navigation-hotkeys\\icon.png -> C:\\ProgramData\\jupyter\\nbextensions\\navigation-hotkeys\\icon.png\n",
      "[I 11:52:07 InstallContribNbextensionsApp] Copying: C:\\Users\\shshin\\anaconda3\\envs\\data\\lib\\site-packages\\jupyter_contrib_nbextensions\\nbextensions\\navigation-hotkeys\\main.js -> C:\\ProgramData\\jupyter\\nbextensions\\navigation-hotkeys\\main.js\n",
      "[I 11:52:07 InstallContribNbextensionsApp] Copying: C:\\Users\\shshin\\anaconda3\\envs\\data\\lib\\site-packages\\jupyter_contrib_nbextensions\\nbextensions\\navigation-hotkeys\\readme.md -> C:\\ProgramData\\jupyter\\nbextensions\\navigation-hotkeys\\readme.md\n",
      "[I 11:52:07 InstallContribNbextensionsApp] - Validating: ok\n",
      "[I 11:52:07 InstallContribNbextensionsApp] Installing C:\\Users\\shshin\\anaconda3\\envs\\data\\lib\\site-packages\\jupyter_contrib_nbextensions\\nbextensions\\nbTranslate -> nbTranslate\n",
      "[I 11:52:07 InstallContribNbextensionsApp] Making directory: C:\\ProgramData\\jupyter\\nbextensions\\nbTranslate\\\n",
      "[I 11:52:07 InstallContribNbextensionsApp] Copying: C:\\Users\\shshin\\anaconda3\\envs\\data\\lib\\site-packages\\jupyter_contrib_nbextensions\\nbextensions\\nbTranslate\\demo1.gif -> C:\\ProgramData\\jupyter\\nbextensions\\nbTranslate\\demo1.gif\n",
      "[I 11:52:07 InstallContribNbextensionsApp] Copying: C:\\Users\\shshin\\anaconda3\\envs\\data\\lib\\site-packages\\jupyter_contrib_nbextensions\\nbextensions\\nbTranslate\\demo2.gif -> C:\\ProgramData\\jupyter\\nbextensions\\nbTranslate\\demo2.gif\n",
      "[I 11:52:07 InstallContribNbextensionsApp] Copying: C:\\Users\\shshin\\anaconda3\\envs\\data\\lib\\site-packages\\jupyter_contrib_nbextensions\\nbextensions\\nbTranslate\\languages.js -> C:\\ProgramData\\jupyter\\nbextensions\\nbTranslate\\languages.js\n",
      "[I 11:52:07 InstallContribNbextensionsApp] Copying: C:\\Users\\shshin\\anaconda3\\envs\\data\\lib\\site-packages\\jupyter_contrib_nbextensions\\nbextensions\\nbTranslate\\main.js -> C:\\ProgramData\\jupyter\\nbextensions\\nbTranslate\\main.js\n",
      "[I 11:52:07 InstallContribNbextensionsApp] Copying: C:\\Users\\shshin\\anaconda3\\envs\\data\\lib\\site-packages\\jupyter_contrib_nbextensions\\nbextensions\\nbTranslate\\mutils.js -> C:\\ProgramData\\jupyter\\nbextensions\\nbTranslate\\mutils.js\n",
      "[I 11:52:07 InstallContribNbextensionsApp] Copying: C:\\Users\\shshin\\anaconda3\\envs\\data\\lib\\site-packages\\jupyter_contrib_nbextensions\\nbextensions\\nbTranslate\\nbTranslate.js -> C:\\ProgramData\\jupyter\\nbextensions\\nbTranslate\\nbTranslate.js\n",
      "[I 11:52:07 InstallContribNbextensionsApp] Copying: C:\\Users\\shshin\\anaconda3\\envs\\data\\lib\\site-packages\\jupyter_contrib_nbextensions\\nbextensions\\nbTranslate\\nbTranslate.yaml -> C:\\ProgramData\\jupyter\\nbextensions\\nbTranslate\\nbTranslate.yaml\n",
      "[I 11:52:07 InstallContribNbextensionsApp] Copying: C:\\Users\\shshin\\anaconda3\\envs\\data\\lib\\site-packages\\jupyter_contrib_nbextensions\\nbextensions\\nbTranslate\\README.md -> C:\\ProgramData\\jupyter\\nbextensions\\nbTranslate\\README.md\n",
      "[I 11:52:07 InstallContribNbextensionsApp] - Validating: ok\n",
      "[I 11:52:07 InstallContribNbextensionsApp] Installing C:\\Users\\shshin\\anaconda3\\envs\\data\\lib\\site-packages\\jupyter_contrib_nbextensions\\nbextensions\\notify -> notify\n",
      "[I 11:52:07 InstallContribNbextensionsApp] Making directory: C:\\ProgramData\\jupyter\\nbextensions\\notify\\\n",
      "[I 11:52:07 InstallContribNbextensionsApp] Copying: C:\\Users\\shshin\\anaconda3\\envs\\data\\lib\\site-packages\\jupyter_contrib_nbextensions\\nbextensions\\notify\\notification.png -> C:\\ProgramData\\jupyter\\nbextensions\\notify\\notification.png\n",
      "[I 11:52:07 InstallContribNbextensionsApp] Copying: C:\\Users\\shshin\\anaconda3\\envs\\data\\lib\\site-packages\\jupyter_contrib_nbextensions\\nbextensions\\notify\\notify.js -> C:\\ProgramData\\jupyter\\nbextensions\\notify\\notify.js\n",
      "[I 11:52:07 InstallContribNbextensionsApp] Copying: C:\\Users\\shshin\\anaconda3\\envs\\data\\lib\\site-packages\\jupyter_contrib_nbextensions\\nbextensions\\notify\\notify.mp3 -> C:\\ProgramData\\jupyter\\nbextensions\\notify\\notify.mp3\n",
      "[I 11:52:07 InstallContribNbextensionsApp] Copying: C:\\Users\\shshin\\anaconda3\\envs\\data\\lib\\site-packages\\jupyter_contrib_nbextensions\\nbextensions\\notify\\notify.yaml -> C:\\ProgramData\\jupyter\\nbextensions\\notify\\notify.yaml\n",
      "[I 11:52:07 InstallContribNbextensionsApp] Copying: C:\\Users\\shshin\\anaconda3\\envs\\data\\lib\\site-packages\\jupyter_contrib_nbextensions\\nbextensions\\notify\\readme.md -> C:\\ProgramData\\jupyter\\nbextensions\\notify\\readme.md\n",
      "[I 11:52:07 InstallContribNbextensionsApp] - Validating: ok\n",
      "[I 11:52:07 InstallContribNbextensionsApp] Installing C:\\Users\\shshin\\anaconda3\\envs\\data\\lib\\site-packages\\jupyter_contrib_nbextensions\\nbextensions\\printview -> printview\n",
      "[I 11:52:07 InstallContribNbextensionsApp] Making directory: C:\\ProgramData\\jupyter\\nbextensions\\printview\\\n",
      "[I 11:52:07 InstallContribNbextensionsApp] Copying: C:\\Users\\shshin\\anaconda3\\envs\\data\\lib\\site-packages\\jupyter_contrib_nbextensions\\nbextensions\\printview\\icon.png -> C:\\ProgramData\\jupyter\\nbextensions\\printview\\icon.png\n",
      "[I 11:52:07 InstallContribNbextensionsApp] Copying: C:\\Users\\shshin\\anaconda3\\envs\\data\\lib\\site-packages\\jupyter_contrib_nbextensions\\nbextensions\\printview\\main.js -> C:\\ProgramData\\jupyter\\nbextensions\\printview\\main.js\n",
      "[I 11:52:07 InstallContribNbextensionsApp] Copying: C:\\Users\\shshin\\anaconda3\\envs\\data\\lib\\site-packages\\jupyter_contrib_nbextensions\\nbextensions\\printview\\printview-button.png -> C:\\ProgramData\\jupyter\\nbextensions\\printview\\printview-button.png\n",
      "[I 11:52:07 InstallContribNbextensionsApp] Copying: C:\\Users\\shshin\\anaconda3\\envs\\data\\lib\\site-packages\\jupyter_contrib_nbextensions\\nbextensions\\printview\\printview.yaml -> C:\\ProgramData\\jupyter\\nbextensions\\printview\\printview.yaml\n",
      "[I 11:52:07 InstallContribNbextensionsApp] Copying: C:\\Users\\shshin\\anaconda3\\envs\\data\\lib\\site-packages\\jupyter_contrib_nbextensions\\nbextensions\\printview\\readme.md -> C:\\ProgramData\\jupyter\\nbextensions\\printview\\readme.md\n",
      "[I 11:52:07 InstallContribNbextensionsApp] - Validating: ok\n",
      "[I 11:52:07 InstallContribNbextensionsApp] Installing C:\\Users\\shshin\\anaconda3\\envs\\data\\lib\\site-packages\\jupyter_contrib_nbextensions\\nbextensions\\python-markdown -> python-markdown\n",
      "[I 11:52:07 InstallContribNbextensionsApp] Making directory: C:\\ProgramData\\jupyter\\nbextensions\\python-markdown\\\n",
      "[I 11:52:07 InstallContribNbextensionsApp] Copying: C:\\Users\\shshin\\anaconda3\\envs\\data\\lib\\site-packages\\jupyter_contrib_nbextensions\\nbextensions\\python-markdown\\main.css -> C:\\ProgramData\\jupyter\\nbextensions\\python-markdown\\main.css\n",
      "[I 11:52:07 InstallContribNbextensionsApp] Copying: C:\\Users\\shshin\\anaconda3\\envs\\data\\lib\\site-packages\\jupyter_contrib_nbextensions\\nbextensions\\python-markdown\\main.js -> C:\\ProgramData\\jupyter\\nbextensions\\python-markdown\\main.js\n",
      "[I 11:52:07 InstallContribNbextensionsApp] Copying: C:\\Users\\shshin\\anaconda3\\envs\\data\\lib\\site-packages\\jupyter_contrib_nbextensions\\nbextensions\\python-markdown\\python-markdown-post.png -> C:\\ProgramData\\jupyter\\nbextensions\\python-markdown\\python-markdown-post.png\n",
      "[I 11:52:07 InstallContribNbextensionsApp] Copying: C:\\Users\\shshin\\anaconda3\\envs\\data\\lib\\site-packages\\jupyter_contrib_nbextensions\\nbextensions\\python-markdown\\python-markdown-pre.png -> C:\\ProgramData\\jupyter\\nbextensions\\python-markdown\\python-markdown-pre.png\n",
      "[I 11:52:07 InstallContribNbextensionsApp] Copying: C:\\Users\\shshin\\anaconda3\\envs\\data\\lib\\site-packages\\jupyter_contrib_nbextensions\\nbextensions\\python-markdown\\python-markdown.png -> C:\\ProgramData\\jupyter\\nbextensions\\python-markdown\\python-markdown.png\n",
      "[I 11:52:07 InstallContribNbextensionsApp] Copying: C:\\Users\\shshin\\anaconda3\\envs\\data\\lib\\site-packages\\jupyter_contrib_nbextensions\\nbextensions\\python-markdown\\python-markdown.yaml -> C:\\ProgramData\\jupyter\\nbextensions\\python-markdown\\python-markdown.yaml\n",
      "[I 11:52:07 InstallContribNbextensionsApp] Copying: C:\\Users\\shshin\\anaconda3\\envs\\data\\lib\\site-packages\\jupyter_contrib_nbextensions\\nbextensions\\python-markdown\\readme.md -> C:\\ProgramData\\jupyter\\nbextensions\\python-markdown\\readme.md\n",
      "[I 11:52:07 InstallContribNbextensionsApp] Copying: C:\\Users\\shshin\\anaconda3\\envs\\data\\lib\\site-packages\\jupyter_contrib_nbextensions\\nbextensions\\python-markdown\\trusted.png -> C:\\ProgramData\\jupyter\\nbextensions\\python-markdown\\trusted.png\n",
      "[I 11:52:07 InstallContribNbextensionsApp] Copying: C:\\Users\\shshin\\anaconda3\\envs\\data\\lib\\site-packages\\jupyter_contrib_nbextensions\\nbextensions\\python-markdown\\untrusted.png -> C:\\ProgramData\\jupyter\\nbextensions\\python-markdown\\untrusted.png\n",
      "[I 11:52:07 InstallContribNbextensionsApp] - Validating: ok\n",
      "[I 11:52:07 InstallContribNbextensionsApp] Installing C:\\Users\\shshin\\anaconda3\\envs\\data\\lib\\site-packages\\jupyter_contrib_nbextensions\\nbextensions\\qtconsole -> qtconsole\n",
      "[I 11:52:07 InstallContribNbextensionsApp] Making directory: C:\\ProgramData\\jupyter\\nbextensions\\qtconsole\\\n",
      "[I 11:52:07 InstallContribNbextensionsApp] Copying: C:\\Users\\shshin\\anaconda3\\envs\\data\\lib\\site-packages\\jupyter_contrib_nbextensions\\nbextensions\\qtconsole\\qtconsole.js -> C:\\ProgramData\\jupyter\\nbextensions\\qtconsole\\qtconsole.js\n",
      "[I 11:52:07 InstallContribNbextensionsApp] Copying: C:\\Users\\shshin\\anaconda3\\envs\\data\\lib\\site-packages\\jupyter_contrib_nbextensions\\nbextensions\\qtconsole\\qtconsole.yaml -> C:\\ProgramData\\jupyter\\nbextensions\\qtconsole\\qtconsole.yaml\n",
      "[I 11:52:07 InstallContribNbextensionsApp] Copying: C:\\Users\\shshin\\anaconda3\\envs\\data\\lib\\site-packages\\jupyter_contrib_nbextensions\\nbextensions\\qtconsole\\README.md -> C:\\ProgramData\\jupyter\\nbextensions\\qtconsole\\README.md\n",
      "[I 11:52:07 InstallContribNbextensionsApp] - Validating: ok\n",
      "[I 11:52:07 InstallContribNbextensionsApp] Installing C:\\Users\\shshin\\anaconda3\\envs\\data\\lib\\site-packages\\jupyter_contrib_nbextensions\\nbextensions\\rubberband -> rubberband\n",
      "[I 11:52:07 InstallContribNbextensionsApp] Making directory: C:\\ProgramData\\jupyter\\nbextensions\\rubberband\\\n",
      "[I 11:52:07 InstallContribNbextensionsApp] Copying: C:\\Users\\shshin\\anaconda3\\envs\\data\\lib\\site-packages\\jupyter_contrib_nbextensions\\nbextensions\\rubberband\\icon.png -> C:\\ProgramData\\jupyter\\nbextensions\\rubberband\\icon.png\n",
      "[I 11:52:07 InstallContribNbextensionsApp] Copying: C:\\Users\\shshin\\anaconda3\\envs\\data\\lib\\site-packages\\jupyter_contrib_nbextensions\\nbextensions\\rubberband\\main.css -> C:\\ProgramData\\jupyter\\nbextensions\\rubberband\\main.css\n",
      "[I 11:52:07 InstallContribNbextensionsApp] Copying: C:\\Users\\shshin\\anaconda3\\envs\\data\\lib\\site-packages\\jupyter_contrib_nbextensions\\nbextensions\\rubberband\\main.js -> C:\\ProgramData\\jupyter\\nbextensions\\rubberband\\main.js\n",
      "[I 11:52:07 InstallContribNbextensionsApp] Copying: C:\\Users\\shshin\\anaconda3\\envs\\data\\lib\\site-packages\\jupyter_contrib_nbextensions\\nbextensions\\rubberband\\readme.md -> C:\\ProgramData\\jupyter\\nbextensions\\rubberband\\readme.md\n",
      "[I 11:52:07 InstallContribNbextensionsApp] Copying: C:\\Users\\shshin\\anaconda3\\envs\\data\\lib\\site-packages\\jupyter_contrib_nbextensions\\nbextensions\\rubberband\\rubberband.yaml -> C:\\ProgramData\\jupyter\\nbextensions\\rubberband\\rubberband.yaml\n",
      "[I 11:52:07 InstallContribNbextensionsApp] - Validating: ok\n",
      "[I 11:52:07 InstallContribNbextensionsApp] Installing C:\\Users\\shshin\\anaconda3\\envs\\data\\lib\\site-packages\\jupyter_contrib_nbextensions\\nbextensions\\ruler -> ruler\n",
      "[I 11:52:07 InstallContribNbextensionsApp] Making directory: C:\\ProgramData\\jupyter\\nbextensions\\ruler\\\n",
      "[I 11:52:07 InstallContribNbextensionsApp] Copying: C:\\Users\\shshin\\anaconda3\\envs\\data\\lib\\site-packages\\jupyter_contrib_nbextensions\\nbextensions\\ruler\\edit.js -> C:\\ProgramData\\jupyter\\nbextensions\\ruler\\edit.js\n",
      "[I 11:52:07 InstallContribNbextensionsApp] Copying: C:\\Users\\shshin\\anaconda3\\envs\\data\\lib\\site-packages\\jupyter_contrib_nbextensions\\nbextensions\\ruler\\icon.png -> C:\\ProgramData\\jupyter\\nbextensions\\ruler\\icon.png\n",
      "[I 11:52:07 InstallContribNbextensionsApp] Copying: C:\\Users\\shshin\\anaconda3\\envs\\data\\lib\\site-packages\\jupyter_contrib_nbextensions\\nbextensions\\ruler\\main.js -> C:\\ProgramData\\jupyter\\nbextensions\\ruler\\main.js\n",
      "[I 11:52:07 InstallContribNbextensionsApp] Copying: C:\\Users\\shshin\\anaconda3\\envs\\data\\lib\\site-packages\\jupyter_contrib_nbextensions\\nbextensions\\ruler\\readme.md -> C:\\ProgramData\\jupyter\\nbextensions\\ruler\\readme.md\n",
      "[I 11:52:07 InstallContribNbextensionsApp] Copying: C:\\Users\\shshin\\anaconda3\\envs\\data\\lib\\site-packages\\jupyter_contrib_nbextensions\\nbextensions\\ruler\\ruler.yaml -> C:\\ProgramData\\jupyter\\nbextensions\\ruler\\ruler.yaml\n",
      "[I 11:52:07 InstallContribNbextensionsApp] Copying: C:\\Users\\shshin\\anaconda3\\envs\\data\\lib\\site-packages\\jupyter_contrib_nbextensions\\nbextensions\\ruler\\ruler_editor.yaml -> C:\\ProgramData\\jupyter\\nbextensions\\ruler\\ruler_editor.yaml\n",
      "[I 11:52:07 InstallContribNbextensionsApp] - Validating: ok\n",
      "[I 11:52:07 InstallContribNbextensionsApp] Installing C:\\Users\\shshin\\anaconda3\\envs\\data\\lib\\site-packages\\jupyter_contrib_nbextensions\\nbextensions\\ruler -> ruler\n",
      "[I 11:52:07 InstallContribNbextensionsApp] Up to date: C:\\ProgramData\\jupyter\\nbextensions\\ruler\\edit.js\n",
      "[I 11:52:07 InstallContribNbextensionsApp] Up to date: C:\\ProgramData\\jupyter\\nbextensions\\ruler\\icon.png\n",
      "[I 11:52:07 InstallContribNbextensionsApp] Up to date: C:\\ProgramData\\jupyter\\nbextensions\\ruler\\main.js\n",
      "[I 11:52:07 InstallContribNbextensionsApp] Up to date: C:\\ProgramData\\jupyter\\nbextensions\\ruler\\readme.md\n",
      "[I 11:52:07 InstallContribNbextensionsApp] Up to date: C:\\ProgramData\\jupyter\\nbextensions\\ruler\\ruler.yaml\n",
      "[I 11:52:07 InstallContribNbextensionsApp] Up to date: C:\\ProgramData\\jupyter\\nbextensions\\ruler\\ruler_editor.yaml\n",
      "[I 11:52:07 InstallContribNbextensionsApp] - Validating: ok\n",
      "[I 11:52:07 InstallContribNbextensionsApp] Installing C:\\Users\\shshin\\anaconda3\\envs\\data\\lib\\site-packages\\jupyter_contrib_nbextensions\\nbextensions\\runtools -> runtools\n",
      "[I 11:52:07 InstallContribNbextensionsApp] Making directory: C:\\ProgramData\\jupyter\\nbextensions\\runtools\\\n",
      "[I 11:52:07 InstallContribNbextensionsApp] Copying: C:\\Users\\shshin\\anaconda3\\envs\\data\\lib\\site-packages\\jupyter_contrib_nbextensions\\nbextensions\\runtools\\annotations.odg -> C:\\ProgramData\\jupyter\\nbextensions\\runtools\\annotations.odg\n",
      "[I 11:52:07 InstallContribNbextensionsApp] Copying: C:\\Users\\shshin\\anaconda3\\envs\\data\\lib\\site-packages\\jupyter_contrib_nbextensions\\nbextensions\\runtools\\cellstate.js -> C:\\ProgramData\\jupyter\\nbextensions\\runtools\\cellstate.js\n",
      "[I 11:52:07 InstallContribNbextensionsApp] Copying: C:\\Users\\shshin\\anaconda3\\envs\\data\\lib\\site-packages\\jupyter_contrib_nbextensions\\nbextensions\\runtools\\demo.gif -> C:\\ProgramData\\jupyter\\nbextensions\\runtools\\demo.gif\n",
      "[I 11:52:07 InstallContribNbextensionsApp] Copying: C:\\Users\\shshin\\anaconda3\\envs\\data\\lib\\site-packages\\jupyter_contrib_nbextensions\\nbextensions\\runtools\\gutter.css -> C:\\ProgramData\\jupyter\\nbextensions\\runtools\\gutter.css\n",
      "[I 11:52:07 InstallContribNbextensionsApp] Copying: C:\\Users\\shshin\\anaconda3\\envs\\data\\lib\\site-packages\\jupyter_contrib_nbextensions\\nbextensions\\runtools\\icon.png -> C:\\ProgramData\\jupyter\\nbextensions\\runtools\\icon.png\n",
      "[I 11:52:07 InstallContribNbextensionsApp] Copying: C:\\Users\\shshin\\anaconda3\\envs\\data\\lib\\site-packages\\jupyter_contrib_nbextensions\\nbextensions\\runtools\\main.css -> C:\\ProgramData\\jupyter\\nbextensions\\runtools\\main.css\n",
      "[I 11:52:07 InstallContribNbextensionsApp] Copying: C:\\Users\\shshin\\anaconda3\\envs\\data\\lib\\site-packages\\jupyter_contrib_nbextensions\\nbextensions\\runtools\\main.js -> C:\\ProgramData\\jupyter\\nbextensions\\runtools\\main.js\n",
      "[I 11:52:07 InstallContribNbextensionsApp] Copying: C:\\Users\\shshin\\anaconda3\\envs\\data\\lib\\site-packages\\jupyter_contrib_nbextensions\\nbextensions\\runtools\\readme.md -> C:\\ProgramData\\jupyter\\nbextensions\\runtools\\readme.md\n",
      "[I 11:52:07 InstallContribNbextensionsApp] Copying: C:\\Users\\shshin\\anaconda3\\envs\\data\\lib\\site-packages\\jupyter_contrib_nbextensions\\nbextensions\\runtools\\runtools.yaml -> C:\\ProgramData\\jupyter\\nbextensions\\runtools\\runtools.yaml\n",
      "[I 11:52:07 InstallContribNbextensionsApp] Copying: C:\\Users\\shshin\\anaconda3\\envs\\data\\lib\\site-packages\\jupyter_contrib_nbextensions\\nbextensions\\runtools\\runtools_execute.png -> C:\\ProgramData\\jupyter\\nbextensions\\runtools\\runtools_execute.png\n",
      "[I 11:52:07 InstallContribNbextensionsApp] Copying: C:\\Users\\shshin\\anaconda3\\envs\\data\\lib\\site-packages\\jupyter_contrib_nbextensions\\nbextensions\\runtools\\runtools_lock.png -> C:\\ProgramData\\jupyter\\nbextensions\\runtools\\runtools_lock.png\n",
      "[I 11:52:07 InstallContribNbextensionsApp] Copying: C:\\Users\\shshin\\anaconda3\\envs\\data\\lib\\site-packages\\jupyter_contrib_nbextensions\\nbextensions\\runtools\\runtools_marker.png -> C:\\ProgramData\\jupyter\\nbextensions\\runtools\\runtools_marker.png\n",
      "[I 11:52:07 InstallContribNbextensionsApp] Copying: C:\\Users\\shshin\\anaconda3\\envs\\data\\lib\\site-packages\\jupyter_contrib_nbextensions\\nbextensions\\runtools\\runtools_nb.png -> C:\\ProgramData\\jupyter\\nbextensions\\runtools\\runtools_nb.png\n",
      "[I 11:52:07 InstallContribNbextensionsApp] Copying: C:\\Users\\shshin\\anaconda3\\envs\\data\\lib\\site-packages\\jupyter_contrib_nbextensions\\nbextensions\\runtools\\runtools_show_hide.png -> C:\\ProgramData\\jupyter\\nbextensions\\runtools\\runtools_show_hide.png\n",
      "[I 11:52:07 InstallContribNbextensionsApp] - Validating: ok\n",
      "[I 11:52:07 InstallContribNbextensionsApp] Installing C:\\Users\\shshin\\anaconda3\\envs\\data\\lib\\site-packages\\jupyter_contrib_nbextensions\\nbextensions\\scratchpad -> scratchpad\n",
      "[I 11:52:07 InstallContribNbextensionsApp] Making directory: C:\\ProgramData\\jupyter\\nbextensions\\scratchpad\\\n",
      "[I 11:52:07 InstallContribNbextensionsApp] Copying: C:\\Users\\shshin\\anaconda3\\envs\\data\\lib\\site-packages\\jupyter_contrib_nbextensions\\nbextensions\\scratchpad\\demo.gif -> C:\\ProgramData\\jupyter\\nbextensions\\scratchpad\\demo.gif\n",
      "[I 11:52:07 InstallContribNbextensionsApp] Copying: C:\\Users\\shshin\\anaconda3\\envs\\data\\lib\\site-packages\\jupyter_contrib_nbextensions\\nbextensions\\scratchpad\\LICENSE -> C:\\ProgramData\\jupyter\\nbextensions\\scratchpad\\LICENSE\n",
      "[I 11:52:07 InstallContribNbextensionsApp] Copying: C:\\Users\\shshin\\anaconda3\\envs\\data\\lib\\site-packages\\jupyter_contrib_nbextensions\\nbextensions\\scratchpad\\main.js -> C:\\ProgramData\\jupyter\\nbextensions\\scratchpad\\main.js\n",
      "[I 11:52:07 InstallContribNbextensionsApp] Copying: C:\\Users\\shshin\\anaconda3\\envs\\data\\lib\\site-packages\\jupyter_contrib_nbextensions\\nbextensions\\scratchpad\\README.md -> C:\\ProgramData\\jupyter\\nbextensions\\scratchpad\\README.md\n",
      "[I 11:52:07 InstallContribNbextensionsApp] Copying: C:\\Users\\shshin\\anaconda3\\envs\\data\\lib\\site-packages\\jupyter_contrib_nbextensions\\nbextensions\\scratchpad\\scratchpad.css -> C:\\ProgramData\\jupyter\\nbextensions\\scratchpad\\scratchpad.css\n",
      "[I 11:52:07 InstallContribNbextensionsApp] Copying: C:\\Users\\shshin\\anaconda3\\envs\\data\\lib\\site-packages\\jupyter_contrib_nbextensions\\nbextensions\\scratchpad\\scratchpad.yaml -> C:\\ProgramData\\jupyter\\nbextensions\\scratchpad\\scratchpad.yaml\n",
      "[I 11:52:07 InstallContribNbextensionsApp] - Validating: ok\n",
      "[I 11:52:07 InstallContribNbextensionsApp] Installing C:\\Users\\shshin\\anaconda3\\envs\\data\\lib\\site-packages\\jupyter_contrib_nbextensions\\nbextensions\\scroll_down -> scroll_down\n",
      "[I 11:52:07 InstallContribNbextensionsApp] Making directory: C:\\ProgramData\\jupyter\\nbextensions\\scroll_down\\\n",
      "[I 11:52:07 InstallContribNbextensionsApp] Copying: C:\\Users\\shshin\\anaconda3\\envs\\data\\lib\\site-packages\\jupyter_contrib_nbextensions\\nbextensions\\scroll_down\\config.yaml -> C:\\ProgramData\\jupyter\\nbextensions\\scroll_down\\config.yaml\n",
      "[I 11:52:07 InstallContribNbextensionsApp] Copying: C:\\Users\\shshin\\anaconda3\\envs\\data\\lib\\site-packages\\jupyter_contrib_nbextensions\\nbextensions\\scroll_down\\icon.png -> C:\\ProgramData\\jupyter\\nbextensions\\scroll_down\\icon.png\n",
      "[I 11:52:07 InstallContribNbextensionsApp] Copying: C:\\Users\\shshin\\anaconda3\\envs\\data\\lib\\site-packages\\jupyter_contrib_nbextensions\\nbextensions\\scroll_down\\main.js -> C:\\ProgramData\\jupyter\\nbextensions\\scroll_down\\main.js\n",
      "[I 11:52:07 InstallContribNbextensionsApp] Copying: C:\\Users\\shshin\\anaconda3\\envs\\data\\lib\\site-packages\\jupyter_contrib_nbextensions\\nbextensions\\scroll_down\\readme.md -> C:\\ProgramData\\jupyter\\nbextensions\\scroll_down\\readme.md\n",
      "[I 11:52:07 InstallContribNbextensionsApp] - Validating: ok\n",
      "[I 11:52:07 InstallContribNbextensionsApp] Installing C:\\Users\\shshin\\anaconda3\\envs\\data\\lib\\site-packages\\jupyter_contrib_nbextensions\\nbextensions\\select_keymap -> select_keymap\n",
      "[I 11:52:07 InstallContribNbextensionsApp] Making directory: C:\\ProgramData\\jupyter\\nbextensions\\select_keymap\\\n",
      "[I 11:52:07 InstallContribNbextensionsApp] Copying: C:\\Users\\shshin\\anaconda3\\envs\\data\\lib\\site-packages\\jupyter_contrib_nbextensions\\nbextensions\\select_keymap\\main.js -> C:\\ProgramData\\jupyter\\nbextensions\\select_keymap\\main.js\n",
      "[I 11:52:07 InstallContribNbextensionsApp] Copying: C:\\Users\\shshin\\anaconda3\\envs\\data\\lib\\site-packages\\jupyter_contrib_nbextensions\\nbextensions\\select_keymap\\README.md -> C:\\ProgramData\\jupyter\\nbextensions\\select_keymap\\README.md\n",
      "[I 11:52:07 InstallContribNbextensionsApp] Copying: C:\\Users\\shshin\\anaconda3\\envs\\data\\lib\\site-packages\\jupyter_contrib_nbextensions\\nbextensions\\select_keymap\\select_keymap.png -> C:\\ProgramData\\jupyter\\nbextensions\\select_keymap\\select_keymap.png\n",
      "[I 11:52:07 InstallContribNbextensionsApp] Copying: C:\\Users\\shshin\\anaconda3\\envs\\data\\lib\\site-packages\\jupyter_contrib_nbextensions\\nbextensions\\select_keymap\\select_keymap.yaml -> C:\\ProgramData\\jupyter\\nbextensions\\select_keymap\\select_keymap.yaml\n",
      "[I 11:52:07 InstallContribNbextensionsApp] - Validating: ok\n",
      "[I 11:52:07 InstallContribNbextensionsApp] Installing C:\\Users\\shshin\\anaconda3\\envs\\data\\lib\\site-packages\\jupyter_contrib_nbextensions\\nbextensions\\skill -> skill\n",
      "[I 11:52:07 InstallContribNbextensionsApp] Making directory: C:\\ProgramData\\jupyter\\nbextensions\\skill\\\n",
      "[I 11:52:07 InstallContribNbextensionsApp] Copying: C:\\Users\\shshin\\anaconda3\\envs\\data\\lib\\site-packages\\jupyter_contrib_nbextensions\\nbextensions\\skill\\main.js -> C:\\ProgramData\\jupyter\\nbextensions\\skill\\main.js\n",
      "[I 11:52:07 InstallContribNbextensionsApp] Copying: C:\\Users\\shshin\\anaconda3\\envs\\data\\lib\\site-packages\\jupyter_contrib_nbextensions\\nbextensions\\skill\\README.md -> C:\\ProgramData\\jupyter\\nbextensions\\skill\\README.md\n",
      "[I 11:52:07 InstallContribNbextensionsApp] Copying: C:\\Users\\shshin\\anaconda3\\envs\\data\\lib\\site-packages\\jupyter_contrib_nbextensions\\nbextensions\\skill\\skill.js -> C:\\ProgramData\\jupyter\\nbextensions\\skill\\skill.js\n",
      "[I 11:52:07 InstallContribNbextensionsApp] Copying: C:\\Users\\shshin\\anaconda3\\envs\\data\\lib\\site-packages\\jupyter_contrib_nbextensions\\nbextensions\\skill\\skill.yaml -> C:\\ProgramData\\jupyter\\nbextensions\\skill\\skill.yaml\n",
      "[I 11:52:07 InstallContribNbextensionsApp] - Validating: ok\n",
      "[I 11:52:07 InstallContribNbextensionsApp] Installing C:\\Users\\shshin\\anaconda3\\envs\\data\\lib\\site-packages\\jupyter_contrib_nbextensions\\nbextensions\\skip-traceback -> skip-traceback\n",
      "[I 11:52:07 InstallContribNbextensionsApp] Making directory: C:\\ProgramData\\jupyter\\nbextensions\\skip-traceback\\\n",
      "[I 11:52:07 InstallContribNbextensionsApp] Copying: C:\\Users\\shshin\\anaconda3\\envs\\data\\lib\\site-packages\\jupyter_contrib_nbextensions\\nbextensions\\skip-traceback\\icon.png -> C:\\ProgramData\\jupyter\\nbextensions\\skip-traceback\\icon.png\n",
      "[I 11:52:07 InstallContribNbextensionsApp] Copying: C:\\Users\\shshin\\anaconda3\\envs\\data\\lib\\site-packages\\jupyter_contrib_nbextensions\\nbextensions\\skip-traceback\\main.js -> C:\\ProgramData\\jupyter\\nbextensions\\skip-traceback\\main.js\n",
      "[I 11:52:07 InstallContribNbextensionsApp] Copying: C:\\Users\\shshin\\anaconda3\\envs\\data\\lib\\site-packages\\jupyter_contrib_nbextensions\\nbextensions\\skip-traceback\\readme.md -> C:\\ProgramData\\jupyter\\nbextensions\\skip-traceback\\readme.md\n",
      "[I 11:52:07 InstallContribNbextensionsApp] Copying: C:\\Users\\shshin\\anaconda3\\envs\\data\\lib\\site-packages\\jupyter_contrib_nbextensions\\nbextensions\\skip-traceback\\skip-traceback.png -> C:\\ProgramData\\jupyter\\nbextensions\\skip-traceback\\skip-traceback.png\n",
      "[I 11:52:07 InstallContribNbextensionsApp] Copying: C:\\Users\\shshin\\anaconda3\\envs\\data\\lib\\site-packages\\jupyter_contrib_nbextensions\\nbextensions\\skip-traceback\\skip-traceback.yaml -> C:\\ProgramData\\jupyter\\nbextensions\\skip-traceback\\skip-traceback.yaml\n",
      "[I 11:52:07 InstallContribNbextensionsApp] Copying: C:\\Users\\shshin\\anaconda3\\envs\\data\\lib\\site-packages\\jupyter_contrib_nbextensions\\nbextensions\\skip-traceback\\traceback.png -> C:\\ProgramData\\jupyter\\nbextensions\\skip-traceback\\traceback.png\n",
      "[I 11:52:07 InstallContribNbextensionsApp] - Validating: ok\n",
      "[I 11:52:07 InstallContribNbextensionsApp] Installing C:\\Users\\shshin\\anaconda3\\envs\\data\\lib\\site-packages\\jupyter_contrib_nbextensions\\nbextensions\\snippets -> snippets\n",
      "[I 11:52:07 InstallContribNbextensionsApp] Making directory: C:\\ProgramData\\jupyter\\nbextensions\\snippets\\\n",
      "[I 11:52:07 InstallContribNbextensionsApp] Copying: C:\\Users\\shshin\\anaconda3\\envs\\data\\lib\\site-packages\\jupyter_contrib_nbextensions\\nbextensions\\snippets\\main.js -> C:\\ProgramData\\jupyter\\nbextensions\\snippets\\main.js\n",
      "[I 11:52:07 InstallContribNbextensionsApp] Copying: C:\\Users\\shshin\\anaconda3\\envs\\data\\lib\\site-packages\\jupyter_contrib_nbextensions\\nbextensions\\snippets\\README.md -> C:\\ProgramData\\jupyter\\nbextensions\\snippets\\README.md\n",
      "[I 11:52:07 InstallContribNbextensionsApp] Copying: C:\\Users\\shshin\\anaconda3\\envs\\data\\lib\\site-packages\\jupyter_contrib_nbextensions\\nbextensions\\snippets\\snippets-demo.gif -> C:\\ProgramData\\jupyter\\nbextensions\\snippets\\snippets-demo.gif\n",
      "[I 11:52:07 InstallContribNbextensionsApp] Copying: C:\\Users\\shshin\\anaconda3\\envs\\data\\lib\\site-packages\\jupyter_contrib_nbextensions\\nbextensions\\snippets\\snippets.json -> C:\\ProgramData\\jupyter\\nbextensions\\snippets\\snippets.json\n",
      "[I 11:52:07 InstallContribNbextensionsApp] Copying: C:\\Users\\shshin\\anaconda3\\envs\\data\\lib\\site-packages\\jupyter_contrib_nbextensions\\nbextensions\\snippets\\snippets.yaml -> C:\\ProgramData\\jupyter\\nbextensions\\snippets\\snippets.yaml\n",
      "[I 11:52:07 InstallContribNbextensionsApp] - Validating: ok\n",
      "[I 11:52:07 InstallContribNbextensionsApp] Installing C:\\Users\\shshin\\anaconda3\\envs\\data\\lib\\site-packages\\jupyter_contrib_nbextensions\\nbextensions\\snippets_menu -> snippets_menu\n",
      "[I 11:52:07 InstallContribNbextensionsApp] Making directory: C:\\ProgramData\\jupyter\\nbextensions\\snippets_menu\\\n",
      "[I 11:52:07 InstallContribNbextensionsApp] Copying: C:\\Users\\shshin\\anaconda3\\envs\\data\\lib\\site-packages\\jupyter_contrib_nbextensions\\nbextensions\\snippets_menu\\config.yaml -> C:\\ProgramData\\jupyter\\nbextensions\\snippets_menu\\config.yaml\n",
      "[I 11:52:07 InstallContribNbextensionsApp] Copying: C:\\Users\\shshin\\anaconda3\\envs\\data\\lib\\site-packages\\jupyter_contrib_nbextensions\\nbextensions\\snippets_menu\\examples_for_custom.js -> C:\\ProgramData\\jupyter\\nbextensions\\snippets_menu\\examples_for_custom.js\n",
      "[I 11:52:07 InstallContribNbextensionsApp] Copying: C:\\Users\\shshin\\anaconda3\\envs\\data\\lib\\site-packages\\jupyter_contrib_nbextensions\\nbextensions\\snippets_menu\\main.js -> C:\\ProgramData\\jupyter\\nbextensions\\snippets_menu\\main.js\n",
      "[I 11:52:07 InstallContribNbextensionsApp] Copying: C:\\Users\\shshin\\anaconda3\\envs\\data\\lib\\site-packages\\jupyter_contrib_nbextensions\\nbextensions\\snippets_menu\\readme.md -> C:\\ProgramData\\jupyter\\nbextensions\\snippets_menu\\readme.md\n",
      "[I 11:52:07 InstallContribNbextensionsApp] Copying: C:\\Users\\shshin\\anaconda3\\envs\\data\\lib\\site-packages\\jupyter_contrib_nbextensions\\nbextensions\\snippets_menu\\screenshot1.png -> C:\\ProgramData\\jupyter\\nbextensions\\snippets_menu\\screenshot1.png\n",
      "[I 11:52:07 InstallContribNbextensionsApp] Copying: C:\\Users\\shshin\\anaconda3\\envs\\data\\lib\\site-packages\\jupyter_contrib_nbextensions\\nbextensions\\snippets_menu\\screenshot2.png -> C:\\ProgramData\\jupyter\\nbextensions\\snippets_menu\\screenshot2.png\n",
      "[I 11:52:07 InstallContribNbextensionsApp] Copying: C:\\Users\\shshin\\anaconda3\\envs\\data\\lib\\site-packages\\jupyter_contrib_nbextensions\\nbextensions\\snippets_menu\\screenshot3.png -> C:\\ProgramData\\jupyter\\nbextensions\\snippets_menu\\screenshot3.png\n",
      "[I 11:52:07 InstallContribNbextensionsApp] Copying: C:\\Users\\shshin\\anaconda3\\envs\\data\\lib\\site-packages\\jupyter_contrib_nbextensions\\nbextensions\\snippets_menu\\snippets_menu.css -> C:\\ProgramData\\jupyter\\nbextensions\\snippets_menu\\snippets_menu.css\n",
      "[I 11:52:07 InstallContribNbextensionsApp] Copying: C:\\Users\\shshin\\anaconda3\\envs\\data\\lib\\site-packages\\jupyter_contrib_nbextensions\\nbextensions\\snippets_menu\\snippets_submenu_markdown.js -> C:\\ProgramData\\jupyter\\nbextensions\\snippets_menu\\snippets_submenu_markdown.js\n",
      "[I 11:52:07 InstallContribNbextensionsApp] Copying: C:\\Users\\shshin\\anaconda3\\envs\\data\\lib\\site-packages\\jupyter_contrib_nbextensions\\nbextensions\\snippets_menu\\snippets_submenu_python.js -> C:\\ProgramData\\jupyter\\nbextensions\\snippets_menu\\snippets_submenu_python.js\n",
      "[I 11:52:07 InstallContribNbextensionsApp] Copying: C:\\Users\\shshin\\anaconda3\\envs\\data\\lib\\site-packages\\jupyter_contrib_nbextensions\\nbextensions\\snippets_menu\\thumbnail.png -> C:\\ProgramData\\jupyter\\nbextensions\\snippets_menu\\thumbnail.png\n",
      "[I 11:52:07 InstallContribNbextensionsApp] Making directory: C:\\ProgramData\\jupyter\\nbextensions\\snippets_menu\\snippets_submenus_python\n",
      "[I 11:52:07 InstallContribNbextensionsApp] Copying: C:\\Users\\shshin\\anaconda3\\envs\\data\\lib\\site-packages\\jupyter_contrib_nbextensions\\nbextensions\\snippets_menu\\snippets_submenus_python\\astropy.js -> C:\\ProgramData\\jupyter\\nbextensions\\snippets_menu\\snippets_submenus_python\\astropy.js\n",
      "[I 11:52:07 InstallContribNbextensionsApp] Copying: C:\\Users\\shshin\\anaconda3\\envs\\data\\lib\\site-packages\\jupyter_contrib_nbextensions\\nbextensions\\snippets_menu\\snippets_submenus_python\\h5py.js -> C:\\ProgramData\\jupyter\\nbextensions\\snippets_menu\\snippets_submenus_python\\h5py.js\n",
      "[I 11:52:07 InstallContribNbextensionsApp] Copying: C:\\Users\\shshin\\anaconda3\\envs\\data\\lib\\site-packages\\jupyter_contrib_nbextensions\\nbextensions\\snippets_menu\\snippets_submenus_python\\matplotlib.js -> C:\\ProgramData\\jupyter\\nbextensions\\snippets_menu\\snippets_submenus_python\\matplotlib.js\n",
      "[I 11:52:07 InstallContribNbextensionsApp] Copying: C:\\Users\\shshin\\anaconda3\\envs\\data\\lib\\site-packages\\jupyter_contrib_nbextensions\\nbextensions\\snippets_menu\\snippets_submenus_python\\numba.js -> C:\\ProgramData\\jupyter\\nbextensions\\snippets_menu\\snippets_submenus_python\\numba.js\n",
      "[I 11:52:07 InstallContribNbextensionsApp] Copying: C:\\Users\\shshin\\anaconda3\\envs\\data\\lib\\site-packages\\jupyter_contrib_nbextensions\\nbextensions\\snippets_menu\\snippets_submenus_python\\numpy.js -> C:\\ProgramData\\jupyter\\nbextensions\\snippets_menu\\snippets_submenus_python\\numpy.js\n",
      "[I 11:52:07 InstallContribNbextensionsApp] Copying: C:\\Users\\shshin\\anaconda3\\envs\\data\\lib\\site-packages\\jupyter_contrib_nbextensions\\nbextensions\\snippets_menu\\snippets_submenus_python\\numpy_polynomial.js -> C:\\ProgramData\\jupyter\\nbextensions\\snippets_menu\\snippets_submenus_python\\numpy_polynomial.js\n",
      "[I 11:52:07 InstallContribNbextensionsApp] Copying: C:\\Users\\shshin\\anaconda3\\envs\\data\\lib\\site-packages\\jupyter_contrib_nbextensions\\nbextensions\\snippets_menu\\snippets_submenus_python\\numpy_ufuncs.js -> C:\\ProgramData\\jupyter\\nbextensions\\snippets_menu\\snippets_submenus_python\\numpy_ufuncs.js\n",
      "[I 11:52:07 InstallContribNbextensionsApp] Copying: C:\\Users\\shshin\\anaconda3\\envs\\data\\lib\\site-packages\\jupyter_contrib_nbextensions\\nbextensions\\snippets_menu\\snippets_submenus_python\\pandas.js -> C:\\ProgramData\\jupyter\\nbextensions\\snippets_menu\\snippets_submenus_python\\pandas.js\n",
      "[I 11:52:07 InstallContribNbextensionsApp] Copying: C:\\Users\\shshin\\anaconda3\\envs\\data\\lib\\site-packages\\jupyter_contrib_nbextensions\\nbextensions\\snippets_menu\\snippets_submenus_python\\python.js -> C:\\ProgramData\\jupyter\\nbextensions\\snippets_menu\\snippets_submenus_python\\python.js\n",
      "[I 11:52:07 InstallContribNbextensionsApp] Copying: C:\\Users\\shshin\\anaconda3\\envs\\data\\lib\\site-packages\\jupyter_contrib_nbextensions\\nbextensions\\snippets_menu\\snippets_submenus_python\\python_regex.js -> C:\\ProgramData\\jupyter\\nbextensions\\snippets_menu\\snippets_submenus_python\\python_regex.js\n",
      "[I 11:52:07 InstallContribNbextensionsApp] Copying: C:\\Users\\shshin\\anaconda3\\envs\\data\\lib\\site-packages\\jupyter_contrib_nbextensions\\nbextensions\\snippets_menu\\snippets_submenus_python\\scipy.js -> C:\\ProgramData\\jupyter\\nbextensions\\snippets_menu\\snippets_submenus_python\\scipy.js\n",
      "[I 11:52:07 InstallContribNbextensionsApp] Copying: C:\\Users\\shshin\\anaconda3\\envs\\data\\lib\\site-packages\\jupyter_contrib_nbextensions\\nbextensions\\snippets_menu\\snippets_submenus_python\\scipy_constants.js -> C:\\ProgramData\\jupyter\\nbextensions\\snippets_menu\\snippets_submenus_python\\scipy_constants.js\n",
      "[I 11:52:07 InstallContribNbextensionsApp] Copying: C:\\Users\\shshin\\anaconda3\\envs\\data\\lib\\site-packages\\jupyter_contrib_nbextensions\\nbextensions\\snippets_menu\\snippets_submenus_python\\scipy_special.js -> C:\\ProgramData\\jupyter\\nbextensions\\snippets_menu\\snippets_submenus_python\\scipy_special.js\n",
      "[I 11:52:07 InstallContribNbextensionsApp] Copying: C:\\Users\\shshin\\anaconda3\\envs\\data\\lib\\site-packages\\jupyter_contrib_nbextensions\\nbextensions\\snippets_menu\\snippets_submenus_python\\sympy.js -> C:\\ProgramData\\jupyter\\nbextensions\\snippets_menu\\snippets_submenus_python\\sympy.js\n",
      "[I 11:52:07 InstallContribNbextensionsApp] Copying: C:\\Users\\shshin\\anaconda3\\envs\\data\\lib\\site-packages\\jupyter_contrib_nbextensions\\nbextensions\\snippets_menu\\snippets_submenus_python\\sympy_assumptions.js -> C:\\ProgramData\\jupyter\\nbextensions\\snippets_menu\\snippets_submenus_python\\sympy_assumptions.js\n",
      "[I 11:52:07 InstallContribNbextensionsApp] Copying: C:\\Users\\shshin\\anaconda3\\envs\\data\\lib\\site-packages\\jupyter_contrib_nbextensions\\nbextensions\\snippets_menu\\snippets_submenus_python\\sympy_functions.js -> C:\\ProgramData\\jupyter\\nbextensions\\snippets_menu\\snippets_submenus_python\\sympy_functions.js\n",
      "[I 11:52:07 InstallContribNbextensionsApp] - Validating: ok\n",
      "[I 11:52:07 InstallContribNbextensionsApp] Installing C:\\Users\\shshin\\anaconda3\\envs\\data\\lib\\site-packages\\jupyter_contrib_nbextensions\\nbextensions\\spellchecker -> spellchecker\n",
      "[I 11:52:07 InstallContribNbextensionsApp] Making directory: C:\\ProgramData\\jupyter\\nbextensions\\spellchecker\\\n",
      "[I 11:52:07 InstallContribNbextensionsApp] Copying: C:\\Users\\shshin\\anaconda3\\envs\\data\\lib\\site-packages\\jupyter_contrib_nbextensions\\nbextensions\\spellchecker\\config.yaml -> C:\\ProgramData\\jupyter\\nbextensions\\spellchecker\\config.yaml\n",
      "[I 11:52:07 InstallContribNbextensionsApp] Copying: C:\\Users\\shshin\\anaconda3\\envs\\data\\lib\\site-packages\\jupyter_contrib_nbextensions\\nbextensions\\spellchecker\\download_new_dict.py -> C:\\ProgramData\\jupyter\\nbextensions\\spellchecker\\download_new_dict.py\n",
      "[I 11:52:07 InstallContribNbextensionsApp] Copying: C:\\Users\\shshin\\anaconda3\\envs\\data\\lib\\site-packages\\jupyter_contrib_nbextensions\\nbextensions\\spellchecker\\main.css -> C:\\ProgramData\\jupyter\\nbextensions\\spellchecker\\main.css\n",
      "[I 11:52:07 InstallContribNbextensionsApp] Copying: C:\\Users\\shshin\\anaconda3\\envs\\data\\lib\\site-packages\\jupyter_contrib_nbextensions\\nbextensions\\spellchecker\\main.js -> C:\\ProgramData\\jupyter\\nbextensions\\spellchecker\\main.js\n",
      "[I 11:52:07 InstallContribNbextensionsApp] Copying: C:\\Users\\shshin\\anaconda3\\envs\\data\\lib\\site-packages\\jupyter_contrib_nbextensions\\nbextensions\\spellchecker\\README.md -> C:\\ProgramData\\jupyter\\nbextensions\\spellchecker\\README.md\n",
      "[I 11:52:07 InstallContribNbextensionsApp] Copying: C:\\Users\\shshin\\anaconda3\\envs\\data\\lib\\site-packages\\jupyter_contrib_nbextensions\\nbextensions\\spellchecker\\screenshot.png -> C:\\ProgramData\\jupyter\\nbextensions\\spellchecker\\screenshot.png\n",
      "[I 11:52:07 InstallContribNbextensionsApp] Making directory: C:\\ProgramData\\jupyter\\nbextensions\\spellchecker\\typo\n",
      "[I 11:52:07 InstallContribNbextensionsApp] Copying: C:\\Users\\shshin\\anaconda3\\envs\\data\\lib\\site-packages\\jupyter_contrib_nbextensions\\nbextensions\\spellchecker\\typo\\LICENSE.txt -> C:\\ProgramData\\jupyter\\nbextensions\\spellchecker\\typo\\LICENSE.txt\n",
      "[I 11:52:07 InstallContribNbextensionsApp] Copying: C:\\Users\\shshin\\anaconda3\\envs\\data\\lib\\site-packages\\jupyter_contrib_nbextensions\\nbextensions\\spellchecker\\typo\\typo.js -> C:\\ProgramData\\jupyter\\nbextensions\\spellchecker\\typo\\typo.js\n",
      "[I 11:52:07 InstallContribNbextensionsApp] Making directory: C:\\ProgramData\\jupyter\\nbextensions\\spellchecker\\__pycache__\n",
      "[I 11:52:07 InstallContribNbextensionsApp] Copying: C:\\Users\\shshin\\anaconda3\\envs\\data\\lib\\site-packages\\jupyter_contrib_nbextensions\\nbextensions\\spellchecker\\__pycache__\\download_new_dict.cpython-36.pyc -> C:\\ProgramData\\jupyter\\nbextensions\\spellchecker\\__pycache__\\download_new_dict.cpython-36.pyc\n",
      "[I 11:52:07 InstallContribNbextensionsApp] - Validating: ok\n",
      "[I 11:52:07 InstallContribNbextensionsApp] Installing C:\\Users\\shshin\\anaconda3\\envs\\data\\lib\\site-packages\\jupyter_contrib_nbextensions\\nbextensions\\splitcell -> splitcell\n",
      "[I 11:52:07 InstallContribNbextensionsApp] Making directory: C:\\ProgramData\\jupyter\\nbextensions\\splitcell\\\n",
      "[I 11:52:07 InstallContribNbextensionsApp] Copying: C:\\Users\\shshin\\anaconda3\\envs\\data\\lib\\site-packages\\jupyter_contrib_nbextensions\\nbextensions\\splitcell\\icon.png -> C:\\ProgramData\\jupyter\\nbextensions\\splitcell\\icon.png\n",
      "[I 11:52:07 InstallContribNbextensionsApp] Copying: C:\\Users\\shshin\\anaconda3\\envs\\data\\lib\\site-packages\\jupyter_contrib_nbextensions\\nbextensions\\splitcell\\readme.md -> C:\\ProgramData\\jupyter\\nbextensions\\splitcell\\readme.md\n",
      "[I 11:52:07 InstallContribNbextensionsApp] Copying: C:\\Users\\shshin\\anaconda3\\envs\\data\\lib\\site-packages\\jupyter_contrib_nbextensions\\nbextensions\\splitcell\\splitcell.js -> C:\\ProgramData\\jupyter\\nbextensions\\splitcell\\splitcell.js\n",
      "[I 11:52:07 InstallContribNbextensionsApp] Copying: C:\\Users\\shshin\\anaconda3\\envs\\data\\lib\\site-packages\\jupyter_contrib_nbextensions\\nbextensions\\splitcell\\splitcell.yaml -> C:\\ProgramData\\jupyter\\nbextensions\\splitcell\\splitcell.yaml\n",
      "[I 11:52:07 InstallContribNbextensionsApp] - Validating: ok\n",
      "[I 11:52:07 InstallContribNbextensionsApp] Installing C:\\Users\\shshin\\anaconda3\\envs\\data\\lib\\site-packages\\jupyter_contrib_nbextensions\\nbextensions\\table_beautifier -> table_beautifier\n",
      "[I 11:52:07 InstallContribNbextensionsApp] Making directory: C:\\ProgramData\\jupyter\\nbextensions\\table_beautifier\\\n",
      "[I 11:52:07 InstallContribNbextensionsApp] Copying: C:\\Users\\shshin\\anaconda3\\envs\\data\\lib\\site-packages\\jupyter_contrib_nbextensions\\nbextensions\\table_beautifier\\main.css -> C:\\ProgramData\\jupyter\\nbextensions\\table_beautifier\\main.css\n",
      "[I 11:52:07 InstallContribNbextensionsApp] Copying: C:\\Users\\shshin\\anaconda3\\envs\\data\\lib\\site-packages\\jupyter_contrib_nbextensions\\nbextensions\\table_beautifier\\main.js -> C:\\ProgramData\\jupyter\\nbextensions\\table_beautifier\\main.js\n",
      "[I 11:52:07 InstallContribNbextensionsApp] Copying: C:\\Users\\shshin\\anaconda3\\envs\\data\\lib\\site-packages\\jupyter_contrib_nbextensions\\nbextensions\\table_beautifier\\README.md -> C:\\ProgramData\\jupyter\\nbextensions\\table_beautifier\\README.md\n",
      "[I 11:52:07 InstallContribNbextensionsApp] Copying: C:\\Users\\shshin\\anaconda3\\envs\\data\\lib\\site-packages\\jupyter_contrib_nbextensions\\nbextensions\\table_beautifier\\table_beautifier.yaml -> C:\\ProgramData\\jupyter\\nbextensions\\table_beautifier\\table_beautifier.yaml\n",
      "[I 11:52:07 InstallContribNbextensionsApp] - Validating: ok\n",
      "[I 11:52:07 InstallContribNbextensionsApp] Installing C:\\Users\\shshin\\anaconda3\\envs\\data\\lib\\site-packages\\jupyter_contrib_nbextensions\\nbextensions\\toc2 -> toc2\n",
      "[I 11:52:07 InstallContribNbextensionsApp] Making directory: C:\\ProgramData\\jupyter\\nbextensions\\toc2\\\n",
      "[I 11:52:07 InstallContribNbextensionsApp] Copying: C:\\Users\\shshin\\anaconda3\\envs\\data\\lib\\site-packages\\jupyter_contrib_nbextensions\\nbextensions\\toc2\\demo.gif -> C:\\ProgramData\\jupyter\\nbextensions\\toc2\\demo.gif\n",
      "[I 11:52:07 InstallContribNbextensionsApp] Copying: C:\\Users\\shshin\\anaconda3\\envs\\data\\lib\\site-packages\\jupyter_contrib_nbextensions\\nbextensions\\toc2\\demo2.gif -> C:\\ProgramData\\jupyter\\nbextensions\\toc2\\demo2.gif\n",
      "[I 11:52:07 InstallContribNbextensionsApp] Copying: C:\\Users\\shshin\\anaconda3\\envs\\data\\lib\\site-packages\\jupyter_contrib_nbextensions\\nbextensions\\toc2\\demo3.gif -> C:\\ProgramData\\jupyter\\nbextensions\\toc2\\demo3.gif\n",
      "[I 11:52:07 InstallContribNbextensionsApp] Copying: C:\\Users\\shshin\\anaconda3\\envs\\data\\lib\\site-packages\\jupyter_contrib_nbextensions\\nbextensions\\toc2\\demo_dark.png -> C:\\ProgramData\\jupyter\\nbextensions\\toc2\\demo_dark.png\n",
      "[I 11:52:07 InstallContribNbextensionsApp] Copying: C:\\Users\\shshin\\anaconda3\\envs\\data\\lib\\site-packages\\jupyter_contrib_nbextensions\\nbextensions\\toc2\\icon.png -> C:\\ProgramData\\jupyter\\nbextensions\\toc2\\icon.png\n",
      "[I 11:52:07 InstallContribNbextensionsApp] Copying: C:\\Users\\shshin\\anaconda3\\envs\\data\\lib\\site-packages\\jupyter_contrib_nbextensions\\nbextensions\\toc2\\image.png -> C:\\ProgramData\\jupyter\\nbextensions\\toc2\\image.png\n",
      "[I 11:52:07 InstallContribNbextensionsApp] Copying: C:\\Users\\shshin\\anaconda3\\envs\\data\\lib\\site-packages\\jupyter_contrib_nbextensions\\nbextensions\\toc2\\main.css -> C:\\ProgramData\\jupyter\\nbextensions\\toc2\\main.css\n",
      "[I 11:52:07 InstallContribNbextensionsApp] Copying: C:\\Users\\shshin\\anaconda3\\envs\\data\\lib\\site-packages\\jupyter_contrib_nbextensions\\nbextensions\\toc2\\main.js -> C:\\ProgramData\\jupyter\\nbextensions\\toc2\\main.js\n",
      "[I 11:52:07 InstallContribNbextensionsApp] Copying: C:\\Users\\shshin\\anaconda3\\envs\\data\\lib\\site-packages\\jupyter_contrib_nbextensions\\nbextensions\\toc2\\README.md -> C:\\ProgramData\\jupyter\\nbextensions\\toc2\\README.md\n",
      "[I 11:52:07 InstallContribNbextensionsApp] Copying: C:\\Users\\shshin\\anaconda3\\envs\\data\\lib\\site-packages\\jupyter_contrib_nbextensions\\nbextensions\\toc2\\toc2.js -> C:\\ProgramData\\jupyter\\nbextensions\\toc2\\toc2.js\n",
      "[I 11:52:07 InstallContribNbextensionsApp] Copying: C:\\Users\\shshin\\anaconda3\\envs\\data\\lib\\site-packages\\jupyter_contrib_nbextensions\\nbextensions\\toc2\\toc2.yaml -> C:\\ProgramData\\jupyter\\nbextensions\\toc2\\toc2.yaml\n",
      "[I 11:52:07 InstallContribNbextensionsApp] - Validating: ok\n",
      "[I 11:52:07 InstallContribNbextensionsApp] Installing C:\\Users\\shshin\\anaconda3\\envs\\data\\lib\\site-packages\\jupyter_contrib_nbextensions\\nbextensions\\toggle_all_line_numbers -> toggle_all_line_numbers\n",
      "[I 11:52:07 InstallContribNbextensionsApp] Making directory: C:\\ProgramData\\jupyter\\nbextensions\\toggle_all_line_numbers\\\n",
      "[I 11:52:07 InstallContribNbextensionsApp] Copying: C:\\Users\\shshin\\anaconda3\\envs\\data\\lib\\site-packages\\jupyter_contrib_nbextensions\\nbextensions\\toggle_all_line_numbers\\icon.png -> C:\\ProgramData\\jupyter\\nbextensions\\toggle_all_line_numbers\\icon.png\n",
      "[I 11:52:07 InstallContribNbextensionsApp] Copying: C:\\Users\\shshin\\anaconda3\\envs\\data\\lib\\site-packages\\jupyter_contrib_nbextensions\\nbextensions\\toggle_all_line_numbers\\main.js -> C:\\ProgramData\\jupyter\\nbextensions\\toggle_all_line_numbers\\main.js\n",
      "[I 11:52:07 InstallContribNbextensionsApp] Copying: C:\\Users\\shshin\\anaconda3\\envs\\data\\lib\\site-packages\\jupyter_contrib_nbextensions\\nbextensions\\toggle_all_line_numbers\\main.yaml -> C:\\ProgramData\\jupyter\\nbextensions\\toggle_all_line_numbers\\main.yaml\n",
      "[I 11:52:07 InstallContribNbextensionsApp] Copying: C:\\Users\\shshin\\anaconda3\\envs\\data\\lib\\site-packages\\jupyter_contrib_nbextensions\\nbextensions\\toggle_all_line_numbers\\readme.md -> C:\\ProgramData\\jupyter\\nbextensions\\toggle_all_line_numbers\\readme.md\n",
      "[I 11:52:07 InstallContribNbextensionsApp] - Validating: ok\n",
      "[I 11:52:07 InstallContribNbextensionsApp] Installing C:\\Users\\shshin\\anaconda3\\envs\\data\\lib\\site-packages\\jupyter_contrib_nbextensions\\nbextensions\\tree-filter -> tree-filter\n",
      "[I 11:52:07 InstallContribNbextensionsApp] Making directory: C:\\ProgramData\\jupyter\\nbextensions\\tree-filter\\\n",
      "[I 11:52:07 InstallContribNbextensionsApp] Copying: C:\\Users\\shshin\\anaconda3\\envs\\data\\lib\\site-packages\\jupyter_contrib_nbextensions\\nbextensions\\tree-filter\\demo.gif -> C:\\ProgramData\\jupyter\\nbextensions\\tree-filter\\demo.gif\n",
      "[I 11:52:07 InstallContribNbextensionsApp] Copying: C:\\Users\\shshin\\anaconda3\\envs\\data\\lib\\site-packages\\jupyter_contrib_nbextensions\\nbextensions\\tree-filter\\index.js -> C:\\ProgramData\\jupyter\\nbextensions\\tree-filter\\index.js\n",
      "[I 11:52:07 InstallContribNbextensionsApp] Copying: C:\\Users\\shshin\\anaconda3\\envs\\data\\lib\\site-packages\\jupyter_contrib_nbextensions\\nbextensions\\tree-filter\\readme.md -> C:\\ProgramData\\jupyter\\nbextensions\\tree-filter\\readme.md\n",
      "[I 11:52:07 InstallContribNbextensionsApp] Copying: C:\\Users\\shshin\\anaconda3\\envs\\data\\lib\\site-packages\\jupyter_contrib_nbextensions\\nbextensions\\tree-filter\\tree-filter.yaml -> C:\\ProgramData\\jupyter\\nbextensions\\tree-filter\\tree-filter.yaml\n",
      "[I 11:52:07 InstallContribNbextensionsApp] - Validating: ok\n",
      "[I 11:52:07 InstallContribNbextensionsApp] Installing C:\\Users\\shshin\\anaconda3\\envs\\data\\lib\\site-packages\\jupyter_contrib_nbextensions\\nbextensions\\varInspector -> varInspector\n",
      "[I 11:52:07 InstallContribNbextensionsApp] Making directory: C:\\ProgramData\\jupyter\\nbextensions\\varInspector\\\n",
      "[I 11:52:07 InstallContribNbextensionsApp] Copying: C:\\Users\\shshin\\anaconda3\\envs\\data\\lib\\site-packages\\jupyter_contrib_nbextensions\\nbextensions\\varInspector\\demo.gif -> C:\\ProgramData\\jupyter\\nbextensions\\varInspector\\demo.gif\n",
      "[I 11:52:07 InstallContribNbextensionsApp] Copying: C:\\Users\\shshin\\anaconda3\\envs\\data\\lib\\site-packages\\jupyter_contrib_nbextensions\\nbextensions\\varInspector\\icon.png -> C:\\ProgramData\\jupyter\\nbextensions\\varInspector\\icon.png\n",
      "[I 11:52:07 InstallContribNbextensionsApp] Copying: C:\\Users\\shshin\\anaconda3\\envs\\data\\lib\\site-packages\\jupyter_contrib_nbextensions\\nbextensions\\varInspector\\jquery.tablesorter.min.js -> C:\\ProgramData\\jupyter\\nbextensions\\varInspector\\jquery.tablesorter.min.js\n",
      "[I 11:52:07 InstallContribNbextensionsApp] Copying: C:\\Users\\shshin\\anaconda3\\envs\\data\\lib\\site-packages\\jupyter_contrib_nbextensions\\nbextensions\\varInspector\\main.css -> C:\\ProgramData\\jupyter\\nbextensions\\varInspector\\main.css\n",
      "[I 11:52:07 InstallContribNbextensionsApp] Copying: C:\\Users\\shshin\\anaconda3\\envs\\data\\lib\\site-packages\\jupyter_contrib_nbextensions\\nbextensions\\varInspector\\main.js -> C:\\ProgramData\\jupyter\\nbextensions\\varInspector\\main.js\n",
      "[I 11:52:07 InstallContribNbextensionsApp] Copying: C:\\Users\\shshin\\anaconda3\\envs\\data\\lib\\site-packages\\jupyter_contrib_nbextensions\\nbextensions\\varInspector\\README.md -> C:\\ProgramData\\jupyter\\nbextensions\\varInspector\\README.md\n",
      "[I 11:52:07 InstallContribNbextensionsApp] Copying: C:\\Users\\shshin\\anaconda3\\envs\\data\\lib\\site-packages\\jupyter_contrib_nbextensions\\nbextensions\\varInspector\\tablesorter_LICENSE.txt -> C:\\ProgramData\\jupyter\\nbextensions\\varInspector\\tablesorter_LICENSE.txt\n",
      "[I 11:52:07 InstallContribNbextensionsApp] Copying: C:\\Users\\shshin\\anaconda3\\envs\\data\\lib\\site-packages\\jupyter_contrib_nbextensions\\nbextensions\\varInspector\\varInspector.yaml -> C:\\ProgramData\\jupyter\\nbextensions\\varInspector\\varInspector.yaml\n",
      "[I 11:52:07 InstallContribNbextensionsApp] Copying: C:\\Users\\shshin\\anaconda3\\envs\\data\\lib\\site-packages\\jupyter_contrib_nbextensions\\nbextensions\\varInspector\\var_list.py -> C:\\ProgramData\\jupyter\\nbextensions\\varInspector\\var_list.py\n",
      "[I 11:52:07 InstallContribNbextensionsApp] Copying: C:\\Users\\shshin\\anaconda3\\envs\\data\\lib\\site-packages\\jupyter_contrib_nbextensions\\nbextensions\\varInspector\\var_list.r -> C:\\ProgramData\\jupyter\\nbextensions\\varInspector\\var_list.r\n",
      "[I 11:52:07 InstallContribNbextensionsApp] Making directory: C:\\ProgramData\\jupyter\\nbextensions\\varInspector\\__pycache__\n",
      "[I 11:52:07 InstallContribNbextensionsApp] Copying: C:\\Users\\shshin\\anaconda3\\envs\\data\\lib\\site-packages\\jupyter_contrib_nbextensions\\nbextensions\\varInspector\\__pycache__\\var_list.cpython-36.pyc -> C:\\ProgramData\\jupyter\\nbextensions\\varInspector\\__pycache__\\var_list.cpython-36.pyc\n",
      "[I 11:52:07 InstallContribNbextensionsApp] - Validating: ok\n",
      "[I 11:52:07 InstallContribNbextensionsApp] Installing C:\\Users\\shshin\\anaconda3\\envs\\data\\lib\\site-packages\\jupyter_contrib_nbextensions\\nbextensions\\zenmode -> zenmode\n",
      "[I 11:52:07 InstallContribNbextensionsApp] Making directory: C:\\ProgramData\\jupyter\\nbextensions\\zenmode\\\n",
      "[I 11:52:07 InstallContribNbextensionsApp] Copying: C:\\Users\\shshin\\anaconda3\\envs\\data\\lib\\site-packages\\jupyter_contrib_nbextensions\\nbextensions\\zenmode\\main.css -> C:\\ProgramData\\jupyter\\nbextensions\\zenmode\\main.css\n",
      "[I 11:52:07 InstallContribNbextensionsApp] Copying: C:\\Users\\shshin\\anaconda3\\envs\\data\\lib\\site-packages\\jupyter_contrib_nbextensions\\nbextensions\\zenmode\\main.js -> C:\\ProgramData\\jupyter\\nbextensions\\zenmode\\main.js\n",
      "[I 11:52:07 InstallContribNbextensionsApp] Copying: C:\\Users\\shshin\\anaconda3\\envs\\data\\lib\\site-packages\\jupyter_contrib_nbextensions\\nbextensions\\zenmode\\README.md -> C:\\ProgramData\\jupyter\\nbextensions\\zenmode\\README.md\n",
      "[I 11:52:07 InstallContribNbextensionsApp] Copying: C:\\Users\\shshin\\anaconda3\\envs\\data\\lib\\site-packages\\jupyter_contrib_nbextensions\\nbextensions\\zenmode\\zenmode.yaml -> C:\\ProgramData\\jupyter\\nbextensions\\zenmode\\zenmode.yaml\n",
      "[I 11:52:07 InstallContribNbextensionsApp] Making directory: C:\\ProgramData\\jupyter\\nbextensions\\zenmode\\images\n",
      "[I 11:52:07 InstallContribNbextensionsApp] Copying: C:\\Users\\shshin\\anaconda3\\envs\\data\\lib\\site-packages\\jupyter_contrib_nbextensions\\nbextensions\\zenmode\\images\\back1.jpg -> C:\\ProgramData\\jupyter\\nbextensions\\zenmode\\images\\back1.jpg\n",
      "[I 11:52:07 InstallContribNbextensionsApp] Copying: C:\\Users\\shshin\\anaconda3\\envs\\data\\lib\\site-packages\\jupyter_contrib_nbextensions\\nbextensions\\zenmode\\images\\back11.jpg -> C:\\ProgramData\\jupyter\\nbextensions\\zenmode\\images\\back11.jpg\n",
      "[I 11:52:07 InstallContribNbextensionsApp] Copying: C:\\Users\\shshin\\anaconda3\\envs\\data\\lib\\site-packages\\jupyter_contrib_nbextensions\\nbextensions\\zenmode\\images\\back12.jpg -> C:\\ProgramData\\jupyter\\nbextensions\\zenmode\\images\\back12.jpg\n",
      "[I 11:52:07 InstallContribNbextensionsApp] Copying: C:\\Users\\shshin\\anaconda3\\envs\\data\\lib\\site-packages\\jupyter_contrib_nbextensions\\nbextensions\\zenmode\\images\\back2.jpg -> C:\\ProgramData\\jupyter\\nbextensions\\zenmode\\images\\back2.jpg\n",
      "[I 11:52:07 InstallContribNbextensionsApp] Copying: C:\\Users\\shshin\\anaconda3\\envs\\data\\lib\\site-packages\\jupyter_contrib_nbextensions\\nbextensions\\zenmode\\images\\back21.jpg -> C:\\ProgramData\\jupyter\\nbextensions\\zenmode\\images\\back21.jpg\n",
      "[I 11:52:07 InstallContribNbextensionsApp] Copying: C:\\Users\\shshin\\anaconda3\\envs\\data\\lib\\site-packages\\jupyter_contrib_nbextensions\\nbextensions\\zenmode\\images\\back22.jpg -> C:\\ProgramData\\jupyter\\nbextensions\\zenmode\\images\\back22.jpg\n",
      "[I 11:52:07 InstallContribNbextensionsApp] Copying: C:\\Users\\shshin\\anaconda3\\envs\\data\\lib\\site-packages\\jupyter_contrib_nbextensions\\nbextensions\\zenmode\\images\\back3.jpg -> C:\\ProgramData\\jupyter\\nbextensions\\zenmode\\images\\back3.jpg\n",
      "[I 11:52:07 InstallContribNbextensionsApp] Copying: C:\\Users\\shshin\\anaconda3\\envs\\data\\lib\\site-packages\\jupyter_contrib_nbextensions\\nbextensions\\zenmode\\images\\ipynblogo0.png -> C:\\ProgramData\\jupyter\\nbextensions\\zenmode\\images\\ipynblogo0.png\n",
      "[I 11:52:07 InstallContribNbextensionsApp] Copying: C:\\Users\\shshin\\anaconda3\\envs\\data\\lib\\site-packages\\jupyter_contrib_nbextensions\\nbextensions\\zenmode\\images\\ipynblogo1.png -> C:\\ProgramData\\jupyter\\nbextensions\\zenmode\\images\\ipynblogo1.png\n",
      "[I 11:52:07 InstallContribNbextensionsApp] - Validating: ok\n",
      "[I 11:52:07 InstallContribNbextensionsApp] Installing C:\\Users\\shshin\\anaconda3\\envs\\data\\lib\\site-packages\\jupyter_highlight_selected_word\\static\\highlight_selected_word -> highlight_selected_word\n",
      "[I 11:52:07 InstallContribNbextensionsApp] Making directory: C:\\ProgramData\\jupyter\\nbextensions\\highlight_selected_word\\\n",
      "[I 11:52:07 InstallContribNbextensionsApp] Copying: C:\\Users\\shshin\\anaconda3\\envs\\data\\lib\\site-packages\\jupyter_highlight_selected_word\\static\\highlight_selected_word\\configurator.yaml -> C:\\ProgramData\\jupyter\\nbextensions\\highlight_selected_word\\configurator.yaml\n",
      "[I 11:52:07 InstallContribNbextensionsApp] Copying: C:\\Users\\shshin\\anaconda3\\envs\\data\\lib\\site-packages\\jupyter_highlight_selected_word\\static\\highlight_selected_word\\main.js -> C:\\ProgramData\\jupyter\\nbextensions\\highlight_selected_word\\main.js\n",
      "[I 11:52:07 InstallContribNbextensionsApp] Copying: C:\\Users\\shshin\\anaconda3\\envs\\data\\lib\\site-packages\\jupyter_highlight_selected_word\\static\\highlight_selected_word\\README.md -> C:\\ProgramData\\jupyter\\nbextensions\\highlight_selected_word\\README.md\n",
      "[I 11:52:07 InstallContribNbextensionsApp] - Validating: ok\n",
      "[I 11:52:07 InstallContribNbextensionsApp] Installing jupyter_contrib_nbextensions items to config in C:\\ProgramData\\jupyter\n",
      "Enabling: jupyter_nbextensions_configurator\n",
      "- Writing config: C:\\ProgramData\\jupyter\n",
      "    - Validating...\n",
      "      jupyter_nbextensions_configurator 0.6.1 ok\n",
      "Enabling notebook nbextension nbextensions_configurator/config_menu/main...\n",
      "Enabling tree nbextension nbextensions_configurator/tree_tab/main...\n",
      "[I 11:52:07 InstallContribNbextensionsApp] Enabling notebook extension contrib_nbextensions_help_item/main...\n",
      "[I 11:52:07 InstallContribNbextensionsApp]       - Validating: ok\n",
      "[I 11:52:07 InstallContribNbextensionsApp] - Editing config: C:\\ProgramData\\jupyter\\jupyter_nbconvert_config.json\n",
      "[I 11:52:07 InstallContribNbextensionsApp] --  Configuring nbconvert template path\n",
      "[I 11:52:07 InstallContribNbextensionsApp] --  Configuring nbconvert preprocessors\n",
      "[I 11:52:07 InstallContribNbextensionsApp] - Writing config: C:\\ProgramData\\jupyter\\jupyter_nbconvert_config.json\n",
      "[I 11:52:07 InstallContribNbextensionsApp] --  Writing updated config file C:\\ProgramData\\jupyter\\jupyter_nbconvert_config.json\n"
     ]
    }
   ],
   "source": [
    "pip install jupyter_contrib_nbextensions && jupyter contrib nbextension install"
   ]
  },
  {
   "cell_type": "code",
   "execution_count": 4,
   "id": "0db46c4b",
   "metadata": {},
   "outputs": [
    {
     "data": {
      "text/plain": [
       "array([1, 4, 2, 5, 3])"
      ]
     },
     "execution_count": 4,
     "metadata": {},
     "output_type": "execute_result"
    }
   ],
   "source": [
    "np.array([1, 4, 2, 5, 3])"
   ]
  },
  {
   "cell_type": "code",
   "execution_count": 5,
   "id": "e807be88",
   "metadata": {},
   "outputs": [],
   "source": [
    "np.random.seed(0)"
   ]
  },
  {
   "cell_type": "code",
   "execution_count": 6,
   "id": "78c1dfa3",
   "metadata": {},
   "outputs": [],
   "source": [
    "x1 = np.random.randint(10, size=6)\n",
    "x2 = np.random.randint(10, size=(3, 4))\n",
    "x3 = np.random.randint(10, size=(3, 4, 5))"
   ]
  },
  {
   "cell_type": "code",
   "execution_count": 7,
   "id": "8029e2bf",
   "metadata": {},
   "outputs": [
    {
     "data": {
      "text/plain": [
       "3"
      ]
     },
     "execution_count": 7,
     "metadata": {},
     "output_type": "execute_result"
    }
   ],
   "source": [
    "x3.ndim"
   ]
  },
  {
   "cell_type": "code",
   "execution_count": 8,
   "id": "ac1a3e5c",
   "metadata": {},
   "outputs": [
    {
     "data": {
      "text/plain": [
       "(3, 4, 5)"
      ]
     },
     "execution_count": 8,
     "metadata": {},
     "output_type": "execute_result"
    }
   ],
   "source": [
    "x3.shape"
   ]
  },
  {
   "cell_type": "code",
   "execution_count": 9,
   "id": "bca6f7bd",
   "metadata": {},
   "outputs": [
    {
     "data": {
      "text/plain": [
       "60"
      ]
     },
     "execution_count": 9,
     "metadata": {},
     "output_type": "execute_result"
    }
   ],
   "source": [
    "x3.size"
   ]
  },
  {
   "cell_type": "code",
   "execution_count": 10,
   "id": "6dca4144",
   "metadata": {},
   "outputs": [
    {
     "data": {
      "text/plain": [
       "array([[[8, 1, 5, 9, 8],\n",
       "        [9, 4, 3, 0, 3],\n",
       "        [5, 0, 2, 3, 8],\n",
       "        [1, 3, 3, 3, 7]],\n",
       "\n",
       "       [[0, 1, 9, 9, 0],\n",
       "        [4, 7, 3, 2, 7],\n",
       "        [2, 0, 0, 4, 5],\n",
       "        [5, 6, 8, 4, 1]],\n",
       "\n",
       "       [[4, 9, 8, 1, 1],\n",
       "        [7, 9, 9, 3, 6],\n",
       "        [7, 2, 0, 3, 5],\n",
       "        [9, 4, 4, 6, 4]]])"
      ]
     },
     "execution_count": 10,
     "metadata": {},
     "output_type": "execute_result"
    }
   ],
   "source": [
    "x3"
   ]
  },
  {
   "cell_type": "code",
   "execution_count": 11,
   "id": "2f3c255c",
   "metadata": {},
   "outputs": [
    {
     "data": {
      "text/plain": [
       "dtype('int32')"
      ]
     },
     "execution_count": 11,
     "metadata": {},
     "output_type": "execute_result"
    }
   ],
   "source": [
    "x3.dtype"
   ]
  },
  {
   "cell_type": "code",
   "execution_count": 12,
   "id": "7d22b3b8",
   "metadata": {},
   "outputs": [
    {
     "data": {
      "text/plain": [
       "4"
      ]
     },
     "execution_count": 12,
     "metadata": {},
     "output_type": "execute_result"
    }
   ],
   "source": [
    "x3.itemsize"
   ]
  },
  {
   "cell_type": "code",
   "execution_count": 13,
   "id": "1bde454d",
   "metadata": {},
   "outputs": [
    {
     "data": {
      "text/plain": [
       "240"
      ]
     },
     "execution_count": 13,
     "metadata": {},
     "output_type": "execute_result"
    }
   ],
   "source": [
    "x3.nbytes"
   ]
  },
  {
   "cell_type": "code",
   "execution_count": 14,
   "id": "7b2f60b8",
   "metadata": {},
   "outputs": [],
   "source": [
    "x3 = np.random.randint(10, size=(3, 4, 5), dtype='int64')"
   ]
  },
  {
   "cell_type": "code",
   "execution_count": 15,
   "id": "11ad4244",
   "metadata": {},
   "outputs": [
    {
     "data": {
      "text/plain": [
       "8"
      ]
     },
     "execution_count": 15,
     "metadata": {},
     "output_type": "execute_result"
    }
   ],
   "source": [
    "x3.itemsize"
   ]
  },
  {
   "cell_type": "code",
   "execution_count": 16,
   "id": "b9615325",
   "metadata": {},
   "outputs": [
    {
     "data": {
      "text/plain": [
       "480"
      ]
     },
     "execution_count": 16,
     "metadata": {},
     "output_type": "execute_result"
    }
   ],
   "source": [
    "x3.nbytes"
   ]
  },
  {
   "cell_type": "code",
   "execution_count": 17,
   "id": "07744ca5",
   "metadata": {},
   "outputs": [
    {
     "data": {
      "text/plain": [
       "array([5, 0, 3, 3, 7, 9])"
      ]
     },
     "execution_count": 17,
     "metadata": {},
     "output_type": "execute_result"
    }
   ],
   "source": [
    "x1"
   ]
  },
  {
   "cell_type": "code",
   "execution_count": 18,
   "id": "3e5f88ab",
   "metadata": {},
   "outputs": [
    {
     "data": {
      "text/plain": [
       "5"
      ]
     },
     "execution_count": 18,
     "metadata": {},
     "output_type": "execute_result"
    }
   ],
   "source": [
    "x1[0]"
   ]
  },
  {
   "cell_type": "code",
   "execution_count": 19,
   "id": "e3a78e16",
   "metadata": {},
   "outputs": [
    {
     "data": {
      "text/plain": [
       "7"
      ]
     },
     "execution_count": 19,
     "metadata": {},
     "output_type": "execute_result"
    }
   ],
   "source": [
    "x1[4]"
   ]
  },
  {
   "cell_type": "code",
   "execution_count": 20,
   "id": "867c98bf",
   "metadata": {},
   "outputs": [
    {
     "data": {
      "text/plain": [
       "9"
      ]
     },
     "execution_count": 20,
     "metadata": {},
     "output_type": "execute_result"
    }
   ],
   "source": [
    "x1[-1]"
   ]
  },
  {
   "cell_type": "code",
   "execution_count": 21,
   "id": "b11b82ca",
   "metadata": {},
   "outputs": [
    {
     "data": {
      "text/plain": [
       "7"
      ]
     },
     "execution_count": 21,
     "metadata": {},
     "output_type": "execute_result"
    }
   ],
   "source": [
    "x1[-2]"
   ]
  },
  {
   "cell_type": "code",
   "execution_count": 22,
   "id": "18ce9ff5",
   "metadata": {},
   "outputs": [
    {
     "data": {
      "text/plain": [
       "array([[3, 5, 2, 4],\n",
       "       [7, 6, 8, 8],\n",
       "       [1, 6, 7, 7]])"
      ]
     },
     "execution_count": 22,
     "metadata": {},
     "output_type": "execute_result"
    }
   ],
   "source": [
    "x2"
   ]
  },
  {
   "cell_type": "code",
   "execution_count": 23,
   "id": "4486f710",
   "metadata": {},
   "outputs": [
    {
     "data": {
      "text/plain": [
       "3"
      ]
     },
     "execution_count": 23,
     "metadata": {},
     "output_type": "execute_result"
    }
   ],
   "source": [
    "x2[0, 0]"
   ]
  },
  {
   "cell_type": "code",
   "execution_count": 24,
   "id": "d4fd4fe0",
   "metadata": {},
   "outputs": [
    {
     "data": {
      "text/plain": [
       "1"
      ]
     },
     "execution_count": 24,
     "metadata": {},
     "output_type": "execute_result"
    }
   ],
   "source": [
    "x2[2, 0]"
   ]
  },
  {
   "cell_type": "code",
   "execution_count": 25,
   "id": "ad9e7470",
   "metadata": {},
   "outputs": [
    {
     "data": {
      "text/plain": [
       "7"
      ]
     },
     "execution_count": 25,
     "metadata": {},
     "output_type": "execute_result"
    }
   ],
   "source": [
    "x2[2, -1]"
   ]
  },
  {
   "cell_type": "code",
   "execution_count": 26,
   "id": "f47ead04",
   "metadata": {},
   "outputs": [],
   "source": [
    "x2[0, 0] = 12"
   ]
  },
  {
   "cell_type": "code",
   "execution_count": 27,
   "id": "2883ada0",
   "metadata": {},
   "outputs": [
    {
     "data": {
      "text/plain": [
       "array([[12,  5,  2,  4],\n",
       "       [ 7,  6,  8,  8],\n",
       "       [ 1,  6,  7,  7]])"
      ]
     },
     "execution_count": 27,
     "metadata": {},
     "output_type": "execute_result"
    }
   ],
   "source": [
    "x2"
   ]
  },
  {
   "cell_type": "code",
   "execution_count": 28,
   "id": "f4d46f29",
   "metadata": {},
   "outputs": [],
   "source": [
    "x1[0] = 3.1415"
   ]
  },
  {
   "cell_type": "code",
   "execution_count": 29,
   "id": "d50a8d28",
   "metadata": {},
   "outputs": [
    {
     "data": {
      "text/plain": [
       "array([3, 0, 3, 3, 7, 9])"
      ]
     },
     "execution_count": 29,
     "metadata": {},
     "output_type": "execute_result"
    }
   ],
   "source": [
    "x1"
   ]
  },
  {
   "cell_type": "code",
   "execution_count": 30,
   "id": "e594fb81",
   "metadata": {},
   "outputs": [],
   "source": [
    "x = np.arange(10)"
   ]
  },
  {
   "cell_type": "code",
   "execution_count": 31,
   "id": "71d1098d",
   "metadata": {},
   "outputs": [
    {
     "data": {
      "text/plain": [
       "array([0, 1, 2, 3, 4, 5, 6, 7, 8, 9])"
      ]
     },
     "execution_count": 31,
     "metadata": {},
     "output_type": "execute_result"
    }
   ],
   "source": [
    "x"
   ]
  },
  {
   "cell_type": "code",
   "execution_count": 32,
   "id": "dd55f158",
   "metadata": {},
   "outputs": [
    {
     "data": {
      "text/plain": [
       "array([0, 1, 2, 3, 4])"
      ]
     },
     "execution_count": 32,
     "metadata": {},
     "output_type": "execute_result"
    }
   ],
   "source": [
    "x[:5]"
   ]
  },
  {
   "cell_type": "code",
   "execution_count": 33,
   "id": "ae4f5125",
   "metadata": {},
   "outputs": [
    {
     "data": {
      "text/plain": [
       "array([5, 6, 7, 8, 9])"
      ]
     },
     "execution_count": 33,
     "metadata": {},
     "output_type": "execute_result"
    }
   ],
   "source": [
    "x[5:]"
   ]
  },
  {
   "cell_type": "code",
   "execution_count": 34,
   "id": "8a6bbb67",
   "metadata": {},
   "outputs": [
    {
     "data": {
      "text/plain": [
       "array([4, 5, 6])"
      ]
     },
     "execution_count": 34,
     "metadata": {},
     "output_type": "execute_result"
    }
   ],
   "source": [
    "x[4:7]"
   ]
  },
  {
   "cell_type": "code",
   "execution_count": 35,
   "id": "fad405ff",
   "metadata": {},
   "outputs": [
    {
     "data": {
      "text/plain": [
       "array([0, 2, 4, 6, 8])"
      ]
     },
     "execution_count": 35,
     "metadata": {},
     "output_type": "execute_result"
    }
   ],
   "source": [
    "x[::2]"
   ]
  },
  {
   "cell_type": "code",
   "execution_count": 36,
   "id": "b05a382b",
   "metadata": {},
   "outputs": [
    {
     "data": {
      "text/plain": [
       "array([1, 3, 5, 7, 9])"
      ]
     },
     "execution_count": 36,
     "metadata": {},
     "output_type": "execute_result"
    }
   ],
   "source": [
    "x[1::2]"
   ]
  },
  {
   "cell_type": "code",
   "execution_count": 37,
   "id": "2886af06",
   "metadata": {},
   "outputs": [
    {
     "data": {
      "text/plain": [
       "array([9, 8, 7, 6, 5, 4, 3, 2, 1, 0])"
      ]
     },
     "execution_count": 37,
     "metadata": {},
     "output_type": "execute_result"
    }
   ],
   "source": [
    "x[::-1]"
   ]
  },
  {
   "cell_type": "code",
   "execution_count": 38,
   "id": "91ece709",
   "metadata": {},
   "outputs": [],
   "source": [
    "l = [1,2,3,4,5]\n"
   ]
  },
  {
   "cell_type": "code",
   "execution_count": 39,
   "id": "09b7ed02",
   "metadata": {},
   "outputs": [
    {
     "data": {
      "text/plain": [
       "[1, 2]"
      ]
     },
     "execution_count": 39,
     "metadata": {},
     "output_type": "execute_result"
    }
   ],
   "source": [
    "l[:2]"
   ]
  },
  {
   "cell_type": "code",
   "execution_count": 40,
   "id": "4311aab0",
   "metadata": {},
   "outputs": [
    {
     "data": {
      "text/plain": [
       "[1, 2, 3, 4, 5]"
      ]
     },
     "execution_count": 40,
     "metadata": {},
     "output_type": "execute_result"
    }
   ],
   "source": [
    "l"
   ]
  },
  {
   "cell_type": "code",
   "execution_count": 41,
   "id": "b471c6db",
   "metadata": {},
   "outputs": [],
   "source": [
    "grid = np.arange(16).reshape((4,4,))"
   ]
  },
  {
   "cell_type": "code",
   "execution_count": 42,
   "id": "798ff292",
   "metadata": {},
   "outputs": [
    {
     "data": {
      "text/plain": [
       "array([[ 0,  1,  2,  3],\n",
       "       [ 4,  5,  6,  7],\n",
       "       [ 8,  9, 10, 11],\n",
       "       [12, 13, 14, 15]])"
      ]
     },
     "execution_count": 42,
     "metadata": {},
     "output_type": "execute_result"
    }
   ],
   "source": [
    "grid"
   ]
  },
  {
   "cell_type": "code",
   "execution_count": 43,
   "id": "f535e97d",
   "metadata": {},
   "outputs": [],
   "source": [
    "def compute_reciprocals(values):\n",
    "    output = np.empty(len(values))\n",
    "    \n",
    "    for i in range(len(values)):\n",
    "        output[i] = 1.0 / values[i]\n",
    "        \n",
    "    return output\n"
   ]
  },
  {
   "cell_type": "code",
   "execution_count": 45,
   "id": "b9e4f7d6",
   "metadata": {},
   "outputs": [
    {
     "data": {
      "text/plain": [
       "array([0.25      , 0.33333333, 1.        , 0.11111111, 0.11111111])"
      ]
     },
     "execution_count": 45,
     "metadata": {},
     "output_type": "execute_result"
    }
   ],
   "source": [
    "values = np.random.randint(1, 10, size=5)\n",
    "compute_reciprocals(values)"
   ]
  },
  {
   "cell_type": "code",
   "execution_count": 46,
   "id": "c28b7547",
   "metadata": {},
   "outputs": [
    {
     "name": "stdout",
     "output_type": "stream",
     "text": [
      "2.13 s ± 53.3 ms per loop (mean ± std. dev. of 7 runs, 1 loop each)\n"
     ]
    }
   ],
   "source": [
    "big_array = np.random.randint(1, 100, size=1000000)\n",
    "%timeit compute_reciprocals(big_array)"
   ]
  },
  {
   "cell_type": "code",
   "execution_count": null,
   "id": "512e3aa1",
   "metadata": {},
   "outputs": [],
   "source": []
  }
 ],
 "metadata": {
  "kernelspec": {
   "display_name": "Python 3 (ipykernel)",
   "language": "python",
   "name": "python3"
  },
  "language_info": {
   "codemirror_mode": {
    "name": "ipython",
    "version": 3
   },
   "file_extension": ".py",
   "mimetype": "text/x-python",
   "name": "python",
   "nbconvert_exporter": "python",
   "pygments_lexer": "ipython3",
   "version": "3.8.13"
  }
 },
 "nbformat": 4,
 "nbformat_minor": 5
}
