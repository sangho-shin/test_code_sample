{
 "cells": [
  {
   "cell_type": "raw",
   "id": "50c3297a",
   "metadata": {},
   "source": [
    "코드를 빠르게 하는 가장 쉬운 방법은 처리할 작업의 양을 줄이는 것이다.\n",
    "이를 위한 방법은 순수 C기반의 컴파일을 수행하는 사이썬,\n",
    "LLVM기반의 컴파일을 제공하는 Numba - numpy\n",
    "파이썬 가상 머신을 대체하는 내장 JIT 컴파일러를 포함하는 Pypy - 파이썬 내장 라이브러리만 사용한다면..\n",
    "\n",
    "AOT (agead of time) 방식의 사이썬\n",
    "JIT (Just in time) 방식의 numba, pypy - 적절할때 컴파일\n",
    "\n",
    "정수같은 파이썬 기본 객체는 내부적으로 더 높은 수준의 파이썬 객체가 감싼다. (예를들어 정수는 int 타입이 감싼다.)\n",
    "CPU를 많이 사용하는 코드의 내부에서는 변수의 타입을 잘 바꾸지 않는 편이다.\n",
    "\n",
    "일반적으로 CPU 시간을 많이 소모하는 코드는 다음과 같다.\n",
    "- 쉴틈 없이 바쁘게 동작하는 내부 루프\n",
    "- list, array 또는 np.array 항목에 대한 역참조\n",
    "- 수학 계산\n",
    "\n",
    "pypy의 또 다른 약점은 RAM를 많이 사용한다는점이다.\n",
    "\n",
    "사이썬 성숙되지만 C 언어를 좀 알아야함\n",
    "pypy 구현"
   ]
  }
 ],
 "metadata": {
  "kernelspec": {
   "display_name": "Python [conda env:data_analyzer] *",
   "language": "python",
   "name": "conda-env-data_analyzer-py"
  },
  "language_info": {
   "codemirror_mode": {
    "name": "ipython",
    "version": 3
   },
   "file_extension": ".py",
   "mimetype": "text/x-python",
   "name": "python",
   "nbconvert_exporter": "python",
   "pygments_lexer": "ipython3",
   "version": "3.10.8"
  }
 },
 "nbformat": 4,
 "nbformat_minor": 5
}
