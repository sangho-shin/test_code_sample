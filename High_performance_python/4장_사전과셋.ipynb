{
 "cells": [
  {
   "cell_type": "raw",
   "id": "e9ce960f",
   "metadata": {},
   "source": [
    "사전과 셋은 미리 정해진 순서로 정렬되지 않으나, 특정 데이터를 고유하게 참조할 수 있는 별도 객체\n",
    "사전은 키와 값, 셋은 유일한 키를 저장하는 자료구조 (집합 연산 수행할때 유용함)\n",
    "\n",
    "해시 가능한 타입은 __hash__ 매직함수 그리고 __eq__ 혹은 __cmp__ 매직 함수를 구현함.\n",
    "\n",
    "일반적으로 메모리를 많이 사용함.\n",
    "\n",
    "리스트를 정렬한 다음에 bisect 모듈을 이용하면 0(log n)의 시간복잡도로 검색 할 수 있다.\n",
    "# bisect : 원소들이 정렬된 리스트에서 특정 범위 내에 속하는 특정 값의 개수를 구할 때 효과적\n",
    "\n"
   ]
  },
  {
   "cell_type": "code",
   "execution_count": 8,
   "id": "7782ed5d",
   "metadata": {},
   "outputs": [
    {
     "data": {
      "text/plain": [
       "66"
      ]
     },
     "execution_count": 8,
     "metadata": {},
     "output_type": "execute_result"
    }
   ],
   "source": [
    "ord(\"B\")"
   ]
  },
  {
   "cell_type": "code",
   "execution_count": 9,
   "id": "dda5f113",
   "metadata": {},
   "outputs": [
    {
     "data": {
      "text/plain": [
       "82"
      ]
     },
     "execution_count": 9,
     "metadata": {},
     "output_type": "execute_result"
    }
   ],
   "source": [
    "ord(\"R\") "
   ]
  },
  {
   "cell_type": "code",
   "execution_count": 6,
   "id": "554bafd5",
   "metadata": {},
   "outputs": [
    {
     "data": {
      "text/plain": [
       "2"
      ]
     },
     "execution_count": 6,
     "metadata": {},
     "output_type": "execute_result"
    }
   ],
   "source": [
    "ord(\"B\") & 0b111"
   ]
  },
  {
   "cell_type": "code",
   "execution_count": 7,
   "id": "e925b904",
   "metadata": {},
   "outputs": [
    {
     "data": {
      "text/plain": [
       "2"
      ]
     },
     "execution_count": 7,
     "metadata": {},
     "output_type": "execute_result"
    }
   ],
   "source": [
    "ord(\"R\") & 0b111"
   ]
  },
  {
   "cell_type": "code",
   "execution_count": 10,
   "id": "4db8137f",
   "metadata": {},
   "outputs": [
    {
     "data": {
      "text/plain": [
       "74"
      ]
     },
     "execution_count": 10,
     "metadata": {},
     "output_type": "execute_result"
    }
   ],
   "source": [
    "ord(\"J\")"
   ]
  },
  {
   "cell_type": "code",
   "execution_count": 11,
   "id": "787d7698",
   "metadata": {},
   "outputs": [
    {
     "data": {
      "text/plain": [
       "2"
      ]
     },
     "execution_count": 11,
     "metadata": {},
     "output_type": "execute_result"
    }
   ],
   "source": [
    "ord(\"J\") & 0b111"
   ]
  },
  {
   "cell_type": "raw",
   "id": "e9ec99e3",
   "metadata": {},
   "source": [
    "해시 테이블에서 값을 삭제할 때 단순히 해당 메모리 블록을 null로 만드는 방법은 사용할 수 없다.\n",
    "크기 변경은 임계 크기에 다다를 떄. 큰 해시 테이블의 크기를 변경하는 일은 꽤 비싼 작업이다.\n",
    "기본적으로 사전 혹은 셋의 최소 크기는 8이다. (파이썬은 값을 3개만 저장하더라도 항목 8개에 해당하는 메모리 할당)\n",
    "그리고 사전이 2/3 만큼 찰 때마다 크기를 3배 늘린다. 따라서 빈 사전에 6번째 항목이 삽입되면 사전 크기가 18개를 저장할수 있게 커진다.\n",
    "기억해야 할 점은 해시 테이블이 크기를 줄이기도 한다는 사실이다. 즉 해시 테이블에서 많은 항목이 삭제되면 크기가 줄어들 수 있다. 하지만 크기 변경은 삽입 연산 중에만 발생한다.\n",
    "\n",
    "파이썬 객체는 이미 __hash__와 __cmp__ 함수를 구현하므로 일반적으로 해시가 가능하다.\n",
    "int, float, 튜플과 문자열, 리스트는 X"
   ]
  },
  {
   "cell_type": "code",
   "execution_count": 12,
   "id": "0822ba89",
   "metadata": {},
   "outputs": [
    {
     "data": {
      "text/plain": [
       "{<__main__.Point at 0x21f58468760>, <__main__.Point at 0x21f5846b910>}"
      ]
     },
     "execution_count": 12,
     "metadata": {},
     "output_type": "execute_result"
    }
   ],
   "source": [
    "class Point(object):\n",
    "    def __init__(self, x, y):\n",
    "        self.x, self.y = x, y\n",
    "        \n",
    "p1 = Point(1, 1)\n",
    "p2 = Point(1, 1)\n",
    "\n",
    "set([p1, p2])"
   ]
  },
  {
   "cell_type": "code",
   "execution_count": 13,
   "id": "4e886f08",
   "metadata": {},
   "outputs": [
    {
     "data": {
      "text/plain": [
       "False"
      ]
     },
     "execution_count": 13,
     "metadata": {},
     "output_type": "execute_result"
    }
   ],
   "source": [
    "Point(1, 1) in set([p1, p2])"
   ]
  },
  {
   "cell_type": "code",
   "execution_count": 14,
   "id": "f81eeadd",
   "metadata": {},
   "outputs": [
    {
     "data": {
      "text/plain": [
       "True"
      ]
     },
     "execution_count": 14,
     "metadata": {},
     "output_type": "execute_result"
    }
   ],
   "source": [
    "class Point(object):\n",
    "    def __init__(self, x, y):\n",
    "        self.x, self.y = x, y\n",
    "        \n",
    "    def __hash__(self):\n",
    "        return hash((self.x, self.y))\n",
    "    \n",
    "    def __eq__(self, other):\n",
    "        return self.x == other.x and self.y == other.y\n",
    "    \n",
    "p1 = Point(1, 1)\n",
    "p2 = Point(1, 1)\n",
    "\n",
    "set([p1, p2])    \n",
    "\n",
    "Point(1, 1) in set([p1, p2])"
   ]
  },
  {
   "cell_type": "code",
   "execution_count": 15,
   "id": "853a228e",
   "metadata": {},
   "outputs": [],
   "source": [
    "# 이를 이용하면 인스턴스화한 객체의 메모리 주소가 아니라 Point 객체의 속성으로 사전이나 셋에 필요한 색일을 만들수 있다.\n",
    "# 사용자 정의 해시 함수에서 충돌을 피하려면 해시값이 균일하게 분포되도록 신경 써야한다.\n",
    "# 충돌이 낮으면 해시 테이블의 성능에 악영향을 끼친다.\n",
    "# 사전의 크기가 무한하다면 정수를 해시 함수로 사용하는것이 이상적"
   ]
  },
  {
   "cell_type": "code",
   "execution_count": 16,
   "id": "5bde6cbc",
   "metadata": {},
   "outputs": [],
   "source": [
    "import math\n",
    "from math import sin\n",
    "\n",
    "\n",
    "def test1(x):\n",
    "    \"\"\"\n",
    "    >>> %timeit test1(123_456)\n",
    "    162 µs ± 3.82 µs per loop (mean ± std. dev. of 7 runs, 10000 loops each)\n",
    "    \"\"\"\n",
    "    res = 1\n",
    "    for _ in range(1000):\n",
    "        res += math.sin(x)\n",
    "    return res\n",
    "\n",
    "\n",
    "def test2(x):\n",
    "    \"\"\"\n",
    "    >>> %timeit test2(123_456)\n",
    "    124 µs ± 6.77 µs per loop (mean ± std. dev. of 7 runs, 10000 loops each)\n",
    "    \"\"\"\n",
    "    res = 1\n",
    "    for _ in range(1000):\n",
    "        res += sin(x)\n",
    "    return res\n",
    "\n",
    "\n",
    "def test3(x, sin=math.sin):\n",
    "    \"\"\"\n",
    "    >>> %timeit test3(123_456)\n",
    "    105 µs ± 3.35 µs per loop (mean ± std. dev. of 7 runs, 10000 loops each)\n",
    "    \"\"\"\n",
    "    res = 1\n",
    "    for _ in range(1000):\n",
    "        res += sin(x)\n",
    "    return res\n"
   ]
  },
  {
   "cell_type": "code",
   "execution_count": 18,
   "id": "992d6a1b",
   "metadata": {},
   "outputs": [
    {
     "name": "stdout",
     "output_type": "stream",
     "text": [
      " 10           0 LOAD_CONST               1 (1)\n",
      "              2 STORE_FAST               1 (res)\n",
      "\n",
      " 11           4 LOAD_GLOBAL              0 (range)\n",
      "              6 LOAD_CONST               2 (1000)\n",
      "              8 CALL_FUNCTION            1\n",
      "             10 GET_ITER\n",
      "        >>   12 FOR_ITER                 9 (to 32)\n",
      "             14 STORE_FAST               2 (_)\n",
      "\n",
      " 12          16 LOAD_FAST                1 (res)\n",
      "             18 LOAD_GLOBAL              1 (math)\n",
      "             20 LOAD_METHOD              2 (sin)\n",
      "             22 LOAD_FAST                0 (x)\n",
      "             24 CALL_METHOD              1\n",
      "             26 INPLACE_ADD\n",
      "             28 STORE_FAST               1 (res)\n",
      "             30 JUMP_ABSOLUTE            6 (to 12)\n",
      "\n",
      " 13     >>   32 LOAD_FAST                1 (res)\n",
      "             34 RETURN_VALUE\n"
     ]
    }
   ],
   "source": [
    "import dis\n",
    "\n",
    "dis.dis(test1)"
   ]
  },
  {
   "cell_type": "code",
   "execution_count": 19,
   "id": "2a870704",
   "metadata": {},
   "outputs": [
    {
     "name": "stdout",
     "output_type": "stream",
     "text": [
      " 21           0 LOAD_CONST               1 (1)\n",
      "              2 STORE_FAST               1 (res)\n",
      "\n",
      " 22           4 LOAD_GLOBAL              0 (range)\n",
      "              6 LOAD_CONST               2 (1000)\n",
      "              8 CALL_FUNCTION            1\n",
      "             10 GET_ITER\n",
      "        >>   12 FOR_ITER                 8 (to 30)\n",
      "             14 STORE_FAST               2 (_)\n",
      "\n",
      " 23          16 LOAD_FAST                1 (res)\n",
      "             18 LOAD_GLOBAL              1 (sin)\n",
      "             20 LOAD_FAST                0 (x)\n",
      "             22 CALL_FUNCTION            1\n",
      "             24 INPLACE_ADD\n",
      "             26 STORE_FAST               1 (res)\n",
      "             28 JUMP_ABSOLUTE            6 (to 12)\n",
      "\n",
      " 24     >>   30 LOAD_FAST                1 (res)\n",
      "             32 RETURN_VALUE\n"
     ]
    }
   ],
   "source": [
    "dis.dis(test2)"
   ]
  },
  {
   "cell_type": "code",
   "execution_count": 20,
   "id": "e392fec1",
   "metadata": {},
   "outputs": [
    {
     "name": "stdout",
     "output_type": "stream",
     "text": [
      " 32           0 LOAD_CONST               1 (1)\n",
      "              2 STORE_FAST               2 (res)\n",
      "\n",
      " 33           4 LOAD_GLOBAL              0 (range)\n",
      "              6 LOAD_CONST               2 (1000)\n",
      "              8 CALL_FUNCTION            1\n",
      "             10 GET_ITER\n",
      "        >>   12 FOR_ITER                 8 (to 30)\n",
      "             14 STORE_FAST               3 (_)\n",
      "\n",
      " 34          16 LOAD_FAST                2 (res)\n",
      "             18 LOAD_FAST                1 (sin)\n",
      "             20 LOAD_FAST                0 (x)\n",
      "             22 CALL_FUNCTION            1\n",
      "             24 INPLACE_ADD\n",
      "             26 STORE_FAST               2 (res)\n",
      "             28 JUMP_ABSOLUTE            6 (to 12)\n",
      "\n",
      " 35     >>   30 LOAD_FAST                2 (res)\n",
      "             32 RETURN_VALUE\n"
     ]
    }
   ],
   "source": [
    "dis.dis(test3)"
   ]
  },
  {
   "cell_type": "code",
   "execution_count": null,
   "id": "1a8e1a73",
   "metadata": {},
   "outputs": [],
   "source": [
    "# 전역 참조를 지역 변수에 담아 두면 좋다."
   ]
  }
 ],
 "metadata": {
  "kernelspec": {
   "display_name": "Python [conda env:data_analyzer] *",
   "language": "python",
   "name": "conda-env-data_analyzer-py"
  },
  "language_info": {
   "codemirror_mode": {
    "name": "ipython",
    "version": 3
   },
   "file_extension": ".py",
   "mimetype": "text/x-python",
   "name": "python",
   "nbconvert_exporter": "python",
   "pygments_lexer": "ipython3",
   "version": "3.10.8"
  }
 },
 "nbformat": 4,
 "nbformat_minor": 5
}
