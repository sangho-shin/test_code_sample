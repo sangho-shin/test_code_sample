{
 "cells": [
  {
   "cell_type": "code",
   "execution_count": 1,
   "id": "bd4502e4",
   "metadata": {},
   "outputs": [],
   "source": [
    "%load_ext memory_profiler"
   ]
  },
  {
   "cell_type": "code",
   "execution_count": 2,
   "id": "f1a8495c",
   "metadata": {},
   "outputs": [
    {
     "name": "stdout",
     "output_type": "stream",
     "text": [
      "peak memory: 854.53 MiB, increment: 763.02 MiB\n"
     ]
    }
   ],
   "source": [
    "# 0인 1억개 \n",
    "%memit [0] * int(1e8)"
   ]
  },
  {
   "cell_type": "code",
   "execution_count": 3,
   "id": "7071c4d1",
   "metadata": {},
   "outputs": [
    {
     "name": "stdout",
     "output_type": "stream",
     "text": [
      "The memory_profiler extension is already loaded. To reload it, use:\n",
      "  %reload_ext memory_profiler\n"
     ]
    }
   ],
   "source": [
    "%load_ext memory_profiler"
   ]
  },
  {
   "cell_type": "code",
   "execution_count": 5,
   "id": "db22ac82",
   "metadata": {},
   "outputs": [
    {
     "name": "stdout",
     "output_type": "stream",
     "text": [
      "peak memory: 91.58 MiB, increment: 0.00 MiB\n"
     ]
    }
   ],
   "source": [
    "%memit"
   ]
  },
  {
   "cell_type": "code",
   "execution_count": 6,
   "id": "f4fb5fa0",
   "metadata": {},
   "outputs": [
    {
     "name": "stdout",
     "output_type": "stream",
     "text": [
      "peak memory: 4169.02 MiB, increment: 4077.34 MiB\n"
     ]
    }
   ],
   "source": [
    "# 서로 다른 정수 1억개\n",
    "%memit [n for n in range(int(1e8))]"
   ]
  },
  {
   "cell_type": "code",
   "execution_count": 7,
   "id": "ec52af21",
   "metadata": {},
   "outputs": [
    {
     "name": "stdout",
     "output_type": "stream",
     "text": [
      "peak memory: 93.18 MiB, increment: 0.00 MiB\n"
     ]
    }
   ],
   "source": [
    "%memit"
   ]
  },
  {
   "cell_type": "code",
   "execution_count": 9,
   "id": "10dae56f",
   "metadata": {},
   "outputs": [
    {
     "name": "stdout",
     "output_type": "stream",
     "text": [
      "peak memory: 724.30 MiB, increment: 616.30 MiB\n"
     ]
    }
   ],
   "source": [
    "# 원시 객체를 더 적은 비용으로 저장하는 array 모듈\n",
    "\n",
    "import array\n",
    "\n",
    "%memit array.array('l', range(int(1e8)))"
   ]
  },
  {
   "cell_type": "code",
   "execution_count": 10,
   "id": "13e985c7",
   "metadata": {},
   "outputs": [
    {
     "data": {
      "text/plain": [
       "4"
      ]
     },
     "execution_count": 10,
     "metadata": {},
     "output_type": "execute_result"
    }
   ],
   "source": [
    "arr = array.array('l')\n",
    "arr.itemsize"
   ]
  },
  {
   "cell_type": "code",
   "execution_count": 11,
   "id": "53eaaac5",
   "metadata": {},
   "outputs": [],
   "source": [
    "array.array?"
   ]
  },
  {
   "cell_type": "code",
   "execution_count": 12,
   "id": "d976d379",
   "metadata": {},
   "outputs": [
    {
     "name": "stdout",
     "output_type": "stream",
     "text": [
      "peak memory: 139.64 MiB, increment: 0.00 MiB\n"
     ]
    }
   ],
   "source": [
    "import numpy as np\n",
    "\n",
    "# zeros는 지연 할당이라서 메모리 사용량이 잘못 보고된다.\n",
    "%memit arr = np.zeros(int(1e8), np.complex128)"
   ]
  },
  {
   "cell_type": "code",
   "execution_count": 13,
   "id": "2b9ce96b",
   "metadata": {},
   "outputs": [
    {
     "name": "stdout",
     "output_type": "stream",
     "text": [
      "peak memory: 1667.65 MiB, increment: 1525.89 MiB\n"
     ]
    }
   ],
   "source": [
    "%memit arr = np.ones(int(1e8), np.complex128)"
   ]
  },
  {
   "cell_type": "code",
   "execution_count": 14,
   "id": "6fa145c1",
   "metadata": {},
   "outputs": [
    {
     "data": {
      "text/plain": [
       "'100,000,000'"
      ]
     },
     "execution_count": 14,
     "metadata": {},
     "output_type": "execute_result"
    }
   ],
   "source": [
    "f\"{arr.size:,}\""
   ]
  },
  {
   "cell_type": "code",
   "execution_count": 17,
   "id": "8c9d86d4",
   "metadata": {},
   "outputs": [
    {
     "data": {
      "text/plain": [
       "'1,600,000,000'"
      ]
     },
     "execution_count": 17,
     "metadata": {},
     "output_type": "execute_result"
    }
   ],
   "source": [
    "f\"{arr.nbytes:,}\""
   ]
  },
  {
   "cell_type": "code",
   "execution_count": 20,
   "id": "60b17571",
   "metadata": {},
   "outputs": [
    {
     "data": {
      "text/plain": [
       "16.0"
      ]
     },
     "execution_count": 20,
     "metadata": {},
     "output_type": "execute_result"
    }
   ],
   "source": [
    "# 배열 원소의 크기\n",
    "arr.nbytes/arr.size"
   ]
  },
  {
   "cell_type": "code",
   "execution_count": 21,
   "id": "2a7a3a42",
   "metadata": {},
   "outputs": [
    {
     "data": {
      "text/plain": [
       "16"
      ]
     },
     "execution_count": 21,
     "metadata": {},
     "output_type": "execute_result"
    }
   ],
   "source": [
    "arr.itemsize"
   ]
  },
  {
   "cell_type": "raw",
   "id": "cf634c89",
   "metadata": {},
   "source": [
    "일반 list를 사용해 많은 수를 저장하는것은 array 객체를 사용하는 것보다 훨씬 덜 효율적이다.\n",
    "더 많은 메모리 할당이 일어나서 시간이 더 걸린다.\n",
    "큰 객체를 계산해야 하니 캐시에 덜 적합하며, RAM을 더 많이 사용하니 다른 프로그램에서 사용할 수 있는 RAM이 줄어든다.\n",
    "\n",
    "하지만 파이썬에서 array의 내용에 대해 작업을 한다면 원시 객체가 임시 객체로 변환되면서 배열을 사용하는 이점이 사라질수 있다.\n",
    "다른 프로세스와 통신할 때 데이터를 담아두는 저장소로 배열을 사용하는 것이 배열의 가장 좋은 용례다.\n",
    "\n",
    "수치 계산을 많이 한다면 numpy 배열이 확실히 더 좋은 선택이다.\n",
    "\n",
    "큰 배열에 대한 복잡한 백터 연산은 NumExpr을 사용하면 더 빠르다.\n",
    "판다는 NumExpr을 설치하지 않아도 경고를 표시하지 않는다. \n",
    "따라서 eval을 사용한다면 NumExpr 설치를 설정의 일부분으로 추가해두기 바란다."
   ]
  },
  {
   "cell_type": "code",
   "execution_count": 23,
   "id": "17639a22",
   "metadata": {},
   "outputs": [
    {
     "data": {
      "text/plain": [
       "24"
      ]
     },
     "execution_count": 23,
     "metadata": {},
     "output_type": "execute_result"
    }
   ],
   "source": [
    "import sys\n",
    "sys.getsizeof(0)\n"
   ]
  },
  {
   "cell_type": "code",
   "execution_count": 24,
   "id": "db8a2ca8",
   "metadata": {},
   "outputs": [
    {
     "data": {
      "text/plain": [
       "28"
      ]
     },
     "execution_count": 24,
     "metadata": {},
     "output_type": "execute_result"
    }
   ],
   "source": [
    "sys.getsizeof(1)"
   ]
  },
  {
   "cell_type": "code",
   "execution_count": 25,
   "id": "e3fbfc85",
   "metadata": {},
   "outputs": [
    {
     "data": {
      "text/plain": [
       "28"
      ]
     },
     "execution_count": 25,
     "metadata": {},
     "output_type": "execute_result"
    }
   ],
   "source": [
    "sys.getsizeof((2**30) -1)"
   ]
  },
  {
   "cell_type": "code",
   "execution_count": 26,
   "id": "6573764a",
   "metadata": {},
   "outputs": [
    {
     "data": {
      "text/plain": [
       "32"
      ]
     },
     "execution_count": 26,
     "metadata": {},
     "output_type": "execute_result"
    }
   ],
   "source": [
    "sys.getsizeof(2**30)"
   ]
  },
  {
   "cell_type": "code",
   "execution_count": 27,
   "id": "7692d664",
   "metadata": {},
   "outputs": [],
   "source": [
    "#  내부에서는 계싼하는 수의 크기가 이전 한도를 넘어설 때마다 4바이트를 추가한다."
   ]
  },
  {
   "cell_type": "code",
   "execution_count": 28,
   "id": "0c23ede1",
   "metadata": {},
   "outputs": [
    {
     "data": {
      "text/plain": [
       "33"
      ]
     },
     "execution_count": 28,
     "metadata": {},
     "output_type": "execute_result"
    }
   ],
   "source": [
    "sys.getsizeof(b\"\")"
   ]
  },
  {
   "cell_type": "code",
   "execution_count": 29,
   "id": "99d16f1e",
   "metadata": {},
   "outputs": [
    {
     "data": {
      "text/plain": [
       "34"
      ]
     },
     "execution_count": 29,
     "metadata": {},
     "output_type": "execute_result"
    }
   ],
   "source": [
    "sys.getsizeof(b\"a\")"
   ]
  },
  {
   "cell_type": "code",
   "execution_count": 30,
   "id": "f9995260",
   "metadata": {},
   "outputs": [
    {
     "data": {
      "text/plain": [
       "35"
      ]
     },
     "execution_count": 30,
     "metadata": {},
     "output_type": "execute_result"
    }
   ],
   "source": [
    "sys.getsizeof(b\"ab\")"
   ]
  },
  {
   "cell_type": "code",
   "execution_count": 31,
   "id": "55982d92",
   "metadata": {},
   "outputs": [
    {
     "data": {
      "text/plain": [
       "36"
      ]
     },
     "execution_count": 31,
     "metadata": {},
     "output_type": "execute_result"
    }
   ],
   "source": [
    "sys.getsizeof(b\"abc\")"
   ]
  },
  {
   "cell_type": "code",
   "execution_count": 32,
   "id": "b898243a",
   "metadata": {},
   "outputs": [
    {
     "data": {
      "text/plain": [
       "56"
      ]
     },
     "execution_count": 32,
     "metadata": {},
     "output_type": "execute_result"
    }
   ],
   "source": [
    "sys.getsizeof([])"
   ]
  },
  {
   "cell_type": "code",
   "execution_count": 33,
   "id": "0e2e0559",
   "metadata": {},
   "outputs": [
    {
     "data": {
      "text/plain": [
       "64"
      ]
     },
     "execution_count": 33,
     "metadata": {},
     "output_type": "execute_result"
    }
   ],
   "source": [
    "sys.getsizeof([1])"
   ]
  },
  {
   "cell_type": "code",
   "execution_count": 34,
   "id": "6e287947",
   "metadata": {},
   "outputs": [
    {
     "data": {
      "text/plain": [
       "72"
      ]
     },
     "execution_count": 34,
     "metadata": {},
     "output_type": "execute_result"
    }
   ],
   "source": [
    "sys.getsizeof([1,2])"
   ]
  },
  {
   "cell_type": "code",
   "execution_count": 35,
   "id": "0ca23657",
   "metadata": {},
   "outputs": [],
   "source": [
    "# list는 8바이트 단위로 추가한다."
   ]
  },
  {
   "cell_type": "code",
   "execution_count": 36,
   "id": "bb2b5c1e",
   "metadata": {},
   "outputs": [
    {
     "data": {
      "text/plain": [
       "64"
      ]
     },
     "execution_count": 36,
     "metadata": {},
     "output_type": "execute_result"
    }
   ],
   "source": [
    "sys.getsizeof([b\"\"])"
   ]
  },
  {
   "cell_type": "code",
   "execution_count": 37,
   "id": "7ba86a4a",
   "metadata": {},
   "outputs": [
    {
     "data": {
      "text/plain": [
       "64"
      ]
     },
     "execution_count": 37,
     "metadata": {},
     "output_type": "execute_result"
    }
   ],
   "source": [
    "sys.getsizeof([b\"abcdefghijklm\"])"
   ]
  },
  {
   "cell_type": "code",
   "execution_count": 38,
   "id": "950f8a06",
   "metadata": {},
   "outputs": [
    {
     "data": {
      "text/plain": [
       "72"
      ]
     },
     "execution_count": 38,
     "metadata": {},
     "output_type": "execute_result"
    }
   ],
   "source": [
    "sys.getsizeof([b\"a\", b\"b\"])"
   ]
  },
  {
   "cell_type": "code",
   "execution_count": 39,
   "id": "7919d75d",
   "metadata": {},
   "outputs": [
    {
     "name": "stdout",
     "output_type": "stream",
     "text": [
      "Collecting pympler\n",
      "  Using cached Pympler-1.0.1-py3-none-any.whl (164 kB)\n",
      "Installing collected packages: pympler\n",
      "Successfully installed pympler-1.0.1\n"
     ]
    }
   ],
   "source": [
    "!pip install pympler\n",
    "\n",
    "from pympler.asizeof import asizeof"
   ]
  },
  {
   "cell_type": "code",
   "execution_count": 40,
   "id": "6967f593",
   "metadata": {},
   "outputs": [
    {
     "data": {
      "text/plain": [
       "409095152"
      ]
     },
     "execution_count": 40,
     "metadata": {},
     "output_type": "execute_result"
    }
   ],
   "source": [
    "asizeof([x for x in range(int(1e7))])"
   ]
  },
  {
   "cell_type": "code",
   "execution_count": 42,
   "id": "014a0bf1",
   "metadata": {},
   "outputs": [
    {
     "name": "stdout",
     "output_type": "stream",
     "text": [
      "peak memory: 1967.98 MiB, increment: 297.22 MiB\n"
     ]
    }
   ],
   "source": [
    "%memit [x for x in range(int(1e7))]"
   ]
  },
  {
   "cell_type": "markdown",
   "id": "1144fe8e",
   "metadata": {},
   "source": [
    "asizeof가 memit보다 느리다."
   ]
  },
  {
   "cell_type": "raw",
   "id": "059d3837",
   "metadata": {},
   "source": [
    "11.4 RAM에 많은 텍스트를 효율적으로 저장하기\n",
    "\n",
    "텍스트를 처리하다 보면 RAM을 많이 차지해 문제가 된다.\n",
    "문자열을 안일하게 저장하면 비용이 많이 들지만, 트라이나 방향성 비순환 단어 그래프 (Directed Acyclic Word Graphs DAWG)\n",
    "로 저장하면 문자열 표현을 압축하면서도 빠르게 연산할 수 있다."
   ]
  },
  {
   "cell_type": "raw",
   "id": "0e30d9d4",
   "metadata": {},
   "source": [
    "11.5 사이킷런의 FeatureHasher를 사용해 더 많은 텍스트 모델링 하기\n",
    "\n",
    "텍스트를 분리하는 강력하고 단순한 기법은 원본 텍스트를 n-그램으로 나누는 것이다.\n",
    "보통 유니그램, 바이그램, 트라이그램을 자주 쓴다.\n",
    "\n"
   ]
  },
  {
   "cell_type": "code",
   "execution_count": 47,
   "id": "09618da5",
   "metadata": {},
   "outputs": [
    {
     "name": "stdout",
     "output_type": "stream",
     "text": [
      "Requirement already satisfied: sklearn in c:\\users\\shshin\\anaconda3\\envs\\data_analyzer\\lib\\site-packages (0.0.post1)\n"
     ]
    }
   ],
   "source": [
    "!pip install sklearn"
   ]
  },
  {
   "cell_type": "code",
   "execution_count": 48,
   "id": "64a91d70",
   "metadata": {},
   "outputs": [
    {
     "ename": "ModuleNotFoundError",
     "evalue": "No module named 'sklearn'",
     "output_type": "error",
     "traceback": [
      "\u001b[1;31m---------------------------------------------------------------------------\u001b[0m",
      "\u001b[1;31mModuleNotFoundError\u001b[0m                       Traceback (most recent call last)",
      "Cell \u001b[1;32mIn[48], line 1\u001b[0m\n\u001b[1;32m----> 1\u001b[0m \u001b[38;5;28;01mfrom\u001b[39;00m \u001b[38;5;21;01msklearn\u001b[39;00m\u001b[38;5;21;01m.\u001b[39;00m\u001b[38;5;21;01mfeature_extraction\u001b[39;00m \u001b[38;5;28;01mimport\u001b[39;00m DictVectorizer\n",
      "\u001b[1;31mModuleNotFoundError\u001b[0m: No module named 'sklearn'"
     ]
    }
   ],
   "source": [
    "from sklearn.feature_extraction import DictVectorizer"
   ]
  },
  {
   "cell_type": "code",
   "execution_count": null,
   "id": "3957521e",
   "metadata": {},
   "outputs": [],
   "source": [
    "문자열을 다룰때 바이트 수준에서 작업해야 하는 특별한 이유가 없다면 bytes 대신 str을 사용하라.\n",
    "무수히 많은 텍스트 인코딩을 직접 처리하는 힘든 작업을 UTF-8(또는 다른 유니코드 형식)이 해결해준다."
   ]
  }
 ],
 "metadata": {
  "kernelspec": {
   "display_name": "Python [conda env:data_analyzer] *",
   "language": "python",
   "name": "conda-env-data_analyzer-py"
  },
  "language_info": {
   "codemirror_mode": {
    "name": "ipython",
    "version": 3
   },
   "file_extension": ".py",
   "mimetype": "text/x-python",
   "name": "python",
   "nbconvert_exporter": "python",
   "pygments_lexer": "ipython3",
   "version": "3.10.8"
  }
 },
 "nbformat": 4,
 "nbformat_minor": 5
}
