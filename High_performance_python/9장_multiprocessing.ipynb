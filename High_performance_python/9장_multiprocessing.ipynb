{
 "cells": [
  {
   "cell_type": "raw",
   "id": "8cff583f",
   "metadata": {},
   "source": [
    "multiprocessing 모듈은 프로세스와 스레드 기반의 병렬 처리를 사용해서 작업을 대기열에 분산시키고\n",
    "프로세스 간에 데이터를 공유할 수 있도록 한다.\n",
    "가장 일반적인 사용법은 CPU 위주의 작업을 여러 프로세스롤 병렬화하는 것이다. 또한 I/O 위주의 문제를 병렬화하는데 OpenMP 모듈을 사용할 수도 있다. (저수준 모듈)\n",
    "\n",
    "병렬화한 작업을 디버깅 하는 것이 더 어렵고, 개발 속도를 높ㅇ게 유지하려면 병렬성을 가능한 한 단순하게 유지하자.\n",
    "병렬 시스템에서 상태를 공유하는 일은 특히 어려운 주제다.\n",
    "\n",
    "다음은 multiprocessing 모듈로 처리할 수 있는 전형적인 작업의 예이다.\n",
    "\n",
    "- cpu 위주의 작업을 Process나 Pool 객체를 사용해 병렬화 한다.\n",
    "- dummy 모듈을 사용해서 I/O위주의 작업을 스레드를 사용하는 Pool로 병렬화한다.\n",
    "- Queue를 통해 피클링한 결과를 공유한다.\n",
    "- 병렬화한 작업자 사이에서 바이트, 원시 데이터 타입, 사전, 리스트 등의 상태를 공유한다.\n",
    "\n",
    "\n",
    "CPU 위주의 작업에서는 multiprocessing을 선호하겠지만, I/O 위주의 작업에서는 concurrent.futures를 더 많이 쓰게 될수도 있다.\n",
    "\n",
    "9.2 몬테 카를로 방식을 사용해 원주율 추정하기\n",
    "\n",
    "9.3 프로세스와 스레드를 사용해 원주율 추정하기\n",
    "\n"
   ]
  },
  {
   "cell_type": "code",
   "execution_count": 1,
   "id": "91775350",
   "metadata": {},
   "outputs": [],
   "source": [
    "def estimate_nbr_points_in_quarter_circle(nbr_estimates):\n",
    "    \"\"\"Monte carlo estimate of the number of points in a quarter circle using pure Python\"\"\"\n",
    "    print(f\"Executing estimate_nbr_points_in_quarter_circle with {nbr_estimates:,} on pid {os.getpid()}\")\n",
    "    nbr_trials_in_quarter_unit_circle = 0\n",
    "    for step in range(int(nbr_estimates)):\n",
    "        x = random.uniform(0, 1)\n",
    "        y = random.uniform(0, 1)\n",
    "        is_in_unit_circle = x * x + y * y <= 1.0\n",
    "        nbr_trials_in_quarter_unit_circle += is_in_unit_circle\n",
    "\n",
    "    return nbr_trials_in_quarter_unit_circle\n"
   ]
  },
  {
   "cell_type": "raw",
   "id": "63728f57",
   "metadata": {},
   "source": [
    "하이퍼스레드 자원은 그리 도움이 되지 못한다는 사실을 알려준다.\n",
    "C파이썬에서 하이퍼스레드를 사용할 때의 가장 큰 문제점은 RAM을 많이 소모한다는 점이다.\n",
    "하이퍼스레딩은 캐시를 잘 활용하지 못해서 각 CPU 칩의 유휴 자원을 아주 비효율적으로 사용한다."
   ]
  },
  {
   "cell_type": "raw",
   "id": "d10a5b9b",
   "metadata": {},
   "source": [
    "joblib은 multiprocessing을 개선한 모듈로 경량 파이프라이닝을 활성화하면서 병렬 계싼을 쉽게 하고,\n",
    "결과를 쉽게 디스크 기반의 캐시로 사용할 수 있게 해준다.\n",
    "joblib은 넘파이 배열을 과학기술 계산에 쓰는 것에 초점을 맞춘다.\n",
    "다음과 같은 경우 joblib을 사용하면 쉽게 성능을 높일 수 있다.\n",
    "- 당황스러울정도로 병렬적인 루프를 처리하는 데 순수 파이썬을 사용 중이다(넘파이 사용 여부는 상관없다.)\n",
    "- 출력을 디스크에 저장해 세션과 세션 사이에 결과를 캐시할 수 있는데도, 부작용 없이 비용이 많이 드는 함수를 호출한다.\n",
    "- 프로세스 사이에 넘파이를 공유할 수 있지만 어떻게 하는지를 모른다.\n",
    "\n"
   ]
  },
  {
   "cell_type": "raw",
   "id": "cbf97510",
   "metadata": {},
   "source": [
    "9.3.4 넘퍼이 사용하기\n",
    "\n",
    "같은 문제를 푸는 데 numpy가 순수한 파이썬보다 더 빠른 주된 이유는 다음과 같다.\n",
    "개별적으로 관리하고 주소를 처리해야 하는 수많은 고수준 파이썬 객체를 만들어내는 대신,\n",
    "아주 저수준에서 RAM의 연속된 블록에 같은 타입의 객체를 만들고 조작하기 때문이다.\n",
    "\n",
    "numpy 쪽이 캐시에 훨씬 더 적합한 덕에 하이퍼스레드 4개에도 약간의 성능 향상을 얻을 수 있다.\n",
    "\n",
    "병렬로 실행하면 line_profiler나 cProfile 같은 도구를 사용하기는 어렵다.\n",
    "\n"
   ]
  },
  {
   "cell_type": "code",
   "execution_count": null,
   "id": "7cfb4b56",
   "metadata": {},
   "outputs": [],
   "source": []
  }
 ],
 "metadata": {
  "kernelspec": {
   "display_name": "Python [conda env:data_analyzer] *",
   "language": "python",
   "name": "conda-env-data_analyzer-py"
  },
  "language_info": {
   "codemirror_mode": {
    "name": "ipython",
    "version": 3
   },
   "file_extension": ".py",
   "mimetype": "text/x-python",
   "name": "python",
   "nbconvert_exporter": "python",
   "pygments_lexer": "ipython3",
   "version": "3.10.8"
  }
 },
 "nbformat": 4,
 "nbformat_minor": 5
}
