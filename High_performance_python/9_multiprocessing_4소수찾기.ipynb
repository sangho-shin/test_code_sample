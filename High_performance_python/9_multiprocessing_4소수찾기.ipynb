{
 "cells": [
  {
   "cell_type": "raw",
   "id": "72e8d757",
   "metadata": {},
   "source": [
    "아주 큰 범위의 수에서 소수 찾기\n",
    "부하를 균등화할 방법을 살펴보자\n",
    "\n"
   ]
  },
  {
   "cell_type": "code",
   "execution_count": 1,
   "id": "5479aef4",
   "metadata": {},
   "outputs": [],
   "source": [
    "def check_prime(n):\n",
    "    if n % 2 == 0:\n",
    "        return False\n",
    "    for i in range(3, int(math.sqrt(n)) + 1, 2):\n",
    "        if mn % 2 == 0:\n",
    "            return False\n",
    "        \n",
    "    return True\n",
    "\n"
   ]
  },
  {
   "cell_type": "raw",
   "id": "8409ddc8",
   "metadata": {},
   "source": [
    "chunksize 매개별수를 사용해 작업 단위를 제어한다.\n",
    "chunksize를 두배로 키워서 2로 만들면 통신 파이프를 두고 벌이는 경쟁이 줄어들어 작업이 두배 더 빨리 해결된다.\n",
    "계속 키우면 한계 수확이 줄어들기 시작하는 지점에 곧 도달한다.\n",
    "\n",
    "multiprocessing을 효율적으로 사용하기 위한 전략..\n",
    "- 작업을 독립적인 작업 단위로 나눠라\n",
    "- 작업자가 처리하는 시간이 작업에 따라 달라진다면, 작업 순서를 임의로 재배치하는 것을 고려하라.\n",
    "- 작업 큐를 정렬해서 가장 느린작업을 먼저 처리하는 전략도 좋다.\n",
    "- chunksize를 조정할 타당한 이유가 없다면 기본값을 사용하라.\n",
    "- 물리 코어의 개수와 작업의 개수를 서로 맞춰라 (다시 말하지만, chunksize의 기본값은 이를 고려한 값이다. 다만 기본값은 하이퍼스레드도 사용하는데, 실제로 여기서 얻는 이득은 거의 없다.)\n",
    "\n",
    "multiprocessing은 하이퍼스레드를 추가 코어로 인식한다.\n",
    "하이퍼스레드 때문에 추가된 프로세스는 속도향상에 별로 도움이 되지 않으면서 귀중한 RAM을 점유할 수도 있다.\n",
    "Pool을 사용하면 미리 정의된 작업 단위를 가용 코어에 나눌 수 있다. 하지만 부하가 동적으로 가해진다면 이 방식은 그다지 두음이 되지 않는다.\n",
    "\n",
    "\n"
   ]
  },
  {
   "cell_type": "raw",
   "id": "f27b8560",
   "metadata": {},
   "source": [
    "9.4.1 작업 큐\n",
    "\n",
    "multiprocessing.Queue 객체는 피클 가능한 파이썬 객체를 프로세스 간에 전송할 수 있는 영속적이지 않은 큐를 제공한다.\n",
    "Queue와 통신하는데에는 큰 비중을 차지한다. 통신 비용이 어느 정도인지 검사해서 유용한지를 검증해야함.\n",
    "\n",
    "\n",
    "큐에 비동기적으로 작업 추가하기\n",
    "\n",
    "주 프로세스에 Thread를 추가해서 작업을 비동기적으로 공급할 수 있다.\n",
    "하지만 디버깅이 어렵고 복잡도가 커지며 유지보수하기 점점 어려워진다.\n",
    "직접 만들기보다 gevent처럼 이미 검증된 라이브러리를 사용하자.\n",
    "\n",
    "\n"
   ]
  },
  {
   "cell_type": "raw",
   "id": "74bf7ea8",
   "metadata": {},
   "source": [
    "9.5 프로세스 간 통신을 사용해 소수 검증하기\n",
    "\n",
    "MPI4PY를 이용한 병렬처리\n"
   ]
  },
  {
   "cell_type": "code",
   "execution_count": null,
   "id": "749349ea",
   "metadata": {},
   "outputs": [],
   "source": []
  }
 ],
 "metadata": {
  "kernelspec": {
   "display_name": "data_analyzer",
   "language": "python",
   "name": "data_analyzer"
  },
  "language_info": {
   "codemirror_mode": {
    "name": "ipython",
    "version": 3
   },
   "file_extension": ".py",
   "mimetype": "text/x-python",
   "name": "python",
   "nbconvert_exporter": "python",
   "pygments_lexer": "ipython3",
   "version": "3.10.8"
  }
 },
 "nbformat": 4,
 "nbformat_minor": 5
}
