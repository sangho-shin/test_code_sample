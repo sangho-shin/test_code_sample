{
 "cells": [
  {
   "cell_type": "raw",
   "id": "1cc20534",
   "metadata": {},
   "source": [
    "PrettyTable lets you print tables in an attractive ASCII form:\n",
    "\n",
    "fasteners Cross-platform locks for threads and processes.\n",
    "\n",
    "데이터를 공유하면 골치가 아플수 있다는 점을 기억하자\n",
    "되도록이면 공유를 피하는 편이 낫다. 컴퓨터가 상태 공유 시 발생하는 모든 엣지 케이스를 처리하도록 만들기는 어렵다.\n",
    "속도가 약간 느리더라도 여러분의 팀원들이 이해하기 더 쉬운 코드를 작성하도록 고민하라.\n",
    "상태 공유에는 레디스와 같은 외부 도구를 사용해서 개발자가 아닌 사람도 실쟁 중인 시스템의 내부를 살펴볼 수 있게 하라.\n"
   ]
  }
 ],
 "metadata": {
  "kernelspec": {
   "display_name": "Python [conda env:data_analyzer] *",
   "language": "python",
   "name": "conda-env-data_analyzer-py"
  },
  "language_info": {
   "codemirror_mode": {
    "name": "ipython",
    "version": 3
   },
   "file_extension": ".py",
   "mimetype": "text/x-python",
   "name": "python",
   "nbconvert_exporter": "python",
   "pygments_lexer": "ipython3",
   "version": "3.10.8"
  }
 },
 "nbformat": 4,
 "nbformat_minor": 5
}
