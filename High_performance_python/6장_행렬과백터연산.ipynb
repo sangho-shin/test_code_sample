{
 "cells": [
  {
   "cell_type": "raw",
   "id": "76cee243",
   "metadata": {},
   "source": [
    "팬더스 라이브러리 - 균일한 타입의 데이터로 이뤄진 열을 입력으로 받아서 불균일한 타입의 표로 저장"
   ]
  },
  {
   "cell_type": "code",
   "execution_count": 2,
   "id": "8f50239e",
   "metadata": {},
   "outputs": [],
   "source": [
    "# 단순 (1차원) 확산 의사 코드\n",
    "\n",
    "# 초기 조건을 생성한다.\n",
    "\n",
    "# ... 확산 방정식 부분 읽기만"
   ]
  },
  {
   "cell_type": "raw",
   "id": "28af846e",
   "metadata": {},
   "source": [
    "\n",
    "메모리 할당을 줄여서 속도를 빠르게 하자\n",
    "ex) 매번 동일하게 할당되는 변수는 1번 할당 후 이미 할당된 공간을 재사용하는 쪽이 성능 향상에 도움이 된다.\n",
    "이렇게 해서 속도를 개선하더라도 그 변경이 코드 기반을 망치지 않고 정상적으로 동작하는지 항상 프로파일링 해야한다.\n",
    "\n",
    "리눅스 perf 명령어로 CPU를 얼마나 효율적으로 사용하는지 볼수 있음"
   ]
  },
  {
   "cell_type": "raw",
   "id": "bf035365",
   "metadata": {},
   "source": [
    "넘파이 입문\n",
    "\n",
    "효율적인 백터 연산을 제공\n",
    "데이터를 연속된 메모리 공간에 저장하며 이에 대한 백터 연산도 지원\n",
    "그결과 넘파이 배열에 대해서 수행하는 산술 연산은 개별 항목을 하나씩 순회하며 처리할 필요가 없다.\n",
    "이로 인해 행렬 연산이 간다해질 뿐만 아니라 계산도 빨라짐"
   ]
  },
  {
   "cell_type": "code",
   "execution_count": 7,
   "id": "96128b9c",
   "metadata": {},
   "outputs": [
    {
     "name": "stdout",
     "output_type": "stream",
     "text": [
      "52 ms ± 1.43 ms per loop (mean ± std. dev. of 7 runs, 10 loops each)\n"
     ]
    }
   ],
   "source": [
    "from array import array\n",
    "import numpy\n",
    "\n",
    "def norm_square_list(vector):\n",
    "    norm = 0\n",
    "    for v in vector:\n",
    "        norm += v * v\n",
    "    return norm\n",
    "    \n",
    "vector = list(range(1_000_000))\n",
    "%timeit norm_square_list(vector)\n"
   ]
  },
  {
   "cell_type": "code",
   "execution_count": 8,
   "id": "0fdefc4c",
   "metadata": {},
   "outputs": [
    {
     "name": "stdout",
     "output_type": "stream",
     "text": [
      "1.29 ms ± 10.9 µs per loop (mean ± std. dev. of 7 runs, 1,000 loops each)\n"
     ]
    }
   ],
   "source": [
    "def norm_square_numpy(vector):\n",
    "    return numpy.sum(vector * vector)\n",
    "\n",
    "vector = numpy.arange(1_000_000)\n",
    "%timeit norm_square_numpy(vector)"
   ]
  },
  {
   "cell_type": "code",
   "execution_count": 9,
   "id": "4796f500",
   "metadata": {},
   "outputs": [
    {
     "name": "stdout",
     "output_type": "stream",
     "text": [
      "377 µs ± 9.82 µs per loop (mean ± std. dev. of 7 runs, 1,000 loops each)\n"
     ]
    }
   ],
   "source": [
    "def norm_square_numpy_dot(vector):\n",
    "    return numpy.dot(vector, vector)\n",
    "\n",
    "vector = numpy.arange(1_000_000)\n",
    "%timeit norm_square_numpy_dot(vector)"
   ]
  },
  {
   "cell_type": "raw",
   "id": "6f7dd6ab",
   "metadata": {},
   "source": [
    "내부적으로 넘파이는 잘 최적화된 C 코드를 통해 CPU에서 지원하는 백터화 기능의 장점을 활용한다.\n",
    "산술 계산에 특히 중요한 역할을 함\n",
    "\n"
   ]
  }
 ],
 "metadata": {
  "kernelspec": {
   "display_name": "Python [conda env:data_analyzer] *",
   "language": "python",
   "name": "conda-env-data_analyzer-py"
  },
  "language_info": {
   "codemirror_mode": {
    "name": "ipython",
    "version": 3
   },
   "file_extension": ".py",
   "mimetype": "text/x-python",
   "name": "python",
   "nbconvert_exporter": "python",
   "pygments_lexer": "ipython3",
   "version": "3.10.8"
  }
 },
 "nbformat": 4,
 "nbformat_minor": 5
}
