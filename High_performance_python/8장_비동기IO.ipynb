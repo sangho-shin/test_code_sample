{
 "cells": [
  {
   "cell_type": "raw",
   "id": "53e5cff2",
   "metadata": {},
   "source": [
    "일반적으로 프로그램이 I/O 대기에 들어가면 실행이 멈추고 커널이 I/O 요청과 관련한 저수준 연산을 처리하며\n",
    "I/O 연산이 끝날 때까지 프로그램은 재개되지 않는다. 비싼 연산임..\n",
    "\n",
    "python 3.4 이전에는 콜백 패러다임\n",
    "하지만 asyncio가 표준라이브러리 모듈 나오고 비동기 I/O를 처리하는 표준 API를 만들고 await async 키워드 도입함\n",
    "\n",
    "동시성 코드를 실행할 때 이벤트 루프에 의존한다는 사실을 깨달아야 한다.\n",
    "일반적으로 이벤트 루프를 사용하면 대부분의 완전한 동시성 코드의 주 진입점은 이벤트 루프를 설정하는 코드로 구성된다."
   ]
  },
  {
   "cell_type": "raw",
   "id": "67c94e2f",
   "metadata": {},
   "source": [
    "8.2.2 gevent\n",
    "\n",
    "gevent는 굉장히 단순한 비동기 라이브러리다. 이 라이브러리는 비동기 함수가 퓨처를 반환 한다는 패러다임을 따른다.\n",
    "gevent는 표준 I/O 함수를 몽키패치해서 비동기적으로 만든다. 따라서 보통 표준 I/O 패키지를 사용하기만 해도 비동기적 동작의 이점을 살릴수 있다.\n",
    "2가지 메커니즘을 제공한다. 표준 라이브러리를 비동기 I/O 함수로 변경하며, 동시 실행을 위해 사용할 수 있는 Grenlet객체를 제공한다. 그린렛은 코루틴의 일종으로 스레드와 같다고 생각할 수 있다.\n"
   ]
  },
  {
   "cell_type": "raw",
   "id": "4b5316ff",
   "metadata": {},
   "source": [
    "8.2.3 tornado\n",
    "\n",
    "tornado도 파이썬 비동기 I/O에 자주 사용한다. 이는 HTTP 클라이언트와 서버를 위해 페이스북에서 개발한 패키지 이다.\n",
    "\n",
    "\n",
    "tornado 코드와 gevent 코드의 가장 중요한 차이는 이벤트 루프가 실행되는 시점이다.\n",
    "gevent의 이벤트 루프는 iwait 함수가 실행되는 동안에만 실행된다.\n",
    "반면 tornado의 이벤트 루프는 항상 실행중으로, 비동기 I/O부분뿐 아니라 프로그램의 전체 실행 흐름을 제어한다.\n",
    "따라서 tornado는 대부분이 비동기적이어야만 하는 I/O 위주의 애플리케이션에 가장 적합하다.\n",
    "이는 tornado가 가장 잘한다고 자부하는 고성능 웹서버 분야와 같다.\n"
   ]
  },
  {
   "cell_type": "raw",
   "id": "cbdcef5b",
   "metadata": {},
   "source": [
    "8.3.3 aiohttp\n",
    "\n",
    "aiohttp는 우리가 만든 요청의 세부 요소와 이벤트 루프를 잘 제어한다.\n",
    "I/O 대기 시 코드를 실행하며 얻은 시간을 최대한 활용하는 복잡한 실행 시점 패턴을 만들 수 있다.\n",
    "특히 웹 서비스 (요청이 들어올 때마다 계산 작업을 하는 API등)를 실행 한다면 이런 제어를 통해 새로운 요청이 들어올 때 다른 작업에 어떻게 시간을 분배할지 결정하는 방어적인 코드를 작성할 수 있다."
   ]
  },
  {
   "cell_type": "raw",
   "id": "4b4908d5",
   "metadata": {},
   "source": [
    "8.3 CPU 공유 : I/O 부하\n",
    "\n",
    "8.3.2 일괄처리\n",
    "\n",
    "완전한 비동기 해법을 살펴보기 전에 한 가지 즉각적인 해법일 시도해보자\n",
    "데이터베이스에 결과를 바로 넣을 필요가 없다면, 결과를 한 묶음(batch)으로 모아서 비동기적으로 한번에 넣을 수 있다.\n",
    "AsyncBatcher 라는 클래스를 만들어서 우리가 보낸 일괄 요청을 사용해 비동기로 조금씩 몰아서 요청을 던지게 한다."
   ]
  },
  {
   "cell_type": "raw",
   "id": "6cd4b772",
   "metadata": {},
   "source": [
    "8.3.3 완전한 비동기 처리\n",
    "\n"
   ]
  },
  {
   "cell_type": "code",
   "execution_count": 7,
   "id": "560f28a9",
   "metadata": {},
   "outputs": [],
   "source": [
    "import asyncio\n",
    "import time"
   ]
  },
  {
   "cell_type": "code",
   "execution_count": 8,
   "id": "d72a9e57",
   "metadata": {},
   "outputs": [
    {
     "name": "stdout",
     "output_type": "stream",
     "text": [
      "started at 14:34:50\n",
      "While waiting, doing something else here\n",
      "http://naver.com\n",
      "\n",
      "<!doctype html>                          <html lang=\"ko\" data-dark=\"false\"> <head> <meta charset=\"u\n",
      "After await task, then do something else here\n",
      "finished at 14:34:53\n"
     ]
    }
   ],
   "source": [
    "async def network_bound_job(url):\n",
    "    print(url)\n",
    "    await asyncio.sleep(3) # to mimic time-consuming network operation\n",
    "    return requests.get(url).text[:100]\n",
    "\n",
    "async def main():\n",
    "    print(f\"started at {time.strftime('%X')}\")\n",
    "\n",
    "    url = \"http://naver.com\"\n",
    "    task = asyncio.create_task(network_bound_job(url))\n",
    "    \n",
    "    print(\"While waiting, doing something else here\")\n",
    "\n",
    "    print(await task)\n",
    "\n",
    "    print(\"After await task, then do something else here\")\n",
    "\n",
    "    print(f\"finished at {time.strftime('%X')}\")\n",
    "\n",
    "await main()"
   ]
  },
  {
   "cell_type": "code",
   "execution_count": 9,
   "id": "e64264a8",
   "metadata": {},
   "outputs": [
    {
     "name": "stdout",
     "output_type": "stream",
     "text": [
      "started at 14:46:42\n",
      "While waiting, doing something else here\n",
      "http://naver.com\n",
      "http://daum.net\n",
      "['\\n<!doctype html>                          <html lang=\"ko\" data-dark=\"false\"> <head> <meta charset=\"u', '<!DOCTYPE html><html lang=\"ko\"> <head> <meta charset=\"utf-8\" /> <title>Daum</title> <meta http-equiv']\n",
      "After await task, then do something else here\n",
      "finished at 14:46:45\n"
     ]
    }
   ],
   "source": [
    "async def network_bound_job(url):\n",
    "    print(url)\n",
    "    await asyncio.sleep(3) # to mimic time-consuming network operation\n",
    "    return requests.get(url).text[:100]\n",
    "\n",
    "async def main():\n",
    "    print(f\"started at {time.strftime('%X')}\")\n",
    "\n",
    "    urls = [\"http://naver.com\", \"http://daum.net\"]\n",
    "    group = asyncio.gather(*[network_bound_job(url) for url in urls])\n",
    "    \n",
    "    print(\"While waiting, doing something else here\")\n",
    "\n",
    "    print(await group)\n",
    "    \n",
    "\n",
    "    print(\"After await task, then do something else here\")\n",
    "\n",
    "    print(f\"finished at {time.strftime('%X')}\")\n",
    "\n",
    "await main()"
   ]
  },
  {
   "cell_type": "code",
   "execution_count": null,
   "id": "0462a184",
   "metadata": {},
   "outputs": [],
   "source": []
  }
 ],
 "metadata": {
  "kernelspec": {
   "display_name": "Python [conda env:data_analyzer] *",
   "language": "python",
   "name": "conda-env-data_analyzer-py"
  },
  "language_info": {
   "codemirror_mode": {
    "name": "ipython",
    "version": 3
   },
   "file_extension": ".py",
   "mimetype": "text/x-python",
   "name": "python",
   "nbconvert_exporter": "python",
   "pygments_lexer": "ipython3",
   "version": "3.10.8"
  }
 },
 "nbformat": 4,
 "nbformat_minor": 5
}
