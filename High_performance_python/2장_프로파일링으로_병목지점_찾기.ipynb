{
 "cells": [
  {
   "cell_type": "raw",
   "id": "2a4170a6",
   "metadata": {},
   "source": [
    "- 코드에서 RAM 병목 지점을 찾는방법\n",
    "- CPU와 메모리 사용량을 프로파일하는 방법\n",
    "- 바람직한 프로파일링의 깊이\n",
    "- 장시간 실행되는 어플리케이션의 프로파일링 방법\n",
    "- C 파이썬의 내부 동작\n",
    "- 성능 튜닝 중 코드의 올바름을 유지하는 방법\n",
    "\n",
    "항상 프로파일링 결과를 확인하고 일을 하는 습관을 들이자.\n",
    "\n",
    "프로파일링 정보는 코드를 느리게 만든다.\n",
    "\n",
    "timeit 모듈은 일시적으로 GC를 비활성화한다. 이로인해 GC가 활성화되는 일반적인 상황과는 실행 속도에서 차이가 날수 있다.\n",
    "\n",
    "cProfile 사용하기\n",
    "- python -m cProfile -s cumulative 모듈명\n",
    "- python -m cProfile -o profile.stats 모듈명\n",
    "    - 떨어진 파일을 읽어 들여서 확인\n",
    "    - ex) import pstats\n",
    "          p = pstats.Stats(\"떨어진 통계 파일\")\n",
    "          p.sort_stats(\"cumulative\")\n",
    "          p.print_stats()\n",
    "          \n",
    "- snakeviz로 다이어그램으로 보기 \n",
    "    - snakeviz 설치 후 python -m snakeviz 파일명..\n",
    "    \n",
    "    \n",
    "line_profiler (설치 필요)\n",
    "    - cProfile로 어떤 함수를 line_profler 할지 정하자\n",
    "    - 조건문에서 빨리끝나는 등식을 왼쪽에 두자\n",
    "    \n",
    "memory_profiler로 메모리 사용량 진단하기 (line_profiler 보다 느림..)\n",
    "    - python -m memory_profiler 파일명\n",
    "    - mprof 라는 유틸리티로 시각화 가능\n",
    "    \n",
    "py-spy로 기존 프로세스 살펴보기\n",
    "    - 이미 실행 중인 파이썬 프로세스를 들여다보고 콘솔에 top과 비슷한 방식으로 상황을 표시해준다.\n",
    "    - 프로덕션 환경에서 오래 실해되는 프로세스나 설치 요구사항이 복잡한 프로그램을 분석할때 유용함\n",
    "    \n",
    "바이트코드:내부동작\n",
    "    - dis 모듈로 바이트코드 조사하기"
   ]
  },
  {
   "cell_type": "code",
   "execution_count": 2,
   "id": "37120d5b",
   "metadata": {},
   "outputs": [
    {
     "name": "stdout",
     "output_type": "stream",
     "text": [
      "True\n"
     ]
    }
   ],
   "source": [
    "def fn_expressive(upper=1000000):\n",
    "    total = 0\n",
    "    for n in range(upper):\n",
    "        total += n\n",
    "        \n",
    "    return total\n",
    "\n",
    "def fn_terse(upper=1000000):\n",
    "    return sum(range(upper))\n",
    "\n",
    "assert fn_expressive() == fn_terse(), \"Expect identical results from both functions\"\n",
    "print(fn_expressive() == fn_terse())"
   ]
  },
  {
   "cell_type": "code",
   "execution_count": 3,
   "id": "e5a05aa9",
   "metadata": {},
   "outputs": [
    {
     "name": "stdout",
     "output_type": "stream",
     "text": [
      "66.5 ms ± 8.78 ms per loop (mean ± std. dev. of 7 runs, 10 loops each)\n"
     ]
    }
   ],
   "source": [
    "%timeit fn_expressive()"
   ]
  },
  {
   "cell_type": "code",
   "execution_count": 5,
   "id": "13a0ff0d",
   "metadata": {},
   "outputs": [
    {
     "name": "stdout",
     "output_type": "stream",
     "text": [
      "38.5 ms ± 4.99 ms per loop (mean ± std. dev. of 7 runs, 10 loops each)\n"
     ]
    }
   ],
   "source": [
    "%timeit fn_terse()"
   ]
  },
  {
   "cell_type": "code",
   "execution_count": 6,
   "id": "74677fef",
   "metadata": {},
   "outputs": [
    {
     "name": "stdout",
     "output_type": "stream",
     "text": [
      "  2           0 LOAD_CONST               1 (0)\n",
      "              2 STORE_FAST               1 (total)\n",
      "\n",
      "  3           4 LOAD_GLOBAL              0 (range)\n",
      "              6 LOAD_FAST                0 (upper)\n",
      "              8 CALL_FUNCTION            1\n",
      "             10 GET_ITER\n",
      "        >>   12 FOR_ITER                 6 (to 26)\n",
      "             14 STORE_FAST               2 (n)\n",
      "\n",
      "  4          16 LOAD_FAST                1 (total)\n",
      "             18 LOAD_FAST                2 (n)\n",
      "             20 INPLACE_ADD\n",
      "             22 STORE_FAST               1 (total)\n",
      "             24 JUMP_ABSOLUTE            6 (to 12)\n",
      "\n",
      "  6     >>   26 LOAD_FAST                1 (total)\n",
      "             28 RETURN_VALUE\n"
     ]
    }
   ],
   "source": [
    "import dis\n",
    "\n",
    "dis.dis(fn_expressive)"
   ]
  },
  {
   "cell_type": "code",
   "execution_count": 7,
   "id": "8559d531",
   "metadata": {},
   "outputs": [
    {
     "name": "stdout",
     "output_type": "stream",
     "text": [
      "  9           0 LOAD_GLOBAL              0 (sum)\n",
      "              2 LOAD_GLOBAL              1 (range)\n",
      "              4 LOAD_FAST                0 (upper)\n",
      "              6 CALL_FUNCTION            1\n",
      "              8 CALL_FUNCTION            1\n",
      "             10 RETURN_VALUE\n"
     ]
    }
   ],
   "source": [
    "dis.dis(fn_terse)"
   ]
  },
  {
   "cell_type": "raw",
   "id": "5f4ac7e1",
   "metadata": {},
   "source": [
    "최적화 중에 단위 테스트 하기\n",
    "    - coverage 측정하기"
   ]
  }
 ],
 "metadata": {
  "kernelspec": {
   "display_name": "Python [conda env:data_analyzer] *",
   "language": "python",
   "name": "conda-env-data_analyzer-py"
  },
  "language_info": {
   "codemirror_mode": {
    "name": "ipython",
    "version": 3
   },
   "file_extension": ".py",
   "mimetype": "text/x-python",
   "name": "python",
   "nbconvert_exporter": "python",
   "pygments_lexer": "ipython3",
   "version": "3.10.8"
  }
 },
 "nbformat": 4,
 "nbformat_minor": 5
}
