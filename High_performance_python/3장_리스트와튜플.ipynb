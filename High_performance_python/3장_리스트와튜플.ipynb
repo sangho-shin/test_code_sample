{
 "cells": [
  {
   "cell_type": "raw",
   "id": "4c2d9436",
   "metadata": {},
   "source": [
    "올바른 자료구조를 선택하고 일관되게 사용하여 효율적인 코드로\n",
    "\n",
    "리스트는 동적인 배열. 수정가능하며, 저장용량을 늘리거나 줄일수도 있다.\n",
    "튜플은 정적인 배열. 일단 생성되면 배열의 크기뿐 아니라 그안에 데이터도 변경할 수 없다.\n",
    "튜플은 파이썬 런타임에서 캐시하므로 사용할 때마다 커널에 메모리를 요청하지 않아도 된다.\n",
    "튜플은 불변성 덕분에 자료구조가 아주 가볍다.(즉 튜플을 저장하는 데는 메모리 오버헤드가 크지 않으며 연산도 꽤 명료하게 수행)\n",
    "리스트는 변경할 수 있다는 점 때문에 메모리를 더 많이 사용하며 추가 연산도 필요하다."
   ]
  },
  {
   "cell_type": "raw",
   "id": "7d76e351",
   "metadata": {},
   "source": [
    "# 리스트\n",
    "\n",
    "크기가 N인 꽉 찬 리스트에 새로운 항목을 추가하면 원래 항목 N에 새로 추가한 항목까지 모두 담을만한 크기의 새로운 리스트를 생성한다. 나중을 위해 N보다 큰 M만큼 메모리를 할당함. 그리고 이전 리스트의 데이터를 모두 새로운 리스트로 복사하고 이전 리스트는 삭제한다.\n",
    "\n",
    "초과 활당은 꽉 찬 리스트에 항목을 처음 append할 때 일어난다."
   ]
  },
  {
   "cell_type": "code",
   "execution_count": 2,
   "id": "a4bf60a8",
   "metadata": {},
   "outputs": [
    {
     "name": "stdout",
     "output_type": "stream",
     "text": [
      "peak memory: 84.03 MiB, increment: 1.29 MiB\n"
     ]
    }
   ],
   "source": [
    "%load_ext memory_profiler\n",
    "%memit [i*i for i in range(100_000)]"
   ]
  },
  {
   "cell_type": "code",
   "execution_count": 3,
   "id": "1adff34f",
   "metadata": {},
   "outputs": [
    {
     "name": "stdout",
     "output_type": "stream",
     "text": [
      "peak memory: 94.15 MiB, increment: 2.24 MiB\n"
     ]
    }
   ],
   "source": [
    "%%memit l = []\n",
    "for i in range(100_000):\n",
    "    l.append(i * 2)"
   ]
  },
  {
   "cell_type": "code",
   "execution_count": 4,
   "id": "2f0fc2d7",
   "metadata": {},
   "outputs": [
    {
     "name": "stdout",
     "output_type": "stream",
     "text": [
      "509 µs ± 22 µs per loop (mean ± std. dev. of 7 runs, 1,000 loops each)\n"
     ]
    }
   ],
   "source": [
    "%timeit [i*i for i in range(100_00)]"
   ]
  },
  {
   "cell_type": "code",
   "execution_count": 5,
   "id": "dfa77a69",
   "metadata": {},
   "outputs": [
    {
     "name": "stdout",
     "output_type": "stream",
     "text": [
      "1.09 ms ± 60.6 µs per loop (mean ± std. dev. of 7 runs, 1,000 loops each)\n"
     ]
    }
   ],
   "source": [
    "%%timeit l = []\n",
    "for i in range(100_00):\n",
    "    l.append(i * 2)"
   ]
  },
  {
   "cell_type": "code",
   "execution_count": 6,
   "id": "a996d46b",
   "metadata": {},
   "outputs": [],
   "source": [
    "# 파이썬 문장을 추가로 싱행해야하고 메모리도 재할당 해야 하므로 전체 실행 시간도 더 느려진다.\n",
    "# 작은 리스트를 많이 사용하거나, 아주 큰 리스트를 사용할 때 특히 두드러짐"
   ]
  },
  {
   "cell_type": "raw",
   "id": "3d855611",
   "metadata": {},
   "source": [
    "# 튜플"
   ]
  },
  {
   "cell_type": "code",
   "execution_count": 7,
   "id": "95aefe0b",
   "metadata": {},
   "outputs": [
    {
     "ename": "TypeError",
     "evalue": "'tuple' object does not support item assignment",
     "output_type": "error",
     "traceback": [
      "\u001b[1;31m---------------------------------------------------------------------------\u001b[0m",
      "\u001b[1;31mTypeError\u001b[0m                                 Traceback (most recent call last)",
      "Cell \u001b[1;32mIn[7], line 2\u001b[0m\n\u001b[0;32m      1\u001b[0m t \u001b[38;5;241m=\u001b[39m (\u001b[38;5;241m1\u001b[39m, \u001b[38;5;241m2\u001b[39m, \u001b[38;5;241m3\u001b[39m, \u001b[38;5;241m4\u001b[39m)\n\u001b[1;32m----> 2\u001b[0m t[\u001b[38;5;241m0\u001b[39m] \u001b[38;5;241m=\u001b[39m \u001b[38;5;241m5\u001b[39m\n",
      "\u001b[1;31mTypeError\u001b[0m: 'tuple' object does not support item assignment"
     ]
    }
   ],
   "source": [
    "t = (1, 2, 3, 4)\n",
    "t[0] = 5"
   ]
  },
  {
   "cell_type": "code",
   "execution_count": 8,
   "id": "7abfa7aa",
   "metadata": {},
   "outputs": [
    {
     "data": {
      "text/plain": [
       "(1, 2, 3, 4, 5, 6, 7, 8)"
      ]
     },
     "execution_count": 8,
     "metadata": {},
     "output_type": "execute_result"
    }
   ],
   "source": [
    "# 크기 변경은 안되지만 합칠 수는 있음\n",
    "\n",
    "t1 = (1, 2, 3, 4)\n",
    "t2 = (5, 6, 7, 8)\n",
    "t1 + t2"
   ]
  },
  {
   "cell_type": "raw",
   "id": "b1dafe02",
   "metadata": {},
   "source": [
    "여유 공간이 부족할 때만 할당과 복사가 일어나느 리스트와 달리 튜플에서는 새로운 항목을 추가 할 때마다 할당과 복사가일어남\n",
    "그래서 튜플은 append 같은 연산은 지원하지 않는다. \n",
    "두 튜플을 합치면 항상 새로운 튜플 하나의 메모리를 새로 할당한다.\n",
    "\n",
    "튜플이 정적이기 얻을 수 있는 또 다른 장점은 파이썬이 내부적으로 수행하는 리소스 캐싱이다.\n",
    "파이썬은 GC를 통해 더는 사용되지 않는 변수에 할당된 메모리를 반환한다.\n",
    "하지만 크기가 20 이하인 튜플은 크기별로 최대 2만개 까지 즉시 회수하지 않고 나중을 위해 저장해둔다.\n",
    "리스트가 튜플보다 인스턴스 생성이 5.1배 더 느림."
   ]
  },
  {
   "cell_type": "code",
   "execution_count": 9,
   "id": "715bc9fc",
   "metadata": {},
   "outputs": [
    {
     "name": "stdout",
     "output_type": "stream",
     "text": [
      "59.2 ns ± 4.31 ns per loop (mean ± std. dev. of 7 runs, 10,000,000 loops each)\n"
     ]
    }
   ],
   "source": [
    "%timeit l = [0, 1, 2, 3, 4, 5, 6, 7, 8, 9]\n"
   ]
  },
  {
   "cell_type": "code",
   "execution_count": 10,
   "id": "6035dd07",
   "metadata": {},
   "outputs": [
    {
     "name": "stdout",
     "output_type": "stream",
     "text": [
      "11.9 ns ± 0.909 ns per loop (mean ± std. dev. of 7 runs, 100,000,000 loops each)\n"
     ]
    }
   ],
   "source": [
    "%timeit t = (0, 1, 2, 3, 4, 5, 6, 7, 8, 9)"
   ]
  },
  {
   "cell_type": "code",
   "execution_count": null,
   "id": "a8eea0bf",
   "metadata": {},
   "outputs": [],
   "source": [
    "# 리스트와 튜플은 정렬된 데이터에 적합한 빠르고 오버헤드가 적은 자료구조이다."
   ]
  }
 ],
 "metadata": {
  "kernelspec": {
   "display_name": "Python [conda env:data_analyzer] *",
   "language": "python",
   "name": "conda-env-data_analyzer-py"
  },
  "language_info": {
   "codemirror_mode": {
    "name": "ipython",
    "version": 3
   },
   "file_extension": ".py",
   "mimetype": "text/x-python",
   "name": "python",
   "nbconvert_exporter": "python",
   "pygments_lexer": "ipython3",
   "version": "3.10.8"
  }
 },
 "nbformat": 4,
 "nbformat_minor": 5
}
