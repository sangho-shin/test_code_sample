{
 "cells": [
  {
   "cell_type": "raw",
   "id": "e665d10c",
   "metadata": {},
   "source": [
    "간단하고 가벼우며 이식성 좋은 파이썬 환경을 제공하는 pipenv, pyenv, virtualenv - 검색해보기\n",
    "\n",
    "docker로 이미지화 하여 분석시 사용하는것은 어떨지 검토..\n",
    "ㄴ centos에서 이미지화 하여 window 도커에서 사용 가능할지 혹은 내부 윈도우 도커에서 테스트 후 이미지화 하여 사용.\n",
    "\n",
    "README 파일 작성, docs에 추가\n",
    "\n",
    "tests 폴더 추가하고 단위 테스트를 만들어라 - pytest 추천\n",
    "ㄴ 한번에 다한다기보다 작은 단위에서 작성하고 점점 발전시키라.\n",
    "ㄴ 테스트가 코드를 몇줄 검증했는지 알려주는 coverage 도구를 사용해 진척 상황 확인\n",
    "ㄴ 프로젝트 전체 흐름을 검사하면서 특정 입력에 대해 지정한 출력이 나오는지 체크하는 통합 테스트가 있어야 함\n",
    "\n",
    "코드의 모든 함수, 클래스, 모듈에 docstring을 추가하자 (함수가 달성하려는 내용을 제대로 설명)\n",
    "ㄴ 가능하면 예상 출력을 보여주는 간단한 예제도 추가하자 (numpy와 사이킷런의 독스트링 참고)\n",
    "\n",
    "코드가 너무 길면 (한 화면에 안보이는 함수) 리팩터링해 코드를 짧게 만들자.\n",
    "\n",
    "항상 소스 관리하자\n",
    "\n",
    "PEP8 코딩 표준을 지켜라\n",
    "ㄴ black (원하는 대로 설정할 수 있는 코드 정리기 formatter)을 소스 컨트롤 커밋 전 훅(pre-commit hook)에 추가해서 코드를 표준 형식으로 자동 정리하면 더 좋다.\n",
    "ㄴ flake8을 적용해 소스 코드를 린트해서 다른 실수 방지\n",
    "\n",
    "자동화\n",
    "ㄴ 자동 빌드, 자동 테스트, CI.CD 환경 만들기"
   ]
  },
  {
   "cell_type": "code",
   "execution_count": null,
   "id": "a0eec1ec",
   "metadata": {},
   "outputs": [],
   "source": []
  }
 ],
 "metadata": {
  "kernelspec": {
   "display_name": "Python [conda env:data_analyzer] *",
   "language": "python",
   "name": "conda-env-data_analyzer-py"
  },
  "language_info": {
   "codemirror_mode": {
    "name": "ipython",
    "version": 3
   },
   "file_extension": ".py",
   "mimetype": "text/x-python",
   "name": "python",
   "nbconvert_exporter": "python",
   "pygments_lexer": "ipython3",
   "version": "3.10.8"
  }
 },
 "nbformat": 4,
 "nbformat_minor": 5
}
