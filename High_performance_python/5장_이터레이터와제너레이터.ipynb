{
 "cells": [
  {
   "cell_type": "raw",
   "id": "052d0f16",
   "metadata": {},
   "source": [
    "제너레이터를 사용하면 이런 종료의 함수를 필요할 때마다 지연 계산 할수 있어서 성능상에 영향을 주지 않음\n",
    "\n",
    "루프 밖에서 이터레이터를 생성할 수 있어야 한다. 대부분의 객체에서 이터레이터를 생성하려면 파이썬 내장 함수인 iter를 사용하면된다. 이 함수는 리스트, 튜플, 사전, 셋에서 사용할수 있으며 객체의 값이아 키에 대한 이터레이터를 반환한다.\n",
    "더 복잡한 객체라면 iter는 __iter__ 프로퍼티의 결과를 반환한다."
   ]
  },
  {
   "cell_type": "code",
   "execution_count": 1,
   "id": "b2618da3",
   "metadata": {},
   "outputs": [
    {
     "ename": "TypeError",
     "evalue": "'type' object is not iterable",
     "output_type": "error",
     "traceback": [
      "\u001b[1;31m---------------------------------------------------------------------------\u001b[0m",
      "\u001b[1;31mTypeError\u001b[0m                                 Traceback (most recent call last)",
      "Cell \u001b[1;32mIn[1], line 2\u001b[0m\n\u001b[0;32m      1\u001b[0m \u001b[38;5;66;03m# 다음 파이썬 루프는\u001b[39;00m\n\u001b[1;32m----> 2\u001b[0m \u001b[38;5;28;01mfor\u001b[39;00m i \u001b[38;5;129;01min\u001b[39;00m \u001b[38;5;28mobject\u001b[39m:\n\u001b[0;32m      3\u001b[0m     do_work(i)\n\u001b[0;32m      5\u001b[0m \u001b[38;5;66;03m# 아래 코드와 같다\u001b[39;00m\n",
      "\u001b[1;31mTypeError\u001b[0m: 'type' object is not iterable"
     ]
    }
   ],
   "source": [
    "# 다음 파이썬 루프는\n",
    "for i in object:\n",
    "    do_work(i)\n",
    "    \n",
    "# 아래 코드와 같다\n",
    "object_iterator = iter(object)\n",
    "\n",
    "while True:\n",
    "    try:\n",
    "        i = next(object_iterator)\n",
    "    except StopIteration:\n",
    "        break\n",
    "    else:\n",
    "        do_work(i)\n",
    "        "
   ]
  },
  {
   "cell_type": "raw",
   "id": "ea7e1f44",
   "metadata": {},
   "source": [
    "코드 구조를 잡을때 CPU 속도와 메모리 효율성 중 어느 쪽을 최적화할지 반드시 결정해야한다.\n",
    "때로는 추가 메모리를 사용해서 미리 값을 계산해두고 나중에 참조해서 전체 속도를 높일 수 있다.\n",
    "때로는 메모리 제약이 심해서 결과를 메모리에 저장하지 못하고 값을 매번 계산 하는것이 유일한 해법일 수도 있다.\n"
   ]
  },
  {
   "cell_type": "code",
   "execution_count": null,
   "id": "0a76dd95",
   "metadata": {},
   "outputs": [],
   "source": []
  }
 ],
 "metadata": {
  "kernelspec": {
   "display_name": "Python [conda env:data_analyzer] *",
   "language": "python",
   "name": "conda-env-data_analyzer-py"
  },
  "language_info": {
   "codemirror_mode": {
    "name": "ipython",
    "version": 3
   },
   "file_extension": ".py",
   "mimetype": "text/x-python",
   "name": "python",
   "nbconvert_exporter": "python",
   "pygments_lexer": "ipython3",
   "version": "3.10.8"
  }
 },
 "nbformat": 4,
 "nbformat_minor": 5
}
