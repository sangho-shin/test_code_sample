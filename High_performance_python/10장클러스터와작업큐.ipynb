{
 "cells": [
  {
   "cell_type": "code",
   "execution_count": null,
   "id": "2891cbc6",
   "metadata": {},
   "outputs": [],
   "source": [
    "Dask 를 이용한 병렬처리\n",
    "\n",
    "Dask에서 Swifter를 사용해서 apply 병렬화 하기\n",
    "\n",
    "RAM 보다 큰 Dataframe을 위한 Vaex\n",
    "- 문자열을 많이 처리하거나 RAM 보다 더 큰 데이터셋을 사용한다면 Vaex를 평가해보자"
   ]
  }
 ],
 "metadata": {
  "kernelspec": {
   "display_name": "Python [conda env:data_analyzer] *",
   "language": "python",
   "name": "conda-env-data_analyzer-py"
  },
  "language_info": {
   "codemirror_mode": {
    "name": "ipython",
    "version": 3
   },
   "file_extension": ".py",
   "mimetype": "text/x-python",
   "name": "python",
   "nbconvert_exporter": "python",
   "pygments_lexer": "ipython3",
   "version": "3.10.8"
  }
 },
 "nbformat": 4,
 "nbformat_minor": 5
}
