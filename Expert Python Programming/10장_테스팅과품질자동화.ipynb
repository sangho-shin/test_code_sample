{
 "cells": [
  {
   "cell_type": "raw",
   "id": "444f161f",
   "metadata": {},
   "source": [
    "테스트 주도 개발 원칙 (Test-driven development, TDD)\n",
    "\n",
    "1. 테스트를 작성한다.\n",
    "\n",
    "2. 테스트를 실행한다. - 실패, 피처나 개선 사항을 아직 구현하지 않았기 때문이다.\n",
    "\n",
    "3. 최소환의 유효한 구현을 작성한다. - 간단하지만 정확하게, 우아하지 않거나 성능에 다소 문제가 있어도 관계없다.\n",
    "\n",
    "4. 테스트를 실행한다. - 모든 테스트 케이스 성공 해야한다.\n",
    "\n",
    "5. 다듬고 광택을 낸다. - 점진적으로 제품 코드를 리팩터링할 수 있다.\n",
    "\n",
    "TDD 기본 원칙\n",
    "\n",
    "- 테스트 대상의 크기를 작게 유지한다. 한가지 작업만, 하나의 함수 또는 메서드를 실행\n",
    "\n",
    "- 테스트 케이스의 규모는 작으며 검증 대상에 집중한다.\n",
    "\n",
    "- 테스트 케이스는 서로 격리되고 독립되도록 유지한다. 하나의 테스트 케이스의 성공은 다른 테스트 케이스들의 특정한 실행 순서에 의존하지\n",
    "않아야 한다."
   ]
  },
  {
   "cell_type": "code",
   "execution_count": 3,
   "id": "d013c9b1",
   "metadata": {},
   "outputs": [],
   "source": [
    "from typing import Any, Iterable, List\n",
    "\n",
    "def batches(\n",
    "    iterable: Iterable[Any], batch_size: int\n",
    ") -> Iterable[List[Any]]:\n",
    "    pass"
   ]
  },
  {
   "cell_type": "code",
   "execution_count": 6,
   "id": "86090c02",
   "metadata": {},
   "outputs": [],
   "source": [
    "from itertools import chain\n",
    "\n",
    "def test_batch_on_lists():\n",
    "    assert list(batches([1, 2, 3, 4, 5, 6], 1)) == [\n",
    "        [1], [2], [3], [4], [5], [6]\n",
    "    ]\n",
    "    assert list(batches([1, 2, 3, 4, 5, 6], 2)) == [\n",
    "        [1,2], [3,4], [5,6]\n",
    "    ]\n",
    "    assert list(batches([1, 2, 3, 4, 5, 6], 3)) == [\n",
    "        [1,2,3], [4,5,6]\n",
    "    ]\n",
    "    assert list(batches([1, 2, 3, 4, 5, 6], 4)) == [\n",
    "        [1,2,3,4], [5,6]\n",
    "    ]\n",
    "    "
   ]
  },
  {
   "cell_type": "code",
   "execution_count": 7,
   "id": "d35217d6",
   "metadata": {},
   "outputs": [
    {
     "ename": "TypeError",
     "evalue": "'NoneType' object is not iterable",
     "output_type": "error",
     "traceback": [
      "\u001b[1;31m---------------------------------------------------------------------------\u001b[0m",
      "\u001b[1;31mTypeError\u001b[0m                                 Traceback (most recent call last)",
      "Cell \u001b[1;32mIn[7], line 1\u001b[0m\n\u001b[1;32m----> 1\u001b[0m \u001b[43mtest_batch_on_lists\u001b[49m\u001b[43m(\u001b[49m\u001b[43m)\u001b[49m\n",
      "Cell \u001b[1;32mIn[6], line 4\u001b[0m, in \u001b[0;36mtest_batch_on_lists\u001b[1;34m()\u001b[0m\n\u001b[0;32m      3\u001b[0m \u001b[38;5;28;01mdef\u001b[39;00m \u001b[38;5;21mtest_batch_on_lists\u001b[39m():\n\u001b[1;32m----> 4\u001b[0m     \u001b[38;5;28;01massert\u001b[39;00m \u001b[38;5;28;43mlist\u001b[39;49m\u001b[43m(\u001b[49m\u001b[43mbatches\u001b[49m\u001b[43m(\u001b[49m\u001b[43m[\u001b[49m\u001b[38;5;241;43m1\u001b[39;49m\u001b[43m,\u001b[49m\u001b[43m \u001b[49m\u001b[38;5;241;43m2\u001b[39;49m\u001b[43m,\u001b[49m\u001b[43m \u001b[49m\u001b[38;5;241;43m3\u001b[39;49m\u001b[43m,\u001b[49m\u001b[43m \u001b[49m\u001b[38;5;241;43m4\u001b[39;49m\u001b[43m,\u001b[49m\u001b[43m \u001b[49m\u001b[38;5;241;43m5\u001b[39;49m\u001b[43m,\u001b[49m\u001b[43m \u001b[49m\u001b[38;5;241;43m6\u001b[39;49m\u001b[43m]\u001b[49m\u001b[43m,\u001b[49m\u001b[43m \u001b[49m\u001b[38;5;241;43m1\u001b[39;49m\u001b[43m)\u001b[49m\u001b[43m)\u001b[49m \u001b[38;5;241m==\u001b[39m [\n\u001b[0;32m      5\u001b[0m         [\u001b[38;5;241m1\u001b[39m], [\u001b[38;5;241m2\u001b[39m], [\u001b[38;5;241m3\u001b[39m], [\u001b[38;5;241m4\u001b[39m], [\u001b[38;5;241m5\u001b[39m], [\u001b[38;5;241m6\u001b[39m]\n\u001b[0;32m      6\u001b[0m     ]\n\u001b[0;32m      7\u001b[0m     \u001b[38;5;28;01massert\u001b[39;00m \u001b[38;5;28mlist\u001b[39m(batches([\u001b[38;5;241m1\u001b[39m, \u001b[38;5;241m2\u001b[39m, \u001b[38;5;241m3\u001b[39m, \u001b[38;5;241m4\u001b[39m, \u001b[38;5;241m5\u001b[39m, \u001b[38;5;241m6\u001b[39m], \u001b[38;5;241m2\u001b[39m)) \u001b[38;5;241m==\u001b[39m [\n\u001b[0;32m      8\u001b[0m         [\u001b[38;5;241m1\u001b[39m,\u001b[38;5;241m2\u001b[39m], [\u001b[38;5;241m3\u001b[39m,\u001b[38;5;241m4\u001b[39m], [\u001b[38;5;241m5\u001b[39m,\u001b[38;5;241m6\u001b[39m]\n\u001b[0;32m      9\u001b[0m     ]\n\u001b[0;32m     10\u001b[0m     \u001b[38;5;28;01massert\u001b[39;00m \u001b[38;5;28mlist\u001b[39m(batches([\u001b[38;5;241m1\u001b[39m, \u001b[38;5;241m2\u001b[39m, \u001b[38;5;241m3\u001b[39m, \u001b[38;5;241m4\u001b[39m, \u001b[38;5;241m5\u001b[39m, \u001b[38;5;241m6\u001b[39m], \u001b[38;5;241m3\u001b[39m)) \u001b[38;5;241m==\u001b[39m [\n\u001b[0;32m     11\u001b[0m         [\u001b[38;5;241m1\u001b[39m,\u001b[38;5;241m2\u001b[39m,\u001b[38;5;241m3\u001b[39m], [\u001b[38;5;241m4\u001b[39m,\u001b[38;5;241m5\u001b[39m,\u001b[38;5;241m6\u001b[39m]\n\u001b[0;32m     12\u001b[0m     ]\n",
      "\u001b[1;31mTypeError\u001b[0m: 'NoneType' object is not iterable"
     ]
    }
   ],
   "source": [
    "test_batch_on_lists()"
   ]
  },
  {
   "cell_type": "code",
   "execution_count": 8,
   "id": "4f439030",
   "metadata": {},
   "outputs": [],
   "source": [
    "def test_batch_order():\n",
    "    iterable = range(100)\n",
    "    batch_size = 2 \n",
    "    \n",
    "    output = batches(iterable, batch_size)\n",
    "    \n",
    "    assert list(chain.from_iterable(output)) == list(iterable)\n",
    "    \n",
    "def test_batch_sizes():\n",
    "    iterable = range(100)\n",
    "    batch_size = 2 \n",
    "    \n",
    "    output = list(batches(iterable, batch_size))\n",
    "    \n",
    "    for batch in output[:-1]:\n",
    "        assert len(batch) == batch_size\n",
    "        \n",
    "    assert len(output[-1]) <= batch_size\n",
    "    "
   ]
  },
  {
   "cell_type": "code",
   "execution_count": 11,
   "id": "80e8b05f",
   "metadata": {},
   "outputs": [
    {
     "name": "stdout",
     "output_type": "stream",
     "text": [
      "Collecting pytest\n",
      "  Downloading pytest-7.2.2-py3-none-any.whl (317 kB)\n",
      "     -------------------------------------- 317.2/317.2 kB 9.6 MB/s eta 0:00:00\n",
      "Requirement already satisfied: packaging in c:\\users\\shshin\\anaconda3\\envs\\data_analyzer\\lib\\site-packages (from pytest) (22.0)\n",
      "Collecting iniconfig\n",
      "  Downloading iniconfig-2.0.0-py3-none-any.whl (5.9 kB)\n",
      "Collecting tomli>=1.0.0\n",
      "  Downloading tomli-2.0.1-py3-none-any.whl (12 kB)\n",
      "Collecting pluggy<2.0,>=0.12\n",
      "  Using cached pluggy-1.0.0-py2.py3-none-any.whl (13 kB)\n",
      "Requirement already satisfied: colorama in c:\\users\\shshin\\anaconda3\\envs\\data_analyzer\\lib\\site-packages (from pytest) (0.4.6)\n",
      "Requirement already satisfied: attrs>=19.2.0 in c:\\users\\shshin\\anaconda3\\envs\\data_analyzer\\lib\\site-packages (from pytest) (22.2.0)\n",
      "Collecting exceptiongroup>=1.0.0rc8\n",
      "  Downloading exceptiongroup-1.1.1-py3-none-any.whl (14 kB)\n",
      "Installing collected packages: tomli, pluggy, iniconfig, exceptiongroup, pytest\n",
      "Successfully installed exceptiongroup-1.1.1 iniconfig-2.0.0 pluggy-1.0.0 pytest-7.2.2 tomli-2.0.1\n"
     ]
    }
   ],
   "source": [
    "! pip install pytest\n"
   ]
  },
  {
   "cell_type": "code",
   "execution_count": 12,
   "id": "912d6103",
   "metadata": {},
   "outputs": [
    {
     "name": "stdout",
     "output_type": "stream",
     "text": [
      "\u001b[1m============================= test session starts =============================\u001b[0m\n",
      "platform win32 -- Python 3.10.8, pytest-7.2.2, pluggy-1.0.0 -- C:\\Users\\shshin\\anaconda3\\envs\\data_analyzer\\python.exe\n",
      "cachedir: .pytest_cache\n",
      "rootdir: C:\\Users\\shshin\\Documents\\jupyter\\test_code_sample\\Expert Python Programming\n",
      "plugins: anyio-3.5.0\n",
      "\u001b[1mcollecting ... \u001b[0mcollected 0 items\n",
      "\n",
      "\u001b[33m============================ \u001b[33mno tests ran\u001b[0m\u001b[33m in 0.07s\u001b[0m\u001b[33m ============================\u001b[0m\n"
     ]
    }
   ],
   "source": [
    "! pytest -v"
   ]
  },
  {
   "cell_type": "code",
   "execution_count": 13,
   "id": "5e08f83d",
   "metadata": {},
   "outputs": [
    {
     "ename": "TypeError",
     "evalue": "'NoneType' object is not iterable",
     "output_type": "error",
     "traceback": [
      "\u001b[1;31m---------------------------------------------------------------------------\u001b[0m",
      "\u001b[1;31mTypeError\u001b[0m                                 Traceback (most recent call last)",
      "Cell \u001b[1;32mIn[13], line 1\u001b[0m\n\u001b[1;32m----> 1\u001b[0m \u001b[43mtest_batch_order\u001b[49m\u001b[43m(\u001b[49m\u001b[43m)\u001b[49m\n",
      "Cell \u001b[1;32mIn[8], line 7\u001b[0m, in \u001b[0;36mtest_batch_order\u001b[1;34m()\u001b[0m\n\u001b[0;32m      3\u001b[0m batch_size \u001b[38;5;241m=\u001b[39m \u001b[38;5;241m2\u001b[39m \n\u001b[0;32m      5\u001b[0m output \u001b[38;5;241m=\u001b[39m batches(iterable, batch_size)\n\u001b[1;32m----> 7\u001b[0m \u001b[38;5;28;01massert\u001b[39;00m \u001b[38;5;28mlist\u001b[39m(\u001b[43mchain\u001b[49m\u001b[38;5;241;43m.\u001b[39;49m\u001b[43mfrom_iterable\u001b[49m\u001b[43m(\u001b[49m\u001b[43moutput\u001b[49m\u001b[43m)\u001b[49m) \u001b[38;5;241m==\u001b[39m \u001b[38;5;28mlist\u001b[39m(iterable)\n",
      "\u001b[1;31mTypeError\u001b[0m: 'NoneType' object is not iterable"
     ]
    }
   ],
   "source": [
    "test_batch_order()"
   ]
  },
  {
   "cell_type": "code",
   "execution_count": 14,
   "id": "b0d21e3c",
   "metadata": {},
   "outputs": [
    {
     "ename": "TypeError",
     "evalue": "'NoneType' object is not iterable",
     "output_type": "error",
     "traceback": [
      "\u001b[1;31m---------------------------------------------------------------------------\u001b[0m",
      "\u001b[1;31mTypeError\u001b[0m                                 Traceback (most recent call last)",
      "Cell \u001b[1;32mIn[14], line 1\u001b[0m\n\u001b[1;32m----> 1\u001b[0m \u001b[43mtest_batch_sizes\u001b[49m\u001b[43m(\u001b[49m\u001b[43m)\u001b[49m\n",
      "Cell \u001b[1;32mIn[8], line 13\u001b[0m, in \u001b[0;36mtest_batch_sizes\u001b[1;34m()\u001b[0m\n\u001b[0;32m     10\u001b[0m iterable \u001b[38;5;241m=\u001b[39m \u001b[38;5;28mrange\u001b[39m(\u001b[38;5;241m100\u001b[39m)\n\u001b[0;32m     11\u001b[0m batch_size \u001b[38;5;241m=\u001b[39m \u001b[38;5;241m2\u001b[39m \n\u001b[1;32m---> 13\u001b[0m output \u001b[38;5;241m=\u001b[39m \u001b[38;5;28;43mlist\u001b[39;49m\u001b[43m(\u001b[49m\u001b[43mbatches\u001b[49m\u001b[43m(\u001b[49m\u001b[43miterable\u001b[49m\u001b[43m,\u001b[49m\u001b[43m \u001b[49m\u001b[43mbatch_size\u001b[49m\u001b[43m)\u001b[49m\u001b[43m)\u001b[49m\n\u001b[0;32m     15\u001b[0m \u001b[38;5;28;01mfor\u001b[39;00m batch \u001b[38;5;129;01min\u001b[39;00m output[:\u001b[38;5;241m-\u001b[39m\u001b[38;5;241m1\u001b[39m]:\n\u001b[0;32m     16\u001b[0m     \u001b[38;5;28;01massert\u001b[39;00m \u001b[38;5;28mlen\u001b[39m(batch) \u001b[38;5;241m==\u001b[39m batch_size\n",
      "\u001b[1;31mTypeError\u001b[0m: 'NoneType' object is not iterable"
     ]
    }
   ],
   "source": [
    "test_batch_sizes()"
   ]
  },
  {
   "cell_type": "code",
   "execution_count": 15,
   "id": "00e4cce9",
   "metadata": {},
   "outputs": [],
   "source": [
    "def batches(\n",
    "    iterable: Iterable[Any], batch_size: int\n",
    ") -> Iterable[List[Any]]:\n",
    "    results = []\n",
    "    batch = []\n",
    "    \n",
    "    for item in iterable:\n",
    "        batch.append(item)\n",
    "        if len(batch) == batch_size:\n",
    "            results.append(batch)\n",
    "            batch = []\n",
    "            \n",
    "    if batch:\n",
    "        results.append(batch)\n",
    "        \n",
    "    return results"
   ]
  },
  {
   "cell_type": "code",
   "execution_count": 17,
   "id": "b9e3302e",
   "metadata": {},
   "outputs": [
    {
     "name": "stdout",
     "output_type": "stream",
     "text": [
      "\u001b[1m============================= test session starts =============================\u001b[0m\n",
      "platform win32 -- Python 3.10.8, pytest-7.2.2, pluggy-1.0.0 -- C:\\Users\\shshin\\anaconda3\\envs\\data_analyzer\\python.exe\n",
      "cachedir: .pytest_cache\n",
      "rootdir: C:\\Users\\shshin\\Documents\\jupyter\\test_code_sample\\Expert Python Programming\n",
      "plugins: anyio-3.5.0\n",
      "\u001b[1mcollecting ... \u001b[0mcollected 0 items\n",
      "\n",
      "\u001b[33m============================ \u001b[33mno tests ran\u001b[0m\u001b[33m in 0.03s\u001b[0m\u001b[33m ============================\u001b[0m\n"
     ]
    }
   ],
   "source": [
    "! pytest -v"
   ]
  },
  {
   "cell_type": "code",
   "execution_count": 18,
   "id": "693c6fda",
   "metadata": {},
   "outputs": [],
   "source": [
    "test_batch_on_lists()"
   ]
  },
  {
   "cell_type": "code",
   "execution_count": 19,
   "id": "bcc995ad",
   "metadata": {},
   "outputs": [],
   "source": [
    "test_batch_order()"
   ]
  },
  {
   "cell_type": "code",
   "execution_count": 20,
   "id": "f44c65d9",
   "metadata": {},
   "outputs": [],
   "source": [
    "test_batch_sizes()"
   ]
  },
  {
   "cell_type": "code",
   "execution_count": 21,
   "id": "36ade0f5",
   "metadata": {},
   "outputs": [],
   "source": [
    "# iterable 객체가 무한대이면 어플리케이션에 큰 부담을 주기 때문에 제너레이터로 바꿔서 성공 시켜보자\n",
    "\n",
    "def batches(\n",
    "    iterable: Iterable[Any], batch_size: int\n",
    ") -> Iterable[List[Any]]:\n",
    "    results = []\n",
    "    batch = []\n",
    "    \n",
    "    for item in iterable:\n",
    "        batch.append(item)\n",
    "        \n",
    "        if len(batch) == batch_size:\n",
    "            yield batch\n",
    "            batch = []\n",
    "            \n",
    "    if batch:\n",
    "        yield batch\n",
    "       \n",
    "    "
   ]
  },
  {
   "cell_type": "code",
   "execution_count": 22,
   "id": "97d9ce16",
   "metadata": {},
   "outputs": [],
   "source": [
    "test_batch_on_lists()"
   ]
  },
  {
   "cell_type": "code",
   "execution_count": 23,
   "id": "0a7da7e4",
   "metadata": {},
   "outputs": [],
   "source": [
    "test_batch_order()\n"
   ]
  },
  {
   "cell_type": "code",
   "execution_count": 24,
   "id": "8e2740bd",
   "metadata": {},
   "outputs": [],
   "source": [
    "test_batch_sizes()"
   ]
  },
  {
   "cell_type": "code",
   "execution_count": 25,
   "id": "bf239289",
   "metadata": {},
   "outputs": [],
   "source": [
    "# 이터레이터와 itertools 모듈을 이용하는 방법\n",
    "\n",
    "from itertools import islice\n",
    "\n",
    "def batches(\n",
    "    iterable: Iterable[Any], batch_size: int\n",
    ") -> Iterable[List[Any]]:\n",
    "    iterator = iter(iterable)\n",
    "    \n",
    "    while True:\n",
    "        batch = list(islice(iterator, batch_size))\n",
    "        \n",
    "        if not batch:\n",
    "            return\n",
    "        \n",
    "        yield batch\n"
   ]
  },
  {
   "cell_type": "code",
   "execution_count": 26,
   "id": "cec4edc8",
   "metadata": {},
   "outputs": [
    {
     "name": "stdout",
     "output_type": "stream",
     "text": [
      "\u001b[1m============================= test session starts =============================\u001b[0m\n",
      "platform win32 -- Python 3.10.8, pytest-7.2.2, pluggy-1.0.0 -- C:\\Users\\shshin\\anaconda3\\envs\\data_analyzer\\python.exe\n",
      "cachedir: .pytest_cache\n",
      "rootdir: C:\\Users\\shshin\\Documents\\jupyter\\test_code_sample\\Expert Python Programming\n",
      "plugins: anyio-3.5.0\n",
      "\u001b[1mcollecting ... \u001b[0mcollected 0 items\n",
      "\n",
      "\u001b[33m============================ \u001b[33mno tests ran\u001b[0m\u001b[33m in 0.03s\u001b[0m\u001b[33m ============================\u001b[0m\n"
     ]
    }
   ],
   "source": [
    "! pytest -v"
   ]
  },
  {
   "cell_type": "code",
   "execution_count": 27,
   "id": "aae7d6a9",
   "metadata": {},
   "outputs": [],
   "source": [
    "test_batch_on_lists()"
   ]
  },
  {
   "cell_type": "code",
   "execution_count": 28,
   "id": "2c9676c2",
   "metadata": {},
   "outputs": [],
   "source": [
    "test_batch_order()"
   ]
  },
  {
   "cell_type": "code",
   "execution_count": 29,
   "id": "b7995c98",
   "metadata": {},
   "outputs": [],
   "source": [
    "test_batch_sizes()"
   ]
  },
  {
   "cell_type": "code",
   "execution_count": 31,
   "id": "160e3e92",
   "metadata": {},
   "outputs": [],
   "source": [
    "import pytest\n",
    "\n",
    "@pytest.mark.parametrize(\n",
    "    \"batch_size, expected\", [\n",
    "        # 동일한 크기의 배치\n",
    "        [1, [[1], [2], [3], [4], [5], [6]]],\n",
    "        [2, [[1, 2], [3, 4], [5, 6]]],\n",
    "        [3, [[1,2,3], [4,5,6]]],\n",
    "        # 마지막 잔여 배치 포함\n",
    "        [4, [[1,2,3,4], [5,6]]]\n",
    "    ]\n",
    ")\n",
    "        \n",
    "def test_batch_parameterized(batch_size, expected):\n",
    "    iterable = [1, 2, 3, 4, 5, 6]\n",
    "    assert list(batches(iterable, batch_size)) == expected"
   ]
  },
  {
   "cell_type": "code",
   "execution_count": 32,
   "id": "03a15c39",
   "metadata": {},
   "outputs": [
    {
     "ename": "TypeError",
     "evalue": "test_batch_parameterized() missing 2 required positional arguments: 'batch_size' and 'expected'",
     "output_type": "error",
     "traceback": [
      "\u001b[1;31m---------------------------------------------------------------------------\u001b[0m",
      "\u001b[1;31mTypeError\u001b[0m                                 Traceback (most recent call last)",
      "Cell \u001b[1;32mIn[32], line 1\u001b[0m\n\u001b[1;32m----> 1\u001b[0m \u001b[43mtest_batch_parameterized\u001b[49m\u001b[43m(\u001b[49m\u001b[43m)\u001b[49m\n",
      "\u001b[1;31mTypeError\u001b[0m: test_batch_parameterized() missing 2 required positional arguments: 'batch_size' and 'expected'"
     ]
    }
   ],
   "source": [
    "test_batch_parameterized()"
   ]
  },
  {
   "cell_type": "code",
   "execution_count": null,
   "id": "60833be7",
   "metadata": {},
   "outputs": [],
   "source": []
  }
 ],
 "metadata": {
  "kernelspec": {
   "display_name": "Python [conda env:data_analyzer] *",
   "language": "python",
   "name": "conda-env-data_analyzer-py"
  },
  "language_info": {
   "codemirror_mode": {
    "name": "ipython",
    "version": 3
   },
   "file_extension": ".py",
   "mimetype": "text/x-python",
   "name": "python",
   "nbconvert_exporter": "python",
   "pygments_lexer": "ipython3",
   "version": "3.10.8"
  }
 },
 "nbformat": 4,
 "nbformat_minor": 5
}
