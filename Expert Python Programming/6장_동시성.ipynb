{
 "cells": [
  {
   "cell_type": "code",
   "execution_count": 2,
   "id": "248b85da",
   "metadata": {},
   "outputs": [
    {
     "name": "stdout",
     "output_type": "stream",
     "text": [
      "printing from threadprinting from thread\n",
      "\n",
      "printing from thread\n",
      "printing from thread\n",
      "printing from thread\n",
      "printing from thread\n",
      "printing from thread\n",
      "printing from thread\n",
      "printing from thread\n",
      "printing from thread\n"
     ]
    }
   ],
   "source": [
    "# 멀티스레딩\n",
    "\n",
    "from threading import Thread\n",
    "\n",
    "def my_function():\n",
    "    print(\"printing from thread\")\n",
    "    \n",
    "threads = [Thread(target=my_function) for _ in range(10)]\n",
    "\n",
    "for thread in threads:\n",
    "    thread.start()\n",
    "    \n",
    "for thread in threads:\n",
    "    thread.join()"
   ]
  },
  {
   "cell_type": "code",
   "execution_count": 9,
   "id": "4d252034",
   "metadata": {},
   "outputs": [
    {
     "name": "stdout",
     "output_type": "stream",
     "text": [
      "thread_count=100, thread_visits=1000000\n"
     ]
    }
   ],
   "source": [
    "from threading import Lock\n",
    "\n",
    "thread_visits = 0\n",
    "thread_visits_lock = Lock()\n",
    "\n",
    "def visit_counter():\n",
    "    global thread_visits\n",
    "    for i in range(100_00):\n",
    "        with thread_visits_lock:\n",
    "            thread_visits +=1\n",
    "                \n",
    "thread_count = 100\n",
    "\n",
    "threads = [\n",
    "    Thread(target=visit_counter)\n",
    "    for _ in range(thread_count)\n",
    "]\n",
    "\n",
    "for thread in threads:\n",
    "    thread.start()\n",
    "    \n",
    "for thread in threads:\n",
    "    thread.join()\n",
    "    \n",
    "print(f\"{thread_count=}, {thread_visits=}\")"
   ]
  },
  {
   "cell_type": "code",
   "execution_count": 10,
   "id": "741b6ab8",
   "metadata": {},
   "outputs": [],
   "source": [
    "# thread 실행시 Lock를 사용해서 한순간에 한 스레드만 단일 코드 블록에 접근하는것을 보장한다.\n",
    "\n",
    "# thread는 작업 위임이나 백그라운드 프로세싱에 유리함\n",
    "# 외부 서비스에 대한 여러 네트워크 요청을 수행하는 것 (ex google maps API 연동)\n"
   ]
  },
  {
   "cell_type": "code",
   "execution_count": 12,
   "id": "612aa004",
   "metadata": {},
   "outputs": [
    {
     "data": {
      "text/plain": [
       "{'date': '2023-03-17',\n",
       " 'base': 'USD',\n",
       " 'rates': {'EUR': 0.9413536665725313,\n",
       "  'USD': 1.0,\n",
       "  'JPY': 132.32608491010072,\n",
       "  'BGN': 1.8410995010825566,\n",
       "  'CZK': 22.543537607078978,\n",
       "  'DKK': 7.008378047632496,\n",
       "  'GBP': 0.8235714958109761,\n",
       "  'HUF': 372.7101572060623,\n",
       "  'PLN': 4.428598324390474,\n",
       "  'RON': 4.6322131224701115,\n",
       "  'SEK': 10.542690388779064,\n",
       "  'CHF': 0.9279864445072014,\n",
       "  'ISK': 140.54410241927894,\n",
       "  'NOK': 10.751953308858138,\n",
       "  'TRY': 19.00207097806646,\n",
       "  'AUD': 1.494304810317236,\n",
       "  'BRL': 5.259531205874047,\n",
       "  'CAD': 1.3728701873293796,\n",
       "  'CNY': 6.882895603878377,\n",
       "  'HKD': 7.849665819448366,\n",
       "  'IDR': 15374.206909535913,\n",
       "  'ILS': 3.6766450155323356,\n",
       "  'INR': 82.6386143274028,\n",
       "  'KRW': 1308.3309799491667,\n",
       "  'MXN': 18.810976183752235,\n",
       "  'MYR': 4.485456085851454,\n",
       "  'NZD': 1.6016191283065047,\n",
       "  'PHP': 54.70959239386237,\n",
       "  'SGD': 1.342558599265744,\n",
       "  'THB': 34.12030499858797,\n",
       "  'ZAR': 18.35526687376447}}"
      ]
     },
     "execution_count": 12,
     "metadata": {},
     "output_type": "execute_result"
    }
   ],
   "source": [
    "import requests\n",
    "\n",
    "response = requests.get(\"https://api.vatcomply.com/rates?base=USD\")\n",
    "response.json()"
   ]
  },
  {
   "cell_type": "code",
   "execution_count": 16,
   "id": "5459ebfe",
   "metadata": {},
   "outputs": [
    {
     "name": "stdout",
     "output_type": "stream",
     "text": [
      "1 USD =     1.0 USD,   0.941 EUR,    4.43 PLN,    10.8 NOK,    22.5 CZK\n",
      "1 EUR =    1.06 USD,     1.0 EUR,     4.7 PLN,    11.4 NOK,    23.9 CZK\n",
      "1 PLN =   0.226 USD,   0.213 EUR,     1.0 PLN,    2.43 NOK,    5.09 CZK\n",
      "1 NOK =   0.093 USD,  0.0876 EUR,   0.412 PLN,     1.0 NOK,     2.1 CZK\n",
      "1 CZK =  0.0444 USD,  0.0418 EUR,   0.196 PLN,   0.477 NOK,     1.0 CZK\n",
      "\n",
      "time elased : 3.57s\n"
     ]
    }
   ],
   "source": [
    "import time\n",
    "\n",
    "SYMBOLS = (\"USD\", \"EUR\", \"PLN\", \"NOK\", \"CZK\")\n",
    "BASES = (\"USD\", \"EUR\", \"PLN\", \"NOK\", \"CZK\")\n",
    "\n",
    "def fetch_rates(base):\n",
    "    response = requests.get(f\"https://api.vatcomply.com/rates?base={base}\")\n",
    "    response.raise_for_status()\n",
    "    rates = response.json()[\"rates\"]\n",
    "    \n",
    "    # 동일 화폐는 1:1로 환전한다.\n",
    "    rates[base] = 1.0\n",
    "    \n",
    "    rates_line = \", \".join(\n",
    "        [f\"{rates[symbol]:7.03} {symbol}\" for symbol in SYMBOLS]\n",
    "    )\n",
    "    print(f\"1 {base} = {rates_line}\")\n",
    "          \n",
    "def main():\n",
    "    for base in BASES:\n",
    "          fetch_rates(base)\n",
    "          \n",
    "started = time.time()\n",
    "main()\n",
    "elapsed = time.time() - started\n",
    "          \n",
    "print()\n",
    "print(\"time elased : {:.2f}s\".format(elapsed))"
   ]
  },
  {
   "cell_type": "code",
   "execution_count": 19,
   "id": "568bcaaa",
   "metadata": {},
   "outputs": [
    {
     "name": "stdout",
     "output_type": "stream",
     "text": [
      "1 CZK =  0.0444 USD,  0.0418 EUR,   0.196 PLN,   0.477 NOK,     1.0 CZK\n",
      "1 EUR =    1.06 USD,     1.0 EUR,     4.7 PLN,    11.4 NOK,    23.9 CZK\n",
      "1 NOK =   0.093 USD,  0.0876 EUR,   0.412 PLN,     1.0 NOK,     2.1 CZK\n",
      "1 USD =     1.0 USD,   0.941 EUR,    4.43 PLN,    10.8 NOK,    22.5 CZK\n",
      "1 PLN =   0.226 USD,   0.213 EUR,     1.0 PLN,    2.43 NOK,    5.09 CZK\n",
      "\n",
      "time elased : 0.78s\n"
     ]
    }
   ],
   "source": [
    "# Thread를 활용하여 처리해보자 (통신하는 서비스가 여러 요청을 동시에 처리하고 있다면 분명 성능이 개선됨을 볼수 있다.)\n",
    "\n",
    "def main():\n",
    "    threads = []\n",
    "    \n",
    "    for base in BASES:\n",
    "        thread = Thread(target=fetch_rates, args=[base])\n",
    "        thread.start()\n",
    "        threads.append(thread)\n",
    "        \n",
    "    while threads:\n",
    "        threads.pop().join()\n",
    "        \n",
    "started = time.time()\n",
    "main()\n",
    "elapsed = time.time() - started\n",
    "          \n",
    "print()\n",
    "print(\"time elased : {:.2f}s\".format(elapsed))"
   ]
  },
  {
   "cell_type": "code",
   "execution_count": null,
   "id": "1adbfff1",
   "metadata": {},
   "outputs": [],
   "source": [
    "# 스레드 풀 이용하기\n",
    "\n",
    "from queue import Queue\n",
    "from queue import Empty\n",
    "\n",
    "THREAD_POOL_SIZE = 4\n",
    "\n",
    "def worker(work_queue):\n",
    "    while not work_queue.empty():\n",
    "        try:\n",
    "            item = work_queue.get_nowait()\n",
    "        except Empty:\n",
    "            break\n",
    "        else:\n",
    "            fetch_rates(item)\n",
    "            work_queue.task_done()\n",
    "\n",
    "def main():\n",
    "    work_queue = Queue()\n",
    "    \n",
    "    for base in BASES:\n",
    "        work_queue.put(base)\n",
    "        \n",
    "    threads = [\n",
    "        Thread(target=worker, args=(work_queue,))\n",
    "        for _ in range(THREAD_POOL_SIZE)\n",
    "    ]\n",
    "    \n",
    "    for thread in threads:\n",
    "        thread.start()\n",
    "        \n",
    "    work_queue.join()\n",
    "    \n",
    "    while threads:\n",
    "        threads.pop().join()\n",
    "        \n",
    "started = time.time()\n",
    "main()\n",
    "elapsed = time.time() - started\n",
    "          \n",
    "print()\n",
    "print(\"time elased : {:.2f}s\".format(elapsed))"
   ]
  },
  {
   "cell_type": "code",
   "execution_count": 7,
   "id": "ec2859e4",
   "metadata": {},
   "outputs": [
    {
     "name": "stdout",
     "output_type": "stream",
     "text": [
      "11 ['1-1 ae_txn_summary.txt', '1-2 ae_txn_sql_summary_top.txt', '1-3 ae_txn_sql_summary_1day.txt', '2-1 ae_txn_summary.txt', '2-2 ae_txn_sql_summary_top.txt', '2-3 ae_txn_sql_summary_1day.txt']\n"
     ]
    }
   ],
   "source": []
  },
  {
   "cell_type": "code",
   "execution_count": null,
   "id": "ab10bc05",
   "metadata": {},
   "outputs": [],
   "source": []
  }
 ],
 "metadata": {
  "kernelspec": {
   "display_name": "Python [conda env:data_analyzer] *",
   "language": "python",
   "name": "conda-env-data_analyzer-py"
  },
  "language_info": {
   "codemirror_mode": {
    "name": "ipython",
    "version": 3
   },
   "file_extension": ".py",
   "mimetype": "text/x-python",
   "name": "python",
   "nbconvert_exporter": "python",
   "pygments_lexer": "ipython3",
   "version": "3.10.8"
  }
 },
 "nbformat": 4,
 "nbformat_minor": 5
}
