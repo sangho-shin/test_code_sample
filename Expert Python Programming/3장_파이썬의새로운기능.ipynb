{
 "cells": [
  {
   "cell_type": "code",
   "execution_count": 1,
   "id": "7014d591",
   "metadata": {},
   "outputs": [
    {
     "name": "stdout",
     "output_type": "stream",
     "text": [
      "Python 3.10.8\n"
     ]
    }
   ],
   "source": [
    "!python -V"
   ]
  },
  {
   "cell_type": "code",
   "execution_count": 10,
   "id": "cd1e1d3c",
   "metadata": {},
   "outputs": [
    {
     "data": {
      "text/plain": [
       "{'a': 1, 'b': 2, 'c': 3}"
      ]
     },
     "execution_count": 10,
     "metadata": {},
     "output_type": "execute_result"
    }
   ],
   "source": [
    "# 언패킹\n",
    "\n",
    "dict_1 = {'a':1, 'b': 5}\n",
    "dict_2 = {'b':2, 'c':3}\n",
    "\n",
    "{**dict_1, **dict_2}\n",
    "\n",
    "# 파이썬 3.9 및 그 이상의 버전을 사용할 대는 딕셔너리 언패킹보다 새로운 병합연산자를 사용해야 한다.\n",
    "# 구 버전의 파이썬에서는 임시 딕셔너리와 update() 매서드를 사용하는 것이 더 안전할 수 있다.\n",
    "\n"
   ]
  },
  {
   "cell_type": "code",
   "execution_count": 11,
   "id": "59789b1e",
   "metadata": {},
   "outputs": [
    {
     "data": {
      "text/plain": [
       "ChainMap({'a': 1, 'b': 5}, {'b': 2, 'c': 3})"
      ]
     },
     "execution_count": 11,
     "metadata": {},
     "output_type": "execute_result"
    }
   ],
   "source": [
    "# 두 딕셔너리를 병합한 객체를 만드는 또 다른 방법으로는 collections 모듈의 ChainMap 클래스를 사용하는 방법\n",
    "\n",
    "from collections import ChainMap\n",
    "\n",
    "\n",
    "new_map = ChainMap(dict_1, dict_2)\n",
    "new_map"
   ]
  },
  {
   "cell_type": "code",
   "execution_count": 13,
   "id": "882d655f",
   "metadata": {},
   "outputs": [
    {
     "data": {
      "text/plain": [
       "5"
      ]
     },
     "execution_count": 13,
     "metadata": {},
     "output_type": "execute_result"
    }
   ],
   "source": [
    "new_map['b']\n",
    "# 키가 중복되면 ChainMap 인스턴스는 해당 키에 일치하는 가장 왼쪽에 매핑된 값을 반환한다."
   ]
  },
  {
   "cell_type": "code",
   "execution_count": 14,
   "id": "479d6a80",
   "metadata": {},
   "outputs": [
    {
     "data": {
      "text/plain": [
       "3"
      ]
     },
     "execution_count": 14,
     "metadata": {},
     "output_type": "execute_result"
    }
   ],
   "source": [
    "new_map['c']"
   ]
  },
  {
   "cell_type": "code",
   "execution_count": 15,
   "id": "64ec9adc",
   "metadata": {},
   "outputs": [],
   "source": [
    "dict_2['c'] = 10"
   ]
  },
  {
   "cell_type": "code",
   "execution_count": 16,
   "id": "ce73ec0f",
   "metadata": {},
   "outputs": [
    {
     "data": {
      "text/plain": [
       "10"
      ]
     },
     "execution_count": 16,
     "metadata": {},
     "output_type": "execute_result"
    }
   ],
   "source": [
    "new_map['c']"
   ]
  },
  {
   "cell_type": "code",
   "execution_count": 17,
   "id": "0eae8df7",
   "metadata": {},
   "outputs": [],
   "source": [
    "# ChainMap 은 래퍼 객체 이다. 이들을 참조하고 있어 참조된 객체가 변경되면 ChainMap또한 수정된 데이터를 반환한다."
   ]
  },
  {
   "cell_type": "code",
   "execution_count": 18,
   "id": "ed0b2a3d",
   "metadata": {},
   "outputs": [],
   "source": [
    "# 위치 전달만 가능한 매개변수\n",
    "# / 이전의 모든 인수는 위치 전달만 가능한 인수\n",
    "# * 이후의 모든 인수는 키워드 전달만 가능한 인수\n",
    "\n",
    "def concatenate(first: str, second: str, /, *, delim: str):\n",
    "    return delim.join([first, second])\n",
    "\n"
   ]
  },
  {
   "cell_type": "code",
   "execution_count": 20,
   "id": "4033ec41",
   "metadata": {},
   "outputs": [
    {
     "ename": "TypeError",
     "evalue": "concatenate() takes 2 positional arguments but 3 were given",
     "output_type": "error",
     "traceback": [
      "\u001b[1;31m---------------------------------------------------------------------------\u001b[0m",
      "\u001b[1;31mTypeError\u001b[0m                                 Traceback (most recent call last)",
      "Cell \u001b[1;32mIn[20], line 1\u001b[0m\n\u001b[1;32m----> 1\u001b[0m \u001b[43mconcatenate\u001b[49m\u001b[43m(\u001b[49m\u001b[38;5;124;43m\"\u001b[39;49m\u001b[38;5;124;43mJohn\u001b[39;49m\u001b[38;5;124;43m\"\u001b[39;49m\u001b[43m,\u001b[49m\u001b[43m \u001b[49m\u001b[38;5;124;43m\"\u001b[39;49m\u001b[38;5;124;43mDoe\u001b[39;49m\u001b[38;5;124;43m\"\u001b[39;49m\u001b[43m,\u001b[49m\u001b[43m \u001b[49m\u001b[38;5;124;43m\"\u001b[39;49m\u001b[38;5;124;43m \u001b[39;49m\u001b[38;5;124;43m\"\u001b[39;49m\u001b[43m)\u001b[49m\n",
      "\u001b[1;31mTypeError\u001b[0m: concatenate() takes 2 positional arguments but 3 were given"
     ]
    }
   ],
   "source": [
    "concatenate(\"John\", \"Doe\", \" \")"
   ]
  },
  {
   "cell_type": "code",
   "execution_count": 21,
   "id": "8ce7591a",
   "metadata": {},
   "outputs": [
    {
     "data": {
      "text/plain": [
       "'John Doe'"
      ]
     },
     "execution_count": 21,
     "metadata": {},
     "output_type": "execute_result"
    }
   ],
   "source": [
    "concatenate(\"John\", \"Doe\", delim=\" \")"
   ]
  },
  {
   "cell_type": "code",
   "execution_count": 22,
   "id": "0fdf7e79",
   "metadata": {},
   "outputs": [],
   "source": [
    "def concatenate(*item, delim:str):\n",
    "    return delim.join(item)"
   ]
  },
  {
   "cell_type": "code",
   "execution_count": 23,
   "id": "87d5a6bd",
   "metadata": {},
   "outputs": [
    {
     "data": {
      "text/plain": [
       "'Ronald Rauel Tolkien'"
      ]
     },
     "execution_count": 23,
     "metadata": {},
     "output_type": "execute_result"
    }
   ],
   "source": [
    "concatenate(\"Ronald\", \"Rauel\", \"Tolkien\", delim=\" \")"
   ]
  },
  {
   "cell_type": "code",
   "execution_count": 24,
   "id": "41414f82",
   "metadata": {},
   "outputs": [
    {
     "data": {
      "text/plain": [
       "''"
      ]
     },
     "execution_count": 24,
     "metadata": {},
     "output_type": "execute_result"
    }
   ],
   "source": [
    "concatenate(delim=\" \")"
   ]
  },
  {
   "cell_type": "code",
   "execution_count": 25,
   "id": "68dbedde",
   "metadata": {},
   "outputs": [],
   "source": [
    "# 개발 모드\n",
    "# 파이썬 3.7 부터 개발 모드에서 파이썬 인터프리터를 호출해 추가적인 런타임 체크할수 있다.\n",
    "\n",
    "# python -X dev ....py로 호출\n",
    "# 폴트 핸들러 활성화 : 어플르케이션의 SIGSEGV, SIGFPE, SIGABRT, SIGBUX, SIGILL 이라는 시스템 호출을 받았을 때\n",
    "# 어플리케이션 스택트레이스 출력 - 오버헤드가 발생하기 때문에 운영 환경에서는 사용을 권하지 않음\n"
   ]
  },
  {
   "cell_type": "code",
   "execution_count": 26,
   "id": "6b9432e5",
   "metadata": {},
   "outputs": [],
   "source": [
    "# __getattr__ 은 주어진 속성 이름이 존재하지 않을때 호출, 커스텀 가능\n",
    "# 주로 모듈 함수나 클래스의 개발을 중단할때 유용함. 함수 이름 변경 되지면 계속 호출해주게 해줄때\n",
    "\n",
    "# 난수를 사용할때 random 함수 보다 (알고리즘) secrets 모듈을 사용해야함\n",
    "\n"
   ]
  },
  {
   "cell_type": "code",
   "execution_count": 31,
   "id": "e751178d",
   "metadata": {},
   "outputs": [
    {
     "name": "stdout",
     "output_type": "stream",
     "text": [
      "Running on Windows\n"
     ]
    }
   ],
   "source": [
    "import sys\n",
    "\n",
    "match sys.platform:\n",
    "    case \"win32\":\n",
    "        print(\"Running on Windows\")\n",
    "    case \"linux\":\n",
    "        print(\"Running on Linux\")\n",
    "    case _:\n",
    "        raise NotImplementedError(\n",
    "            f\"{sys.platform} not suppoerted!\"\n",
    "        )\n",
    "    \n",
    "    \n",
    "    "
   ]
  },
  {
   "cell_type": "code",
   "execution_count": 30,
   "id": "9ab9fce7",
   "metadata": {},
   "outputs": [
    {
     "data": {
      "text/plain": [
       "'win32'"
      ]
     },
     "execution_count": 30,
     "metadata": {},
     "output_type": "execute_result"
    }
   ],
   "source": [
    "sys.platform"
   ]
  },
  {
   "cell_type": "code",
   "execution_count": null,
   "id": "7aaef7f8",
   "metadata": {},
   "outputs": [],
   "source": []
  }
 ],
 "metadata": {
  "kernelspec": {
   "display_name": "Python [conda env:data_analyzer] *",
   "language": "python",
   "name": "conda-env-data_analyzer-py"
  },
  "language_info": {
   "codemirror_mode": {
    "name": "ipython",
    "version": 3
   },
   "file_extension": ".py",
   "mimetype": "text/x-python",
   "name": "python",
   "nbconvert_exporter": "python",
   "pygments_lexer": "ipython3",
   "version": "3.10.8"
  }
 },
 "nbformat": 4,
 "nbformat_minor": 5
}
