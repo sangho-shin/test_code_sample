{
 "cells": [
  {
   "cell_type": "raw",
   "id": "a28d8ad5",
   "metadata": {},
   "source": [
    "클래스 모델과 객체 지향 프로그래밍\n",
    "동적 다형성 dynamic polymorphism\n",
    "데이터 클래스\n",
    "함수형 프로그래밍 functional programming\n",
    "열거 enumeration"
   ]
  },
  {
   "cell_type": "code",
   "execution_count": 1,
   "id": "93c5f4e7",
   "metadata": {},
   "outputs": [],
   "source": [
    "from collections import UserDict\n",
    "\n",
    "userdict = UserDict()"
   ]
  },
  {
   "cell_type": "code",
   "execution_count": 2,
   "id": "a931f24b",
   "metadata": {},
   "outputs": [
    {
     "data": {
      "text/plain": [
       "{}"
      ]
     },
     "execution_count": 2,
     "metadata": {},
     "output_type": "execute_result"
    }
   ],
   "source": [
    "userdict"
   ]
  },
  {
   "cell_type": "code",
   "execution_count": 3,
   "id": "4d1cae49",
   "metadata": {},
   "outputs": [
    {
     "data": {
      "text/plain": [
       "collections.UserDict"
      ]
     },
     "execution_count": 3,
     "metadata": {},
     "output_type": "execute_result"
    }
   ],
   "source": [
    "type(userdict)"
   ]
  },
  {
   "cell_type": "code",
   "execution_count": 5,
   "id": "1aa6f9ac",
   "metadata": {},
   "outputs": [],
   "source": [
    "class RevealAccess(object):\n",
    "    \"\"\"\n",
    "        데이터 데커레이터로 일반적인 값을 설정하고 반환하며, 접근에 대한 로깅 메세지를 출력한다.    \n",
    "    \"\"\"\n",
    "\n",
    "    def __init__(self, initval=None, name=\"var\"):\n",
    "        self.val = initval\n",
    "        self.name = name\n",
    "        \n",
    "    def __get__(self, obj, objtype):\n",
    "        print(\"Retrieving\", self.name)\n",
    "        return self.val\n",
    "    \n",
    "    def __set__(self, obj, val):\n",
    "        print(\"Updating\", self.name)\n",
    "        self.val = val\n",
    "        \n",
    "    def __delete__(self, obj):\n",
    "        print(\"Deleting\", self.name)\n",
    "        \n",
    "class MyClass(object):\n",
    "    x = RevealAccess(10, 'var \"x\"')\n",
    "    y = 5\n",
    "    "
   ]
  },
  {
   "cell_type": "code",
   "execution_count": 6,
   "id": "6b5530b5",
   "metadata": {},
   "outputs": [
    {
     "name": "stdout",
     "output_type": "stream",
     "text": [
      "Retrieving var \"x\"\n"
     ]
    },
    {
     "data": {
      "text/plain": [
       "10"
      ]
     },
     "execution_count": 6,
     "metadata": {},
     "output_type": "execute_result"
    }
   ],
   "source": [
    "m = MyClass()\n",
    "m.x"
   ]
  },
  {
   "cell_type": "code",
   "execution_count": 7,
   "id": "c103e58d",
   "metadata": {},
   "outputs": [
    {
     "name": "stdout",
     "output_type": "stream",
     "text": [
      "Updating var \"x\"\n"
     ]
    }
   ],
   "source": [
    "m.x = 20"
   ]
  },
  {
   "cell_type": "code",
   "execution_count": 8,
   "id": "3c9676cf",
   "metadata": {},
   "outputs": [
    {
     "name": "stdout",
     "output_type": "stream",
     "text": [
      "Retrieving var \"x\"\n"
     ]
    },
    {
     "data": {
      "text/plain": [
       "20"
      ]
     },
     "execution_count": 8,
     "metadata": {},
     "output_type": "execute_result"
    }
   ],
   "source": [
    "m.x"
   ]
  },
  {
   "cell_type": "code",
   "execution_count": 9,
   "id": "47a051b9",
   "metadata": {},
   "outputs": [
    {
     "data": {
      "text/plain": [
       "5"
      ]
     },
     "execution_count": 9,
     "metadata": {},
     "output_type": "execute_result"
    }
   ],
   "source": [
    "m.y"
   ]
  },
  {
   "cell_type": "code",
   "execution_count": 10,
   "id": "b8ada302",
   "metadata": {},
   "outputs": [
    {
     "name": "stdout",
     "output_type": "stream",
     "text": [
      "Deleting var \"x\"\n"
     ]
    }
   ],
   "source": [
    "del m.x"
   ]
  },
  {
   "cell_type": "code",
   "execution_count": 11,
   "id": "e610d0db",
   "metadata": {},
   "outputs": [
    {
     "data": {
      "text/plain": [
       "True"
      ]
     },
     "execution_count": 11,
     "metadata": {},
     "output_type": "execute_result"
    }
   ],
   "source": [
    "def function(): pass\n",
    "\n",
    "hasattr(function, '__get__')"
   ]
  },
  {
   "cell_type": "code",
   "execution_count": 12,
   "id": "99afe934",
   "metadata": {},
   "outputs": [
    {
     "data": {
      "text/plain": [
       "False"
      ]
     },
     "execution_count": 12,
     "metadata": {},
     "output_type": "execute_result"
    }
   ],
   "source": [
    "hasattr(function, '__set__')"
   ]
  },
  {
   "cell_type": "code",
   "execution_count": 17,
   "id": "d30d5a2e",
   "metadata": {},
   "outputs": [],
   "source": [
    "class UserAccount:\n",
    "    def __init__(self, username, password):\n",
    "        self.username = username\n",
    "        self._password = password\n",
    "        \n",
    "    @property\n",
    "    def password(self):\n",
    "        return self._password\n",
    "        \n",
    "    @password.setter\n",
    "    def password(self, value):\n",
    "        self._password = value\n",
    "        \n",
    "    "
   ]
  },
  {
   "cell_type": "code",
   "execution_count": 18,
   "id": "4e2e321f",
   "metadata": {},
   "outputs": [],
   "source": [
    "ua = UserAccount('mike', '1234|')"
   ]
  },
  {
   "cell_type": "code",
   "execution_count": 19,
   "id": "5246be56",
   "metadata": {},
   "outputs": [
    {
     "data": {
      "text/plain": [
       "'mike'"
      ]
     },
     "execution_count": 19,
     "metadata": {},
     "output_type": "execute_result"
    }
   ],
   "source": [
    "ua.username"
   ]
  },
  {
   "cell_type": "code",
   "execution_count": 20,
   "id": "9cb05d2a",
   "metadata": {},
   "outputs": [
    {
     "data": {
      "text/plain": [
       "'1234|'"
      ]
     },
     "execution_count": 20,
     "metadata": {},
     "output_type": "execute_result"
    }
   ],
   "source": [
    "ua.password"
   ]
  },
  {
   "cell_type": "code",
   "execution_count": 21,
   "id": "37e2e345",
   "metadata": {},
   "outputs": [],
   "source": [
    "ua.password = '54321'"
   ]
  },
  {
   "cell_type": "code",
   "execution_count": 22,
   "id": "16e1c243",
   "metadata": {},
   "outputs": [
    {
     "data": {
      "text/plain": [
       "'54321'"
      ]
     },
     "execution_count": 22,
     "metadata": {},
     "output_type": "execute_result"
    }
   ],
   "source": [
    "ua.password"
   ]
  },
  {
   "cell_type": "code",
   "execution_count": 23,
   "id": "c76aa278",
   "metadata": {},
   "outputs": [],
   "source": [
    "# flask에 login_required() 데커레이터를 이용해서 로그인 관리를 할수 있는듯"
   ]
  },
  {
   "cell_type": "code",
   "execution_count": 34,
   "id": "bdd404c7",
   "metadata": {},
   "outputs": [],
   "source": [
    "from enum import Enum, auto, Flag\n",
    "\n",
    "class Weekday(Enum):\n",
    "    MONDAY = auto()\n",
    "    SUNDAY = auto()\n",
    "\n"
   ]
  },
  {
   "cell_type": "code",
   "execution_count": 35,
   "id": "909bcaf6",
   "metadata": {},
   "outputs": [
    {
     "data": {
      "text/plain": [
       "1"
      ]
     },
     "execution_count": 35,
     "metadata": {},
     "output_type": "execute_result"
    }
   ],
   "source": [
    "Weekday.MONDAY.value"
   ]
  },
  {
   "cell_type": "code",
   "execution_count": 36,
   "id": "fd375c3a",
   "metadata": {},
   "outputs": [
    {
     "data": {
      "text/plain": [
       "'MONDAY'"
      ]
     },
     "execution_count": 36,
     "metadata": {},
     "output_type": "execute_result"
    }
   ],
   "source": [
    "Weekday.MONDAY.name"
   ]
  },
  {
   "cell_type": "code",
   "execution_count": 37,
   "id": "dbe50161",
   "metadata": {},
   "outputs": [
    {
     "data": {
      "text/plain": [
       "2"
      ]
     },
     "execution_count": 37,
     "metadata": {},
     "output_type": "execute_result"
    }
   ],
   "source": [
    "Weekday.SUNDAY.value"
   ]
  },
  {
   "cell_type": "code",
   "execution_count": 38,
   "id": "b95a0678",
   "metadata": {},
   "outputs": [],
   "source": [
    "class Side(Flag):\n",
    "    GUACAMOLER = auto()\n",
    "    TORTILLA = auto()\n",
    "    "
   ]
  },
  {
   "cell_type": "code",
   "execution_count": 39,
   "id": "8a446b2d",
   "metadata": {},
   "outputs": [
    {
     "data": {
      "text/plain": [
       "1"
      ]
     },
     "execution_count": 39,
     "metadata": {},
     "output_type": "execute_result"
    }
   ],
   "source": [
    "Side.GUACAMOLER.value"
   ]
  },
  {
   "cell_type": "code",
   "execution_count": 40,
   "id": "2951de16",
   "metadata": {},
   "outputs": [
    {
     "data": {
      "text/plain": [
       "2"
      ]
     },
     "execution_count": 40,
     "metadata": {},
     "output_type": "execute_result"
    }
   ],
   "source": [
    "Side.TORTILLA.value"
   ]
  },
  {
   "cell_type": "code",
   "execution_count": null,
   "id": "5c7841ea",
   "metadata": {},
   "outputs": [],
   "source": []
  }
 ],
 "metadata": {
  "kernelspec": {
   "display_name": "Python [conda env:data_analyzer] *",
   "language": "python",
   "name": "conda-env-data_analyzer-py"
  },
  "language_info": {
   "codemirror_mode": {
    "name": "ipython",
    "version": 3
   },
   "file_extension": ".py",
   "mimetype": "text/x-python",
   "name": "python",
   "nbconvert_exporter": "python",
   "pygments_lexer": "ipython3",
   "version": "3.10.8"
  }
 },
 "nbformat": 4,
 "nbformat_minor": 5
}
