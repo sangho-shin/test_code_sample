{
 "cells": [
  {
   "cell_type": "raw",
   "id": "7aae0df0",
   "metadata": {},
   "source": [
    "파이썬이 성능이 좋을 수 없는 몇가지 특성\n",
    "\n",
    "- CPU 바운드 태스크에 대한 스레드 가용성이 크게 저하된다. GIL에 관련된것이며, 어떤 파이썬 구현을 이용하는가에 따라 달라진다.\n",
    "- 파이썬은 컴파일된 언어가 아니므로 컴파일 시간 최적화를 지원하지 않는다.\n",
    "- 파이썬은 정적 타이핑을 제공하지 않으며, 정적 타이핑을 통해 얻을 수 있는 최적화도 지원하지 않는다.\n",
    "\n"
   ]
  },
  {
   "cell_type": "code",
   "execution_count": 1,
   "id": "dabc32a6",
   "metadata": {},
   "outputs": [
    {
     "name": "stdout",
     "output_type": "stream",
     "text": [
      "<WinDLL 'kernel32', handle 7ffdc17d0000 at 0x1afcf025f00>\n"
     ]
    }
   ],
   "source": [
    "# 파이썬에서 C 의 데이터 타입이나, DLL 혹은 공유 라이브러리의 함수를 직접 사용 할 수 있다.\n",
    "\n",
    "import ctypes\n",
    "\n",
    "print(ctypes.windll.kernel32)"
   ]
  },
  {
   "cell_type": "code",
   "execution_count": 2,
   "id": "1e7837d9",
   "metadata": {},
   "outputs": [
    {
     "name": "stdout",
     "output_type": "stream",
     "text": [
      "<CDLL 'msvcrt', handle 7ffdc33e0000 at 0x1afd2cf7ca0>\n"
     ]
    }
   ],
   "source": [
    "print(ctypes.cdll.msvcrt)"
   ]
  },
  {
   "cell_type": "code",
   "execution_count": 3,
   "id": "89970a04",
   "metadata": {},
   "outputs": [
    {
     "name": "stdout",
     "output_type": "stream",
     "text": [
      "-0x43170000\n"
     ]
    }
   ],
   "source": [
    "print(hex(ctypes.windll.kernel32.GetModuleHandleA(None)))"
   ]
  },
  {
   "cell_type": "code",
   "execution_count": 4,
   "id": "14d3bfee",
   "metadata": {},
   "outputs": [
    {
     "name": "stdout",
     "output_type": "stream",
     "text": [
      "ctypes :  c_long(10) , value :  10\n"
     ]
    }
   ],
   "source": [
    "from ctypes import *\n",
    "\n",
    "i = c_int(10)\n",
    "\n",
    "print(\"ctypes : \" , i , \", value : \" , i.value)"
   ]
  },
  {
   "cell_type": "code",
   "execution_count": 5,
   "id": "7682336d",
   "metadata": {},
   "outputs": [],
   "source": [
    "k  = c_int(10)\n",
    "pk = pointer(k)"
   ]
  },
  {
   "cell_type": "code",
   "execution_count": 6,
   "id": "2ddec0a6",
   "metadata": {},
   "outputs": [
    {
     "name": "stdout",
     "output_type": "stream",
     "text": [
      "position :  <ctypes.wintypes.LP_c_long object at 0x000001AFD335F3C0> , contents :  c_long(10)\n"
     ]
    }
   ],
   "source": [
    "print(\"position : \" , pointer(k), \", contents : \" , pk.contents)"
   ]
  },
  {
   "cell_type": "code",
   "execution_count": null,
   "id": "a48d3dd9",
   "metadata": {},
   "outputs": [],
   "source": []
  }
 ],
 "metadata": {
  "kernelspec": {
   "display_name": "Python [conda env:data_analyzer] *",
   "language": "python",
   "name": "conda-env-data_analyzer-py"
  },
  "language_info": {
   "codemirror_mode": {
    "name": "ipython",
    "version": 3
   },
   "file_extension": ".py",
   "mimetype": "text/x-python",
   "name": "python",
   "nbconvert_exporter": "python",
   "pygments_lexer": "ipython3",
   "version": "3.10.8"
  }
 },
 "nbformat": 4,
 "nbformat_minor": 5
}
