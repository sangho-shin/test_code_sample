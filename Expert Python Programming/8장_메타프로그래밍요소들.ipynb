{
 "cells": [
  {
   "cell_type": "code",
   "execution_count": 1,
   "id": "f33b960f",
   "metadata": {},
   "outputs": [
    {
     "name": "stdout",
     "output_type": "stream",
     "text": [
      "<InstanceCountingClass: 0 of 5\n",
      "<InstanceCountingClass: 1 of 5\n",
      "<InstanceCountingClass: 2 of 5\n",
      "<InstanceCountingClass: 3 of 5\n",
      "<InstanceCountingClass: 4 of 5\n"
     ]
    }
   ],
   "source": [
    "class InstanceCountingClass:\n",
    "    \n",
    "    created = 0\n",
    "    number: int\n",
    "        \n",
    "    def __new__(cls, *args, **kwargs):\n",
    "        instance = super().__new__(cls)\n",
    "        instance.number = cls.created\n",
    "        cls.created += 1\n",
    "        \n",
    "        return instance\n",
    "    \n",
    "    def __repr__(self):\n",
    "        return f\"<{self.__class__.__name__}: \" f\"{self.number} of {self.created}\"\n",
    "    \n",
    "    \n",
    "instances = [InstanceCountingClass() for _ in range(5)]\n",
    "\n",
    "for i in instances:\n",
    "    print(i)"
   ]
  },
  {
   "cell_type": "code",
   "execution_count": 2,
   "id": "9df56d9b",
   "metadata": {},
   "outputs": [
    {
     "data": {
      "text/plain": [
       "5"
      ]
     },
     "execution_count": 2,
     "metadata": {},
     "output_type": "execute_result"
    }
   ],
   "source": [
    "InstanceCountingClass.created"
   ]
  },
  {
   "cell_type": "code",
   "execution_count": 3,
   "id": "4e42cdea",
   "metadata": {},
   "outputs": [],
   "source": [
    "# __new__ 특수 메서드는 정적 메서드로 실질적인 클래스 인스턴스 생성을 책임진다. \n",
    "# __init__ 초기화 메서드에 앞서 호출된다.\n",
    "# 오버라이딩 해서 클래스 생성 프로세스를 가로채는 것"
   ]
  },
  {
   "cell_type": "code",
   "execution_count": 4,
   "id": "f8edc28e",
   "metadata": {},
   "outputs": [],
   "source": [
    "# 다른 클래스 인스턴스도 반환할 수 있다. 다른 클래스 인스턴스를 반환하는 경우 __init__() 메서드 호출은 건너뛴다.\n",
    "\n",
    "class NonZero(int):\n",
    "    def __new__(cls, value):\n",
    "        return super().__new__(cls, value) if value != 0 else None\n",
    "    \n",
    "    def __init__(self, skipped_value):\n",
    "        # 이 경우 __init__ 구현은 건너뛸 수도 있지만, 호출 되지 않는 경우를 나타내기 위해 남겨둠\n",
    "        print(\"__init__() called\")\n",
    "        super().__init__()\n",
    "        \n",
    "        "
   ]
  },
  {
   "cell_type": "code",
   "execution_count": 5,
   "id": "abe7defd",
   "metadata": {},
   "outputs": [
    {
     "name": "stdout",
     "output_type": "stream",
     "text": [
      "__init__() called\n"
     ]
    },
    {
     "data": {
      "text/plain": [
       "__main__.NonZero"
      ]
     },
     "execution_count": 5,
     "metadata": {},
     "output_type": "execute_result"
    }
   ],
   "source": [
    "type(NonZero(-12))"
   ]
  },
  {
   "cell_type": "code",
   "execution_count": 6,
   "id": "82b56c4d",
   "metadata": {},
   "outputs": [
    {
     "data": {
      "text/plain": [
       "NoneType"
      ]
     },
     "execution_count": 6,
     "metadata": {},
     "output_type": "execute_result"
    }
   ],
   "source": [
    "type(NonZero(0))"
   ]
  },
  {
   "cell_type": "code",
   "execution_count": 7,
   "id": "c34fc696",
   "metadata": {},
   "outputs": [
    {
     "name": "stdout",
     "output_type": "stream",
     "text": [
      "__init__() called\n"
     ]
    },
    {
     "data": {
      "text/plain": [
       "-3"
      ]
     },
     "execution_count": 7,
     "metadata": {},
     "output_type": "execute_result"
    }
   ],
   "source": [
    "NonZero(-3.123)"
   ]
  },
  {
   "cell_type": "raw",
   "id": "8d954047",
   "metadata": {},
   "source": [
    "@lru_cache \n",
    ": 동일한 파라미터로 함수를 호출 자주 할때 이전에 함수 결과를 캐슁해 놔서 속도가 빠르다.\n",
    "\n",
    "@dataclass\n",
    ": Data Object를 만드는데 유용한 데코레이터\n",
    "\n",
    "https://www.daleseo.com/python-dataclasses/\n"
   ]
  },
  {
   "cell_type": "code",
   "execution_count": 10,
   "id": "9f1192a4",
   "metadata": {},
   "outputs": [
    {
     "data": {
      "text/plain": [
       "Icecream(name='together', flavor='vanilla', in_stock=True, sizes=[], id='FZSNLORBYJMF')"
      ]
     },
     "execution_count": 10,
     "metadata": {},
     "output_type": "execute_result"
    }
   ],
   "source": [
    "import random\n",
    "import string\n",
    "from dataclasses import dataclass\n",
    "from dataclasses import field\n",
    "\n",
    "\n",
    "def generate_id() -> str:\n",
    "    return \"\".join(random.choices(string.ascii_uppercase, k=12))\n",
    "\n",
    "@dataclass\n",
    "class Icecream:\n",
    "    name: str\n",
    "    flavor: str\n",
    "    in_stock: bool = True\n",
    "    sizes: list = field(default_factory=list)\n",
    "    id: str = field(default_factory=generate_id, init=False)\n",
    "        \n",
    "icecream = Icecream(name=\"together\", flavor=\"vanilla\",)\n",
    "icecream"
   ]
  },
  {
   "cell_type": "code",
   "execution_count": 11,
   "id": "02121fc6",
   "metadata": {},
   "outputs": [],
   "source": [
    "# type 은 클래스들을 정의한다.\n",
    "\n",
    "def method(self):\n",
    "    return 1\n",
    "\n",
    "MyClass = type('MyClass', (), {'method': method})"
   ]
  },
  {
   "cell_type": "code",
   "execution_count": 12,
   "id": "d7edda41",
   "metadata": {},
   "outputs": [
    {
     "data": {
      "text/plain": [
       "__main__.MyClass"
      ]
     },
     "execution_count": 12,
     "metadata": {},
     "output_type": "execute_result"
    }
   ],
   "source": [
    "MyClass"
   ]
  },
  {
   "cell_type": "code",
   "execution_count": 13,
   "id": "46628bb7",
   "metadata": {},
   "outputs": [],
   "source": [
    "class MyClass:\n",
    "    def method(self):\n",
    "        return 1"
   ]
  },
  {
   "cell_type": "code",
   "execution_count": 14,
   "id": "d2af8ba1",
   "metadata": {},
   "outputs": [
    {
     "data": {
      "text/plain": [
       "__main__.MyClass"
      ]
     },
     "execution_count": 14,
     "metadata": {},
     "output_type": "execute_result"
    }
   ],
   "source": [
    "MyClass"
   ]
  },
  {
   "cell_type": "code",
   "execution_count": null,
   "id": "b4792699",
   "metadata": {},
   "outputs": [],
   "source": []
  }
 ],
 "metadata": {
  "kernelspec": {
   "display_name": "Python [conda env:data_analyzer] *",
   "language": "python",
   "name": "conda-env-data_analyzer-py"
  },
  "language_info": {
   "codemirror_mode": {
    "name": "ipython",
    "version": 3
   },
   "file_extension": ".py",
   "mimetype": "text/x-python",
   "name": "python",
   "nbconvert_exporter": "python",
   "pygments_lexer": "ipython3",
   "version": "3.10.8"
  }
 },
 "nbformat": 4,
 "nbformat_minor": 5
}
