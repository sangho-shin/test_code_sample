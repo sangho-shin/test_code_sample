{
 "cells": [
  {
   "cell_type": "code",
   "execution_count": 2,
   "id": "f308bb91",
   "metadata": {},
   "outputs": [
    {
     "data": {
      "text/plain": [
       "['C:\\\\Users\\\\shshin\\\\anaconda3\\\\envs\\\\data_analyzer',\n",
       " 'C:\\\\Users\\\\shshin\\\\anaconda3\\\\envs\\\\data_analyzer\\\\lib\\\\site-packages']"
      ]
     },
     "execution_count": 2,
     "metadata": {},
     "output_type": "execute_result"
    }
   ],
   "source": [
    "import site\n",
    "\n",
    "site.getsitepackages()"
   ]
  },
  {
   "cell_type": "code",
   "execution_count": 3,
   "id": "b5fbbd50",
   "metadata": {},
   "outputs": [
    {
     "data": {
      "text/plain": [
       "'C:\\\\Users\\\\shshin\\\\AppData\\\\Roaming\\\\Python\\\\Python310\\\\site-packages'"
      ]
     },
     "execution_count": 3,
     "metadata": {},
     "output_type": "execute_result"
    }
   ],
   "source": [
    "site.getusersitepackages()"
   ]
  },
  {
   "cell_type": "raw",
   "id": "5c1b6fc3",
   "metadata": {},
   "source": [
    "소프트웨어 레벨의 가상화와 시스템 레벨의 가상화\n",
    "\n",
    "Docker , 베이그런트\n",
    "\n",
    "vmware, virtualbox\n",
    "\n",
    "각각에 상황에 맞는것을 활용해서 사용하면 됨\n"
   ]
  }
 ],
 "metadata": {
  "kernelspec": {
   "display_name": "Python [conda env:data_analyzer] *",
   "language": "python",
   "name": "conda-env-data_analyzer-py"
  },
  "language_info": {
   "codemirror_mode": {
    "name": "ipython",
    "version": 3
   },
   "file_extension": ".py",
   "mimetype": "text/x-python",
   "name": "python",
   "nbconvert_exporter": "python",
   "pygments_lexer": "ipython3",
   "version": "3.10.8"
  }
 },
 "nbformat": 4,
 "nbformat_minor": 5
}
