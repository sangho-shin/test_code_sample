{
 "cells": [
  {
   "cell_type": "code",
   "execution_count": 6,
   "id": "a3ad38f8",
   "metadata": {},
   "outputs": [],
   "source": [
    "import os\n",
    "\n",
    "pid_list = []\n",
    "\n",
    "def main():\n",
    "    pid_list.append(os.getpid())\n",
    "    child_pid = os.fork()\n",
    "    \n",
    "    if child_pid == 0:\n",
    "        pid_list.append(os.get_pid())\n",
    "        print()\n",
    "        print(\"CHLD: hey, i am the child process\")\n",
    "        print(\"CHLD: all the pids I know %s\" % pid_list)\n",
    "        \n",
    "    else:\n",
    "        pid_list.append(os.get_pid())\n",
    "        print()\n",
    "        print(\"PRNT: hey, i am the parent\")\n",
    "        print(\"PRNT: the child pid is  %d\" % child_pid)\n",
    "        print(\"PRNT: all the pids I know %s\" % pid_list)\n",
    "        \n"
   ]
  },
  {
   "cell_type": "code",
   "execution_count": 7,
   "id": "fa755ae8",
   "metadata": {},
   "outputs": [],
   "source": [
    "# os.fork는 windows에서 사용 불가함\n"
   ]
  },
  {
   "cell_type": "code",
   "execution_count": 10,
   "id": "7356102b",
   "metadata": {},
   "outputs": [
    {
     "name": "stdout",
     "output_type": "stream",
     "text": [
      "I am the process, 1, pid: 6208\n"
     ]
    }
   ],
   "source": [
    "from multiprocessing import Process\n",
    "import os\n",
    "\n",
    "def work(identifier):\n",
    "    print(f\"I am the process, {identifier}, pid: {os.getpid()}\")\n",
    "    \n",
    "def main():\n",
    "    processes = [\n",
    "        Process(target=work, args=(number,)) for number in range(5)\n",
    "    ]\n",
    "    \n",
    "    for process in processes:\n",
    "        process.start()\n",
    "        \n",
    "    while processes:\n",
    "        processes.pop().join()\n",
    "        \n",
    "work(1)\n",
    "# main()"
   ]
  },
  {
   "cell_type": "raw",
   "id": "172b6347",
   "metadata": {},
   "source": [
    "프로세스들은 기본적으로 메모리를 공유하지 않으므로, 통신을 위해서는 추가 작업이 필요하다. \n",
    "multiprocessing 모듈은 프로세스 간 통신을 수월하게 하기 위해 다음과 같은 몇가지 방법을 제공한다.\n",
    "\n",
    "multiprocessing.Queue 이 클래스는 스데 간 통신에서 사용했던 queue.Queue와 기능적으로 동일하다.\n",
    "multiprocessing.Pipe 소켓과 유사한 양방향 통신 채널이다.\n",
    "multiprocessing.sharedctypes 이 모듈을 이용하면 프로세스 사이에 공유되는 전용 메모리 풀에 임의의 C 타입(ctype모듈)을 만들수 있다.\n",
    "\n"
   ]
  },
  {
   "cell_type": "raw",
   "id": "2d316283",
   "metadata": {},
   "source": [
    "비동기 프로그래밍\n",
    "\n",
    "requests 라이브러리는 async/await 키워드를 이용한 비동기 I/O를 지원하지 않는다.\n",
    "aiohttp를 이요하여 간단한 API를 사용할 때는 매우 쉽게 이용할 수 있다.\n"
   ]
  },
  {
   "cell_type": "code",
   "execution_count": 15,
   "id": "76113069",
   "metadata": {},
   "outputs": [],
   "source": [
    "import aiohttp\n",
    "\n",
    "async def get_rates(session: aiohttp.ClientSession, base: str):\n",
    "    \n",
    "    async with session.get(\n",
    "        f\"https://api.vatcomply.com/rates?base={base}\"\n",
    "    ) as response:\n",
    "        rates = (await response.json())[\"rates\"]\n",
    "        rate[base] = 1.0\n",
    "        \n",
    "        return base, rates\n",
    "        "
   ]
  },
  {
   "cell_type": "code",
   "execution_count": null,
   "id": "4fccc8ff",
   "metadata": {},
   "outputs": [],
   "source": []
  }
 ],
 "metadata": {
  "kernelspec": {
   "display_name": "Python [conda env:data_analyzer] *",
   "language": "python",
   "name": "conda-env-data_analyzer-py"
  },
  "language_info": {
   "codemirror_mode": {
    "name": "ipython",
    "version": 3
   },
   "file_extension": ".py",
   "mimetype": "text/x-python",
   "name": "python",
   "nbconvert_exporter": "python",
   "pygments_lexer": "ipython3",
   "version": "3.10.8"
  }
 },
 "nbformat": 4,
 "nbformat_minor": 5
}
