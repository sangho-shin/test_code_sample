{
 "cells": [
  {
   "cell_type": "code",
   "execution_count": 1,
   "id": "b18c115f",
   "metadata": {},
   "outputs": [
    {
     "name": "stderr",
     "output_type": "stream",
     "text": [
      "ERROR: Could not find a version that satisfies the requirement python3-tk (from versions: none)\n",
      "ERROR: No matching distribution found for python3-tk\n"
     ]
    }
   ],
   "source": [
    "! pip install python3-tk"
   ]
  },
  {
   "cell_type": "code",
   "execution_count": 2,
   "id": "2ede97eb",
   "metadata": {},
   "outputs": [
    {
     "name": "stdout",
     "output_type": "stream",
     "text": [
      "The Zen of Python, by Tim Peters\n",
      "\n",
      "Beautiful is better than ugly.\n",
      "Explicit is better than implicit.\n",
      "Simple is better than complex.\n",
      "Complex is better than complicated.\n",
      "Flat is better than nested.\n",
      "Sparse is better than dense.\n",
      "Readability counts.\n",
      "Special cases aren't special enough to break the rules.\n",
      "Although practicality beats purity.\n",
      "Errors should never pass silently.\n",
      "Unless explicitly silenced.\n",
      "In the face of ambiguity, refuse the temptation to guess.\n",
      "There should be one-- and preferably only one --obvious way to do it.\n",
      "Although that way may not be obvious at first unless you're Dutch.\n",
      "Now is better than never.\n",
      "Although never is often better than *right* now.\n",
      "If the implementation is hard to explain, it's a bad idea.\n",
      "If the implementation is easy to explain, it may be a good idea.\n",
      "Namespaces are one honking great idea -- let's do more of those!\n"
     ]
    }
   ],
   "source": [
    "from tkinter import Tk, Frame, Button, LEFT, messagebox\n",
    "import this\n",
    "\n",
    "rot13 = str.maketrans(\n",
    "    \"ABCDEFGHIJKLMabcdefghijklmNOPQRSTUVWXYZnopqrstuvwxyz\",\n",
    "    \"NOPQRSTUVWXYZnopqrstuvwxyzABCDEFGHIJKLMabcdefghijklm\",    \n",
    ")\n",
    "\n",
    "def main_window(root: Tk):\n",
    "    frame = Frame(root)\n",
    "    frame.pack()\n",
    "    \n",
    "    zen_button = Button(frame, text=\"Python Zen\", command=show_zen)\n",
    "    zen_button.pack(side=LEFT)\n",
    "    \n",
    "def show_zen():\n",
    "    messagebox.showinfo(\"Zen of Python\", this.s.translate(rot13))\n",
    "    \n",
    "root = Tk()\n",
    "main_window(root)\n",
    "root.mainloop()"
   ]
  },
  {
   "cell_type": "code",
   "execution_count": 4,
   "id": "e1ec9661",
   "metadata": {},
   "outputs": [
    {
     "name": "stdout",
     "output_type": "stream",
     "text": [
      "Collecting flask\n",
      "  Downloading Flask-2.2.3-py3-none-any.whl (101 kB)\n",
      "     -------------------------------------- 101.8/101.8 kB 5.7 MB/s eta 0:00:00\n",
      "Collecting Werkzeug>=2.2.2\n",
      "  Downloading Werkzeug-2.2.3-py3-none-any.whl (233 kB)\n",
      "     ------------------------------------- 233.6/233.6 kB 14.9 MB/s eta 0:00:00\n",
      "Requirement already satisfied: Jinja2>=3.0 in c:\\users\\shshin\\anaconda3\\envs\\data_analyzer\\lib\\site-packages (from flask) (3.1.2)\n",
      "Collecting itsdangerous>=2.0\n",
      "  Downloading itsdangerous-2.1.2-py3-none-any.whl (15 kB)\n",
      "Requirement already satisfied: click>=8.0 in c:\\users\\shshin\\anaconda3\\envs\\data_analyzer\\lib\\site-packages (from flask) (8.1.3)\n",
      "Requirement already satisfied: colorama in c:\\users\\shshin\\anaconda3\\envs\\data_analyzer\\lib\\site-packages (from click>=8.0->flask) (0.4.6)\n",
      "Requirement already satisfied: MarkupSafe>=2.0 in c:\\users\\shshin\\anaconda3\\envs\\data_analyzer\\lib\\site-packages (from Jinja2>=3.0->flask) (2.1.1)\n",
      "Installing collected packages: Werkzeug, itsdangerous, flask\n",
      "Successfully installed Werkzeug-2.2.3 flask-2.2.3 itsdangerous-2.1.2\n"
     ]
    }
   ],
   "source": [
    "! pip install flask"
   ]
  },
  {
   "cell_type": "code",
   "execution_count": 5,
   "id": "518ea927",
   "metadata": {},
   "outputs": [
    {
     "name": "stdout",
     "output_type": "stream",
     "text": [
      " * Serving Flask app '__main__'\n",
      " * Debug mode: off\n"
     ]
    },
    {
     "name": "stderr",
     "output_type": "stream",
     "text": [
      "WARNING: This is a development server. Do not use it in a production deployment. Use a production WSGI server instead.\n",
      " * Running on http://127.0.0.1:5000\n",
      "Press CTRL+C to quit\n",
      "127.0.0.1 - - [22/Mar/2023 10:33:06] \"GET / HTTP/1.1\" 200 -\n",
      "127.0.0.1 - - [22/Mar/2023 10:33:06] \"GET /favicon.ico HTTP/1.1\" 404 -\n",
      "127.0.0.1 - - [22/Mar/2023 10:33:20] \"GET /zen HTTP/1.1\" 200 -\n",
      "127.0.0.1 - - [22/Mar/2023 10:43:59] \"GET / HTTP/1.1\" 200 -\n",
      "127.0.0.1 - - [22/Mar/2023 10:43:59] \"GET / HTTP/1.1\" 200 -\n",
      "127.0.0.1 - - [22/Mar/2023 10:44:00] \"GET / HTTP/1.1\" 200 -\n",
      "127.0.0.1 - - [22/Mar/2023 10:44:00] \"GET /zen HTTP/1.1\" 200 -\n"
     ]
    }
   ],
   "source": [
    "from flask import Flask\n",
    "\n",
    "app = Flask(__name__)\n",
    "\n",
    "def simple_html(body):\n",
    "    return f\"\"\"    \n",
    "    <!DOCTYPE html>\n",
    "        <head>\n",
    "            <meta charset=\"utf-8\">\n",
    "            <title>Book Example</title>\n",
    "        </head>\n",
    "        <body>\n",
    "            {body}\n",
    "        </body>\n",
    "    </html>\n",
    "    \"\"\"\n",
    "\n",
    "@app.route(\"/\")\n",
    "def hello():\n",
    "    return simple_html(\"<a href=/zen>Python Zen</a>\")\n",
    "\n",
    "@app.route(\"/zen\")\n",
    "def zen():\n",
    "    return simple_html(\n",
    "        \"<br>\".join(this.s.translate(rot13).split(\"\\n\"))        \n",
    "    )\n",
    "\n",
    "app.run()\n"
   ]
  },
  {
   "cell_type": "raw",
   "id": "4e4d14e9",
   "metadata": {},
   "source": [
    "메시지 기반 프로그래밍\n",
    "\n",
    "메시지 큐를 이용하면 서비스들을 느슨하게 결합할 수 있다.\n",
    "\n",
    "큐 : RabbitMQ, Apache Kafka 클라우드 기반 Amazon SQS (중개자가 있는 메시지 큐)\n",
    "ZeroMQ (중개자가 없는 메시지 큐)"
   ]
  },
  {
   "cell_type": "code",
   "execution_count": null,
   "id": "325f8356",
   "metadata": {},
   "outputs": [],
   "source": []
  }
 ],
 "metadata": {
  "kernelspec": {
   "display_name": "Python [conda env:data_analyzer] *",
   "language": "python",
   "name": "conda-env-data_analyzer-py"
  },
  "language_info": {
   "codemirror_mode": {
    "name": "ipython",
    "version": 3
   },
   "file_extension": ".py",
   "mimetype": "text/x-python",
   "name": "python",
   "nbconvert_exporter": "python",
   "pygments_lexer": "ipython3",
   "version": "3.10.8"
  }
 },
 "nbformat": 4,
 "nbformat_minor": 5
}
