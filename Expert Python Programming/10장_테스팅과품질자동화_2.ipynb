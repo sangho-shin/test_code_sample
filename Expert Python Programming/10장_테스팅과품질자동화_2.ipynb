{
 "cells": [
  {
   "cell_type": "raw",
   "id": "3eaba131",
   "metadata": {},
   "source": [
    "unittest mock을 활용한 테스트 코드 작성하기\n",
    "\n",
    "\n"
   ]
  },
  {
   "cell_type": "code",
   "execution_count": 1,
   "id": "cd237b8b",
   "metadata": {},
   "outputs": [
    {
     "ename": "TypeError",
     "evalue": "Need a valid target to patch. You supplied: 'target_mock'",
     "output_type": "error",
     "traceback": [
      "\u001b[1;31m---------------------------------------------------------------------------\u001b[0m",
      "\u001b[1;31mValueError\u001b[0m                                Traceback (most recent call last)",
      "File \u001b[1;32m~\\anaconda3\\envs\\data_analyzer\\lib\\unittest\\mock.py:1604\u001b[0m, in \u001b[0;36m_get_target\u001b[1;34m(target)\u001b[0m\n\u001b[0;32m   1603\u001b[0m \u001b[38;5;28;01mtry\u001b[39;00m:\n\u001b[1;32m-> 1604\u001b[0m     target, attribute \u001b[38;5;241m=\u001b[39m target\u001b[38;5;241m.\u001b[39mrsplit(\u001b[38;5;124m'\u001b[39m\u001b[38;5;124m.\u001b[39m\u001b[38;5;124m'\u001b[39m, \u001b[38;5;241m1\u001b[39m)\n\u001b[0;32m   1605\u001b[0m \u001b[38;5;28;01mexcept\u001b[39;00m (\u001b[38;5;167;01mTypeError\u001b[39;00m, \u001b[38;5;167;01mValueError\u001b[39;00m, \u001b[38;5;167;01mAttributeError\u001b[39;00m):\n",
      "\u001b[1;31mValueError\u001b[0m: not enough values to unpack (expected 2, got 1)",
      "\nDuring handling of the above exception, another exception occurred:\n",
      "\u001b[1;31mTypeError\u001b[0m                                 Traceback (most recent call last)",
      "Cell \u001b[1;32mIn[1], line 6\u001b[0m\n\u001b[0;32m      2\u001b[0m     \u001b[38;5;28;01mreturn\u001b[39;00m \u001b[38;5;124m\"\u001b[39m\u001b[38;5;124mmock 실패!\u001b[39m\u001b[38;5;124m\"\u001b[39m\n\u001b[0;32m      4\u001b[0m \u001b[38;5;28;01mfrom\u001b[39;00m \u001b[38;5;21;01munittest\u001b[39;00m \u001b[38;5;28;01mimport\u001b[39;00m mock\n\u001b[1;32m----> 6\u001b[0m \u001b[38;5;129m@mock\u001b[39m\u001b[38;5;241;43m.\u001b[39;49m\u001b[43mpatch\u001b[49m\u001b[43m(\u001b[49m\u001b[38;5;124;43m\"\u001b[39;49m\u001b[38;5;124;43mtarget_mock\u001b[39;49m\u001b[38;5;124;43m\"\u001b[39;49m\u001b[43m,\u001b[49m\u001b[43m \u001b[49m\u001b[43mreturn_value\u001b[49m\u001b[38;5;241;43m=\u001b[39;49m\u001b[38;5;124;43m\"\u001b[39;49m\u001b[38;5;124;43mmock 성공!\u001b[39;49m\u001b[38;5;124;43m\"\u001b[39;49m\u001b[43m)\u001b[49m\n\u001b[0;32m      7\u001b[0m \u001b[38;5;28;01mdef\u001b[39;00m \u001b[38;5;21mtest_mock\u001b[39m():\n\u001b[0;32m      8\u001b[0m     actual \u001b[38;5;241m=\u001b[39m target_mock()\n\u001b[0;32m      9\u001b[0m     expected \u001b[38;5;241m=\u001b[39m \u001b[38;5;124m\"\u001b[39m\u001b[38;5;124mmock 성공!\u001b[39m\u001b[38;5;124m\"\u001b[39m\n",
      "File \u001b[1;32m~\\anaconda3\\envs\\data_analyzer\\lib\\unittest\\mock.py:1765\u001b[0m, in \u001b[0;36mpatch\u001b[1;34m(target, new, spec, create, spec_set, autospec, new_callable, unsafe, **kwargs)\u001b[0m\n\u001b[0;32m   1690\u001b[0m \u001b[38;5;28;01mdef\u001b[39;00m \u001b[38;5;21mpatch\u001b[39m(\n\u001b[0;32m   1691\u001b[0m         target, new\u001b[38;5;241m=\u001b[39mDEFAULT, spec\u001b[38;5;241m=\u001b[39m\u001b[38;5;28;01mNone\u001b[39;00m, create\u001b[38;5;241m=\u001b[39m\u001b[38;5;28;01mFalse\u001b[39;00m,\n\u001b[0;32m   1692\u001b[0m         spec_set\u001b[38;5;241m=\u001b[39m\u001b[38;5;28;01mNone\u001b[39;00m, autospec\u001b[38;5;241m=\u001b[39m\u001b[38;5;28;01mNone\u001b[39;00m, new_callable\u001b[38;5;241m=\u001b[39m\u001b[38;5;28;01mNone\u001b[39;00m, \u001b[38;5;241m*\u001b[39m, unsafe\u001b[38;5;241m=\u001b[39m\u001b[38;5;28;01mFalse\u001b[39;00m, \u001b[38;5;241m*\u001b[39m\u001b[38;5;241m*\u001b[39mkwargs\n\u001b[0;32m   1693\u001b[0m     ):\n\u001b[0;32m   1694\u001b[0m     \u001b[38;5;124;03m\"\"\"\u001b[39;00m\n\u001b[0;32m   1695\u001b[0m \u001b[38;5;124;03m    `patch` acts as a function decorator, class decorator or a context\u001b[39;00m\n\u001b[0;32m   1696\u001b[0m \u001b[38;5;124;03m    manager. Inside the body of the function or with statement, the `target`\u001b[39;00m\n\u001b[1;32m   (...)\u001b[0m\n\u001b[0;32m   1763\u001b[0m \u001b[38;5;124;03m    available for alternate use-cases.\u001b[39;00m\n\u001b[0;32m   1764\u001b[0m \u001b[38;5;124;03m    \"\"\"\u001b[39;00m\n\u001b[1;32m-> 1765\u001b[0m     getter, attribute \u001b[38;5;241m=\u001b[39m \u001b[43m_get_target\u001b[49m\u001b[43m(\u001b[49m\u001b[43mtarget\u001b[49m\u001b[43m)\u001b[49m\n\u001b[0;32m   1766\u001b[0m     \u001b[38;5;28;01mreturn\u001b[39;00m _patch(\n\u001b[0;32m   1767\u001b[0m         getter, attribute, new, spec, create,\n\u001b[0;32m   1768\u001b[0m         spec_set, autospec, new_callable, kwargs, unsafe\u001b[38;5;241m=\u001b[39munsafe\n\u001b[0;32m   1769\u001b[0m     )\n",
      "File \u001b[1;32m~\\anaconda3\\envs\\data_analyzer\\lib\\unittest\\mock.py:1606\u001b[0m, in \u001b[0;36m_get_target\u001b[1;34m(target)\u001b[0m\n\u001b[0;32m   1604\u001b[0m     target, attribute \u001b[38;5;241m=\u001b[39m target\u001b[38;5;241m.\u001b[39mrsplit(\u001b[38;5;124m'\u001b[39m\u001b[38;5;124m.\u001b[39m\u001b[38;5;124m'\u001b[39m, \u001b[38;5;241m1\u001b[39m)\n\u001b[0;32m   1605\u001b[0m \u001b[38;5;28;01mexcept\u001b[39;00m (\u001b[38;5;167;01mTypeError\u001b[39;00m, \u001b[38;5;167;01mValueError\u001b[39;00m, \u001b[38;5;167;01mAttributeError\u001b[39;00m):\n\u001b[1;32m-> 1606\u001b[0m     \u001b[38;5;28;01mraise\u001b[39;00m \u001b[38;5;167;01mTypeError\u001b[39;00m(\n\u001b[0;32m   1607\u001b[0m         \u001b[38;5;124mf\u001b[39m\u001b[38;5;124m\"\u001b[39m\u001b[38;5;124mNeed a valid target to patch. You supplied: \u001b[39m\u001b[38;5;132;01m{\u001b[39;00mtarget\u001b[38;5;132;01m!r}\u001b[39;00m\u001b[38;5;124m\"\u001b[39m)\n\u001b[0;32m   1608\u001b[0m getter \u001b[38;5;241m=\u001b[39m \u001b[38;5;28;01mlambda\u001b[39;00m: _importer(target)\n\u001b[0;32m   1609\u001b[0m \u001b[38;5;28;01mreturn\u001b[39;00m getter, attribute\n",
      "\u001b[1;31mTypeError\u001b[0m: Need a valid target to patch. You supplied: 'target_mock'"
     ]
    }
   ],
   "source": [
    "def target_mock():\n",
    "    return \"mock 실패!\"\n",
    "\n",
    "from unittest import mock\n",
    "\n",
    "@mock.patch(\"target_mock\", return_value=\"mock 성공!\")\n",
    "def test_mock():\n",
    "    actual = target_mock()\n",
    "    expected = \"mock 성공!\"\n",
    "    \n",
    "    assert actual == expected"
   ]
  },
  {
   "cell_type": "raw",
   "id": "c355e460",
   "metadata": {},
   "source": [
    "unittest 코드 작성 > coverage 확인"
   ]
  },
  {
   "cell_type": "raw",
   "id": "04854e28",
   "metadata": {},
   "source": [
    "pre-commit 적용\n",
    "\n",
    "pip install pre-commit\n",
    "\n",
    "기본 샘플 생성\n",
    "pre-commit sample-config > .pre-commit-config.yaml\n",
    "보통 아래 예시 항목들 적용한다고 함\n",
    "black : 코드 포멧터, 코드 스타일을 통일\n",
    "flake8 : 코드 린터, PEP8 규약을 지켰는지 검사\n",
    "isort : 파이썬 import를 정렬해 주는 라이브러리\n",
    "pyright : 파이썬에서 타입을 체크해주는 라이브러리\n",
    "\n",
    "\n",
    "repos:\n",
    "  - repo: https://github.com/ambv/black\n",
    "    rev: ''\n",
    "    hooks:\n",
    "      - id: black\n",
    "        language_version: python3.8 \n",
    "  - repo: https://gitlab.com/pycqa/flake8\n",
    "    rev: ''\n",
    "    hooks:\n",
    "      - id: flake8\n",
    "  - repo: https://github.com/pycqa/isort\n",
    "    rev: ''\n",
    "    hooks:\n",
    "      - id: isort\n",
    "  - repo: https://github.com/necaris/pre-commit-pyright\n",
    "    rev: ''\n",
    "    hooks:\n",
    "      - id: pyright"
   ]
  },
  {
   "cell_type": "code",
   "execution_count": null,
   "id": "351f5bd4",
   "metadata": {},
   "outputs": [],
   "source": []
  }
 ],
 "metadata": {
  "kernelspec": {
   "display_name": "Python [conda env:data_analyzer] *",
   "language": "python",
   "name": "conda-env-data_analyzer-py"
  },
  "language_info": {
   "codemirror_mode": {
    "name": "ipython",
    "version": 3
   },
   "file_extension": ".py",
   "mimetype": "text/x-python",
   "name": "python",
   "nbconvert_exporter": "python",
   "pygments_lexer": "ipython3",
   "version": "3.10.8"
  }
 },
 "nbformat": 4,
 "nbformat_minor": 5
}
