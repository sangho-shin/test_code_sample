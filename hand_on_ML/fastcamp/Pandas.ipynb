{
 "cells": [
  {
   "cell_type": "code",
   "execution_count": 1,
   "id": "08faea03",
   "metadata": {
    "ExecuteTime": {
     "end_time": "2022-07-03T15:11:18.761462Z",
     "start_time": "2022-07-03T15:11:17.938463Z"
    }
   },
   "outputs": [],
   "source": [
    "import pandas as pd\n",
    "import numpy as np\n"
   ]
  },
  {
   "cell_type": "markdown",
   "id": "075fe9a7",
   "metadata": {},
   "source": [
    "Series\n",
    "\n",
    "pandas의 기본 객체 중 하나\n",
    "numpy의 ndarray를 기반으로 인덱싱을 기능을 추가하여 1차원 배열을 나타냄\n",
    "index를 지정하지 않을 시, 기본적으로 ndarray와 같이 0-based 인덱스 생성, 지정할 경우 명시적으로 지정된 index를 사용\n",
    "같은 타입의 0개 이상의 데이터를 가질 수 있음\n",
    "\n",
    "data로만 생성하기\n",
    "    index는 기본적으로 0부터 자동적으로 생성\n"
   ]
  },
  {
   "cell_type": "code",
   "execution_count": 3,
   "id": "96c6d1c7",
   "metadata": {
    "ExecuteTime": {
     "end_time": "2022-07-03T15:14:20.861718Z",
     "start_time": "2022-07-03T15:14:20.847718Z"
    }
   },
   "outputs": [
    {
     "data": {
      "text/plain": [
       "0    1\n",
       "1    2\n",
       "2    3\n",
       "dtype: int64"
      ]
     },
     "execution_count": 3,
     "metadata": {},
     "output_type": "execute_result"
    }
   ],
   "source": [
    "s1 = pd.Series([1, 2, 3])\n",
    "s1"
   ]
  },
  {
   "cell_type": "code",
   "execution_count": 5,
   "id": "268a6a0c",
   "metadata": {
    "ExecuteTime": {
     "end_time": "2022-07-03T15:15:02.535617Z",
     "start_time": "2022-07-03T15:15:02.519618Z"
    }
   },
   "outputs": [
    {
     "data": {
      "text/plain": [
       "0    a\n",
       "1    b\n",
       "2    c\n",
       "dtype: object"
      ]
     },
     "execution_count": 5,
     "metadata": {},
     "output_type": "execute_result"
    }
   ],
   "source": [
    "s2 = pd.Series(['a', 'b', 'c'])\n",
    "s2\n",
    "\n",
    "# data , index 함께 명시하기"
   ]
  },
  {
   "cell_type": "code",
   "execution_count": 6,
   "id": "e0f8b849",
   "metadata": {
    "ExecuteTime": {
     "end_time": "2022-07-03T15:15:52.549103Z",
     "start_time": "2022-07-03T15:15:52.535104Z"
    }
   },
   "outputs": [
    {
     "data": {
      "text/plain": [
       "0        0\n",
       "1        1\n",
       "2        2\n",
       "3        3\n",
       "4        4\n",
       "      ... \n",
       "195    195\n",
       "196    196\n",
       "197    197\n",
       "198    198\n",
       "199    199\n",
       "Length: 200, dtype: int32"
      ]
     },
     "execution_count": 6,
     "metadata": {},
     "output_type": "execute_result"
    }
   ],
   "source": [
    "s3 = pd.Series(np.arange(200))\n",
    "s3"
   ]
  },
  {
   "cell_type": "code",
   "execution_count": 7,
   "id": "81eb7557",
   "metadata": {
    "ExecuteTime": {
     "end_time": "2022-07-03T15:20:54.925801Z",
     "start_time": "2022-07-03T15:20:54.913802Z"
    }
   },
   "outputs": [
    {
     "data": {
      "text/plain": [
       "100    1\n",
       "200    2\n",
       "300    3\n",
       "dtype: int64"
      ]
     },
     "execution_count": 7,
     "metadata": {},
     "output_type": "execute_result"
    }
   ],
   "source": [
    "s4 = pd.Series([1, 2, 3], [100, 200, 300])\n",
    "s4"
   ]
  },
  {
   "cell_type": "code",
   "execution_count": 8,
   "id": "e55c6d96",
   "metadata": {
    "ExecuteTime": {
     "end_time": "2022-07-03T15:21:21.395037Z",
     "start_time": "2022-07-03T15:21:21.376032Z"
    }
   },
   "outputs": [
    {
     "data": {
      "text/plain": [
       "a    1\n",
       "m    2\n",
       "k    3\n",
       "dtype: int64"
      ]
     },
     "execution_count": 8,
     "metadata": {},
     "output_type": "execute_result"
    }
   ],
   "source": [
    "s5 = pd.Series([1, 2, 3], ['a', 'm', 'k'])\n",
    "s5"
   ]
  },
  {
   "cell_type": "code",
   "execution_count": 12,
   "id": "e9a805d4",
   "metadata": {
    "ExecuteTime": {
     "end_time": "2022-07-03T15:22:48.597919Z",
     "start_time": "2022-07-03T15:22:48.583920Z"
    }
   },
   "outputs": [],
   "source": [
    "s6 = pd.Series(np.arange(5), np.arange(100, 105),\n",
    "              )"
   ]
  },
  {
   "cell_type": "code",
   "execution_count": 13,
   "id": "c809245f",
   "metadata": {
    "ExecuteTime": {
     "end_time": "2022-07-03T15:22:49.152918Z",
     "start_time": "2022-07-03T15:22:49.135919Z"
    }
   },
   "outputs": [
    {
     "data": {
      "text/plain": [
       "100    0\n",
       "101    1\n",
       "102    2\n",
       "103    3\n",
       "104    4\n",
       "dtype: int32"
      ]
     },
     "execution_count": 13,
     "metadata": {},
     "output_type": "execute_result"
    }
   ],
   "source": [
    "s6"
   ]
  },
  {
   "cell_type": "markdown",
   "id": "89c18538",
   "metadata": {},
   "source": [
    "# 인덱스 활용하기\n"
   ]
  },
  {
   "cell_type": "code",
   "execution_count": 14,
   "id": "85263816",
   "metadata": {
    "ExecuteTime": {
     "end_time": "2022-07-03T15:23:40.647968Z",
     "start_time": "2022-07-03T15:23:40.639682Z"
    }
   },
   "outputs": [
    {
     "data": {
      "text/plain": [
       "Int64Index([100, 101, 102, 103, 104], dtype='int64')"
      ]
     },
     "execution_count": 14,
     "metadata": {},
     "output_type": "execute_result"
    }
   ],
   "source": [
    "s6.index"
   ]
  },
  {
   "cell_type": "code",
   "execution_count": 15,
   "id": "4ebb8557",
   "metadata": {
    "ExecuteTime": {
     "end_time": "2022-07-03T15:23:47.924993Z",
     "start_time": "2022-07-03T15:23:47.920355Z"
    }
   },
   "outputs": [
    {
     "data": {
      "text/plain": [
       "array([0, 1, 2, 3, 4])"
      ]
     },
     "execution_count": 15,
     "metadata": {},
     "output_type": "execute_result"
    }
   ],
   "source": [
    "s6.values"
   ]
  },
  {
   "cell_type": "code",
   "execution_count": 18,
   "id": "fbff502e",
   "metadata": {
    "ExecuteTime": {
     "end_time": "2022-07-03T15:24:32.380686Z",
     "start_time": "2022-07-03T15:24:32.367688Z"
    }
   },
   "outputs": [
    {
     "data": {
      "text/plain": [
       "4"
      ]
     },
     "execution_count": 18,
     "metadata": {},
     "output_type": "execute_result"
    }
   ],
   "source": [
    "# 인덱스를 통한 데이터 접근\n",
    "s6[104]"
   ]
  },
  {
   "cell_type": "code",
   "execution_count": 19,
   "id": "52777e17",
   "metadata": {
    "ExecuteTime": {
     "end_time": "2022-07-03T15:24:52.616236Z",
     "start_time": "2022-07-03T15:24:52.609235Z"
    }
   },
   "outputs": [
    {
     "data": {
      "text/plain": [
       "100     0\n",
       "101     1\n",
       "102     2\n",
       "103     3\n",
       "104    70\n",
       "dtype: int32"
      ]
     },
     "execution_count": 19,
     "metadata": {},
     "output_type": "execute_result"
    }
   ],
   "source": [
    "# 인덱스를 통한 업데이트\n",
    "s6[104] = 70\n",
    "s6"
   ]
  },
  {
   "cell_type": "code",
   "execution_count": 21,
   "id": "cf44d34a",
   "metadata": {
    "ExecuteTime": {
     "end_time": "2022-07-03T15:26:03.480649Z",
     "start_time": "2022-07-03T15:26:03.463654Z"
    }
   },
   "outputs": [
    {
     "data": {
      "text/plain": [
       "100     0\n",
       "101     1\n",
       "102     2\n",
       "103     3\n",
       "104    70\n",
       "105    90\n",
       "200    80\n",
       "dtype: int64"
      ]
     },
     "execution_count": 21,
     "metadata": {},
     "output_type": "execute_result"
    }
   ],
   "source": [
    "s6[105] = 90\n",
    "s6[200] = 80\n",
    "s6\n"
   ]
  },
  {
   "cell_type": "code",
   "execution_count": 22,
   "id": "8f0d7422",
   "metadata": {
    "ExecuteTime": {
     "end_time": "2022-07-03T15:26:47.503554Z",
     "start_time": "2022-07-03T15:26:47.492553Z"
    }
   },
   "outputs": [],
   "source": [
    "# 인덱스 재사용하기\n",
    "s7 = pd.Series(np.arange(7), s6.index)"
   ]
  },
  {
   "cell_type": "code",
   "execution_count": 23,
   "id": "01384734",
   "metadata": {
    "ExecuteTime": {
     "end_time": "2022-07-03T15:26:50.279403Z",
     "start_time": "2022-07-03T15:26:50.271403Z"
    }
   },
   "outputs": [
    {
     "data": {
      "text/plain": [
       "100    0\n",
       "101    1\n",
       "102    2\n",
       "103    3\n",
       "104    4\n",
       "105    5\n",
       "200    6\n",
       "dtype: int32"
      ]
     },
     "execution_count": 23,
     "metadata": {},
     "output_type": "execute_result"
    }
   ],
   "source": [
    "s7"
   ]
  },
  {
   "cell_type": "markdown",
   "id": "9a5a4739",
   "metadata": {},
   "source": [
    "# Series 데이터 심플 분석 (개수, 빈도 등 계산하기)"
   ]
  },
  {
   "cell_type": "markdown",
   "id": "4321af73",
   "metadata": {},
   "source": [
    "Series size, shape, unique, count, value_counts 함수\n",
    "\n",
    "size : 개수\n",
    "shape : 튜플형태로 shape만\n",
    "unique: 유일한 값만 ndarray로\n",
    "count : NaN을 제외한 갯수를 \n",
    "mean : NaN을 제외한 평균\n",
    "value_counts : NaN을 제외하고 가 값들의 빈도"
   ]
  },
  {
   "cell_type": "code",
   "execution_count": 24,
   "id": "d501d578",
   "metadata": {
    "ExecuteTime": {
     "end_time": "2022-07-03T15:28:54.597002Z",
     "start_time": "2022-07-03T15:28:54.584003Z"
    }
   },
   "outputs": [],
   "source": [
    "s = pd.Series([1,1,2,1,2,2,2,1,1,3,3,4,5,5,7, np.NaN])"
   ]
  },
  {
   "cell_type": "code",
   "execution_count": 25,
   "id": "98e6b968",
   "metadata": {
    "ExecuteTime": {
     "end_time": "2022-07-03T15:28:57.748473Z",
     "start_time": "2022-07-03T15:28:57.735473Z"
    }
   },
   "outputs": [
    {
     "data": {
      "text/plain": [
       "0     1.0\n",
       "1     1.0\n",
       "2     2.0\n",
       "3     1.0\n",
       "4     2.0\n",
       "5     2.0\n",
       "6     2.0\n",
       "7     1.0\n",
       "8     1.0\n",
       "9     3.0\n",
       "10    3.0\n",
       "11    4.0\n",
       "12    5.0\n",
       "13    5.0\n",
       "14    7.0\n",
       "15    NaN\n",
       "dtype: float64"
      ]
     },
     "execution_count": 25,
     "metadata": {},
     "output_type": "execute_result"
    }
   ],
   "source": [
    "s"
   ]
  },
  {
   "cell_type": "code",
   "execution_count": 26,
   "id": "d4e509a3",
   "metadata": {
    "ExecuteTime": {
     "end_time": "2022-07-03T15:29:52.621068Z",
     "start_time": "2022-07-03T15:29:52.616068Z"
    }
   },
   "outputs": [
    {
     "data": {
      "text/plain": [
       "16"
      ]
     },
     "execution_count": 26,
     "metadata": {},
     "output_type": "execute_result"
    }
   ],
   "source": [
    "len(s)"
   ]
  },
  {
   "cell_type": "code",
   "execution_count": 27,
   "id": "76409cee",
   "metadata": {
    "ExecuteTime": {
     "end_time": "2022-07-03T15:30:01.162680Z",
     "start_time": "2022-07-03T15:30:01.155676Z"
    }
   },
   "outputs": [
    {
     "data": {
      "text/plain": [
       "16"
      ]
     },
     "execution_count": 27,
     "metadata": {},
     "output_type": "execute_result"
    }
   ],
   "source": [
    "s.size"
   ]
  },
  {
   "cell_type": "code",
   "execution_count": 28,
   "id": "86ef9693",
   "metadata": {
    "ExecuteTime": {
     "end_time": "2022-07-03T15:30:10.361681Z",
     "start_time": "2022-07-03T15:30:10.350681Z"
    }
   },
   "outputs": [
    {
     "data": {
      "text/plain": [
       "(16,)"
      ]
     },
     "execution_count": 28,
     "metadata": {},
     "output_type": "execute_result"
    }
   ],
   "source": [
    "s.shape"
   ]
  },
  {
   "cell_type": "code",
   "execution_count": 30,
   "id": "31f3a43f",
   "metadata": {
    "ExecuteTime": {
     "end_time": "2022-07-03T15:30:37.602373Z",
     "start_time": "2022-07-03T15:30:37.583375Z"
    }
   },
   "outputs": [
    {
     "data": {
      "text/plain": [
       "array([ 1.,  2.,  3.,  4.,  5.,  7., nan])"
      ]
     },
     "execution_count": 30,
     "metadata": {},
     "output_type": "execute_result"
    }
   ],
   "source": [
    "s.unique()"
   ]
  },
  {
   "cell_type": "code",
   "execution_count": 31,
   "id": "47a1efef",
   "metadata": {
    "ExecuteTime": {
     "end_time": "2022-07-03T15:30:47.733722Z",
     "start_time": "2022-07-03T15:30:47.727722Z"
    }
   },
   "outputs": [
    {
     "data": {
      "text/plain": [
       "15"
      ]
     },
     "execution_count": 31,
     "metadata": {},
     "output_type": "execute_result"
    }
   ],
   "source": [
    "s.count()"
   ]
  },
  {
   "cell_type": "code",
   "execution_count": 34,
   "id": "1cca8f46",
   "metadata": {
    "ExecuteTime": {
     "end_time": "2022-07-03T15:31:46.241954Z",
     "start_time": "2022-07-03T15:31:46.231409Z"
    }
   },
   "outputs": [
    {
     "data": {
      "text/plain": [
       "nan"
      ]
     },
     "execution_count": 34,
     "metadata": {},
     "output_type": "execute_result"
    }
   ],
   "source": [
    "a = np.array([2, 2 ,2 ,2, np.NaN])\n",
    "a.mean()"
   ]
  },
  {
   "cell_type": "code",
   "execution_count": 35,
   "id": "aeb8b131",
   "metadata": {
    "ExecuteTime": {
     "end_time": "2022-07-03T15:32:04.670246Z",
     "start_time": "2022-07-03T15:32:04.655246Z"
    }
   },
   "outputs": [
    {
     "data": {
      "text/plain": [
       "2.0"
      ]
     },
     "execution_count": 35,
     "metadata": {},
     "output_type": "execute_result"
    }
   ],
   "source": [
    "b = pd.Series(a)\n",
    "b.mean()"
   ]
  },
  {
   "cell_type": "code",
   "execution_count": 36,
   "id": "68914876",
   "metadata": {
    "ExecuteTime": {
     "end_time": "2022-07-03T15:32:15.583861Z",
     "start_time": "2022-07-03T15:32:15.567861Z"
    }
   },
   "outputs": [
    {
     "data": {
      "text/plain": [
       "2.6666666666666665"
      ]
     },
     "execution_count": 36,
     "metadata": {},
     "output_type": "execute_result"
    }
   ],
   "source": [
    "s.mean()"
   ]
  },
  {
   "cell_type": "code",
   "execution_count": 37,
   "id": "c41d8517",
   "metadata": {
    "ExecuteTime": {
     "end_time": "2022-07-03T15:32:33.582053Z",
     "start_time": "2022-07-03T15:32:33.568054Z"
    }
   },
   "outputs": [
    {
     "data": {
      "text/plain": [
       "1.0    5\n",
       "2.0    4\n",
       "3.0    2\n",
       "5.0    2\n",
       "4.0    1\n",
       "7.0    1\n",
       "dtype: int64"
      ]
     },
     "execution_count": 37,
     "metadata": {},
     "output_type": "execute_result"
    }
   ],
   "source": [
    "s.value_counts()"
   ]
  },
  {
   "cell_type": "code",
   "execution_count": 39,
   "id": "31236a3f",
   "metadata": {
    "ExecuteTime": {
     "end_time": "2022-07-03T15:33:44.144362Z",
     "start_time": "2022-07-03T15:33:44.129365Z"
    }
   },
   "outputs": [],
   "source": [
    "# index를 활용하여 멀티플한 값에 접근"
   ]
  },
  {
   "cell_type": "code",
   "execution_count": 40,
   "id": "59c19d7a",
   "metadata": {
    "ExecuteTime": {
     "end_time": "2022-07-03T15:33:52.730481Z",
     "start_time": "2022-07-03T15:33:52.711481Z"
    }
   },
   "outputs": [
    {
     "data": {
      "text/plain": [
       "0     1.0\n",
       "1     1.0\n",
       "2     2.0\n",
       "3     1.0\n",
       "4     2.0\n",
       "5     2.0\n",
       "6     2.0\n",
       "7     1.0\n",
       "8     1.0\n",
       "9     3.0\n",
       "10    3.0\n",
       "11    4.0\n",
       "12    5.0\n",
       "13    5.0\n",
       "14    7.0\n",
       "15    NaN\n",
       "dtype: float64"
      ]
     },
     "execution_count": 40,
     "metadata": {},
     "output_type": "execute_result"
    }
   ],
   "source": [
    "s"
   ]
  },
  {
   "cell_type": "code",
   "execution_count": 41,
   "id": "4ce36779",
   "metadata": {
    "ExecuteTime": {
     "end_time": "2022-07-03T15:33:58.702990Z",
     "start_time": "2022-07-03T15:33:58.686990Z"
    }
   },
   "outputs": [
    {
     "data": {
      "text/plain": [
       "2.0"
      ]
     },
     "execution_count": 41,
     "metadata": {},
     "output_type": "execute_result"
    }
   ],
   "source": [
    "s[5]"
   ]
  },
  {
   "cell_type": "code",
   "execution_count": 42,
   "id": "b85ffa4d",
   "metadata": {
    "ExecuteTime": {
     "end_time": "2022-07-03T15:34:08.219666Z",
     "start_time": "2022-07-03T15:34:08.199667Z"
    }
   },
   "outputs": [
    {
     "data": {
      "text/plain": [
       "5    2.0\n",
       "7    1.0\n",
       "8    1.0\n",
       "dtype: float64"
      ]
     },
     "execution_count": 42,
     "metadata": {},
     "output_type": "execute_result"
    }
   ],
   "source": [
    "s[[5, 7, 8]]"
   ]
  },
  {
   "cell_type": "code",
   "execution_count": 44,
   "id": "36b47cdb",
   "metadata": {
    "ExecuteTime": {
     "end_time": "2022-07-03T15:34:57.541209Z",
     "start_time": "2022-07-03T15:34:57.532210Z"
    }
   },
   "outputs": [
    {
     "data": {
      "text/plain": [
       "1.0    2\n",
       "2.0    1\n",
       "dtype: int64"
      ]
     },
     "execution_count": 44,
     "metadata": {},
     "output_type": "execute_result"
    }
   ],
   "source": [
    "s[[5, 7, 8]].value_counts()"
   ]
  },
  {
   "cell_type": "code",
   "execution_count": 46,
   "id": "29ab2a01",
   "metadata": {
    "ExecuteTime": {
     "end_time": "2022-07-03T15:38:21.163302Z",
     "start_time": "2022-07-03T15:38:21.159302Z"
    }
   },
   "outputs": [],
   "source": [
    "# head, tail 함수"
   ]
  },
  {
   "cell_type": "code",
   "execution_count": 47,
   "id": "51fd9cdf",
   "metadata": {
    "ExecuteTime": {
     "end_time": "2022-07-03T15:38:53.936258Z",
     "start_time": "2022-07-03T15:38:53.919245Z"
    }
   },
   "outputs": [
    {
     "data": {
      "text/plain": [
       "0    1.0\n",
       "1    1.0\n",
       "2    2.0\n",
       "3    1.0\n",
       "4    2.0\n",
       "dtype: float64"
      ]
     },
     "execution_count": 47,
     "metadata": {},
     "output_type": "execute_result"
    }
   ],
   "source": [
    "s.head()"
   ]
  },
  {
   "cell_type": "code",
   "execution_count": 49,
   "id": "8dbb507f",
   "metadata": {
    "ExecuteTime": {
     "end_time": "2022-07-03T15:39:12.940333Z",
     "start_time": "2022-07-03T15:39:12.935333Z"
    }
   },
   "outputs": [
    {
     "data": {
      "text/plain": [
       "9     3.0\n",
       "10    3.0\n",
       "11    4.0\n",
       "12    5.0\n",
       "13    5.0\n",
       "14    7.0\n",
       "15    NaN\n",
       "dtype: float64"
      ]
     },
     "execution_count": 49,
     "metadata": {},
     "output_type": "execute_result"
    }
   ],
   "source": [
    "s.tail(n=7)"
   ]
  },
  {
   "cell_type": "markdown",
   "id": "1ca96505",
   "metadata": {},
   "source": [
    "# 데이터 연산하기"
   ]
  },
  {
   "cell_type": "code",
   "execution_count": 50,
   "id": "777e8327",
   "metadata": {
    "ExecuteTime": {
     "end_time": "2022-07-03T15:41:01.838263Z",
     "start_time": "2022-07-03T15:41:01.824262Z"
    }
   },
   "outputs": [
    {
     "data": {
      "text/plain": [
       "a    1\n",
       "b    2\n",
       "c    3\n",
       "d    4\n",
       "dtype: int64"
      ]
     },
     "execution_count": 50,
     "metadata": {},
     "output_type": "execute_result"
    }
   ],
   "source": [
    "# index를 기준으로 연산, 같은 index 끼리 연산\n",
    "s1 = pd.Series([1, 2, 3, 4], ['a', 'b', 'c', 'd'])\n",
    "s2 = pd.Series([6, 3, 2, 1], ['d', 'c', 'b', 'a'])\n",
    "s1"
   ]
  },
  {
   "cell_type": "code",
   "execution_count": 52,
   "id": "f96ac6b3",
   "metadata": {
    "ExecuteTime": {
     "end_time": "2022-07-03T15:41:08.080445Z",
     "start_time": "2022-07-03T15:41:08.071446Z"
    }
   },
   "outputs": [
    {
     "data": {
      "text/plain": [
       "d    6\n",
       "c    3\n",
       "b    2\n",
       "a    1\n",
       "dtype: int64"
      ]
     },
     "execution_count": 52,
     "metadata": {},
     "output_type": "execute_result"
    }
   ],
   "source": [
    "s2"
   ]
  },
  {
   "cell_type": "code",
   "execution_count": 53,
   "id": "5401e466",
   "metadata": {
    "ExecuteTime": {
     "end_time": "2022-07-03T15:41:16.333251Z",
     "start_time": "2022-07-03T15:41:16.327251Z"
    }
   },
   "outputs": [
    {
     "data": {
      "text/plain": [
       "a     2\n",
       "b     4\n",
       "c     6\n",
       "d    10\n",
       "dtype: int64"
      ]
     },
     "execution_count": 53,
     "metadata": {},
     "output_type": "execute_result"
    }
   ],
   "source": [
    "s1 + s2"
   ]
  },
  {
   "cell_type": "code",
   "execution_count": 54,
   "id": "e48426ca",
   "metadata": {
    "ExecuteTime": {
     "end_time": "2022-07-03T15:42:58.096836Z",
     "start_time": "2022-07-03T15:42:58.087837Z"
    }
   },
   "outputs": [
    {
     "data": {
      "text/plain": [
       "a     1\n",
       "b     4\n",
       "c     9\n",
       "d    16\n",
       "dtype: int64"
      ]
     },
     "execution_count": 54,
     "metadata": {},
     "output_type": "execute_result"
    }
   ],
   "source": [
    "# 산술 연산\n",
    "# Series의 경우에도 스칼라와의 연산은 각 원소별로 스칼라와의 연산이 적용\n",
    "# Series와의 연산은 각 인덱스에 맞는값끼리 연산이 적용\n",
    "\n",
    "s1 ** 2"
   ]
  },
  {
   "cell_type": "code",
   "execution_count": 55,
   "id": "b7898f7e",
   "metadata": {
    "ExecuteTime": {
     "end_time": "2022-07-03T15:43:20.747585Z",
     "start_time": "2022-07-03T15:43:20.735584Z"
    },
    "scrolled": true
   },
   "outputs": [
    {
     "data": {
      "text/plain": [
       "a       1\n",
       "b       4\n",
       "c      27\n",
       "d    4096\n",
       "dtype: int64"
      ]
     },
     "execution_count": 55,
     "metadata": {},
     "output_type": "execute_result"
    }
   ],
   "source": [
    "s1 ** s2"
   ]
  },
  {
   "cell_type": "code",
   "execution_count": 56,
   "id": "03eb5ec5",
   "metadata": {
    "ExecuteTime": {
     "end_time": "2022-07-03T15:43:54.412176Z",
     "start_time": "2022-07-03T15:43:54.409175Z"
    }
   },
   "outputs": [],
   "source": [
    "# index pair가 맞지 않는 경우\n",
    "# 해당 index에 대해선 NaN값 생성"
   ]
  },
  {
   "cell_type": "code",
   "execution_count": 57,
   "id": "2000c6fe",
   "metadata": {
    "ExecuteTime": {
     "end_time": "2022-07-03T15:44:13.080822Z",
     "start_time": "2022-07-03T15:44:13.063815Z"
    }
   },
   "outputs": [],
   "source": [
    "s1['k'] = 7\n",
    "s2['e'] = 9"
   ]
  },
  {
   "cell_type": "code",
   "execution_count": 58,
   "id": "337226f3",
   "metadata": {
    "ExecuteTime": {
     "end_time": "2022-07-03T15:44:14.310461Z",
     "start_time": "2022-07-03T15:44:14.303461Z"
    }
   },
   "outputs": [
    {
     "data": {
      "text/plain": [
       "a    1\n",
       "b    2\n",
       "c    3\n",
       "d    4\n",
       "k    7\n",
       "dtype: int64"
      ]
     },
     "execution_count": 58,
     "metadata": {},
     "output_type": "execute_result"
    }
   ],
   "source": [
    "s1"
   ]
  },
  {
   "cell_type": "code",
   "execution_count": 59,
   "id": "63d044f0",
   "metadata": {
    "ExecuteTime": {
     "end_time": "2022-07-03T15:44:16.290569Z",
     "start_time": "2022-07-03T15:44:16.279570Z"
    }
   },
   "outputs": [
    {
     "data": {
      "text/plain": [
       "d    6\n",
       "c    3\n",
       "b    2\n",
       "a    1\n",
       "e    9\n",
       "dtype: int64"
      ]
     },
     "execution_count": 59,
     "metadata": {},
     "output_type": "execute_result"
    }
   ],
   "source": [
    "s2"
   ]
  },
  {
   "cell_type": "code",
   "execution_count": 60,
   "id": "eb536fa6",
   "metadata": {
    "ExecuteTime": {
     "end_time": "2022-07-03T15:44:23.973655Z",
     "start_time": "2022-07-03T15:44:23.967654Z"
    }
   },
   "outputs": [
    {
     "data": {
      "text/plain": [
       "a       1.0\n",
       "b       4.0\n",
       "c      27.0\n",
       "d    4096.0\n",
       "e       NaN\n",
       "k       NaN\n",
       "dtype: float64"
      ]
     },
     "execution_count": 60,
     "metadata": {},
     "output_type": "execute_result"
    }
   ],
   "source": [
    "s1 ** s2"
   ]
  },
  {
   "cell_type": "code",
   "execution_count": null,
   "id": "b23134b0",
   "metadata": {},
   "outputs": [],
   "source": []
  }
 ],
 "metadata": {
  "hide_input": false,
  "kernelspec": {
   "display_name": "Python 3 (ipykernel)",
   "language": "python",
   "name": "python3"
  },
  "language_info": {
   "codemirror_mode": {
    "name": "ipython",
    "version": 3
   },
   "file_extension": ".py",
   "mimetype": "text/x-python",
   "name": "python",
   "nbconvert_exporter": "python",
   "pygments_lexer": "ipython3",
   "version": "3.8.13"
  },
  "toc": {
   "base_numbering": 1,
   "nav_menu": {},
   "number_sections": true,
   "sideBar": true,
   "skip_h1_title": false,
   "title_cell": "Table of Contents",
   "title_sidebar": "Contents",
   "toc_cell": false,
   "toc_position": {
    "height": "calc(100% - 180px)",
    "left": "10px",
    "top": "150px",
    "width": "206.364px"
   },
   "toc_section_display": true,
   "toc_window_display": false
  },
  "varInspector": {
   "cols": {
    "lenName": 16,
    "lenType": 16,
    "lenVar": 40
   },
   "kernels_config": {
    "python": {
     "delete_cmd_postfix": "",
     "delete_cmd_prefix": "del ",
     "library": "var_list.py",
     "varRefreshCmd": "print(var_dic_list())"
    },
    "r": {
     "delete_cmd_postfix": ") ",
     "delete_cmd_prefix": "rm(",
     "library": "var_list.r",
     "varRefreshCmd": "cat(var_dic_list()) "
    }
   },
   "types_to_exclude": [
    "module",
    "function",
    "builtin_function_or_method",
    "instance",
    "_Feature"
   ],
   "window_display": false
  }
 },
 "nbformat": 4,
 "nbformat_minor": 5
}
