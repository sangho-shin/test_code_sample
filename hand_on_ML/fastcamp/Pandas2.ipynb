{
 "cells": [
  {
   "cell_type": "markdown",
   "id": "2bb67adc",
   "metadata": {},
   "source": [
    "# Series 데이터 Boolean Selection으로 데이터 선택하기\n"
   ]
  },
  {
   "cell_type": "code",
   "execution_count": 2,
   "id": "2c62296b",
   "metadata": {
    "ExecuteTime": {
     "end_time": "2022-07-03T15:45:53.397963Z",
     "start_time": "2022-07-03T15:45:53.126894Z"
    }
   },
   "outputs": [],
   "source": [
    "import numpy as np\n",
    "import pandas as pd"
   ]
  },
  {
   "cell_type": "code",
   "execution_count": 3,
   "id": "ad0cb2a2",
   "metadata": {
    "ExecuteTime": {
     "end_time": "2022-07-03T15:46:48.693476Z",
     "start_time": "2022-07-03T15:46:48.680478Z"
    }
   },
   "outputs": [],
   "source": [
    "# boolean Series가 [] 와 함께 사용되면 True값에 해당하는 값만 새로 반환되는 Series 객체에 포함됨\n",
    "# 다중조건의 경우 , &(and), |(or)를 사용하여 연결 가능"
   ]
  },
  {
   "cell_type": "code",
   "execution_count": 4,
   "id": "9c675a0a",
   "metadata": {
    "ExecuteTime": {
     "end_time": "2022-07-03T15:47:10.981383Z",
     "start_time": "2022-07-03T15:47:10.961387Z"
    }
   },
   "outputs": [
    {
     "data": {
      "text/plain": [
       "1     0\n",
       "2     1\n",
       "3     2\n",
       "4     3\n",
       "5     4\n",
       "6     5\n",
       "7     6\n",
       "8     7\n",
       "9     8\n",
       "10    9\n",
       "dtype: int32"
      ]
     },
     "execution_count": 4,
     "metadata": {},
     "output_type": "execute_result"
    }
   ],
   "source": [
    "s = pd.Series(np.arange(10), np.arange(10)+1)\n",
    "s"
   ]
  },
  {
   "cell_type": "code",
   "execution_count": 5,
   "id": "26ba0959",
   "metadata": {
    "ExecuteTime": {
     "end_time": "2022-07-03T15:47:19.343198Z",
     "start_time": "2022-07-03T15:47:19.335198Z"
    }
   },
   "outputs": [
    {
     "data": {
      "text/plain": [
       "1     False\n",
       "2     False\n",
       "3     False\n",
       "4     False\n",
       "5     False\n",
       "6     False\n",
       "7      True\n",
       "8      True\n",
       "9      True\n",
       "10     True\n",
       "dtype: bool"
      ]
     },
     "execution_count": 5,
     "metadata": {},
     "output_type": "execute_result"
    }
   ],
   "source": [
    "s > 5"
   ]
  },
  {
   "cell_type": "code",
   "execution_count": 6,
   "id": "0a154f26",
   "metadata": {
    "ExecuteTime": {
     "end_time": "2022-07-03T15:47:50.829006Z",
     "start_time": "2022-07-03T15:47:50.815008Z"
    }
   },
   "outputs": [
    {
     "data": {
      "text/plain": [
       "7     6\n",
       "8     7\n",
       "9     8\n",
       "10    9\n",
       "dtype: int32"
      ]
     },
     "execution_count": 6,
     "metadata": {},
     "output_type": "execute_result"
    }
   ],
   "source": [
    "s[s>5]"
   ]
  },
  {
   "cell_type": "code",
   "execution_count": 7,
   "id": "a010e18f",
   "metadata": {
    "ExecuteTime": {
     "end_time": "2022-07-03T15:48:16.719347Z",
     "start_time": "2022-07-03T15:48:16.710344Z"
    }
   },
   "outputs": [
    {
     "data": {
      "text/plain": [
       "1      True\n",
       "2     False\n",
       "3      True\n",
       "4     False\n",
       "5      True\n",
       "6     False\n",
       "7      True\n",
       "8     False\n",
       "9      True\n",
       "10    False\n",
       "dtype: bool"
      ]
     },
     "execution_count": 7,
     "metadata": {},
     "output_type": "execute_result"
    }
   ],
   "source": [
    "s % 2 == 0"
   ]
  },
  {
   "cell_type": "code",
   "execution_count": 8,
   "id": "c29deb1b",
   "metadata": {
    "ExecuteTime": {
     "end_time": "2022-07-03T15:48:27.318885Z",
     "start_time": "2022-07-03T15:48:27.310886Z"
    }
   },
   "outputs": [
    {
     "data": {
      "text/plain": [
       "1    0\n",
       "3    2\n",
       "5    4\n",
       "7    6\n",
       "9    8\n",
       "dtype: int32"
      ]
     },
     "execution_count": 8,
     "metadata": {},
     "output_type": "execute_result"
    }
   ],
   "source": [
    "s[s%2==0]"
   ]
  },
  {
   "cell_type": "code",
   "execution_count": 9,
   "id": "3bf60fc5",
   "metadata": {
    "ExecuteTime": {
     "end_time": "2022-07-03T15:48:44.927054Z",
     "start_time": "2022-07-03T15:48:44.911543Z"
    }
   },
   "outputs": [
    {
     "data": {
      "text/plain": [
       "1     0\n",
       "2     1\n",
       "3     2\n",
       "4     3\n",
       "5     4\n",
       "6     5\n",
       "7     6\n",
       "8     7\n",
       "9     8\n",
       "10    9\n",
       "dtype: int32"
      ]
     },
     "execution_count": 9,
     "metadata": {},
     "output_type": "execute_result"
    }
   ],
   "source": [
    "s"
   ]
  },
  {
   "cell_type": "code",
   "execution_count": 10,
   "id": "3efebd59",
   "metadata": {
    "ExecuteTime": {
     "end_time": "2022-07-03T15:49:00.826176Z",
     "start_time": "2022-07-03T15:49:00.807177Z"
    }
   },
   "outputs": [
    {
     "data": {
      "text/plain": [
       "array([False, False, False, False, False,  True,  True,  True,  True,\n",
       "        True])"
      ]
     },
     "execution_count": 10,
     "metadata": {},
     "output_type": "execute_result"
    }
   ],
   "source": [
    "s.index > 5"
   ]
  },
  {
   "cell_type": "code",
   "execution_count": 11,
   "id": "734abd9c",
   "metadata": {
    "ExecuteTime": {
     "end_time": "2022-07-03T15:49:15.714424Z",
     "start_time": "2022-07-03T15:49:15.710425Z"
    }
   },
   "outputs": [
    {
     "data": {
      "text/plain": [
       "6     5\n",
       "7     6\n",
       "8     7\n",
       "9     8\n",
       "10    9\n",
       "dtype: int32"
      ]
     },
     "execution_count": 11,
     "metadata": {},
     "output_type": "execute_result"
    }
   ],
   "source": [
    "s[s.index > 5]"
   ]
  },
  {
   "cell_type": "code",
   "execution_count": 13,
   "id": "49332cc4",
   "metadata": {
    "ExecuteTime": {
     "end_time": "2022-07-03T15:50:33.753380Z",
     "start_time": "2022-07-03T15:50:33.735375Z"
    }
   },
   "outputs": [
    {
     "data": {
      "text/plain": [
       "1     False\n",
       "2     False\n",
       "3     False\n",
       "4     False\n",
       "5     False\n",
       "6     False\n",
       "7      True\n",
       "8      True\n",
       "9     False\n",
       "10    False\n",
       "dtype: bool"
      ]
     },
     "execution_count": 13,
     "metadata": {},
     "output_type": "execute_result"
    }
   ],
   "source": [
    "(s > 5) & (s < 8)"
   ]
  },
  {
   "cell_type": "code",
   "execution_count": 14,
   "id": "da11db20",
   "metadata": {
    "ExecuteTime": {
     "end_time": "2022-07-03T15:50:45.055567Z",
     "start_time": "2022-07-03T15:50:45.046569Z"
    }
   },
   "outputs": [
    {
     "data": {
      "text/plain": [
       "7    6\n",
       "8    7\n",
       "dtype: int32"
      ]
     },
     "execution_count": 14,
     "metadata": {},
     "output_type": "execute_result"
    }
   ],
   "source": [
    "s[(s > 5) & (s < 8)]"
   ]
  },
  {
   "cell_type": "code",
   "execution_count": 15,
   "id": "fb645dc9",
   "metadata": {
    "ExecuteTime": {
     "end_time": "2022-07-03T15:51:49.014493Z",
     "start_time": "2022-07-03T15:51:48.999492Z"
    }
   },
   "outputs": [
    {
     "data": {
      "text/plain": [
       "3"
      ]
     },
     "execution_count": 15,
     "metadata": {},
     "output_type": "execute_result"
    }
   ],
   "source": [
    "(s >= 7).sum()"
   ]
  },
  {
   "cell_type": "code",
   "execution_count": 16,
   "id": "3c1b47c5",
   "metadata": {
    "ExecuteTime": {
     "end_time": "2022-07-03T15:52:07.420712Z",
     "start_time": "2022-07-03T15:52:07.406710Z"
    }
   },
   "outputs": [
    {
     "data": {
      "text/plain": [
       "24"
      ]
     },
     "execution_count": 16,
     "metadata": {},
     "output_type": "execute_result"
    }
   ],
   "source": [
    "(s[s>=7]).sum()"
   ]
  },
  {
   "cell_type": "markdown",
   "id": "5b3b72ea",
   "metadata": {},
   "source": [
    "# Series 데이터 변경 & 슬라이싱하기"
   ]
  },
  {
   "cell_type": "code",
   "execution_count": null,
   "id": "86996ced",
   "metadata": {},
   "outputs": [],
   "source": []
  }
 ],
 "metadata": {
  "hide_input": false,
  "kernelspec": {
   "display_name": "Python 3 (ipykernel)",
   "language": "python",
   "name": "python3"
  },
  "language_info": {
   "codemirror_mode": {
    "name": "ipython",
    "version": 3
   },
   "file_extension": ".py",
   "mimetype": "text/x-python",
   "name": "python",
   "nbconvert_exporter": "python",
   "pygments_lexer": "ipython3",
   "version": "3.8.13"
  },
  "toc": {
   "base_numbering": 1,
   "nav_menu": {},
   "number_sections": true,
   "sideBar": true,
   "skip_h1_title": false,
   "title_cell": "Table of Contents",
   "title_sidebar": "Contents",
   "toc_cell": false,
   "toc_position": {},
   "toc_section_display": true,
   "toc_window_display": false
  },
  "varInspector": {
   "cols": {
    "lenName": 16,
    "lenType": 16,
    "lenVar": 40
   },
   "kernels_config": {
    "python": {
     "delete_cmd_postfix": "",
     "delete_cmd_prefix": "del ",
     "library": "var_list.py",
     "varRefreshCmd": "print(var_dic_list())"
    },
    "r": {
     "delete_cmd_postfix": ") ",
     "delete_cmd_prefix": "rm(",
     "library": "var_list.r",
     "varRefreshCmd": "cat(var_dic_list()) "
    }
   },
   "types_to_exclude": [
    "module",
    "function",
    "builtin_function_or_method",
    "instance",
    "_Feature"
   ],
   "window_display": false
  }
 },
 "nbformat": 4,
 "nbformat_minor": 5
}
