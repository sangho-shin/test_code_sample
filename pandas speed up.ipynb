{
 "cells": [
  {
   "cell_type": "code",
   "execution_count": 6,
   "id": "520155f7",
   "metadata": {},
   "outputs": [
    {
     "name": "stdout",
     "output_type": "stream",
     "text": [
      "{'DB_POOL_RECYCLE': 900, 'DB_ECGO': True, 'PROJ_RELOAD': True}\n",
      "<class 'dict'>\n",
      "{'DB_POOL_RECYCLE': 900, 'DB_ECGO': True, 'PROJ_RELOAD': True}\n"
     ]
    }
   ],
   "source": [
    "from dataclasses import dataclass, asdict\n",
    "from os import path, environ\n",
    "\n",
    "base_dir = \"11\"\n",
    "\n",
    "@dataclass\n",
    "class Config:\n",
    "    BASE_DIR = base_dir\n",
    "    \n",
    "    DB_POOL_RECYCLE:int = 900\n",
    "    DB_ECGO: bool = True\n",
    "        \n",
    "        \n",
    "@dataclass\n",
    "class LocalConfig(Config):\n",
    "    PROJ_RELOAD: bool = True\n",
    "        \n",
    "        \n",
    "def conf():    \n",
    "    config = dict(local=LocalConfig())\n",
    "    return config.get(environ.get(\"API_ENV\", \"local\"))\n",
    "    \n",
    "print(asdict(LocalConfig()))\n",
    "print(type(asdict(LocalConfig())))\n",
    "print(asdict(conf()))"
   ]
  },
  {
   "cell_type": "code",
   "execution_count": 119,
   "id": "637b3e90",
   "metadata": {},
   "outputs": [
    {
     "data": {
      "text/plain": [
       "(<Statement 'SELECT...' at 0x23B9C3BFD80>,)"
      ]
     },
     "execution_count": 119,
     "metadata": {},
     "output_type": "execute_result"
    }
   ],
   "source": [
    "import pandas as pd \n",
    "\n",
    "\n",
    "df = pd.read_parquet('../parquet/export_ae_db_sql_text_220822.parquet')\n",
    "\n",
    "sqlparse.parse(df['sql_text'][0])"
   ]
  },
  {
   "cell_type": "code",
   "execution_count": 11,
   "id": "7071b52a",
   "metadata": {
    "scrolled": true
   },
   "outputs": [
    {
     "data": {
      "text/html": [
       "<div>\n",
       "<style scoped>\n",
       "    .dataframe tbody tr th:only-of-type {\n",
       "        vertical-align: middle;\n",
       "    }\n",
       "\n",
       "    .dataframe tbody tr th {\n",
       "        vertical-align: top;\n",
       "    }\n",
       "\n",
       "    .dataframe thead th {\n",
       "        text-align: right;\n",
       "    }\n",
       "</style>\n",
       "<table border=\"1\" class=\"dataframe\">\n",
       "  <thead>\n",
       "    <tr style=\"text-align: right;\">\n",
       "      <th></th>\n",
       "      <th>sql_uid</th>\n",
       "      <th>partition_key</th>\n",
       "      <th>sql_text</th>\n",
       "      <th>total_len</th>\n",
       "      <th>first_token</th>\n",
       "      <th>last_token_len</th>\n",
       "      <th>last_token</th>\n",
       "    </tr>\n",
       "  </thead>\n",
       "  <tbody>\n",
       "    <tr>\n",
       "      <th>0</th>\n",
       "      <td>00FE5BE090A6A5CFE73944A89D695BF4FD27DD4D</td>\n",
       "      <td>220822001</td>\n",
       "      <td>SELECT /*+ INDEX (\"C\" \"PK_CBIDEPART\") */ \"DEPT...</td>\n",
       "      <td>10</td>\n",
       "      <td>SELECT</td>\n",
       "      <td>7</td>\n",
       "      <td>WHERE \"DEPT_CD\"='RM' AND \"BSNS_CD\"='11'</td>\n",
       "    </tr>\n",
       "    <tr>\n",
       "      <th>1</th>\n",
       "      <td>012C100B63F7159470F1AC5AD06C3CC474674190</td>\n",
       "      <td>220822001</td>\n",
       "      <td>select              pt_acpt_dte             , ...</td>\n",
       "      <td>38</td>\n",
       "      <td>select</td>\n",
       "      <td>3</td>\n",
       "      <td>update_dte desc</td>\n",
       "    </tr>\n",
       "    <tr>\n",
       "      <th>2</th>\n",
       "      <td>0501DDB9936D4F0A62BC105830EA85A5A289EF0E</td>\n",
       "      <td>220822001</td>\n",
       "      <td>Begin PG_MOD_DschOrder.Proc_SetDschOrder(in_mo...</td>\n",
       "      <td>5</td>\n",
       "      <td>Begin</td>\n",
       "      <td>1</td>\n",
       "      <td></td>\n",
       "    </tr>\n",
       "    <tr>\n",
       "      <th>3</th>\n",
       "      <td>0700C094781564AAF019CE7306B3BB814714F634</td>\n",
       "      <td>220822001</td>\n",
       "      <td>SELECT SPC_CD SPC_CD, SPC_NAME SPC_NM FROM SLA...</td>\n",
       "      <td>11</td>\n",
       "      <td>SELECT</td>\n",
       "      <td>1</td>\n",
       "      <td>1</td>\n",
       "    </tr>\n",
       "    <tr>\n",
       "      <th>4</th>\n",
       "      <td>082428AC74AA6E780075E1A8C4E2FE4A84BB5FFF</td>\n",
       "      <td>220822001</td>\n",
       "      <td>select   a.med_rcd_iddoctor_note_id,   a.RELEA...</td>\n",
       "      <td>15</td>\n",
       "      <td>select</td>\n",
       "      <td>8</td>\n",
       "      <td>where a.med_rcd_id In(2022123157, 2022123154, ...</td>\n",
       "    </tr>\n",
       "  </tbody>\n",
       "</table>\n",
       "</div>"
      ],
      "text/plain": [
       "                                    sql_uid  partition_key  \\\n",
       "0  00FE5BE090A6A5CFE73944A89D695BF4FD27DD4D      220822001   \n",
       "1  012C100B63F7159470F1AC5AD06C3CC474674190      220822001   \n",
       "2  0501DDB9936D4F0A62BC105830EA85A5A289EF0E      220822001   \n",
       "3  0700C094781564AAF019CE7306B3BB814714F634      220822001   \n",
       "4  082428AC74AA6E780075E1A8C4E2FE4A84BB5FFF      220822001   \n",
       "\n",
       "                                            sql_text  total_len first_token  \\\n",
       "0  SELECT /*+ INDEX (\"C\" \"PK_CBIDEPART\") */ \"DEPT...         10      SELECT   \n",
       "1  select              pt_acpt_dte             , ...         38      select   \n",
       "2  Begin PG_MOD_DschOrder.Proc_SetDschOrder(in_mo...          5       Begin   \n",
       "3  SELECT SPC_CD SPC_CD, SPC_NAME SPC_NM FROM SLA...         11      SELECT   \n",
       "4  select   a.med_rcd_iddoctor_note_id,   a.RELEA...         15      select   \n",
       "\n",
       "   last_token_len                                         last_token  \n",
       "0               7            WHERE \"DEPT_CD\"='RM' AND \"BSNS_CD\"='11'  \n",
       "1               3                                    update_dte desc  \n",
       "2               1                                                     \n",
       "3               1                                                  1  \n",
       "4               8  where a.med_rcd_id In(2022123157, 2022123154, ...  "
      ]
     },
     "execution_count": 11,
     "metadata": {},
     "output_type": "execute_result"
    }
   ],
   "source": [
    "df.head()"
   ]
  },
  {
   "cell_type": "code",
   "execution_count": 105,
   "id": "b47ceac4",
   "metadata": {},
   "outputs": [],
   "source": [
    "import re \n",
    "import sqlparse\n",
    "\n",
    "def _remove_unnecess_char(df):\n",
    "    repls = {r'\\\\t': '', r'\\\\n': '', r'\\\\r': '', '\\t': '', '\\n': '', '\\r': ''}\n",
    "    rep = dict((re.escape(k), v) for k, v in repls.items())\n",
    "    pattern = re.compile(\"|\".join(rep.keys()))\n",
    "\n",
    "    df['sql_text'] = df['sql_text'].apply(\n",
    "        lambda x: pattern.sub(lambda m: rep[re.escape(m.group(0))], x)\n",
    "    )\n",
    "    return df\n",
    "    \n"
   ]
  },
  {
   "cell_type": "code",
   "execution_count": 124,
   "id": "ffcb19ec",
   "metadata": {},
   "outputs": [],
   "source": [
    "def _parse_sql_text(df):\n",
    "    df['p_sql_text'] = df['sql_text'].apply(\n",
    "        lambda x: sqlparse.parse(\n",
    "            x\n",
    "            # sqlparse.format(x, keyword_case='upper', identifier_case='upper', strip_comments=True)\n",
    "        )\n",
    "    )\n",
    "    return df\n",
    "\n",
    "def _new_parse_sql_text(df):\n",
    "    df['p_sql_text'] = pd.Series([list(sqlparse.parse(text)) for text in zip(df['sql_text'])])\n",
    "    return df\n",
    "\n",
    "def _set_token_compare_info(df):\n",
    "    df['total_len'] = df['p_sql_text'].apply(\n",
    "        lambda x: len(x[0].tokens)\n",
    "    )\n",
    "    df['first_token'] = df['p_sql_text'].apply(\n",
    "        lambda x: str(x[0].tokens[0])\n",
    "    )\n",
    "    df['last_token_len'] = df['p_sql_text'].apply(\n",
    "        lambda x: len(x[0].tokens[-1].tokens) if getattr(x[0].tokens[-1], 'tokens', False) else 1\n",
    "    )\n",
    "    df['last_token'] = df['p_sql_text'].apply(\n",
    "        lambda x: str(x[0].tokens[-1])\n",
    "    )\n",
    "    # df['sql_text'] = df[target_c].apply(\n",
    "    #     self._tokens_flatten\n",
    "    # )\n",
    "    return df\n",
    "\n",
    "def _preprocessing(df):\n",
    "        \n",
    "#     df = _remove_unnecess_char(df)\n",
    "    df = _new_parse_sql_text(df)\n",
    "#     df = _set_token_compare_info(df)\n",
    "    return df\n"
   ]
  },
  {
   "cell_type": "code",
   "execution_count": 125,
   "id": "0b37e013",
   "metadata": {},
   "outputs": [
    {
     "ename": "TypeError",
     "evalue": "Expected text or file-like object, got <class 'tuple'>",
     "output_type": "error",
     "traceback": [
      "\u001b[1;31m---------------------------------------------------------------------------\u001b[0m",
      "\u001b[1;31mTypeError\u001b[0m                                 Traceback (most recent call last)",
      "Cell \u001b[1;32mIn[125], line 3\u001b[0m\n\u001b[0;32m      1\u001b[0m df \u001b[38;5;241m=\u001b[39m pd\u001b[38;5;241m.\u001b[39mread_parquet(\u001b[38;5;124m'\u001b[39m\u001b[38;5;124m../parquet/export_ae_db_sql_text_220826.parquet\u001b[39m\u001b[38;5;124m'\u001b[39m)\n\u001b[1;32m----> 3\u001b[0m \u001b[43mget_ipython\u001b[49m\u001b[43m(\u001b[49m\u001b[43m)\u001b[49m\u001b[38;5;241;43m.\u001b[39;49m\u001b[43mrun_line_magic\u001b[49m\u001b[43m(\u001b[49m\u001b[38;5;124;43m'\u001b[39;49m\u001b[38;5;124;43mtimeit\u001b[39;49m\u001b[38;5;124;43m'\u001b[39;49m\u001b[43m,\u001b[49m\u001b[43m \u001b[49m\u001b[38;5;124;43m'\u001b[39;49m\u001b[38;5;124;43m_preprocessing(df[:100])\u001b[39;49m\u001b[38;5;124;43m'\u001b[39;49m\u001b[43m)\u001b[49m\n",
      "File \u001b[1;32m~\\anaconda3\\envs\\data_analyzer\\lib\\site-packages\\IPython\\core\\interactiveshell.py:2364\u001b[0m, in \u001b[0;36mInteractiveShell.run_line_magic\u001b[1;34m(self, magic_name, line, _stack_depth)\u001b[0m\n\u001b[0;32m   2362\u001b[0m     kwargs[\u001b[38;5;124m'\u001b[39m\u001b[38;5;124mlocal_ns\u001b[39m\u001b[38;5;124m'\u001b[39m] \u001b[38;5;241m=\u001b[39m \u001b[38;5;28mself\u001b[39m\u001b[38;5;241m.\u001b[39mget_local_scope(stack_depth)\n\u001b[0;32m   2363\u001b[0m \u001b[38;5;28;01mwith\u001b[39;00m \u001b[38;5;28mself\u001b[39m\u001b[38;5;241m.\u001b[39mbuiltin_trap:\n\u001b[1;32m-> 2364\u001b[0m     result \u001b[38;5;241m=\u001b[39m fn(\u001b[38;5;241m*\u001b[39margs, \u001b[38;5;241m*\u001b[39m\u001b[38;5;241m*\u001b[39mkwargs)\n\u001b[0;32m   2365\u001b[0m \u001b[38;5;28;01mreturn\u001b[39;00m result\n",
      "File \u001b[1;32m~\\anaconda3\\envs\\data_analyzer\\lib\\site-packages\\IPython\\core\\magics\\execution.py:1162\u001b[0m, in \u001b[0;36mExecutionMagics.timeit\u001b[1;34m(self, line, cell, local_ns)\u001b[0m\n\u001b[0;32m   1160\u001b[0m \u001b[38;5;28;01mfor\u001b[39;00m index \u001b[38;5;129;01min\u001b[39;00m \u001b[38;5;28mrange\u001b[39m(\u001b[38;5;241m0\u001b[39m, \u001b[38;5;241m10\u001b[39m):\n\u001b[0;32m   1161\u001b[0m     number \u001b[38;5;241m=\u001b[39m \u001b[38;5;241m10\u001b[39m \u001b[38;5;241m*\u001b[39m\u001b[38;5;241m*\u001b[39m index\n\u001b[1;32m-> 1162\u001b[0m     time_number \u001b[38;5;241m=\u001b[39m \u001b[43mtimer\u001b[49m\u001b[38;5;241;43m.\u001b[39;49m\u001b[43mtimeit\u001b[49m\u001b[43m(\u001b[49m\u001b[43mnumber\u001b[49m\u001b[43m)\u001b[49m\n\u001b[0;32m   1163\u001b[0m     \u001b[38;5;28;01mif\u001b[39;00m time_number \u001b[38;5;241m>\u001b[39m\u001b[38;5;241m=\u001b[39m \u001b[38;5;241m0.2\u001b[39m:\n\u001b[0;32m   1164\u001b[0m         \u001b[38;5;28;01mbreak\u001b[39;00m\n",
      "File \u001b[1;32m~\\anaconda3\\envs\\data_analyzer\\lib\\site-packages\\IPython\\core\\magics\\execution.py:156\u001b[0m, in \u001b[0;36mTimer.timeit\u001b[1;34m(self, number)\u001b[0m\n\u001b[0;32m    154\u001b[0m gc\u001b[38;5;241m.\u001b[39mdisable()\n\u001b[0;32m    155\u001b[0m \u001b[38;5;28;01mtry\u001b[39;00m:\n\u001b[1;32m--> 156\u001b[0m     timing \u001b[38;5;241m=\u001b[39m \u001b[38;5;28;43mself\u001b[39;49m\u001b[38;5;241;43m.\u001b[39;49m\u001b[43minner\u001b[49m\u001b[43m(\u001b[49m\u001b[43mit\u001b[49m\u001b[43m,\u001b[49m\u001b[43m \u001b[49m\u001b[38;5;28;43mself\u001b[39;49m\u001b[38;5;241;43m.\u001b[39;49m\u001b[43mtimer\u001b[49m\u001b[43m)\u001b[49m\n\u001b[0;32m    157\u001b[0m \u001b[38;5;28;01mfinally\u001b[39;00m:\n\u001b[0;32m    158\u001b[0m     \u001b[38;5;28;01mif\u001b[39;00m gcold:\n",
      "File \u001b[1;32m<magic-timeit>:1\u001b[0m, in \u001b[0;36minner\u001b[1;34m(_it, _timer)\u001b[0m\n",
      "Cell \u001b[1;32mIn[124], line 35\u001b[0m, in \u001b[0;36m_preprocessing\u001b[1;34m(df)\u001b[0m\n\u001b[0;32m     32\u001b[0m \u001b[38;5;28;01mdef\u001b[39;00m \u001b[38;5;21m_preprocessing\u001b[39m(df):\n\u001b[0;32m     33\u001b[0m         \n\u001b[0;32m     34\u001b[0m \u001b[38;5;66;03m#     df = _remove_unnecess_char(df)\u001b[39;00m\n\u001b[1;32m---> 35\u001b[0m     df \u001b[38;5;241m=\u001b[39m \u001b[43m_new_parse_sql_text\u001b[49m\u001b[43m(\u001b[49m\u001b[43mdf\u001b[49m\u001b[43m)\u001b[49m\n\u001b[0;32m     36\u001b[0m \u001b[38;5;66;03m#     df = _set_token_compare_info(df)\u001b[39;00m\n\u001b[0;32m     37\u001b[0m     \u001b[38;5;28;01mreturn\u001b[39;00m df\n",
      "Cell \u001b[1;32mIn[124], line 11\u001b[0m, in \u001b[0;36m_new_parse_sql_text\u001b[1;34m(df)\u001b[0m\n\u001b[0;32m     10\u001b[0m \u001b[38;5;28;01mdef\u001b[39;00m \u001b[38;5;21m_new_parse_sql_text\u001b[39m(df):\n\u001b[1;32m---> 11\u001b[0m     df[\u001b[38;5;124m'\u001b[39m\u001b[38;5;124mp_sql_text\u001b[39m\u001b[38;5;124m'\u001b[39m] \u001b[38;5;241m=\u001b[39m pd\u001b[38;5;241m.\u001b[39mSeries([\u001b[38;5;28mlist\u001b[39m(sqlparse\u001b[38;5;241m.\u001b[39mparse(text)) \u001b[38;5;28;01mfor\u001b[39;00m text \u001b[38;5;129;01min\u001b[39;00m \u001b[38;5;28mzip\u001b[39m(df[\u001b[38;5;124m'\u001b[39m\u001b[38;5;124msql_text\u001b[39m\u001b[38;5;124m'\u001b[39m])])\n\u001b[0;32m     12\u001b[0m     \u001b[38;5;28;01mreturn\u001b[39;00m df\n",
      "Cell \u001b[1;32mIn[124], line 11\u001b[0m, in \u001b[0;36m<listcomp>\u001b[1;34m(.0)\u001b[0m\n\u001b[0;32m     10\u001b[0m \u001b[38;5;28;01mdef\u001b[39;00m \u001b[38;5;21m_new_parse_sql_text\u001b[39m(df):\n\u001b[1;32m---> 11\u001b[0m     df[\u001b[38;5;124m'\u001b[39m\u001b[38;5;124mp_sql_text\u001b[39m\u001b[38;5;124m'\u001b[39m] \u001b[38;5;241m=\u001b[39m pd\u001b[38;5;241m.\u001b[39mSeries([\u001b[38;5;28mlist\u001b[39m(\u001b[43msqlparse\u001b[49m\u001b[38;5;241;43m.\u001b[39;49m\u001b[43mparse\u001b[49m\u001b[43m(\u001b[49m\u001b[43mtext\u001b[49m\u001b[43m)\u001b[49m) \u001b[38;5;28;01mfor\u001b[39;00m text \u001b[38;5;129;01min\u001b[39;00m \u001b[38;5;28mzip\u001b[39m(df[\u001b[38;5;124m'\u001b[39m\u001b[38;5;124msql_text\u001b[39m\u001b[38;5;124m'\u001b[39m])])\n\u001b[0;32m     12\u001b[0m     \u001b[38;5;28;01mreturn\u001b[39;00m df\n",
      "File \u001b[1;32m~\\anaconda3\\envs\\data_analyzer\\lib\\site-packages\\sqlparse\\__init__.py:30\u001b[0m, in \u001b[0;36mparse\u001b[1;34m(sql, encoding)\u001b[0m\n\u001b[0;32m     23\u001b[0m \u001b[38;5;28;01mdef\u001b[39;00m \u001b[38;5;21mparse\u001b[39m(sql, encoding\u001b[38;5;241m=\u001b[39m\u001b[38;5;28;01mNone\u001b[39;00m):\n\u001b[0;32m     24\u001b[0m     \u001b[38;5;124;03m\"\"\"Parse sql and return a list of statements.\u001b[39;00m\n\u001b[0;32m     25\u001b[0m \n\u001b[0;32m     26\u001b[0m \u001b[38;5;124;03m    :param sql: A string containing one or more SQL statements.\u001b[39;00m\n\u001b[0;32m     27\u001b[0m \u001b[38;5;124;03m    :param encoding: The encoding of the statement (optional).\u001b[39;00m\n\u001b[0;32m     28\u001b[0m \u001b[38;5;124;03m    :returns: A tuple of :class:`~sqlparse.sql.Statement` instances.\u001b[39;00m\n\u001b[0;32m     29\u001b[0m \u001b[38;5;124;03m    \"\"\"\u001b[39;00m\n\u001b[1;32m---> 30\u001b[0m     \u001b[38;5;28;01mreturn\u001b[39;00m \u001b[38;5;28;43mtuple\u001b[39;49m\u001b[43m(\u001b[49m\u001b[43mparsestream\u001b[49m\u001b[43m(\u001b[49m\u001b[43msql\u001b[49m\u001b[43m,\u001b[49m\u001b[43m \u001b[49m\u001b[43mencoding\u001b[49m\u001b[43m)\u001b[49m\u001b[43m)\u001b[49m\n",
      "File \u001b[1;32m~\\anaconda3\\envs\\data_analyzer\\lib\\site-packages\\sqlparse\\engine\\filter_stack.py:34\u001b[0m, in \u001b[0;36mFilterStack.run\u001b[1;34m(self, sql, encoding)\u001b[0m\n\u001b[0;32m     31\u001b[0m stream \u001b[38;5;241m=\u001b[39m StatementSplitter()\u001b[38;5;241m.\u001b[39mprocess(stream)\n\u001b[0;32m     33\u001b[0m \u001b[38;5;66;03m# Output: Stream processed Statements\u001b[39;00m\n\u001b[1;32m---> 34\u001b[0m \u001b[38;5;28;01mfor\u001b[39;00m stmt \u001b[38;5;129;01min\u001b[39;00m stream:\n\u001b[0;32m     35\u001b[0m     \u001b[38;5;28;01mif\u001b[39;00m \u001b[38;5;28mself\u001b[39m\u001b[38;5;241m.\u001b[39m_grouping:\n\u001b[0;32m     36\u001b[0m         stmt \u001b[38;5;241m=\u001b[39m grouping\u001b[38;5;241m.\u001b[39mgroup(stmt)\n",
      "File \u001b[1;32m~\\anaconda3\\envs\\data_analyzer\\lib\\site-packages\\sqlparse\\engine\\statement_splitter.py:84\u001b[0m, in \u001b[0;36mStatementSplitter.process\u001b[1;34m(self, stream)\u001b[0m\n\u001b[0;32m     81\u001b[0m EOS_TTYPE \u001b[38;5;241m=\u001b[39m T\u001b[38;5;241m.\u001b[39mWhitespace, T\u001b[38;5;241m.\u001b[39mComment\u001b[38;5;241m.\u001b[39mSingle\n\u001b[0;32m     83\u001b[0m \u001b[38;5;66;03m# Run over all stream tokens\u001b[39;00m\n\u001b[1;32m---> 84\u001b[0m \u001b[38;5;28;01mfor\u001b[39;00m ttype, value \u001b[38;5;129;01min\u001b[39;00m stream:\n\u001b[0;32m     85\u001b[0m     \u001b[38;5;66;03m# Yield token if we finished a statement and there's no whitespaces\u001b[39;00m\n\u001b[0;32m     86\u001b[0m     \u001b[38;5;66;03m# It will count newline token as a non whitespace. In this context\u001b[39;00m\n\u001b[0;32m     87\u001b[0m     \u001b[38;5;66;03m# whitespace ignores newlines.\u001b[39;00m\n\u001b[0;32m     88\u001b[0m     \u001b[38;5;66;03m# why don't multi line comments also count?\u001b[39;00m\n\u001b[0;32m     89\u001b[0m     \u001b[38;5;28;01mif\u001b[39;00m \u001b[38;5;28mself\u001b[39m\u001b[38;5;241m.\u001b[39mconsume_ws \u001b[38;5;129;01mand\u001b[39;00m ttype \u001b[38;5;129;01mnot\u001b[39;00m \u001b[38;5;129;01min\u001b[39;00m EOS_TTYPE:\n\u001b[0;32m     90\u001b[0m         \u001b[38;5;28;01myield\u001b[39;00m sql\u001b[38;5;241m.\u001b[39mStatement(\u001b[38;5;28mself\u001b[39m\u001b[38;5;241m.\u001b[39mtokens)\n",
      "File \u001b[1;32m~\\anaconda3\\envs\\data_analyzer\\lib\\site-packages\\sqlparse\\lexer.py:55\u001b[0m, in \u001b[0;36mLexer.get_tokens\u001b[1;34m(text, encoding)\u001b[0m\n\u001b[0;32m     53\u001b[0m             text \u001b[38;5;241m=\u001b[39m text\u001b[38;5;241m.\u001b[39mdecode(\u001b[38;5;124m'\u001b[39m\u001b[38;5;124municode-escape\u001b[39m\u001b[38;5;124m'\u001b[39m)\n\u001b[0;32m     54\u001b[0m \u001b[38;5;28;01melse\u001b[39;00m:\n\u001b[1;32m---> 55\u001b[0m     \u001b[38;5;28;01mraise\u001b[39;00m \u001b[38;5;167;01mTypeError\u001b[39;00m(\u001b[38;5;124m\"\u001b[39m\u001b[38;5;124mExpected text or file-like object, got \u001b[39m\u001b[38;5;132;01m{!r}\u001b[39;00m\u001b[38;5;124m\"\u001b[39m\u001b[38;5;241m.\u001b[39m\n\u001b[0;32m     56\u001b[0m                     \u001b[38;5;28mformat\u001b[39m(\u001b[38;5;28mtype\u001b[39m(text)))\n\u001b[0;32m     58\u001b[0m iterable \u001b[38;5;241m=\u001b[39m \u001b[38;5;28menumerate\u001b[39m(text)\n\u001b[0;32m     59\u001b[0m \u001b[38;5;28;01mfor\u001b[39;00m pos, char \u001b[38;5;129;01min\u001b[39;00m iterable:\n",
      "\u001b[1;31mTypeError\u001b[0m: Expected text or file-like object, got <class 'tuple'>"
     ]
    }
   ],
   "source": [
    "df = pd.read_parquet('../parquet/export_ae_db_sql_text_220826.parquet')\n",
    "\n",
    "%timeit _preprocessing(df[:100])"
   ]
  },
  {
   "cell_type": "code",
   "execution_count": 86,
   "id": "5ea165fd",
   "metadata": {},
   "outputs": [],
   "source": [
    "\n",
    "df = pd.read_parquet('../parquet/export_ae_db_sql_text_220826.parquet')\n",
    "\n",
    "df = _remove_unnecess_char(df)\n",
    "\n"
   ]
  },
  {
   "cell_type": "code",
   "execution_count": 83,
   "id": "68862905",
   "metadata": {},
   "outputs": [
    {
     "name": "stdout",
     "output_type": "stream",
     "text": [
      "34.5 ms ± 4.3 ms per loop (mean ± std. dev. of 7 runs, 10 loops each)\n"
     ]
    }
   ],
   "source": [
    "%timeit df[:100]['sql_text'].str.split(\"\\s+\").count()"
   ]
  },
  {
   "cell_type": "code",
   "execution_count": 145,
   "id": "c165a4a7",
   "metadata": {},
   "outputs": [
    {
     "data": {
      "text/html": [
       "<div>\n",
       "<style scoped>\n",
       "    .dataframe tbody tr th:only-of-type {\n",
       "        vertical-align: middle;\n",
       "    }\n",
       "\n",
       "    .dataframe tbody tr th {\n",
       "        vertical-align: top;\n",
       "    }\n",
       "\n",
       "    .dataframe thead th {\n",
       "        text-align: right;\n",
       "    }\n",
       "</style>\n",
       "<table border=\"1\" class=\"dataframe\">\n",
       "  <thead>\n",
       "    <tr style=\"text-align: right;\">\n",
       "      <th></th>\n",
       "      <th>sql_uid</th>\n",
       "      <th>partition_key</th>\n",
       "      <th>sql_text</th>\n",
       "      <th>total_len</th>\n",
       "      <th>first_token</th>\n",
       "      <th>last_token_len</th>\n",
       "      <th>last_token</th>\n",
       "      <th>sp_sql_text</th>\n",
       "    </tr>\n",
       "  </thead>\n",
       "  <tbody>\n",
       "    <tr>\n",
       "      <th>0</th>\n",
       "      <td>09594BFBC46AA3C4921EB28E12923A974BF4FEBC</td>\n",
       "      <td>220826001</td>\n",
       "      <td>SELECT               /*+ all_rows */        a....</td>\n",
       "      <td>31</td>\n",
       "      <td>SELECT</td>\n",
       "      <td>2</td>\n",
       "      <td>(SELECT               ROWNUM AA            , a...</td>\n",
       "      <td>[SELECT, /*+, all_rows, */, a.*, FROM, (SELECT...</td>\n",
       "    </tr>\n",
       "    <tr>\n",
       "      <th>1</th>\n",
       "      <td>0BAF592D6FC06C3F000923C90282EF1AB1F9BB8E</td>\n",
       "      <td>220826001</td>\n",
       "      <td>select a.med_rcd_id  doctor_note_id      , a.r...</td>\n",
       "      <td>613</td>\n",
       "      <td>select</td>\n",
       "      <td>22</td>\n",
       "      <td>where a.med_rcd_id     = 2023376979   and a.re...</td>\n",
       "      <td>[select, a.med_rcd_id, doctor_note_id, ,, a.re...</td>\n",
       "    </tr>\n",
       "    <tr>\n",
       "      <th>2</th>\n",
       "      <td>0C8DDFBBA9C92FD9DFD1572EAE887664B2D93FD8</td>\n",
       "      <td>220826001</td>\n",
       "      <td>SELECT NVL(d.mng_no,' ')              AS RUID ...</td>\n",
       "      <td>33</td>\n",
       "      <td>SELECT</td>\n",
       "      <td>1</td>\n",
       "      <td>-- 재활은 싱글수가만 존재한다. SELECT NVL(d.mng_no,' ')   ...</td>\n",
       "      <td>[SELECT, NVL(d.mng_no,', '), AS, RUID, ,, NVL(...</td>\n",
       "    </tr>\n",
       "    <tr>\n",
       "      <th>3</th>\n",
       "      <td>11FB96B37E79A5C18BC5FE696FC6A2F0958C0938</td>\n",
       "      <td>220826001</td>\n",
       "      <td>SELECT                  m.pt_no               ...</td>\n",
       "      <td>115</td>\n",
       "      <td>SELECT</td>\n",
       "      <td>4</td>\n",
       "      <td>m.shot_dttm DESC, a.exam_grpcd</td>\n",
       "      <td>[SELECT, m.pt_no, PTNO, ,TO_CHAR(m.shot_dttm,'...</td>\n",
       "    </tr>\n",
       "    <tr>\n",
       "      <th>4</th>\n",
       "      <td>12BE3BAA4F387D54464334EF0350FFF556FE3E49</td>\n",
       "      <td>220826001</td>\n",
       "      <td>select a.med_rcd_id  doctor_note_id      , a.r...</td>\n",
       "      <td>121</td>\n",
       "      <td>select</td>\n",
       "      <td>22</td>\n",
       "      <td>where a.med_rcd_id     = 2022906483   and a.re...</td>\n",
       "      <td>[select, a.med_rcd_id, doctor_note_id, ,, a.re...</td>\n",
       "    </tr>\n",
       "    <tr>\n",
       "      <th>...</th>\n",
       "      <td>...</td>\n",
       "      <td>...</td>\n",
       "      <td>...</td>\n",
       "      <td>...</td>\n",
       "      <td>...</td>\n",
       "      <td>...</td>\n",
       "      <td>...</td>\n",
       "      <td>...</td>\n",
       "    </tr>\n",
       "    <tr>\n",
       "      <th>46920</th>\n",
       "      <td>C8A83E2F3003CDB91F424777D978BFFBC874DD98</td>\n",
       "      <td>220826001</td>\n",
       "      <td>select med_rcd_id    DOCTOR_NOTE_ID, RELEASE_N...</td>\n",
       "      <td>117</td>\n",
       "      <td>select</td>\n",
       "      <td>67</td>\n",
       "      <td>( select med_rcd_id, RELEASE_NUMBER, item_id, ...</td>\n",
       "      <td>[select, med_rcd_id, DOCTOR_NOTE_ID,, RELEASE_...</td>\n",
       "    </tr>\n",
       "    <tr>\n",
       "      <th>46921</th>\n",
       "      <td>CEF98E49CDFF1D5123316BEC826DE8CB5A153636</td>\n",
       "      <td>220826001</td>\n",
       "      <td>SELECT '', A.spc_no, TO_CHAR(A.bld_col_date, '...</td>\n",
       "      <td>15</td>\n",
       "      <td>SELECT</td>\n",
       "      <td>23</td>\n",
       "      <td>A.spc_no, TO_CHAR(A.bld_col_date, 'YYYYMMDD'),...</td>\n",
       "      <td>[SELECT, '',, A.spc_no,, TO_CHAR(A.bld_col_dat...</td>\n",
       "    </tr>\n",
       "    <tr>\n",
       "      <th>46922</th>\n",
       "      <td>DAB8EDE48BA16577B87FA5A9EDB7C53F48A5C3B8</td>\n",
       "      <td>220826001</td>\n",
       "      <td>SELECT                  m.pt_no               ...</td>\n",
       "      <td>115</td>\n",
       "      <td>SELECT</td>\n",
       "      <td>4</td>\n",
       "      <td>m.shot_dttm DESC, a.exam_grpcd</td>\n",
       "      <td>[SELECT, m.pt_no, PTNO, ,TO_CHAR(m.shot_dttm,'...</td>\n",
       "    </tr>\n",
       "    <tr>\n",
       "      <th>46923</th>\n",
       "      <td>F567A12AA3C17F7BE9A6CD2E8B305BB1A9F5AFEC</td>\n",
       "      <td>220826001</td>\n",
       "      <td>SELECT /*+ ordered use_nl(m) index (M SREXAMDT...</td>\n",
       "      <td>168</td>\n",
       "      <td>SELECT</td>\n",
       "      <td>4</td>\n",
       "      <td>M.shot_dttm DESC, a.exam_grpcd</td>\n",
       "      <td>[SELECT, /*+, ordered, use_nl(m), index, (M, S...</td>\n",
       "    </tr>\n",
       "    <tr>\n",
       "      <th>46924</th>\n",
       "      <td>FD3605379F66C82A4160E5C253FF076E1C381A53</td>\n",
       "      <td>220826001</td>\n",
       "      <td>select a.med_rcd_id    doctor_note_id, a.RELEA...</td>\n",
       "      <td>922</td>\n",
       "      <td>select</td>\n",
       "      <td>7</td>\n",
       "      <td>where a.med_rcd_id = 2020102545 and a.RELEASE_...</td>\n",
       "      <td>[select, a.med_rcd_id, doctor_note_id,, a.RELE...</td>\n",
       "    </tr>\n",
       "  </tbody>\n",
       "</table>\n",
       "<p>46925 rows × 8 columns</p>\n",
       "</div>"
      ],
      "text/plain": [
       "                                        sql_uid  partition_key  \\\n",
       "0      09594BFBC46AA3C4921EB28E12923A974BF4FEBC      220826001   \n",
       "1      0BAF592D6FC06C3F000923C90282EF1AB1F9BB8E      220826001   \n",
       "2      0C8DDFBBA9C92FD9DFD1572EAE887664B2D93FD8      220826001   \n",
       "3      11FB96B37E79A5C18BC5FE696FC6A2F0958C0938      220826001   \n",
       "4      12BE3BAA4F387D54464334EF0350FFF556FE3E49      220826001   \n",
       "...                                         ...            ...   \n",
       "46920  C8A83E2F3003CDB91F424777D978BFFBC874DD98      220826001   \n",
       "46921  CEF98E49CDFF1D5123316BEC826DE8CB5A153636      220826001   \n",
       "46922  DAB8EDE48BA16577B87FA5A9EDB7C53F48A5C3B8      220826001   \n",
       "46923  F567A12AA3C17F7BE9A6CD2E8B305BB1A9F5AFEC      220826001   \n",
       "46924  FD3605379F66C82A4160E5C253FF076E1C381A53      220826001   \n",
       "\n",
       "                                                sql_text  total_len  \\\n",
       "0      SELECT               /*+ all_rows */        a....         31   \n",
       "1      select a.med_rcd_id  doctor_note_id      , a.r...        613   \n",
       "2      SELECT NVL(d.mng_no,' ')              AS RUID ...         33   \n",
       "3      SELECT                  m.pt_no               ...        115   \n",
       "4      select a.med_rcd_id  doctor_note_id      , a.r...        121   \n",
       "...                                                  ...        ...   \n",
       "46920  select med_rcd_id    DOCTOR_NOTE_ID, RELEASE_N...        117   \n",
       "46921  SELECT '', A.spc_no, TO_CHAR(A.bld_col_date, '...         15   \n",
       "46922  SELECT                  m.pt_no               ...        115   \n",
       "46923  SELECT /*+ ordered use_nl(m) index (M SREXAMDT...        168   \n",
       "46924  select a.med_rcd_id    doctor_note_id, a.RELEA...        922   \n",
       "\n",
       "      first_token  last_token_len  \\\n",
       "0          SELECT               2   \n",
       "1          select              22   \n",
       "2          SELECT               1   \n",
       "3          SELECT               4   \n",
       "4          select              22   \n",
       "...           ...             ...   \n",
       "46920      select              67   \n",
       "46921      SELECT              23   \n",
       "46922      SELECT               4   \n",
       "46923      SELECT               4   \n",
       "46924      select               7   \n",
       "\n",
       "                                              last_token  \\\n",
       "0      (SELECT               ROWNUM AA            , a...   \n",
       "1      where a.med_rcd_id     = 2023376979   and a.re...   \n",
       "2      -- 재활은 싱글수가만 존재한다. SELECT NVL(d.mng_no,' ')   ...   \n",
       "3                         m.shot_dttm DESC, a.exam_grpcd   \n",
       "4      where a.med_rcd_id     = 2022906483   and a.re...   \n",
       "...                                                  ...   \n",
       "46920  ( select med_rcd_id, RELEASE_NUMBER, item_id, ...   \n",
       "46921  A.spc_no, TO_CHAR(A.bld_col_date, 'YYYYMMDD'),...   \n",
       "46922                     m.shot_dttm DESC, a.exam_grpcd   \n",
       "46923                     M.shot_dttm DESC, a.exam_grpcd   \n",
       "46924  where a.med_rcd_id = 2020102545 and a.RELEASE_...   \n",
       "\n",
       "                                             sp_sql_text  \n",
       "0      [SELECT, /*+, all_rows, */, a.*, FROM, (SELECT...  \n",
       "1      [select, a.med_rcd_id, doctor_note_id, ,, a.re...  \n",
       "2      [SELECT, NVL(d.mng_no,', '), AS, RUID, ,, NVL(...  \n",
       "3      [SELECT, m.pt_no, PTNO, ,TO_CHAR(m.shot_dttm,'...  \n",
       "4      [select, a.med_rcd_id, doctor_note_id, ,, a.re...  \n",
       "...                                                  ...  \n",
       "46920  [select, med_rcd_id, DOCTOR_NOTE_ID,, RELEASE_...  \n",
       "46921  [SELECT, '',, A.spc_no,, TO_CHAR(A.bld_col_dat...  \n",
       "46922  [SELECT, m.pt_no, PTNO, ,TO_CHAR(m.shot_dttm,'...  \n",
       "46923  [SELECT, /*+, ordered, use_nl(m), index, (M, S...  \n",
       "46924  [select, a.med_rcd_id, doctor_note_id,, a.RELE...  \n",
       "\n",
       "[46925 rows x 8 columns]"
      ]
     },
     "execution_count": 145,
     "metadata": {},
     "output_type": "execute_result"
    }
   ],
   "source": [
    "df['sp_sql_text'] = df['sql_text'].str.split(\"\\s+\")\n",
    "df"
   ]
  },
  {
   "cell_type": "code",
   "execution_count": 147,
   "id": "ccf9e332",
   "metadata": {},
   "outputs": [],
   "source": [
    "df['sp_sql_text_len'] = df['sp_sql_text'].apply(len)"
   ]
  },
  {
   "cell_type": "code",
   "execution_count": 148,
   "id": "38acfaac",
   "metadata": {},
   "outputs": [
    {
     "data": {
      "text/html": [
       "<div>\n",
       "<style scoped>\n",
       "    .dataframe tbody tr th:only-of-type {\n",
       "        vertical-align: middle;\n",
       "    }\n",
       "\n",
       "    .dataframe tbody tr th {\n",
       "        vertical-align: top;\n",
       "    }\n",
       "\n",
       "    .dataframe thead th {\n",
       "        text-align: right;\n",
       "    }\n",
       "</style>\n",
       "<table border=\"1\" class=\"dataframe\">\n",
       "  <thead>\n",
       "    <tr style=\"text-align: right;\">\n",
       "      <th></th>\n",
       "      <th>sql_uid</th>\n",
       "      <th>partition_key</th>\n",
       "      <th>sql_text</th>\n",
       "      <th>total_len</th>\n",
       "      <th>first_token</th>\n",
       "      <th>last_token_len</th>\n",
       "      <th>last_token</th>\n",
       "      <th>sp_sql_text</th>\n",
       "      <th>sp_sql_text_len</th>\n",
       "    </tr>\n",
       "  </thead>\n",
       "  <tbody>\n",
       "    <tr>\n",
       "      <th>0</th>\n",
       "      <td>09594BFBC46AA3C4921EB28E12923A974BF4FEBC</td>\n",
       "      <td>220826001</td>\n",
       "      <td>SELECT               /*+ all_rows */        a....</td>\n",
       "      <td>31</td>\n",
       "      <td>SELECT</td>\n",
       "      <td>2</td>\n",
       "      <td>(SELECT               ROWNUM AA            , a...</td>\n",
       "      <td>[SELECT, /*+, all_rows, */, a.*, FROM, (SELECT...</td>\n",
       "      <td>1468</td>\n",
       "    </tr>\n",
       "    <tr>\n",
       "      <th>1</th>\n",
       "      <td>0BAF592D6FC06C3F000923C90282EF1AB1F9BB8E</td>\n",
       "      <td>220826001</td>\n",
       "      <td>select a.med_rcd_id  doctor_note_id      , a.r...</td>\n",
       "      <td>613</td>\n",
       "      <td>select</td>\n",
       "      <td>22</td>\n",
       "      <td>where a.med_rcd_id     = 2023376979   and a.re...</td>\n",
       "      <td>[select, a.med_rcd_id, doctor_note_id, ,, a.re...</td>\n",
       "      <td>1123</td>\n",
       "    </tr>\n",
       "    <tr>\n",
       "      <th>2</th>\n",
       "      <td>0C8DDFBBA9C92FD9DFD1572EAE887664B2D93FD8</td>\n",
       "      <td>220826001</td>\n",
       "      <td>SELECT NVL(d.mng_no,' ')              AS RUID ...</td>\n",
       "      <td>33</td>\n",
       "      <td>SELECT</td>\n",
       "      <td>1</td>\n",
       "      <td>-- 재활은 싱글수가만 존재한다. SELECT NVL(d.mng_no,' ')   ...</td>\n",
       "      <td>[SELECT, NVL(d.mng_no,', '), AS, RUID, ,, NVL(...</td>\n",
       "      <td>1471</td>\n",
       "    </tr>\n",
       "    <tr>\n",
       "      <th>3</th>\n",
       "      <td>11FB96B37E79A5C18BC5FE696FC6A2F0958C0938</td>\n",
       "      <td>220826001</td>\n",
       "      <td>SELECT                  m.pt_no               ...</td>\n",
       "      <td>115</td>\n",
       "      <td>SELECT</td>\n",
       "      <td>4</td>\n",
       "      <td>m.shot_dttm DESC, a.exam_grpcd</td>\n",
       "      <td>[SELECT, m.pt_no, PTNO, ,TO_CHAR(m.shot_dttm,'...</td>\n",
       "      <td>185</td>\n",
       "    </tr>\n",
       "    <tr>\n",
       "      <th>4</th>\n",
       "      <td>12BE3BAA4F387D54464334EF0350FFF556FE3E49</td>\n",
       "      <td>220826001</td>\n",
       "      <td>select a.med_rcd_id  doctor_note_id      , a.r...</td>\n",
       "      <td>121</td>\n",
       "      <td>select</td>\n",
       "      <td>22</td>\n",
       "      <td>where a.med_rcd_id     = 2022906483   and a.re...</td>\n",
       "      <td>[select, a.med_rcd_id, doctor_note_id, ,, a.re...</td>\n",
       "      <td>223</td>\n",
       "    </tr>\n",
       "    <tr>\n",
       "      <th>...</th>\n",
       "      <td>...</td>\n",
       "      <td>...</td>\n",
       "      <td>...</td>\n",
       "      <td>...</td>\n",
       "      <td>...</td>\n",
       "      <td>...</td>\n",
       "      <td>...</td>\n",
       "      <td>...</td>\n",
       "      <td>...</td>\n",
       "    </tr>\n",
       "    <tr>\n",
       "      <th>46920</th>\n",
       "      <td>C8A83E2F3003CDB91F424777D978BFFBC874DD98</td>\n",
       "      <td>220826001</td>\n",
       "      <td>select med_rcd_id    DOCTOR_NOTE_ID, RELEASE_N...</td>\n",
       "      <td>117</td>\n",
       "      <td>select</td>\n",
       "      <td>67</td>\n",
       "      <td>( select med_rcd_id, RELEASE_NUMBER, item_id, ...</td>\n",
       "      <td>[select, med_rcd_id, DOCTOR_NOTE_ID,, RELEASE_...</td>\n",
       "      <td>1534</td>\n",
       "    </tr>\n",
       "    <tr>\n",
       "      <th>46921</th>\n",
       "      <td>CEF98E49CDFF1D5123316BEC826DE8CB5A153636</td>\n",
       "      <td>220826001</td>\n",
       "      <td>SELECT '', A.spc_no, TO_CHAR(A.bld_col_date, '...</td>\n",
       "      <td>15</td>\n",
       "      <td>SELECT</td>\n",
       "      <td>23</td>\n",
       "      <td>A.spc_no, TO_CHAR(A.bld_col_date, 'YYYYMMDD'),...</td>\n",
       "      <td>[SELECT, '',, A.spc_no,, TO_CHAR(A.bld_col_dat...</td>\n",
       "      <td>65</td>\n",
       "    </tr>\n",
       "    <tr>\n",
       "      <th>46922</th>\n",
       "      <td>DAB8EDE48BA16577B87FA5A9EDB7C53F48A5C3B8</td>\n",
       "      <td>220826001</td>\n",
       "      <td>SELECT                  m.pt_no               ...</td>\n",
       "      <td>115</td>\n",
       "      <td>SELECT</td>\n",
       "      <td>4</td>\n",
       "      <td>m.shot_dttm DESC, a.exam_grpcd</td>\n",
       "      <td>[SELECT, m.pt_no, PTNO, ,TO_CHAR(m.shot_dttm,'...</td>\n",
       "      <td>187</td>\n",
       "    </tr>\n",
       "    <tr>\n",
       "      <th>46923</th>\n",
       "      <td>F567A12AA3C17F7BE9A6CD2E8B305BB1A9F5AFEC</td>\n",
       "      <td>220826001</td>\n",
       "      <td>SELECT /*+ ordered use_nl(m) index (M SREXAMDT...</td>\n",
       "      <td>168</td>\n",
       "      <td>SELECT</td>\n",
       "      <td>4</td>\n",
       "      <td>M.shot_dttm DESC, a.exam_grpcd</td>\n",
       "      <td>[SELECT, /*+, ordered, use_nl(m), index, (M, S...</td>\n",
       "      <td>118</td>\n",
       "    </tr>\n",
       "    <tr>\n",
       "      <th>46924</th>\n",
       "      <td>FD3605379F66C82A4160E5C253FF076E1C381A53</td>\n",
       "      <td>220826001</td>\n",
       "      <td>select a.med_rcd_id    doctor_note_id, a.RELEA...</td>\n",
       "      <td>922</td>\n",
       "      <td>select</td>\n",
       "      <td>7</td>\n",
       "      <td>where a.med_rcd_id = 2020102545 and a.RELEASE_...</td>\n",
       "      <td>[select, a.med_rcd_id, doctor_note_id,, a.RELE...</td>\n",
       "      <td>2014</td>\n",
       "    </tr>\n",
       "  </tbody>\n",
       "</table>\n",
       "<p>46925 rows × 9 columns</p>\n",
       "</div>"
      ],
      "text/plain": [
       "                                        sql_uid  partition_key  \\\n",
       "0      09594BFBC46AA3C4921EB28E12923A974BF4FEBC      220826001   \n",
       "1      0BAF592D6FC06C3F000923C90282EF1AB1F9BB8E      220826001   \n",
       "2      0C8DDFBBA9C92FD9DFD1572EAE887664B2D93FD8      220826001   \n",
       "3      11FB96B37E79A5C18BC5FE696FC6A2F0958C0938      220826001   \n",
       "4      12BE3BAA4F387D54464334EF0350FFF556FE3E49      220826001   \n",
       "...                                         ...            ...   \n",
       "46920  C8A83E2F3003CDB91F424777D978BFFBC874DD98      220826001   \n",
       "46921  CEF98E49CDFF1D5123316BEC826DE8CB5A153636      220826001   \n",
       "46922  DAB8EDE48BA16577B87FA5A9EDB7C53F48A5C3B8      220826001   \n",
       "46923  F567A12AA3C17F7BE9A6CD2E8B305BB1A9F5AFEC      220826001   \n",
       "46924  FD3605379F66C82A4160E5C253FF076E1C381A53      220826001   \n",
       "\n",
       "                                                sql_text  total_len  \\\n",
       "0      SELECT               /*+ all_rows */        a....         31   \n",
       "1      select a.med_rcd_id  doctor_note_id      , a.r...        613   \n",
       "2      SELECT NVL(d.mng_no,' ')              AS RUID ...         33   \n",
       "3      SELECT                  m.pt_no               ...        115   \n",
       "4      select a.med_rcd_id  doctor_note_id      , a.r...        121   \n",
       "...                                                  ...        ...   \n",
       "46920  select med_rcd_id    DOCTOR_NOTE_ID, RELEASE_N...        117   \n",
       "46921  SELECT '', A.spc_no, TO_CHAR(A.bld_col_date, '...         15   \n",
       "46922  SELECT                  m.pt_no               ...        115   \n",
       "46923  SELECT /*+ ordered use_nl(m) index (M SREXAMDT...        168   \n",
       "46924  select a.med_rcd_id    doctor_note_id, a.RELEA...        922   \n",
       "\n",
       "      first_token  last_token_len  \\\n",
       "0          SELECT               2   \n",
       "1          select              22   \n",
       "2          SELECT               1   \n",
       "3          SELECT               4   \n",
       "4          select              22   \n",
       "...           ...             ...   \n",
       "46920      select              67   \n",
       "46921      SELECT              23   \n",
       "46922      SELECT               4   \n",
       "46923      SELECT               4   \n",
       "46924      select               7   \n",
       "\n",
       "                                              last_token  \\\n",
       "0      (SELECT               ROWNUM AA            , a...   \n",
       "1      where a.med_rcd_id     = 2023376979   and a.re...   \n",
       "2      -- 재활은 싱글수가만 존재한다. SELECT NVL(d.mng_no,' ')   ...   \n",
       "3                         m.shot_dttm DESC, a.exam_grpcd   \n",
       "4      where a.med_rcd_id     = 2022906483   and a.re...   \n",
       "...                                                  ...   \n",
       "46920  ( select med_rcd_id, RELEASE_NUMBER, item_id, ...   \n",
       "46921  A.spc_no, TO_CHAR(A.bld_col_date, 'YYYYMMDD'),...   \n",
       "46922                     m.shot_dttm DESC, a.exam_grpcd   \n",
       "46923                     M.shot_dttm DESC, a.exam_grpcd   \n",
       "46924  where a.med_rcd_id = 2020102545 and a.RELEASE_...   \n",
       "\n",
       "                                             sp_sql_text  sp_sql_text_len  \n",
       "0      [SELECT, /*+, all_rows, */, a.*, FROM, (SELECT...             1468  \n",
       "1      [select, a.med_rcd_id, doctor_note_id, ,, a.re...             1123  \n",
       "2      [SELECT, NVL(d.mng_no,', '), AS, RUID, ,, NVL(...             1471  \n",
       "3      [SELECT, m.pt_no, PTNO, ,TO_CHAR(m.shot_dttm,'...              185  \n",
       "4      [select, a.med_rcd_id, doctor_note_id, ,, a.re...              223  \n",
       "...                                                  ...              ...  \n",
       "46920  [select, med_rcd_id, DOCTOR_NOTE_ID,, RELEASE_...             1534  \n",
       "46921  [SELECT, '',, A.spc_no,, TO_CHAR(A.bld_col_dat...               65  \n",
       "46922  [SELECT, m.pt_no, PTNO, ,TO_CHAR(m.shot_dttm,'...              187  \n",
       "46923  [SELECT, /*+, ordered, use_nl(m), index, (M, S...              118  \n",
       "46924  [select, a.med_rcd_id, doctor_note_id,, a.RELE...             2014  \n",
       "\n",
       "[46925 rows x 9 columns]"
      ]
     },
     "execution_count": 148,
     "metadata": {},
     "output_type": "execute_result"
    }
   ],
   "source": [
    "df"
   ]
  },
  {
   "cell_type": "code",
   "execution_count": 149,
   "id": "edf14cf9",
   "metadata": {},
   "outputs": [
    {
     "name": "stdout",
     "output_type": "stream",
     "text": [
      "20.6 ms ± 1.29 ms per loop (mean ± std. dev. of 7 runs, 100 loops each)\n"
     ]
    }
   ],
   "source": [
    "%timeit df['sp_sql_text'].apply(len)"
   ]
  },
  {
   "cell_type": "code",
   "execution_count": 130,
   "id": "31d19057",
   "metadata": {},
   "outputs": [
    {
     "name": "stdout",
     "output_type": "stream",
     "text": [
      "12.1 s ± 888 ms per loop (mean ± std. dev. of 7 runs, 1 loop each)\n"
     ]
    }
   ],
   "source": [
    "%timeit df['sql_text'].str.split(\"\\s+\")"
   ]
  },
  {
   "cell_type": "code",
   "execution_count": 131,
   "id": "3ff8ba50",
   "metadata": {},
   "outputs": [],
   "source": [
    "df['sp_sql_text'] = df['sql_text'].str.split(\"\\s+\")"
   ]
  },
  {
   "cell_type": "code",
   "execution_count": 134,
   "id": "9881a6e9",
   "metadata": {},
   "outputs": [
    {
     "data": {
      "text/plain": [
       "0    [SELECT, /*+, all_rows, */, a.*, FROM, (SELECT...\n",
       "1    [select, a.med_rcd_id, doctor_note_id, ,, a.re...\n",
       "2    [SELECT, NVL(d.mng_no,', '), AS, RUID, ,, NVL(...\n",
       "3    [SELECT, m.pt_no, PTNO, ,TO_CHAR(m.shot_dttm,'...\n",
       "4    [select, a.med_rcd_id, doctor_note_id, ,, a.re...\n",
       "Name: sp_sql_text, dtype: object"
      ]
     },
     "execution_count": 134,
     "metadata": {},
     "output_type": "execute_result"
    }
   ],
   "source": [
    "df[:5]['sp_sql_text']"
   ]
  },
  {
   "cell_type": "code",
   "execution_count": 137,
   "id": "7c48e943",
   "metadata": {},
   "outputs": [],
   "source": [
    "sql = df[:5]['sql_text'][2]"
   ]
  },
  {
   "cell_type": "code",
   "execution_count": 138,
   "id": "7896cafc",
   "metadata": {},
   "outputs": [
    {
     "data": {
      "text/plain": [
       "str"
      ]
     },
     "execution_count": 138,
     "metadata": {},
     "output_type": "execute_result"
    }
   ],
   "source": [
    "type(sql)"
   ]
  },
  {
   "cell_type": "code",
   "execution_count": 139,
   "id": "51bbfe68",
   "metadata": {},
   "outputs": [],
   "source": [
    "p_sql = sqlparse.parse(sql)"
   ]
  },
  {
   "cell_type": "code",
   "execution_count": 140,
   "id": "333567ad",
   "metadata": {},
   "outputs": [
    {
     "data": {
      "text/plain": [
       "33"
      ]
     },
     "execution_count": 140,
     "metadata": {},
     "output_type": "execute_result"
    }
   ],
   "source": [
    "len(p_sql[0].tokens)"
   ]
  },
  {
   "cell_type": "code",
   "execution_count": 141,
   "id": "049bf1cc",
   "metadata": {},
   "outputs": [
    {
     "data": {
      "text/plain": [
       "13656"
      ]
     },
     "execution_count": 141,
     "metadata": {},
     "output_type": "execute_result"
    }
   ],
   "source": [
    "len(sql)"
   ]
  },
  {
   "cell_type": "code",
   "execution_count": 142,
   "id": "d26bc10b",
   "metadata": {},
   "outputs": [],
   "source": [
    "df_sql = df[:5]['sp_sql_text'][2]"
   ]
  },
  {
   "cell_type": "code",
   "execution_count": 143,
   "id": "a228f3c4",
   "metadata": {},
   "outputs": [
    {
     "data": {
      "text/plain": [
       "list"
      ]
     },
     "execution_count": 143,
     "metadata": {},
     "output_type": "execute_result"
    }
   ],
   "source": [
    "type(df_sql)"
   ]
  },
  {
   "cell_type": "code",
   "execution_count": 144,
   "id": "2d5d7401",
   "metadata": {},
   "outputs": [
    {
     "data": {
      "text/plain": [
       "1471"
      ]
     },
     "execution_count": 144,
     "metadata": {},
     "output_type": "execute_result"
    }
   ],
   "source": [
    "len(df_sql)"
   ]
  },
  {
   "cell_type": "code",
   "execution_count": 157,
   "id": "3f8def70",
   "metadata": {},
   "outputs": [],
   "source": [
    "df = pd.read_parquet('../split_parquet/export_ae_db_sql_text_220826.parquet')"
   ]
  },
  {
   "cell_type": "code",
   "execution_count": 158,
   "id": "290a5dce",
   "metadata": {},
   "outputs": [
    {
     "data": {
      "text/html": [
       "<div>\n",
       "<style scoped>\n",
       "    .dataframe tbody tr th:only-of-type {\n",
       "        vertical-align: middle;\n",
       "    }\n",
       "\n",
       "    .dataframe tbody tr th {\n",
       "        vertical-align: top;\n",
       "    }\n",
       "\n",
       "    .dataframe thead th {\n",
       "        text-align: right;\n",
       "    }\n",
       "</style>\n",
       "<table border=\"1\" class=\"dataframe\">\n",
       "  <thead>\n",
       "    <tr style=\"text-align: right;\">\n",
       "      <th></th>\n",
       "      <th>sql_uid</th>\n",
       "      <th>partition_key</th>\n",
       "      <th>sql_text</th>\n",
       "    </tr>\n",
       "  </thead>\n",
       "  <tbody>\n",
       "    <tr>\n",
       "      <th>0</th>\n",
       "      <td>000CA8FC53C0A1C9D9FFE7E63418B01A4449CD5E</td>\n",
       "      <td>220826001</td>\n",
       "      <td>SELECT /*+ use_nl(a b c d e f) */             ...</td>\n",
       "    </tr>\n",
       "    <tr>\n",
       "      <th>1</th>\n",
       "      <td>00175017029C0039DD3DEBE7AA98C67191621551</td>\n",
       "      <td>220826001</td>\n",
       "      <td>SELECT /*+ use_nl(a b c d e f) */             ...</td>\n",
       "    </tr>\n",
       "    <tr>\n",
       "      <th>2</th>\n",
       "      <td>001CA4BA06BD8DE3082C019C8A0BDC975EA553C2</td>\n",
       "      <td>220826001</td>\n",
       "      <td>SELECT '', A.spc_no, TO_CHAR(A.bld_col_date, '...</td>\n",
       "    </tr>\n",
       "    <tr>\n",
       "      <th>3</th>\n",
       "      <td>0025BC92BBBB05CDABE45D83A5E6CC46A83E54C9</td>\n",
       "      <td>220826001</td>\n",
       "      <td>SELECT                *         FROM          ...</td>\n",
       "    </tr>\n",
       "    <tr>\n",
       "      <th>4</th>\n",
       "      <td>00399C5F7148682DA7DE9004AD7341AF62110301</td>\n",
       "      <td>220826001</td>\n",
       "      <td>select  a.med_rcd_id    doctor_note_id,  a.REL...</td>\n",
       "    </tr>\n",
       "    <tr>\n",
       "      <th>...</th>\n",
       "      <td>...</td>\n",
       "      <td>...</td>\n",
       "      <td>...</td>\n",
       "    </tr>\n",
       "    <tr>\n",
       "      <th>46920</th>\n",
       "      <td>FF776A73CA6E5E08465149CF3562BE039D6207DB</td>\n",
       "      <td>220826001</td>\n",
       "      <td>SELECT '', A.spc_no, TO_CHAR(A.bld_col_date, '...</td>\n",
       "    </tr>\n",
       "    <tr>\n",
       "      <th>46921</th>\n",
       "      <td>FF7D1560788CBBBB62A8364F0397C1E78752CE49</td>\n",
       "      <td>220826001</td>\n",
       "      <td>select  a.med_rcd_id    DOCTOR_NOTE_ID,  a.REL...</td>\n",
       "    </tr>\n",
       "    <tr>\n",
       "      <th>46922</th>\n",
       "      <td>FFA9AC81DBE7BCE24AA6F7C9EDA7FE4D21B157A8</td>\n",
       "      <td>220826001</td>\n",
       "      <td>select substrb(dump(val,16,0,32),1,120) ep, cn...</td>\n",
       "    </tr>\n",
       "    <tr>\n",
       "      <th>46923</th>\n",
       "      <td>FFB61811987E7A74FC3BA5F89E54B852E08197F0</td>\n",
       "      <td>220826001</td>\n",
       "      <td>SELECT '', A.spc_no, TO_CHAR(A.bld_col_date, '...</td>\n",
       "    </tr>\n",
       "    <tr>\n",
       "      <th>46924</th>\n",
       "      <td>FFC3637E6A09179DBED69D55B28AA784F724AA81</td>\n",
       "      <td>220826001</td>\n",
       "      <td>insert /*+ append */ into sys.ora_temp_1_ds_70...</td>\n",
       "    </tr>\n",
       "  </tbody>\n",
       "</table>\n",
       "<p>46925 rows × 3 columns</p>\n",
       "</div>"
      ],
      "text/plain": [
       "                                        sql_uid  partition_key  \\\n",
       "0      000CA8FC53C0A1C9D9FFE7E63418B01A4449CD5E      220826001   \n",
       "1      00175017029C0039DD3DEBE7AA98C67191621551      220826001   \n",
       "2      001CA4BA06BD8DE3082C019C8A0BDC975EA553C2      220826001   \n",
       "3      0025BC92BBBB05CDABE45D83A5E6CC46A83E54C9      220826001   \n",
       "4      00399C5F7148682DA7DE9004AD7341AF62110301      220826001   \n",
       "...                                         ...            ...   \n",
       "46920  FF776A73CA6E5E08465149CF3562BE039D6207DB      220826001   \n",
       "46921  FF7D1560788CBBBB62A8364F0397C1E78752CE49      220826001   \n",
       "46922  FFA9AC81DBE7BCE24AA6F7C9EDA7FE4D21B157A8      220826001   \n",
       "46923  FFB61811987E7A74FC3BA5F89E54B852E08197F0      220826001   \n",
       "46924  FFC3637E6A09179DBED69D55B28AA784F724AA81      220826001   \n",
       "\n",
       "                                                sql_text  \n",
       "0      SELECT /*+ use_nl(a b c d e f) */             ...  \n",
       "1      SELECT /*+ use_nl(a b c d e f) */             ...  \n",
       "2      SELECT '', A.spc_no, TO_CHAR(A.bld_col_date, '...  \n",
       "3      SELECT                *         FROM          ...  \n",
       "4      select  a.med_rcd_id    doctor_note_id,  a.REL...  \n",
       "...                                                  ...  \n",
       "46920  SELECT '', A.spc_no, TO_CHAR(A.bld_col_date, '...  \n",
       "46921  select  a.med_rcd_id    DOCTOR_NOTE_ID,  a.REL...  \n",
       "46922  select substrb(dump(val,16,0,32),1,120) ep, cn...  \n",
       "46923  SELECT '', A.spc_no, TO_CHAR(A.bld_col_date, '...  \n",
       "46924  insert /*+ append */ into sys.ora_temp_1_ds_70...  \n",
       "\n",
       "[46925 rows x 3 columns]"
      ]
     },
     "execution_count": 158,
     "metadata": {},
     "output_type": "execute_result"
    }
   ],
   "source": [
    "df"
   ]
  },
  {
   "cell_type": "code",
   "execution_count": 160,
   "id": "6b788e06",
   "metadata": {},
   "outputs": [],
   "source": [
    "import numpy as np\n",
    "\n",
    "x = np.arange(10)"
   ]
  },
  {
   "cell_type": "code",
   "execution_count": 163,
   "id": "238f2052",
   "metadata": {},
   "outputs": [
    {
     "name": "stdout",
     "output_type": "stream",
     "text": [
      "11\n"
     ]
    }
   ],
   "source": [
    "if (x<5).any(): print('11')"
   ]
  },
  {
   "cell_type": "code",
   "execution_count": 164,
   "id": "da90b212",
   "metadata": {},
   "outputs": [
    {
     "data": {
      "text/plain": [
       "numpy.ndarray"
      ]
     },
     "execution_count": 164,
     "metadata": {},
     "output_type": "execute_result"
    }
   ],
   "source": [
    "type(x)"
   ]
  },
  {
   "cell_type": "code",
   "execution_count": null,
   "id": "f651a1c6",
   "metadata": {},
   "outputs": [],
   "source": []
  }
 ],
 "metadata": {
  "kernelspec": {
   "display_name": "Python [conda env:data_analyzer] *",
   "language": "python",
   "name": "conda-env-data_analyzer-py"
  },
  "language_info": {
   "codemirror_mode": {
    "name": "ipython",
    "version": 3
   },
   "file_extension": ".py",
   "mimetype": "text/x-python",
   "name": "python",
   "nbconvert_exporter": "python",
   "pygments_lexer": "ipython3",
   "version": "3.10.8"
  }
 },
 "nbformat": 4,
 "nbformat_minor": 5
}
