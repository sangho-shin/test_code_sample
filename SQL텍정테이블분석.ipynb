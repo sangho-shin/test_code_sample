{
 "cells": [
  {
   "cell_type": "code",
   "execution_count": 3,
   "id": "479f0968",
   "metadata": {},
   "outputs": [
    {
     "name": "stdout",
     "output_type": "stream",
     "text": [
      "--------------------------------------------------------------------------\n",
      "[테이블 목록]   : ['some_task_detail', 'some_task']\n",
      "\n",
      "Where절 목록    : ['some_task_detail.status', 'some_task.task_type_id']\n",
      "조인 컬럼 목록  : ['some_task_detail.task_id', 'some_task.task_id']\n",
      "Group by절 목록 : ['some_task_detail.task_id']\n",
      "Order by절 목록 : ['some_task_detail.task_id']\n",
      "--------------------------------------------------------------------------\n",
      "\n",
      "[분석 결과] : where절과 테이블 조인이 있는 SQL입니다. 인덱스 점검 대상 SQL입니다.\n",
      "['some_task_detail', 'some_task'] 테이블의 Where절에 사용되는 컬럼은 ['some_task_detail.status', 'some_task.task_type_id'] 입니다.\n",
      "['some_task_detail', 'some_task'] 테이블의 조인에 사용되는 컬럼은 ['some_task_detail.task_id', 'some_task.task_id'] 입니다.\n"
     ]
    }
   ],
   "source": [
    "import sqlparse                          # SQL Parsing을 위한 library\n",
    "from sql_metadata import Parser          # SQL Metadata 추출을 위한 library\n",
    "\n",
    "sql_text = \"\"\"\n",
    "                SELECT std.task_id ,\n",
    "                COUNT( 1 )\n",
    "                FROM   (\n",
    "                        SELECT std.task_id\n",
    "                        FROM   some_task_detail std\n",
    "                        WHERE  std.status = 1\n",
    "                ) a join (\n",
    "                                SELECT st.task_id\n",
    "                                FROM   some_task st\n",
    "                                WHERE  st.task_type_id = 80\n",
    "                ) b ON a.task_id = b.task_id\n",
    "                GROUP  BY std.task_id\n",
    "                ORDER  BY std.task_id\n",
    "\"\"\"\n",
    "\n",
    "sql_text = sqlparse.format(sql_text, strip_comments=True) # 주석 제거 (sql_metadata에서 주석제거는 버그가 있음.)\n",
    "sql_tables = Parser(sql_text).tables\n",
    "sql_columns = Parser(sql_text).columns\n",
    "table_alias = Parser(sql_text).tables_aliases\n",
    "\n",
    "sql_text = sql_text.replace(\"\\\"\",\"\\'\") # SQL에 \" 따옴표가 있는 경우, 컬럼명으로 인식 (\" -> ' 변경 필요)\n",
    "sql_text = Parser(sql_text).columns_dict\n",
    "\n",
    "print(\"--------------------------------------------------------------------------\")\n",
    "print(\"[테이블 목록]   : {0}\\n\".format(sql_tables))\n",
    "print(\"Where절 목록    : {0}\".format(sql_text.get(\"where\")))    # 테이블 조인이 있는 경우는 \"테이블명.컬럼명\", 단독 테이블인 경우는 \"컬럼명\"\n",
    "print(\"조인 컬럼 목록  : {0}\".format(sql_text.get(\"join\")))    # \"테이블명.컬럼명\"\n",
    "print(\"Group by절 목록 : {0}\".format(sql_text.get(\"group_by\"))) # 테이블 조인이 있는 경우는 \"테이블명.컬럼명\", 단독 테이블인 경우는 \"컬럼명\"\n",
    "print(\"Order by절 목록 : {0}\".format(sql_text.get(\"order_by\"))) # 테이블 조인이 있는 경우는 \"테이블명.컬럼명\", 단독 테이블인 경우는 \"컬럼명\"\n",
    "print(\"--------------------------------------------------------------------------\\n\")\n",
    "\n",
    "if \"where\" not in sql_text and \"join\" not in sql_text and \"order_by\" not in sql_text:\n",
    "\n",
    "        print(\"[분석 결과] : where절과 테이블 조인, order by절이 없는 SQL로 분석 대상이 아닙니다.\")\n",
    "\n",
    "elif \"where\" not in sql_text and \"join\" not in sql_text and \"order_by\" in sql_text:\n",
    "\n",
    "        # 1개 테이블에서 데이터 조회하는 쿼리가 Order By가 없고, order by 후 rownum 처리한다면 인덱스 생성 필요.\n",
    "        print(\"[분석 결과] : where절과 테이블 조인이 없고, order by절만 있는 SQL입니다.\")\n",
    "\n",
    "elif \"where\" not in sql_text and \"join\" in sql_text and \"order_by\" in sql_text:\n",
    "\n",
    "        print(\"[분석 결과] : where절은 없고, 테이블 조인과 order by절만 있는 SQL입니다.\")\n",
    "\n",
    "elif \"where\" in sql_text and \"join\" not in sql_text:\n",
    "\n",
    "        # 테이블 조인이 없는 1개 테이블에서 조회하는 쿼리가 Full Table Scan이라면 반드시 분석대상 (FTS 튜닝 대상 선별 시 활용)\n",
    "        print(\"[분석 결과] : where절과 테이블 조인이 없는 SQL입니다. 인덱스 점검 대상 SQL입니다.\")\n",
    "\n",
    "elif \"where\" in sql_text and \"join\" in sql_text:\n",
    "\n",
    "        where_col = sql_text[\"where\"]\n",
    "        join_col = sql_text[\"join\"]            # 조인 컬럼은 NL Join일 경우, 반드시 인덱스 있어야 함.\n",
    "\n",
    "        print(\"[분석 결과] : where절과 테이블 조인이 있는 SQL입니다. 인덱스 점검 대상 SQL입니다.\")\n",
    "        print(\"{0} 테이블의 Where절에 사용되는 컬럼은 {1} 입니다.\".format(sql_tables, where_col))\n",
    "        print(\"{0} 테이블의 조인에 사용되는 컬럼은 {1} 입니다.\".format(sql_tables, join_col))\n",
    "else:\n",
    "        print(\"아직 분석 조건을 설정하지 않았습니다.\")"
   ]
  },
  {
   "cell_type": "code",
   "execution_count": 2,
   "id": "32547eb1",
   "metadata": {},
   "outputs": [
    {
     "name": "stdout",
     "output_type": "stream",
     "text": [
      "Collecting sql_metadata\n",
      "  Downloading sql_metadata-2.6.0-py3-none-any.whl (21 kB)\n",
      "Requirement already satisfied: sqlparse<0.5.0,>=0.4.1 in c:\\users\\shshin\\anaconda3\\envs\\data_analyzer\\lib\\site-packages (from sql_metadata) (0.4.3)\n",
      "Installing collected packages: sql_metadata\n",
      "Successfully installed sql_metadata-2.6.0\n"
     ]
    }
   ],
   "source": [
    "!pip install sql_metadata"
   ]
  },
  {
   "cell_type": "code",
   "execution_count": null,
   "id": "6577a3cf",
   "metadata": {},
   "outputs": [],
   "source": []
  }
 ],
 "metadata": {
  "kernelspec": {
   "display_name": "Python [conda env:data_analyzer] *",
   "language": "python",
   "name": "conda-env-data_analyzer-py"
  },
  "language_info": {
   "codemirror_mode": {
    "name": "ipython",
    "version": 3
   },
   "file_extension": ".py",
   "mimetype": "text/x-python",
   "name": "python",
   "nbconvert_exporter": "python",
   "pygments_lexer": "ipython3",
   "version": "3.10.8"
  }
 },
 "nbformat": 4,
 "nbformat_minor": 5
}
