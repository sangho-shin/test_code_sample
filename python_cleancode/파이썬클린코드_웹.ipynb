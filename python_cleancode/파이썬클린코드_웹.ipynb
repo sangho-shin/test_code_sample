{
 "cells": [
  {
   "cell_type": "markdown",
   "id": "eba3a6d5",
   "metadata": {},
   "source": [
    "## Chap01. 소개, 코드 포매팅과 도구\n",
    "\n",
    "https://wikidocs.net/168357\n",
    "\n",
    "doctstring\n",
    "함수, 모듈, 클래스의 선언부 아래에 멀티라인 주석 (\"\"\" \"\"\")로 작성해 준다.\n",
    "\n",
    "\"__doc__\"를 통해 호출 할 수 있음 <br>\n",
    "some_module.__doc__ <br>\n",
    "some_function.__doc__ <br>\n",
    "SomeClass.__doc__ <br>\n",
    "\n",
    "ex)\n",
    "def get_user_name(user: User) -> UserName:<br>\n",
    "    \"\"\"<br>\n",
    "        Description: <br>\n",
    "            유저의 객체를 통해 유저의 이름을 알아내는 함수 입니다.<br>\n",
    "        Param:<br>\n",
    "            some_module.user.User 클래스의 객체를 파라미터로 받습니다.<br>\n",
    "        Return:<br>\n",
    "            some_module.user_name.UserName 객체를 반환합니다.     <br>\n",
    "    \"\"\"<br>\n",
    "        <br>\n",
    "    ...<br>\n",
    "    <br>\n",
    "    return user_name\n",
    "    "
   ]
  },
  {
   "cell_type": "markdown",
   "id": "565ed712",
   "metadata": {},
   "source": [
    "# Chap02. 파이썬스러운(pythonic) 코드\n",
    "\n",
    "인덱스와 슬라이스\n",
    "\n",
    "컨텍스트 관리자(Context Manager)  : 일반적으로 with 구문 사용하게\n",
    "    - 리소스 관리\n",
    "    - 코드 분리\n",
    "    \n",
    "    - 구현 : 일반적으로 __enter__, __exit__ 두개의 매직 메서드로 구현\n",
    "    \n",
    "프로퍼티, 속성과 객체 메서드의 다른 타입들\n",
    "\n",
    "이터러블 객체\n",
    "\n",
    "컨테이너 객체\n",
    "\n",
    "파이썬에서 피해야 할 점\n",
    "    - 변경 가능한 (mutable) 파라미터 기본 값"
   ]
  },
  {
   "cell_type": "markdown",
   "id": "d817dd46",
   "metadata": {},
   "source": [
    "# Chap03. 좋은 코드의 일반적인 특징\n",
    "\n",
    "클린코드의 궁극적인 목표는 코드를 가능한 견고하고 결함을 최소화 하고 완전히 자명하도록 하는것..\n",
    "\n",
    "방어적 프로그래밍\n",
    "예상할수 있는 시나리오의 오류를 처리하는 방법 과 발생하지 않아야 하는 오류를 처리하는 방법\n",
    "    유의점\n",
    "    - 예외를 사용하여 시나리오나 비지니스 로직을 처리하지 않도록 해야한다.\n",
    "    - 프로그램이 꼭 처리해야하는 예외적인 비지니스 로직을 except와 혼합하지 않도록 해야한다.\n",
    "    - 너무 많은 예외를 발생시키지 않도록 해야한다.\n",
    "    \n",
    "    권장사항\n",
    "    - 올바른 수준의 추상화 단계에서 예외처리를 해야한다. (각 메서드에서 해당하는 예외만 처리)\n",
    "    - Traceback 노출을 하지 않아야한다.\n",
    "    - 비어있는 except 블록을 지양해야한다.\n",
    "    - 원본 예외를 포함해야한다.\n",
    "    \n",
    "파이썬에서 어설션 사용하기 (assert)\n",
    "    - 절대로 일어나지 않아야하는 상황 (소프트웨어에 결함이 있음을 의미)\n",
    "    \n",
    "잘정의된 소프트웨어느 높은 응집력과 낮은 결합력을 갖는다.\n",
    "\n",
    "개발지침 약어\n",
    "    - DRY : Do not Repeat Yourself\n",
    "    - OAOO : Once and Only Once\n",
    "    코드에 있는 지식은 단 한번, 단 한 곳에 정의디어야함을 의미\n",
    "    따라서 코드를 변경하려고 할 때 수정이 필요한 곳은 단 한곳이어야 한다.\n",
    "    \n",
    "    - YAGNI : You Ain't Gonna Need It\n",
    "    미래 보장성이 높기를 바라며 광잉 엔지니어링 하지 않아야함(현재 요구사항을 잘 해결하기 위한 소프트웨어 작성)\n",
    "    \n",
    "    - KIS : Keep It Simple\n",
    "    과잉 엔지니어링을 피하고 적합한 최소한의 솔루션인지 자문, 디자인의 단순화\n",
    "    "
   ]
  },
  {
   "cell_type": "markdown",
   "id": "a8309874",
   "metadata": {},
   "source": [
    "# Chap04. SOLID 원칙\n",
    "\n",
    "여러 책임을 가진 객체는 존재해서는 안된다."
   ]
  },
  {
   "cell_type": "markdown",
   "id": "e2621df8",
   "metadata": {},
   "source": [
    "# Chap05. 데코레이터를 사용한 코드 개선\n",
    "\n",
    "함수와 메서드의 기능을 쉽게 수정하기 위한 수단\n",
    "함수를 파라미터로 받아서 함수를 반환하는 함수 (고차함수)\n",
    "\n",
    "함수 데코레이터 (Function Decorator)\n",
    "사용 예\n",
    "    - 파라미터 유효성 ㄱ머사\n",
    "    - 사전조건 검사\n",
    "    - 기능 전체를 새롭게 정의\n",
    "    - 서명을 변경\n",
    "    - 원래 함수의 결과를 캐싱\n",
    "    \n",
    "클래스 데코레이터 (Class Decorator)\n",
    "\n",
    "데코레이터를 권하는 경우\n",
    "1. 처음부터 데코레이터를 만들지 않는다. 패턴이 생기고 데코레이터에 대한 추상화가 명확해지면 그 때 리팩토링 한다.\n",
    "2. 데코레이터가 적어도 3회 이상 필요한 경우에만 구현한다.\n",
    "3. 데코레이터 코드를 최소한으로 유지한다.\n",
    "\n",
    "\n"
   ]
  },
  {
   "cell_type": "markdown",
   "id": "6cc8fb22",
   "metadata": {},
   "source": [
    "# Chap06. 디스크립터.. PASS"
   ]
  },
  {
   "cell_type": "markdown",
   "id": "baadfce4",
   "metadata": {},
   "source": [
    "# Chap07. 제네레이터 사용하기\n",
    "\n",
    "https://wikidocs.net/168364\n",
    "제네레이터(generator) : 파이썬에서 제너레이터는 여러 개의 데이터를 미리 만들어 놓지 않고 필요할 때마다 즉성해서 하나씩 만들어 낼수 있는 객체를 의미함 - 게으른 반복자\n",
    "\n",
    "DB에서 셀렉트하는 받는 부분을 yield로 처리 될까?\n",
    "https://www.daleseo.com/python-yield/"
   ]
  },
  {
   "cell_type": "code",
   "execution_count": 4,
   "id": "91c1eca4",
   "metadata": {},
   "outputs": [
    {
     "name": "stdout",
     "output_type": "stream",
     "text": [
      "A\n",
      "B\n",
      "C\n"
     ]
    }
   ],
   "source": [
    "import time\n",
    "\n",
    "def return_abc():\n",
    "    alphabets = []\n",
    "    for ch in \"ABC\":\n",
    "        time.sleep(1)\n",
    "        alphabets.append(ch)\n",
    "        \n",
    "    return alphabets\n",
    "\n",
    "for ch in return_abc():\n",
    "    print(ch)\n",
    "\n"
   ]
  },
  {
   "cell_type": "code",
   "execution_count": 5,
   "id": "85c7135d",
   "metadata": {},
   "outputs": [],
   "source": [
    "def yield_abc():\n",
    "    for ch in \"ABC\":\n",
    "        time.sleep(1)\n",
    "        yield ch"
   ]
  },
  {
   "cell_type": "code",
   "execution_count": 6,
   "id": "893bf012",
   "metadata": {},
   "outputs": [
    {
     "name": "stdout",
     "output_type": "stream",
     "text": [
      "A\n",
      "B\n",
      "C\n"
     ]
    }
   ],
   "source": [
    "for ch in yield_abc():\n",
    "    print(ch)"
   ]
  },
  {
   "cell_type": "code",
   "execution_count": 7,
   "id": "36cafe06",
   "metadata": {},
   "outputs": [],
   "source": [
    "def yield_abc():\n",
    "  yield from [\"A\", \"B\", \"C\"]"
   ]
  },
  {
   "cell_type": "code",
   "execution_count": 8,
   "id": "8328cc9b",
   "metadata": {},
   "outputs": [
    {
     "name": "stdout",
     "output_type": "stream",
     "text": [
      "A\n",
      "B\n",
      "C\n"
     ]
    }
   ],
   "source": [
    "for ch in yield_abc():\n",
    "    print(ch)"
   ]
  },
  {
   "cell_type": "code",
   "execution_count": 9,
   "id": "6f7e0331",
   "metadata": {},
   "outputs": [],
   "source": [
    "abc = (ch for ch in \"ABC\") # 제너레이터 표현식"
   ]
  },
  {
   "cell_type": "code",
   "execution_count": 10,
   "id": "f87e1b97",
   "metadata": {},
   "outputs": [
    {
     "data": {
      "text/plain": [
       "<generator object <genexpr> at 0x000001BBF9F76AC0>"
      ]
     },
     "execution_count": 10,
     "metadata": {},
     "output_type": "execute_result"
    }
   ],
   "source": [
    "abc"
   ]
  },
  {
   "cell_type": "code",
   "execution_count": 11,
   "id": "2d8705a0",
   "metadata": {},
   "outputs": [
    {
     "name": "stdout",
     "output_type": "stream",
     "text": [
      "A\n",
      "B\n",
      "C\n"
     ]
    }
   ],
   "source": [
    "for ch in abc:\n",
    "    print(ch)"
   ]
  },
  {
   "cell_type": "code",
   "execution_count": 12,
   "id": "503e30ce",
   "metadata": {},
   "outputs": [
    {
     "data": {
      "text/plain": [
       "[0, 1, 4, 9, 16, 25, 36, 49, 64, 81]"
      ]
     },
     "execution_count": 12,
     "metadata": {},
     "output_type": "execute_result"
    }
   ],
   "source": [
    "# 제네레이터 표현식\n",
    "\n",
    "# List Comprehension\n",
    "[x ** 2 for x in range(10)]"
   ]
  },
  {
   "cell_type": "code",
   "execution_count": 13,
   "id": "69fb2f82",
   "metadata": {},
   "outputs": [
    {
     "data": {
      "text/plain": [
       "<generator object <genexpr> at 0x000001BBFA7274A0>"
      ]
     },
     "execution_count": 13,
     "metadata": {},
     "output_type": "execute_result"
    }
   ],
   "source": [
    "# Generator Expression\n",
    "\n",
    "(x ** 2 for x in range(10))"
   ]
  },
  {
   "cell_type": "code",
   "execution_count": 14,
   "id": "90209a2c",
   "metadata": {},
   "outputs": [
    {
     "data": {
      "text/plain": [
       "285"
      ]
     },
     "execution_count": 14,
     "metadata": {},
     "output_type": "execute_result"
    }
   ],
   "source": [
    "# Generator Expression in Function using Iterable Parametor\n",
    "sum(x**2 for x in range(10))"
   ]
  },
  {
   "cell_type": "code",
   "execution_count": 15,
   "id": "a43888d1",
   "metadata": {},
   "outputs": [],
   "source": [
    "# next() Method\n",
    "\n",
    "# itertools 모듈\n",
    "# 클린 코드는 융통성이 있어야하고 외부 요인에 결합력이 높아서는 안된다.\n",
    "\n",
    "# islice(filter(lambda p: p> 1000.0, purchases), 10)\n",
    "\n",
    "\n"
   ]
  },
  {
   "cell_type": "markdown",
   "id": "73f124bf",
   "metadata": {},
   "source": [
    "파이썬의 이터레이터 패턴\n",
    "\n",
    "이터러블 __iter__(): 이터레이터와 함께 반복 로직을 만든다. 이것을 구현한 객체는 for.. in... 구문에서 사용할수 있다.\n",
    "이터레이터 __next__() : 한 번에 하나씩 값을 생상하는 로직을 정의한다."
   ]
  },
  {
   "cell_type": "code",
   "execution_count": 16,
   "id": "3cbdea10",
   "metadata": {},
   "outputs": [],
   "source": [
    "class SequencdIterator:\n",
    "    def __init__(self, start=0, step=1):\n",
    "        self.current = start\n",
    "        self.step = step\n",
    "        \n",
    "    def __next__(self):\n",
    "        value = self.current\n",
    "        self.current += self.step\n",
    "        return value\n",
    "    \n",
    "    \n",
    "si = SequencdIterator(1, 2)"
   ]
  },
  {
   "cell_type": "code",
   "execution_count": 19,
   "id": "274297b9",
   "metadata": {},
   "outputs": [
    {
     "data": {
      "text/plain": [
       "3"
      ]
     },
     "execution_count": 19,
     "metadata": {},
     "output_type": "execute_result"
    }
   ],
   "source": [
    "next(si)"
   ]
  },
  {
   "cell_type": "code",
   "execution_count": 20,
   "id": "9d1bb73a",
   "metadata": {},
   "outputs": [
    {
     "data": {
      "text/plain": [
       "5"
      ]
     },
     "execution_count": 20,
     "metadata": {},
     "output_type": "execute_result"
    }
   ],
   "source": [
    "next(si)"
   ]
  },
  {
   "cell_type": "code",
   "execution_count": 21,
   "id": "0c02752d",
   "metadata": {},
   "outputs": [
    {
     "ename": "TypeError",
     "evalue": "'SequencdIterator' object is not iterable",
     "output_type": "error",
     "traceback": [
      "\u001b[1;31m---------------------------------------------------------------------------\u001b[0m",
      "\u001b[1;31mTypeError\u001b[0m                                 Traceback (most recent call last)",
      "\u001b[1;32m~\\AppData\\Local\\Temp\\ipykernel_16712\\3638974143.py\u001b[0m in \u001b[0;36m<module>\u001b[1;34m\u001b[0m\n\u001b[1;32m----> 1\u001b[1;33m \u001b[1;32mfor\u001b[0m \u001b[0m_\u001b[0m \u001b[1;32min\u001b[0m \u001b[0mSequencdIterator\u001b[0m\u001b[1;33m(\u001b[0m\u001b[1;33m)\u001b[0m\u001b[1;33m:\u001b[0m \u001b[1;32mpass\u001b[0m\u001b[1;33m\u001b[0m\u001b[1;33m\u001b[0m\u001b[0m\n\u001b[0m",
      "\u001b[1;31mTypeError\u001b[0m: 'SequencdIterator' object is not iterable"
     ]
    }
   ],
   "source": [
    "for _ in SequencdIterator(): pass"
   ]
  },
  {
   "cell_type": "code",
   "execution_count": 22,
   "id": "456229cc",
   "metadata": {},
   "outputs": [],
   "source": [
    "# 시퀀스에서 하나씩 값을 가져올 수 있지만 반복할 수는 없다.\n",
    "# 파이썬은 for 루프를 만나면 객체가 __iter__()를 구현했는지 확인하고 있으면 그것을 사용한다.\n",
    "# 그러나 없을 경우는 다른 대비 옵션을 가동한다.\n",
    "# 객체가 시퀀스인 경우 (즉,__getitem__()과 __len__() 매직 메서드를 구현한 경우)도 반복 가능하다.\n"
   ]
  },
  {
   "cell_type": "code",
   "execution_count": 23,
   "id": "b4870b81",
   "metadata": {},
   "outputs": [
    {
     "name": "stdout",
     "output_type": "stream",
     "text": [
      "Index %d: %s 0 10\n"
     ]
    },
    {
     "data": {
      "text/plain": [
       "10"
      ]
     },
     "execution_count": 23,
     "metadata": {},
     "output_type": "execute_result"
    }
   ],
   "source": [
    "class MappedRange:\n",
    "    \"\"\" x특정 숫자 범위에 대해 맵으로 변환\"\"\"\n",
    "    \n",
    "    def __init__(self, transformation, start, end):\n",
    "        self._transformation = transformation\n",
    "        self._wrapped = range(start, end)\n",
    "        \n",
    "    def __getitem__(self, index):\n",
    "        value = self._wrapped.__getitem__(index)\n",
    "        result = self._transformation(value)\n",
    "        print(\"Index %d: %s\", index, result)\n",
    "        return result\n",
    "    \n",
    "    def __len__(self):\n",
    "        return len(self._wrapped)\n",
    "\n",
    "mr = MappedRange(abs, -10, 5)\n",
    "mr[0]\n",
    "    \n"
   ]
  },
  {
   "cell_type": "code",
   "execution_count": 24,
   "id": "f9674e37",
   "metadata": {},
   "outputs": [
    {
     "name": "stdout",
     "output_type": "stream",
     "text": [
      "Index %d: %s -1 4\n"
     ]
    },
    {
     "data": {
      "text/plain": [
       "4"
      ]
     },
     "execution_count": 24,
     "metadata": {},
     "output_type": "execute_result"
    }
   ],
   "source": [
    "mr[-1]"
   ]
  },
  {
   "cell_type": "code",
   "execution_count": 25,
   "id": "ff13d2cc",
   "metadata": {},
   "outputs": [
    {
     "name": "stdout",
     "output_type": "stream",
     "text": [
      "Index %d: %s 0 10\n",
      "Index %d: %s 1 9\n",
      "Index %d: %s 2 8\n",
      "Index %d: %s 3 7\n",
      "Index %d: %s 4 6\n",
      "Index %d: %s 5 5\n",
      "Index %d: %s 6 4\n",
      "Index %d: %s 7 3\n",
      "Index %d: %s 8 2\n",
      "Index %d: %s 9 1\n",
      "Index %d: %s 10 0\n",
      "Index %d: %s 11 1\n",
      "Index %d: %s 12 2\n",
      "Index %d: %s 13 3\n",
      "Index %d: %s 14 4\n"
     ]
    },
    {
     "data": {
      "text/plain": [
       "[10, 9, 8, 7, 6, 5, 4, 3, 2, 1, 0, 1, 2, 3, 4]"
      ]
     },
     "execution_count": 25,
     "metadata": {},
     "output_type": "execute_result"
    }
   ],
   "source": [
    "list(mr)"
   ]
  },
  {
   "cell_type": "code",
   "execution_count": null,
   "id": "be07844a",
   "metadata": {},
   "outputs": [],
   "source": [
    "# 일반적으로 __iter__() 메서드를 구현하여 정식 이터러블 객체를 만드는것이 권장된다."
   ]
  }
 ],
 "metadata": {
  "kernelspec": {
   "display_name": "Python 3 (ipykernel)",
   "language": "python",
   "name": "python3"
  },
  "language_info": {
   "codemirror_mode": {
    "name": "ipython",
    "version": 3
   },
   "file_extension": ".py",
   "mimetype": "text/x-python",
   "name": "python",
   "nbconvert_exporter": "python",
   "pygments_lexer": "ipython3",
   "version": "3.8.13"
  }
 },
 "nbformat": 4,
 "nbformat_minor": 5
}
